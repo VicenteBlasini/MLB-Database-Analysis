{
 "cells": [
  {
   "cell_type": "markdown",
   "metadata": {},
   "source": [
    "Python Pandas Analysis  "
   ]
  },
  {
   "cell_type": "markdown",
   "metadata": {},
   "source": [
    "Libraries\n"
   ]
  },
  {
   "cell_type": "code",
   "execution_count": 2,
   "metadata": {
    "ExecuteTime": {
     "end_time": "2023-11-20T17:16:55.317700700Z",
     "start_time": "2023-11-20T17:16:54.186834100Z"
    }
   },
   "outputs": [],
   "source": [
    "import pandas as pd "
   ]
  },
  {
   "cell_type": "markdown",
   "metadata": {},
   "source": [
    "Loading the data"
   ]
  },
  {
   "cell_type": "code",
   "execution_count": 5,
   "metadata": {
    "ExecuteTime": {
     "end_time": "2023-11-20T17:17:05.773506500Z",
     "start_time": "2023-11-20T17:17:05.115749900Z"
    }
   },
   "outputs": [],
   "source": [
    "batting = pd.read_csv(\"../DATA/batting.csv\")\n",
    "batting_2 = pd.read_csv(\"../DATA/batting.csv\")\n",
    "fielding = pd.read_csv(\"../DATA/fielding.csv\")\n",
    "hall_of_fame = pd.read_csv(\"../DATA/hall_of_fame.csv\")\n",
    "player_award = pd.read_csv(\"../DATA/player_award.csv\")\n",
    "player = pd.read_csv(\"../DATA/player.csv\")\n",
    "salary = pd.read_csv(\"../DATA/salary.csv\")\n",
    "team = pd.read_csv(\"../DATA/team.csv\")"
   ]
  },
  {
   "cell_type": "code",
   "execution_count": 38,
   "metadata": {
    "ExecuteTime": {
     "end_time": "2023-11-20T18:38:25.123323400Z",
     "start_time": "2023-11-20T18:38:25.058457800Z"
    }
   },
   "outputs": [
    {
     "name": "stdout",
     "output_type": "stream",
     "text": [
      "   player_id  year  stint team_id league_id   g     ab     r     h  double  \\\n",
      "0  abercda01  1871      1     TRO       NaN   1    4.0   0.0   0.0     0.0   \n",
      "1   addybo01  1871      1     RC1       NaN  25  118.0  30.0  32.0     6.0   \n",
      "2  allisar01  1871      1     CL1       NaN  29  137.0  28.0  40.0     4.0   \n",
      "3  allisdo01  1871      1     WS3       NaN  27  133.0  28.0  44.0    10.0   \n",
      "4  ansonca01  1871      1     RC1       NaN  25  120.0  29.0  39.0    11.0   \n",
      "\n",
      "   ...   rbi   sb   cs   bb   so  ibb  hbp  sh  sf  g_idp  \n",
      "0  ...   0.0  0.0  0.0  0.0  0.0  NaN  NaN NaN NaN    NaN  \n",
      "1  ...  13.0  8.0  1.0  4.0  0.0  NaN  NaN NaN NaN    NaN  \n",
      "2  ...  19.0  3.0  1.0  2.0  5.0  NaN  NaN NaN NaN    NaN  \n",
      "3  ...  27.0  1.0  1.0  0.0  2.0  NaN  NaN NaN NaN    NaN  \n",
      "4  ...  16.0  6.0  2.0  2.0  1.0  NaN  NaN NaN NaN    NaN  \n",
      "\n",
      "[5 rows x 22 columns]\n",
      "    player_id  year  stint team_id league_id   g     ab     r     h  double  \\\n",
      "3   allisdo01  1871      1     WS3       NaN  27  133.0  28.0  44.0    10.0   \n",
      "10   bassjo01  1871      1     CL1       NaN  22   89.0  18.0  27.0     1.0   \n",
      "14  bechtge01  1871      1     PH1       NaN  20   94.0  24.0  33.0     9.0   \n",
      "24  burrohe01  1871      1     WS3       NaN  12   63.0  11.0  15.0     2.0   \n",
      "30  cuthbne01  1871      1     PH1       NaN  28  150.0  47.0  37.0     7.0   \n",
      "\n",
      "    ...   rbi    sb   cs    bb   so  ibb  hbp  sh  sf  g_idp  \n",
      "3   ...  27.0   1.0  1.0   0.0  2.0  NaN  NaN NaN NaN    NaN  \n",
      "10  ...  18.0   0.0  1.0   3.0  4.0  NaN  NaN NaN NaN    NaN  \n",
      "14  ...  21.0   4.0  0.0   2.0  2.0  NaN  NaN NaN NaN    NaN  \n",
      "24  ...  14.0   0.0  0.0   1.0  1.0  NaN  NaN NaN NaN    NaN  \n",
      "30  ...  30.0  16.0  2.0  10.0  2.0  NaN  NaN NaN NaN    NaN  \n",
      "\n",
      "[5 rows x 22 columns]\n",
      "   player_id  year  stint team_id league_id pos   g  gs  inn_outs    po     a  \\\n",
      "0  abercda01  1871      1     TRO       NaN  SS   1 NaN       NaN   1.0   3.0   \n",
      "1   addybo01  1871      1     RC1       NaN  2B  22 NaN       NaN  67.0  72.0   \n",
      "2   addybo01  1871      1     RC1       NaN  SS   3 NaN       NaN   8.0  14.0   \n",
      "3  allisar01  1871      1     CL1       NaN  2B   2 NaN       NaN   1.0   4.0   \n",
      "4  allisar01  1871      1     CL1       NaN  OF  29 NaN       NaN  51.0   3.0   \n",
      "\n",
      "      e   dp  pb  wp  sb  cs  zr  \n",
      "0   2.0  0.0 NaN NaN NaN NaN NaN  \n",
      "1  42.0  5.0 NaN NaN NaN NaN NaN  \n",
      "2   7.0  0.0 NaN NaN NaN NaN NaN  \n",
      "3   0.0  0.0 NaN NaN NaN NaN NaN  \n",
      "4   7.0  1.0 NaN NaN NaN NaN NaN  \n",
      "   player_id  yearid votedby  ballots  needed  votes inducted category  \\\n",
      "0   cobbty01    1936   BBWAA    226.0   170.0  222.0        Y   Player   \n",
      "1   ruthba01    1936   BBWAA    226.0   170.0  215.0        Y   Player   \n",
      "2  wagneho01    1936   BBWAA    226.0   170.0  215.0        Y   Player   \n",
      "3  mathech01    1936   BBWAA    226.0   170.0  205.0        Y   Player   \n",
      "4  johnswa01    1936   BBWAA    226.0   170.0  189.0        Y   Player   \n",
      "\n",
      "  needed_note  \n",
      "0         NaN  \n",
      "1         NaN  \n",
      "2         NaN  \n",
      "3         NaN  \n",
      "4         NaN  \n",
      "   player_id               award_id  year league_id  tie notes\n",
      "0   bondto01  Pitching Triple Crown  1877        NL  NaN   NaN\n",
      "1  hinespa01           Triple Crown  1878        NL  NaN   NaN\n",
      "2  heckegu01  Pitching Triple Crown  1884        AA  NaN   NaN\n",
      "3  radboch01  Pitching Triple Crown  1884        NL  NaN   NaN\n",
      "4  oneilti01           Triple Crown  1887        AA  NaN   NaN\n",
      "   player_id  birth_year  birth_month  birth_day birth_country birth_state  \\\n",
      "0  aardsda01      1981.0         12.0       27.0           USA          CO   \n",
      "1  aaronha01      1934.0          2.0        5.0           USA          AL   \n",
      "2  aaronto01      1939.0          8.0        5.0           USA          AL   \n",
      "3   aasedo01      1954.0          9.0        8.0           USA          CA   \n",
      "4   abadan01      1972.0          8.0       25.0           USA          FL   \n",
      "\n",
      "   birth_city  death_year  death_month  death_day  ...      name_given weight  \\\n",
      "0      Denver         NaN          NaN        NaN  ...     David Allan  220.0   \n",
      "1      Mobile         NaN          NaN        NaN  ...     Henry Louis  180.0   \n",
      "2      Mobile      1984.0          8.0       16.0  ...      Tommie Lee  190.0   \n",
      "3      Orange         NaN          NaN        NaN  ...  Donald William  190.0   \n",
      "4  Palm Beach         NaN          NaN        NaN  ...   Fausto Andres  184.0   \n",
      "\n",
      "  height bats throws       debut  final_game  retro_id   bbref_id  \\\n",
      "0   75.0    R      R  2004-04-06  2015-08-23  aardd001  aardsda01   \n",
      "1   72.0    R      R  1954-04-13  1976-10-03  aaroh101  aaronha01   \n",
      "2   75.0    R      R  1962-04-10  1971-09-26  aarot101  aaronto01   \n",
      "3   75.0    R      R  1977-07-26  1990-10-03  aased001   aasedo01   \n",
      "4   73.0    L      L  2001-09-10  2006-04-13  abada001   abadan01   \n",
      "\n",
      "       full_name  \n",
      "0  David Aardsma  \n",
      "1     Hank Aaron  \n",
      "2   Tommie Aaron  \n",
      "3       Don Aase  \n",
      "4      Andy Abad  \n",
      "\n",
      "[5 rows x 25 columns]\n",
      "   year team_id league_id  player_id  salary  decade\n",
      "0  1985     ATL        NL  barkele01  870000    1980\n",
      "1  1985     ATL        NL  bedrost01  550000    1980\n",
      "2  1985     ATL        NL  benedbr01  545000    1980\n",
      "3  1985     ATL        NL   campri01  633333    1980\n",
      "4  1985     ATL        NL  ceronri01  625000    1980\n",
      "   year league_id team_id franchise_id div_id  rank   g  ghome   w   l  ...  \\\n",
      "0  1871       NaN     BS1          BNA    NaN     3  31    NaN  20  10  ...   \n",
      "1  1871       NaN     CH1          CNA    NaN     2  28    NaN  19   9  ...   \n",
      "2  1871       NaN     CL1          CFC    NaN     8  29    NaN  10  19  ...   \n",
      "3  1871       NaN     FW1          KEK    NaN     7  19    NaN   7  12  ...   \n",
      "4  1871       NaN     NY2          NNA    NaN     5  33    NaN  16  17  ...   \n",
      "\n",
      "                      name                          park attendance  bpf  ppf  \\\n",
      "0     Boston Red Stockings           South End Grounds I        NaN  103   98   \n",
      "1  Chicago White Stockings       Union Base-Ball Grounds        NaN  104  102   \n",
      "2   Cleveland Forest Citys  National Association Grounds        NaN   96  100   \n",
      "3     Fort Wayne Kekiongas                Hamilton Field        NaN  101  107   \n",
      "4         New York Mutuals      Union Grounds (Brooklyn)        NaN   90   88   \n",
      "\n",
      "   team_id_br  team_id_lahman45  team_id_retro  decade  avg_hr_per_game  \n",
      "0         BOS               BS1            BS1    1870            0.097  \n",
      "1         CHI               CH1            CH1    1870            0.357  \n",
      "2         CLE               CL1            CL1    1870            0.241  \n",
      "3         KEK               FW1            FW1    1870            0.105  \n",
      "4         NYU               NY2            NY2    1870            0.030  \n",
      "\n",
      "[5 rows x 50 columns]\n"
     ]
    }
   ],
   "source": [
    "table_files = [batting, batting_2, fielding, hall_of_fame, player_award, player, salary, team]\n",
    "for file in table_files:\n",
    "    print(file.head(5))"
   ]
  },
  {
   "cell_type": "markdown",
   "source": [
    "Modifications"
   ],
   "metadata": {
    "collapsed": false
   }
  },
  {
   "cell_type": "code",
   "execution_count": 6,
   "outputs": [],
   "source": [
    "#Creation of batting_2 table\n",
    "batting_2 = batting[(batting['hr'].notnull()) & (batting['hr'] > 0) & (batting['ab'].notnull()) & (batting['ab'] > 0)]\n",
    "batting_2.to_csv('batting_2.csv', index=False)\n",
    "\n",
    "#Altering player table\n",
    "player['full_name'] = player['name_first'] + ' ' + player['name_last']  "
   ],
   "metadata": {
    "collapsed": false,
    "ExecuteTime": {
     "end_time": "2023-11-20T17:17:08.604281800Z",
     "start_time": "2023-11-20T17:17:08.256647Z"
    }
   }
  },
  {
   "cell_type": "markdown",
   "metadata": {},
   "source": [
    "--1. The best hitters in history by home runs"
   ]
  },
  {
   "cell_type": "code",
   "execution_count": 40,
   "metadata": {
    "ExecuteTime": {
     "end_time": "2023-11-20T18:39:16.916062Z",
     "start_time": "2023-11-20T18:39:16.815415Z"
    }
   },
   "outputs": [
    {
     "data": {
      "text/plain": "    player_id     hr\n0   bondsba01  762.0\n1   aaronha01  755.0\n2    ruthba01  714.0\n3   rodrial01  687.0\n4    mayswi01  660.0\n5   griffke02  630.0\n6   thomeji01  612.0\n7    sosasa01  609.0\n8   robinfr02  586.0\n9   mcgwima01  583.0\n10  killeha01  573.0\n11  palmera01  569.0\n12  jacksre01  563.0\n13  pujolal01  560.0\n14  ramirma02  555.0\n15  schmimi01  548.0\n16  mantlmi01  536.0\n17   foxxji01  534.0\n18  mccovwi01  521.0\n19  willite01  521.0\n20  thomafr04  521.0\n21  matheed01  512.0\n22  bankser01  512.0\n23    ottme01  511.0\n24  sheffga01  509.0",
      "text/html": "<div>\n<style scoped>\n    .dataframe tbody tr th:only-of-type {\n        vertical-align: middle;\n    }\n\n    .dataframe tbody tr th {\n        vertical-align: top;\n    }\n\n    .dataframe thead th {\n        text-align: right;\n    }\n</style>\n<table border=\"1\" class=\"dataframe\">\n  <thead>\n    <tr style=\"text-align: right;\">\n      <th></th>\n      <th>player_id</th>\n      <th>hr</th>\n    </tr>\n  </thead>\n  <tbody>\n    <tr>\n      <th>0</th>\n      <td>bondsba01</td>\n      <td>762.0</td>\n    </tr>\n    <tr>\n      <th>1</th>\n      <td>aaronha01</td>\n      <td>755.0</td>\n    </tr>\n    <tr>\n      <th>2</th>\n      <td>ruthba01</td>\n      <td>714.0</td>\n    </tr>\n    <tr>\n      <th>3</th>\n      <td>rodrial01</td>\n      <td>687.0</td>\n    </tr>\n    <tr>\n      <th>4</th>\n      <td>mayswi01</td>\n      <td>660.0</td>\n    </tr>\n    <tr>\n      <th>5</th>\n      <td>griffke02</td>\n      <td>630.0</td>\n    </tr>\n    <tr>\n      <th>6</th>\n      <td>thomeji01</td>\n      <td>612.0</td>\n    </tr>\n    <tr>\n      <th>7</th>\n      <td>sosasa01</td>\n      <td>609.0</td>\n    </tr>\n    <tr>\n      <th>8</th>\n      <td>robinfr02</td>\n      <td>586.0</td>\n    </tr>\n    <tr>\n      <th>9</th>\n      <td>mcgwima01</td>\n      <td>583.0</td>\n    </tr>\n    <tr>\n      <th>10</th>\n      <td>killeha01</td>\n      <td>573.0</td>\n    </tr>\n    <tr>\n      <th>11</th>\n      <td>palmera01</td>\n      <td>569.0</td>\n    </tr>\n    <tr>\n      <th>12</th>\n      <td>jacksre01</td>\n      <td>563.0</td>\n    </tr>\n    <tr>\n      <th>13</th>\n      <td>pujolal01</td>\n      <td>560.0</td>\n    </tr>\n    <tr>\n      <th>14</th>\n      <td>ramirma02</td>\n      <td>555.0</td>\n    </tr>\n    <tr>\n      <th>15</th>\n      <td>schmimi01</td>\n      <td>548.0</td>\n    </tr>\n    <tr>\n      <th>16</th>\n      <td>mantlmi01</td>\n      <td>536.0</td>\n    </tr>\n    <tr>\n      <th>17</th>\n      <td>foxxji01</td>\n      <td>534.0</td>\n    </tr>\n    <tr>\n      <th>18</th>\n      <td>mccovwi01</td>\n      <td>521.0</td>\n    </tr>\n    <tr>\n      <th>19</th>\n      <td>willite01</td>\n      <td>521.0</td>\n    </tr>\n    <tr>\n      <th>20</th>\n      <td>thomafr04</td>\n      <td>521.0</td>\n    </tr>\n    <tr>\n      <th>21</th>\n      <td>matheed01</td>\n      <td>512.0</td>\n    </tr>\n    <tr>\n      <th>22</th>\n      <td>bankser01</td>\n      <td>512.0</td>\n    </tr>\n    <tr>\n      <th>23</th>\n      <td>ottme01</td>\n      <td>511.0</td>\n    </tr>\n    <tr>\n      <th>24</th>\n      <td>sheffga01</td>\n      <td>509.0</td>\n    </tr>\n  </tbody>\n</table>\n</div>"
     },
     "execution_count": 40,
     "metadata": {},
     "output_type": "execute_result"
    }
   ],
   "source": [
    "best_hitters = batting[batting['hr'].notnull()].groupby('player_id')['hr'].sum().reset_index().sort_values(by= 'hr', ascending=False).head(25).reset_index(drop=True)\n",
    "best_hitters"
   ]
  },
  {
   "cell_type": "markdown",
   "metadata": {},
   "source": [
    "--2.  Most homeruns by Boston Red Sox players ever"
   ]
  },
  {
   "cell_type": "code",
   "execution_count": 31,
   "metadata": {
    "ExecuteTime": {
     "end_time": "2023-11-20T18:34:04.658412800Z",
     "start_time": "2023-11-20T18:34:04.522268200Z"
    }
   },
   "outputs": [
    {
     "data": {
      "text/plain": "   player_id         full_name     hr\n0  willite01      Ted Williams  521.0\n1  yastrca01  Carl Yastrzemski  452.0\n2  ortizda01       David Ortiz  445.0\n3   riceji01          Jim Rice  382.0\n4  evansdw01      Dwight Evans  379.0\n5  ramirma02     Manny Ramirez  274.0\n6  vaughmo01         Mo Vaughn  230.0\n7  doerrbo01       Bobby Doerr  223.0\n8   foxxji01       Jimmie Foxx  222.0\n9  petrori01   Rico Petrocelli  210.0",
      "text/html": "<div>\n<style scoped>\n    .dataframe tbody tr th:only-of-type {\n        vertical-align: middle;\n    }\n\n    .dataframe tbody tr th {\n        vertical-align: top;\n    }\n\n    .dataframe thead th {\n        text-align: right;\n    }\n</style>\n<table border=\"1\" class=\"dataframe\">\n  <thead>\n    <tr style=\"text-align: right;\">\n      <th></th>\n      <th>player_id</th>\n      <th>full_name</th>\n      <th>hr</th>\n    </tr>\n  </thead>\n  <tbody>\n    <tr>\n      <th>0</th>\n      <td>willite01</td>\n      <td>Ted Williams</td>\n      <td>521.0</td>\n    </tr>\n    <tr>\n      <th>1</th>\n      <td>yastrca01</td>\n      <td>Carl Yastrzemski</td>\n      <td>452.0</td>\n    </tr>\n    <tr>\n      <th>2</th>\n      <td>ortizda01</td>\n      <td>David Ortiz</td>\n      <td>445.0</td>\n    </tr>\n    <tr>\n      <th>3</th>\n      <td>riceji01</td>\n      <td>Jim Rice</td>\n      <td>382.0</td>\n    </tr>\n    <tr>\n      <th>4</th>\n      <td>evansdw01</td>\n      <td>Dwight Evans</td>\n      <td>379.0</td>\n    </tr>\n    <tr>\n      <th>5</th>\n      <td>ramirma02</td>\n      <td>Manny Ramirez</td>\n      <td>274.0</td>\n    </tr>\n    <tr>\n      <th>6</th>\n      <td>vaughmo01</td>\n      <td>Mo Vaughn</td>\n      <td>230.0</td>\n    </tr>\n    <tr>\n      <th>7</th>\n      <td>doerrbo01</td>\n      <td>Bobby Doerr</td>\n      <td>223.0</td>\n    </tr>\n    <tr>\n      <th>8</th>\n      <td>foxxji01</td>\n      <td>Jimmie Foxx</td>\n      <td>222.0</td>\n    </tr>\n    <tr>\n      <th>9</th>\n      <td>petrori01</td>\n      <td>Rico Petrocelli</td>\n      <td>210.0</td>\n    </tr>\n  </tbody>\n</table>\n</div>"
     },
     "execution_count": 31,
     "metadata": {},
     "output_type": "execute_result"
    }
   ],
   "source": [
    "merged_df = pd.merge(batting_2, player, on = 'player_id')\n",
    "filtered_df = merged_df[merged_df['team_id']=='BOS'].groupby(['player_id', 'name_first', 'name_last']).hr.sum().reset_index()\n",
    "filtered_df['full_name'] = filtered_df['name_first'] + ' ' + filtered_df['name_last']\n",
    "filtered_df = filtered_df[['player_id', 'full_name', 'hr']]\n",
    "result_df = filtered_df.sort_values(by='hr', ascending=False).head(10).reset_index(drop=True)\n",
    "result_df"
   ]
  },
  {
   "cell_type": "markdown",
   "metadata": {},
   "source": [
    "--3. Ranking players by homeruns, in case of players having the same number of home runs the rank will take number of hits into consideration"
   ]
  },
  {
   "cell_type": "code",
   "execution_count": 7,
   "metadata": {
    "ExecuteTime": {
     "end_time": "2023-11-20T17:17:13.066484100Z",
     "start_time": "2023-11-20T17:17:12.957591400Z"
    }
   },
   "outputs": [
    {
     "name": "stderr",
     "output_type": "stream",
     "text": [
      "C:\\Users\\andre\\AppData\\Local\\Temp\\ipykernel_2112\\2630120489.py:3: SettingWithCopyWarning: \n",
      "A value is trying to be set on a copy of a slice from a DataFrame.\n",
      "Try using .loc[row_indexer,col_indexer] = value instead\n",
      "\n",
      "See the caveats in the documentation: https://pandas.pydata.org/pandas-docs/stable/user_guide/indexing.html#returning-a-view-versus-a-copy\n",
      "  filtered_df['batting_avg'] = filtered_df['h'] / filtered_df['ab']\n"
     ]
    },
    {
     "data": {
      "text/plain": "            full_name    hr  batting_avg  Rank\n0         Chris Davis  47.0     0.261780     1\n1         Nelson Cruz  44.0     0.301695     2\n2        Bryce Harper  42.0     0.330134     3\n3       Nolan Arenado  42.0     0.287338     4\n4          Mike Trout  41.0     0.299130     5\n5      Josh Donaldson  41.0     0.296774     6\n6     Carlos Gonzalez  40.0     0.270758     7\n7       Jose Bautista  40.0     0.250460     8\n8       Albert Pujols  40.0     0.244186     9\n9   Edwin Encarnacion  39.0     0.276515    10\n10     J. D. Martinez  38.0     0.281879    11\n11        David Ortiz  37.0     0.272727    12\n12      Manny Machado  35.0     0.285940    13\n13       Todd Frazier  35.0     0.255250    14\n14   Paul Goldschmidt  33.0     0.320988    15\n15     Alex Rodriguez  33.0     0.250478    16\n16      Anthony Rizzo  31.0     0.278157    17\n17      Mark Teixeira  31.0     0.255102    18\n18         Jose Abreu  30.0     0.290375    19\n19         Joey Votto  29.0     0.313761    20\n20    Adrian Gonzalez  28.0     0.274956    21\n21     Matt Carpenter  28.0     0.271777    22\n22       Brian Dozier  28.0     0.235669    23\n23         Adam Jones  27.0     0.269231    24\n24  Giancarlo Stanton  27.0     0.265233    25",
      "text/html": "<div>\n<style scoped>\n    .dataframe tbody tr th:only-of-type {\n        vertical-align: middle;\n    }\n\n    .dataframe tbody tr th {\n        vertical-align: top;\n    }\n\n    .dataframe thead th {\n        text-align: right;\n    }\n</style>\n<table border=\"1\" class=\"dataframe\">\n  <thead>\n    <tr style=\"text-align: right;\">\n      <th></th>\n      <th>full_name</th>\n      <th>hr</th>\n      <th>batting_avg</th>\n      <th>Rank</th>\n    </tr>\n  </thead>\n  <tbody>\n    <tr>\n      <th>0</th>\n      <td>Chris Davis</td>\n      <td>47.0</td>\n      <td>0.261780</td>\n      <td>1</td>\n    </tr>\n    <tr>\n      <th>1</th>\n      <td>Nelson Cruz</td>\n      <td>44.0</td>\n      <td>0.301695</td>\n      <td>2</td>\n    </tr>\n    <tr>\n      <th>2</th>\n      <td>Bryce Harper</td>\n      <td>42.0</td>\n      <td>0.330134</td>\n      <td>3</td>\n    </tr>\n    <tr>\n      <th>3</th>\n      <td>Nolan Arenado</td>\n      <td>42.0</td>\n      <td>0.287338</td>\n      <td>4</td>\n    </tr>\n    <tr>\n      <th>4</th>\n      <td>Mike Trout</td>\n      <td>41.0</td>\n      <td>0.299130</td>\n      <td>5</td>\n    </tr>\n    <tr>\n      <th>5</th>\n      <td>Josh Donaldson</td>\n      <td>41.0</td>\n      <td>0.296774</td>\n      <td>6</td>\n    </tr>\n    <tr>\n      <th>6</th>\n      <td>Carlos Gonzalez</td>\n      <td>40.0</td>\n      <td>0.270758</td>\n      <td>7</td>\n    </tr>\n    <tr>\n      <th>7</th>\n      <td>Jose Bautista</td>\n      <td>40.0</td>\n      <td>0.250460</td>\n      <td>8</td>\n    </tr>\n    <tr>\n      <th>8</th>\n      <td>Albert Pujols</td>\n      <td>40.0</td>\n      <td>0.244186</td>\n      <td>9</td>\n    </tr>\n    <tr>\n      <th>9</th>\n      <td>Edwin Encarnacion</td>\n      <td>39.0</td>\n      <td>0.276515</td>\n      <td>10</td>\n    </tr>\n    <tr>\n      <th>10</th>\n      <td>J. D. Martinez</td>\n      <td>38.0</td>\n      <td>0.281879</td>\n      <td>11</td>\n    </tr>\n    <tr>\n      <th>11</th>\n      <td>David Ortiz</td>\n      <td>37.0</td>\n      <td>0.272727</td>\n      <td>12</td>\n    </tr>\n    <tr>\n      <th>12</th>\n      <td>Manny Machado</td>\n      <td>35.0</td>\n      <td>0.285940</td>\n      <td>13</td>\n    </tr>\n    <tr>\n      <th>13</th>\n      <td>Todd Frazier</td>\n      <td>35.0</td>\n      <td>0.255250</td>\n      <td>14</td>\n    </tr>\n    <tr>\n      <th>14</th>\n      <td>Paul Goldschmidt</td>\n      <td>33.0</td>\n      <td>0.320988</td>\n      <td>15</td>\n    </tr>\n    <tr>\n      <th>15</th>\n      <td>Alex Rodriguez</td>\n      <td>33.0</td>\n      <td>0.250478</td>\n      <td>16</td>\n    </tr>\n    <tr>\n      <th>16</th>\n      <td>Anthony Rizzo</td>\n      <td>31.0</td>\n      <td>0.278157</td>\n      <td>17</td>\n    </tr>\n    <tr>\n      <th>17</th>\n      <td>Mark Teixeira</td>\n      <td>31.0</td>\n      <td>0.255102</td>\n      <td>18</td>\n    </tr>\n    <tr>\n      <th>18</th>\n      <td>Jose Abreu</td>\n      <td>30.0</td>\n      <td>0.290375</td>\n      <td>19</td>\n    </tr>\n    <tr>\n      <th>19</th>\n      <td>Joey Votto</td>\n      <td>29.0</td>\n      <td>0.313761</td>\n      <td>20</td>\n    </tr>\n    <tr>\n      <th>20</th>\n      <td>Adrian Gonzalez</td>\n      <td>28.0</td>\n      <td>0.274956</td>\n      <td>21</td>\n    </tr>\n    <tr>\n      <th>21</th>\n      <td>Matt Carpenter</td>\n      <td>28.0</td>\n      <td>0.271777</td>\n      <td>22</td>\n    </tr>\n    <tr>\n      <th>22</th>\n      <td>Brian Dozier</td>\n      <td>28.0</td>\n      <td>0.235669</td>\n      <td>23</td>\n    </tr>\n    <tr>\n      <th>23</th>\n      <td>Adam Jones</td>\n      <td>27.0</td>\n      <td>0.269231</td>\n      <td>24</td>\n    </tr>\n    <tr>\n      <th>24</th>\n      <td>Giancarlo Stanton</td>\n      <td>27.0</td>\n      <td>0.265233</td>\n      <td>25</td>\n    </tr>\n  </tbody>\n</table>\n</div>"
     },
     "execution_count": 7,
     "metadata": {},
     "output_type": "execute_result"
    }
   ],
   "source": [
    "merged_df = pd.merge(batting_2, player, on='player_id')\n",
    "filtered_df = merged_df[merged_df['year'] == 2015]\n",
    "filtered_df['batting_avg'] = filtered_df['h'] / filtered_df['ab']\n",
    "sorted_df = filtered_df.sort_values(by=['hr', 'batting_avg'], ascending=[False, False])\n",
    "sorted_df.reset_index(drop=True, inplace=True)\n",
    "sorted_df['Rank'] = sorted_df.index + 1\n",
    "result = sorted_df[['full_name', 'hr', 'batting_avg', 'Rank']].head(25).reset_index(drop=True)\n",
    "result"
   ]
  },
  {
   "cell_type": "markdown",
   "metadata": {},
   "source": [
    "--4.Best homeruns per at bat averages from the New York Yankees players since 2000´s\n",
    "\n"
   ]
  },
  {
   "cell_type": "code",
   "execution_count": 14,
   "metadata": {
    "ExecuteTime": {
     "end_time": "2023-11-17T23:33:32.554270400Z",
     "start_time": "2023-11-17T23:33:32.401393100Z"
    }
   },
   "outputs": [
    {
     "data": {
      "text/plain": "    player_id           full_name     ab    hr  Homeruns_per_ab\n0   mcgwima01        Mark McGwire  236.0  32.0            0.136\n1   bondsba01         Barry Bonds  480.0  49.0            0.102\n2    hillgl01      Glenallen Hill  300.0  27.0            0.090\n3   ramirma02       Manny Ramirez  439.0  38.0            0.087\n4   sheffga01      Gary Sheffield  501.0  43.0            0.086\n5   giambja01        Jason Giambi  510.0  43.0            0.084\n6   glaustr01          Troy Glaus  563.0  47.0            0.083\n7   branyru01     Russell Branyan  193.0  16.0            0.083\n8    sosasa01          Sammy Sosa  604.0  50.0            0.083\n9   bagweje01        Jeff Bagwell  590.0  47.0            0.080\n10  edmonji01         Jim Edmonds  525.0  42.0            0.080\n11  hundlto01        Todd Hundley  299.0  24.0            0.080\n12  piazzmi01         Mike Piazza  482.0  38.0            0.079\n13  hidalri01     Richard Hidalgo  558.0  44.0            0.079\n14  justida01       David Justice  524.0  41.0            0.078\n15  guerrvl01   Vladimir Guerrero  571.0  44.0            0.077\n16  griffke02         Ken Griffey  520.0  40.0            0.077\n17   wardda01         Daryle Ward  264.0  20.0            0.076\n18  rodrial01      Alex Rodriguez  554.0  41.0            0.074\n19  thomafr04        Frank Thomas  582.0  43.0            0.074\n20  johnsch04     Charles Johnson  421.0  31.0            0.074\n21  rodriiv01      Ivan Rodriguez  363.0  27.0            0.074\n22  andresh01       Shane Andrews  192.0  14.0            0.073\n23  heltoto01         Todd Helton  580.0  42.0            0.072\n24  caminke01        Ken Caminiti  208.0  15.0            0.072\n25  delgaca01      Carlos Delgado  569.0  41.0            0.072\n26  buhneja01          Jay Buhner  364.0  26.0            0.071\n27  evereca01        Carl Everett  496.0  34.0            0.069\n28  palmera01     Rafael Palmeiro  565.0  39.0            0.069\n29  lampkto01         Tom Lampkin  103.0   7.0            0.068\n30  martied01      Edgar Martinez  556.0  37.0            0.067\n31  jenkige01       Geoff Jenkins  512.0  34.0            0.066\n32  thomeji01           Jim Thome  557.0  37.0            0.066\n33  hanseda01         Dave Hansen  121.0   8.0            0.066\n34  fullmbr01        Brad Fullmer  482.0  32.0            0.066\n35  batisto01        Tony Batista  620.0  41.0            0.066\n36  lankfra01        Ray Lankford  392.0  26.0            0.066\n37   aloumo01         Moises Alou  454.0  30.0            0.066\n38  finlest01        Steve Finley  539.0  35.0            0.065\n39  richach01       Chris Richard  199.0  13.0            0.065\n40  elsteke01        Kevin Elster  220.0  14.0            0.064\n41  gilesbr02         Brian Giles  559.0  35.0            0.063\n42  houstty01       Tyler Houston  284.0  18.0            0.063\n43  seguife01  Fernando Seguignol  162.0  10.0            0.062\n44  vandejo02     John Vander Wal  384.0  24.0            0.062\n45  clarkto02          Tony Clark  208.0  13.0            0.062\n46  jonesch06       Chipper Jones  579.0  36.0            0.062\n47  mondera01        Raul Mondesi  388.0  24.0            0.062\n48  burksel01         Ellis Burks  393.0  24.0            0.061\n49  vaughgr01         Greg Vaughn  461.0  28.0            0.061",
      "text/html": "<div>\n<style scoped>\n    .dataframe tbody tr th:only-of-type {\n        vertical-align: middle;\n    }\n\n    .dataframe tbody tr th {\n        vertical-align: top;\n    }\n\n    .dataframe thead th {\n        text-align: right;\n    }\n</style>\n<table border=\"1\" class=\"dataframe\">\n  <thead>\n    <tr style=\"text-align: right;\">\n      <th></th>\n      <th>player_id</th>\n      <th>full_name</th>\n      <th>ab</th>\n      <th>hr</th>\n      <th>Homeruns_per_ab</th>\n    </tr>\n  </thead>\n  <tbody>\n    <tr>\n      <th>0</th>\n      <td>mcgwima01</td>\n      <td>Mark McGwire</td>\n      <td>236.0</td>\n      <td>32.0</td>\n      <td>0.136</td>\n    </tr>\n    <tr>\n      <th>1</th>\n      <td>bondsba01</td>\n      <td>Barry Bonds</td>\n      <td>480.0</td>\n      <td>49.0</td>\n      <td>0.102</td>\n    </tr>\n    <tr>\n      <th>2</th>\n      <td>hillgl01</td>\n      <td>Glenallen Hill</td>\n      <td>300.0</td>\n      <td>27.0</td>\n      <td>0.090</td>\n    </tr>\n    <tr>\n      <th>3</th>\n      <td>ramirma02</td>\n      <td>Manny Ramirez</td>\n      <td>439.0</td>\n      <td>38.0</td>\n      <td>0.087</td>\n    </tr>\n    <tr>\n      <th>4</th>\n      <td>sheffga01</td>\n      <td>Gary Sheffield</td>\n      <td>501.0</td>\n      <td>43.0</td>\n      <td>0.086</td>\n    </tr>\n    <tr>\n      <th>5</th>\n      <td>giambja01</td>\n      <td>Jason Giambi</td>\n      <td>510.0</td>\n      <td>43.0</td>\n      <td>0.084</td>\n    </tr>\n    <tr>\n      <th>6</th>\n      <td>glaustr01</td>\n      <td>Troy Glaus</td>\n      <td>563.0</td>\n      <td>47.0</td>\n      <td>0.083</td>\n    </tr>\n    <tr>\n      <th>7</th>\n      <td>branyru01</td>\n      <td>Russell Branyan</td>\n      <td>193.0</td>\n      <td>16.0</td>\n      <td>0.083</td>\n    </tr>\n    <tr>\n      <th>8</th>\n      <td>sosasa01</td>\n      <td>Sammy Sosa</td>\n      <td>604.0</td>\n      <td>50.0</td>\n      <td>0.083</td>\n    </tr>\n    <tr>\n      <th>9</th>\n      <td>bagweje01</td>\n      <td>Jeff Bagwell</td>\n      <td>590.0</td>\n      <td>47.0</td>\n      <td>0.080</td>\n    </tr>\n    <tr>\n      <th>10</th>\n      <td>edmonji01</td>\n      <td>Jim Edmonds</td>\n      <td>525.0</td>\n      <td>42.0</td>\n      <td>0.080</td>\n    </tr>\n    <tr>\n      <th>11</th>\n      <td>hundlto01</td>\n      <td>Todd Hundley</td>\n      <td>299.0</td>\n      <td>24.0</td>\n      <td>0.080</td>\n    </tr>\n    <tr>\n      <th>12</th>\n      <td>piazzmi01</td>\n      <td>Mike Piazza</td>\n      <td>482.0</td>\n      <td>38.0</td>\n      <td>0.079</td>\n    </tr>\n    <tr>\n      <th>13</th>\n      <td>hidalri01</td>\n      <td>Richard Hidalgo</td>\n      <td>558.0</td>\n      <td>44.0</td>\n      <td>0.079</td>\n    </tr>\n    <tr>\n      <th>14</th>\n      <td>justida01</td>\n      <td>David Justice</td>\n      <td>524.0</td>\n      <td>41.0</td>\n      <td>0.078</td>\n    </tr>\n    <tr>\n      <th>15</th>\n      <td>guerrvl01</td>\n      <td>Vladimir Guerrero</td>\n      <td>571.0</td>\n      <td>44.0</td>\n      <td>0.077</td>\n    </tr>\n    <tr>\n      <th>16</th>\n      <td>griffke02</td>\n      <td>Ken Griffey</td>\n      <td>520.0</td>\n      <td>40.0</td>\n      <td>0.077</td>\n    </tr>\n    <tr>\n      <th>17</th>\n      <td>wardda01</td>\n      <td>Daryle Ward</td>\n      <td>264.0</td>\n      <td>20.0</td>\n      <td>0.076</td>\n    </tr>\n    <tr>\n      <th>18</th>\n      <td>rodrial01</td>\n      <td>Alex Rodriguez</td>\n      <td>554.0</td>\n      <td>41.0</td>\n      <td>0.074</td>\n    </tr>\n    <tr>\n      <th>19</th>\n      <td>thomafr04</td>\n      <td>Frank Thomas</td>\n      <td>582.0</td>\n      <td>43.0</td>\n      <td>0.074</td>\n    </tr>\n    <tr>\n      <th>20</th>\n      <td>johnsch04</td>\n      <td>Charles Johnson</td>\n      <td>421.0</td>\n      <td>31.0</td>\n      <td>0.074</td>\n    </tr>\n    <tr>\n      <th>21</th>\n      <td>rodriiv01</td>\n      <td>Ivan Rodriguez</td>\n      <td>363.0</td>\n      <td>27.0</td>\n      <td>0.074</td>\n    </tr>\n    <tr>\n      <th>22</th>\n      <td>andresh01</td>\n      <td>Shane Andrews</td>\n      <td>192.0</td>\n      <td>14.0</td>\n      <td>0.073</td>\n    </tr>\n    <tr>\n      <th>23</th>\n      <td>heltoto01</td>\n      <td>Todd Helton</td>\n      <td>580.0</td>\n      <td>42.0</td>\n      <td>0.072</td>\n    </tr>\n    <tr>\n      <th>24</th>\n      <td>caminke01</td>\n      <td>Ken Caminiti</td>\n      <td>208.0</td>\n      <td>15.0</td>\n      <td>0.072</td>\n    </tr>\n    <tr>\n      <th>25</th>\n      <td>delgaca01</td>\n      <td>Carlos Delgado</td>\n      <td>569.0</td>\n      <td>41.0</td>\n      <td>0.072</td>\n    </tr>\n    <tr>\n      <th>26</th>\n      <td>buhneja01</td>\n      <td>Jay Buhner</td>\n      <td>364.0</td>\n      <td>26.0</td>\n      <td>0.071</td>\n    </tr>\n    <tr>\n      <th>27</th>\n      <td>evereca01</td>\n      <td>Carl Everett</td>\n      <td>496.0</td>\n      <td>34.0</td>\n      <td>0.069</td>\n    </tr>\n    <tr>\n      <th>28</th>\n      <td>palmera01</td>\n      <td>Rafael Palmeiro</td>\n      <td>565.0</td>\n      <td>39.0</td>\n      <td>0.069</td>\n    </tr>\n    <tr>\n      <th>29</th>\n      <td>lampkto01</td>\n      <td>Tom Lampkin</td>\n      <td>103.0</td>\n      <td>7.0</td>\n      <td>0.068</td>\n    </tr>\n    <tr>\n      <th>30</th>\n      <td>martied01</td>\n      <td>Edgar Martinez</td>\n      <td>556.0</td>\n      <td>37.0</td>\n      <td>0.067</td>\n    </tr>\n    <tr>\n      <th>31</th>\n      <td>jenkige01</td>\n      <td>Geoff Jenkins</td>\n      <td>512.0</td>\n      <td>34.0</td>\n      <td>0.066</td>\n    </tr>\n    <tr>\n      <th>32</th>\n      <td>thomeji01</td>\n      <td>Jim Thome</td>\n      <td>557.0</td>\n      <td>37.0</td>\n      <td>0.066</td>\n    </tr>\n    <tr>\n      <th>33</th>\n      <td>hanseda01</td>\n      <td>Dave Hansen</td>\n      <td>121.0</td>\n      <td>8.0</td>\n      <td>0.066</td>\n    </tr>\n    <tr>\n      <th>34</th>\n      <td>fullmbr01</td>\n      <td>Brad Fullmer</td>\n      <td>482.0</td>\n      <td>32.0</td>\n      <td>0.066</td>\n    </tr>\n    <tr>\n      <th>35</th>\n      <td>batisto01</td>\n      <td>Tony Batista</td>\n      <td>620.0</td>\n      <td>41.0</td>\n      <td>0.066</td>\n    </tr>\n    <tr>\n      <th>36</th>\n      <td>lankfra01</td>\n      <td>Ray Lankford</td>\n      <td>392.0</td>\n      <td>26.0</td>\n      <td>0.066</td>\n    </tr>\n    <tr>\n      <th>37</th>\n      <td>aloumo01</td>\n      <td>Moises Alou</td>\n      <td>454.0</td>\n      <td>30.0</td>\n      <td>0.066</td>\n    </tr>\n    <tr>\n      <th>38</th>\n      <td>finlest01</td>\n      <td>Steve Finley</td>\n      <td>539.0</td>\n      <td>35.0</td>\n      <td>0.065</td>\n    </tr>\n    <tr>\n      <th>39</th>\n      <td>richach01</td>\n      <td>Chris Richard</td>\n      <td>199.0</td>\n      <td>13.0</td>\n      <td>0.065</td>\n    </tr>\n    <tr>\n      <th>40</th>\n      <td>elsteke01</td>\n      <td>Kevin Elster</td>\n      <td>220.0</td>\n      <td>14.0</td>\n      <td>0.064</td>\n    </tr>\n    <tr>\n      <th>41</th>\n      <td>gilesbr02</td>\n      <td>Brian Giles</td>\n      <td>559.0</td>\n      <td>35.0</td>\n      <td>0.063</td>\n    </tr>\n    <tr>\n      <th>42</th>\n      <td>houstty01</td>\n      <td>Tyler Houston</td>\n      <td>284.0</td>\n      <td>18.0</td>\n      <td>0.063</td>\n    </tr>\n    <tr>\n      <th>43</th>\n      <td>seguife01</td>\n      <td>Fernando Seguignol</td>\n      <td>162.0</td>\n      <td>10.0</td>\n      <td>0.062</td>\n    </tr>\n    <tr>\n      <th>44</th>\n      <td>vandejo02</td>\n      <td>John Vander Wal</td>\n      <td>384.0</td>\n      <td>24.0</td>\n      <td>0.062</td>\n    </tr>\n    <tr>\n      <th>45</th>\n      <td>clarkto02</td>\n      <td>Tony Clark</td>\n      <td>208.0</td>\n      <td>13.0</td>\n      <td>0.062</td>\n    </tr>\n    <tr>\n      <th>46</th>\n      <td>jonesch06</td>\n      <td>Chipper Jones</td>\n      <td>579.0</td>\n      <td>36.0</td>\n      <td>0.062</td>\n    </tr>\n    <tr>\n      <th>47</th>\n      <td>mondera01</td>\n      <td>Raul Mondesi</td>\n      <td>388.0</td>\n      <td>24.0</td>\n      <td>0.062</td>\n    </tr>\n    <tr>\n      <th>48</th>\n      <td>burksel01</td>\n      <td>Ellis Burks</td>\n      <td>393.0</td>\n      <td>24.0</td>\n      <td>0.061</td>\n    </tr>\n    <tr>\n      <th>49</th>\n      <td>vaughgr01</td>\n      <td>Greg Vaughn</td>\n      <td>461.0</td>\n      <td>28.0</td>\n      <td>0.061</td>\n    </tr>\n  </tbody>\n</table>\n</div>"
     },
     "execution_count": 14,
     "metadata": {},
     "output_type": "execute_result"
    }
   ],
   "source": [
    "merged_df = pd.merge(batting_2, player, on = 'player_id')\n",
    "filtered_df = merged_df[(merged_df['ab'] >= 100) & (merged_df['year']==2000)]\n",
    "grouped_df = filtered_df.groupby(['player_id', 'full_name'])[['ab','hr']].sum().reset_index()\n",
    "grouped_df['Homeruns_per_ab'] = round(grouped_df['hr'] / grouped_df['ab'],3)\n",
    "result_df = grouped_df.sort_values(by='Homeruns_per_ab', ascending=False).head(50).reset_index(drop=True)\n",
    "result_df"
   ]
  },
  {
   "cell_type": "markdown",
   "metadata": {},
   "source": [
    "--5.New York Yankees players batting average and determing which ones are above the league´s average"
   ]
  },
  {
   "cell_type": "code",
   "execution_count": 16,
   "metadata": {
    "ExecuteTime": {
     "end_time": "2023-11-17T23:34:19.353041300Z",
     "start_time": "2023-11-17T23:34:19.154213500Z"
    }
   },
   "outputs": [
    {
     "data": {
      "text/plain": "    player_id       full_name       h       ab  batting_avg  \\\n0    ruthba01       Babe Ruth  2518.0   7216.0        0.349   \n1   gehrilo01      Lou Gehrig  2700.0   7935.0        0.340   \n2   duncama01  Mariano Duncan   136.0    400.0        0.340   \n3   dimagjo01    Joe DiMaggio  2214.0   6821.0        0.325   \n4   combsea01     Earle Combs  1852.0   5711.0        0.324   \n5   paschbe01     Ben Paschal   163.0    505.0        0.323   \n6   jamesdi01      Dion James   174.0    552.0        0.315   \n7   dickebi01     Bill Dickey  1931.0   6151.0        0.314   \n8   boggswa01      Wade Boggs   702.0   2240.0        0.313   \n9   meusebo01      Bob Meusel  1565.0   5032.0        0.311   \n10  jeterde01     Derek Jeter  3441.0  11084.0        0.310   \n11   canoro01   Robinson Cano  1649.0   5336.0        0.309   \n12  mattido01   Don Mattingly  2151.0   6991.0        0.308   \n13  watsobo01      Bob Watson   144.0    469.0        0.307   \n14   sojolu01       Luis Sojo    66.0    215.0        0.307   \n15  chapmbe01     Ben Chapman  1042.0   3400.0        0.306   \n16  maddoel01  Elliott Maddox   208.0    684.0        0.304   \n17  pinielo01    Lou Piniella   819.0   2699.0        0.303   \n18  schanwa01    Wally Schang   443.0   1460.0        0.303   \n19  oneilpa01    Paul O'Neill  1426.0   4700.0        0.303   \n20   wittwh01     Whitey Witt   522.0   1724.0        0.303   \n21  blombro01    Ron Blomberg   261.0    864.0        0.302   \n22  easlemi01     Mike Easler   148.0    490.0        0.302   \n23  rivermi01   Mickey Rivers   598.0   2000.0        0.299   \n24  raineti01      Tim Raines   237.0    793.0        0.299   \n\n   batting_performance  \n0            Above_avg  \n1            Above_avg  \n2            Above_avg  \n3            Above_avg  \n4            Above_avg  \n5            Above_avg  \n6            Above_avg  \n7            Above_avg  \n8            Above_avg  \n9            Above_avg  \n10           Above_avg  \n11           Above_avg  \n12           Above_avg  \n13           Above_avg  \n14           Above_avg  \n15           Above_avg  \n16           Above_avg  \n17           Above_avg  \n18           Above_avg  \n19           Above_avg  \n20           Above_avg  \n21           Above_avg  \n22           Above_avg  \n23           Above_avg  \n24           Above_avg  ",
      "text/html": "<div>\n<style scoped>\n    .dataframe tbody tr th:only-of-type {\n        vertical-align: middle;\n    }\n\n    .dataframe tbody tr th {\n        vertical-align: top;\n    }\n\n    .dataframe thead th {\n        text-align: right;\n    }\n</style>\n<table border=\"1\" class=\"dataframe\">\n  <thead>\n    <tr style=\"text-align: right;\">\n      <th></th>\n      <th>player_id</th>\n      <th>full_name</th>\n      <th>h</th>\n      <th>ab</th>\n      <th>batting_avg</th>\n      <th>batting_performance</th>\n    </tr>\n  </thead>\n  <tbody>\n    <tr>\n      <th>0</th>\n      <td>ruthba01</td>\n      <td>Babe Ruth</td>\n      <td>2518.0</td>\n      <td>7216.0</td>\n      <td>0.349</td>\n      <td>Above_avg</td>\n    </tr>\n    <tr>\n      <th>1</th>\n      <td>gehrilo01</td>\n      <td>Lou Gehrig</td>\n      <td>2700.0</td>\n      <td>7935.0</td>\n      <td>0.340</td>\n      <td>Above_avg</td>\n    </tr>\n    <tr>\n      <th>2</th>\n      <td>duncama01</td>\n      <td>Mariano Duncan</td>\n      <td>136.0</td>\n      <td>400.0</td>\n      <td>0.340</td>\n      <td>Above_avg</td>\n    </tr>\n    <tr>\n      <th>3</th>\n      <td>dimagjo01</td>\n      <td>Joe DiMaggio</td>\n      <td>2214.0</td>\n      <td>6821.0</td>\n      <td>0.325</td>\n      <td>Above_avg</td>\n    </tr>\n    <tr>\n      <th>4</th>\n      <td>combsea01</td>\n      <td>Earle Combs</td>\n      <td>1852.0</td>\n      <td>5711.0</td>\n      <td>0.324</td>\n      <td>Above_avg</td>\n    </tr>\n    <tr>\n      <th>5</th>\n      <td>paschbe01</td>\n      <td>Ben Paschal</td>\n      <td>163.0</td>\n      <td>505.0</td>\n      <td>0.323</td>\n      <td>Above_avg</td>\n    </tr>\n    <tr>\n      <th>6</th>\n      <td>jamesdi01</td>\n      <td>Dion James</td>\n      <td>174.0</td>\n      <td>552.0</td>\n      <td>0.315</td>\n      <td>Above_avg</td>\n    </tr>\n    <tr>\n      <th>7</th>\n      <td>dickebi01</td>\n      <td>Bill Dickey</td>\n      <td>1931.0</td>\n      <td>6151.0</td>\n      <td>0.314</td>\n      <td>Above_avg</td>\n    </tr>\n    <tr>\n      <th>8</th>\n      <td>boggswa01</td>\n      <td>Wade Boggs</td>\n      <td>702.0</td>\n      <td>2240.0</td>\n      <td>0.313</td>\n      <td>Above_avg</td>\n    </tr>\n    <tr>\n      <th>9</th>\n      <td>meusebo01</td>\n      <td>Bob Meusel</td>\n      <td>1565.0</td>\n      <td>5032.0</td>\n      <td>0.311</td>\n      <td>Above_avg</td>\n    </tr>\n    <tr>\n      <th>10</th>\n      <td>jeterde01</td>\n      <td>Derek Jeter</td>\n      <td>3441.0</td>\n      <td>11084.0</td>\n      <td>0.310</td>\n      <td>Above_avg</td>\n    </tr>\n    <tr>\n      <th>11</th>\n      <td>canoro01</td>\n      <td>Robinson Cano</td>\n      <td>1649.0</td>\n      <td>5336.0</td>\n      <td>0.309</td>\n      <td>Above_avg</td>\n    </tr>\n    <tr>\n      <th>12</th>\n      <td>mattido01</td>\n      <td>Don Mattingly</td>\n      <td>2151.0</td>\n      <td>6991.0</td>\n      <td>0.308</td>\n      <td>Above_avg</td>\n    </tr>\n    <tr>\n      <th>13</th>\n      <td>watsobo01</td>\n      <td>Bob Watson</td>\n      <td>144.0</td>\n      <td>469.0</td>\n      <td>0.307</td>\n      <td>Above_avg</td>\n    </tr>\n    <tr>\n      <th>14</th>\n      <td>sojolu01</td>\n      <td>Luis Sojo</td>\n      <td>66.0</td>\n      <td>215.0</td>\n      <td>0.307</td>\n      <td>Above_avg</td>\n    </tr>\n    <tr>\n      <th>15</th>\n      <td>chapmbe01</td>\n      <td>Ben Chapman</td>\n      <td>1042.0</td>\n      <td>3400.0</td>\n      <td>0.306</td>\n      <td>Above_avg</td>\n    </tr>\n    <tr>\n      <th>16</th>\n      <td>maddoel01</td>\n      <td>Elliott Maddox</td>\n      <td>208.0</td>\n      <td>684.0</td>\n      <td>0.304</td>\n      <td>Above_avg</td>\n    </tr>\n    <tr>\n      <th>17</th>\n      <td>pinielo01</td>\n      <td>Lou Piniella</td>\n      <td>819.0</td>\n      <td>2699.0</td>\n      <td>0.303</td>\n      <td>Above_avg</td>\n    </tr>\n    <tr>\n      <th>18</th>\n      <td>schanwa01</td>\n      <td>Wally Schang</td>\n      <td>443.0</td>\n      <td>1460.0</td>\n      <td>0.303</td>\n      <td>Above_avg</td>\n    </tr>\n    <tr>\n      <th>19</th>\n      <td>oneilpa01</td>\n      <td>Paul O'Neill</td>\n      <td>1426.0</td>\n      <td>4700.0</td>\n      <td>0.303</td>\n      <td>Above_avg</td>\n    </tr>\n    <tr>\n      <th>20</th>\n      <td>wittwh01</td>\n      <td>Whitey Witt</td>\n      <td>522.0</td>\n      <td>1724.0</td>\n      <td>0.303</td>\n      <td>Above_avg</td>\n    </tr>\n    <tr>\n      <th>21</th>\n      <td>blombro01</td>\n      <td>Ron Blomberg</td>\n      <td>261.0</td>\n      <td>864.0</td>\n      <td>0.302</td>\n      <td>Above_avg</td>\n    </tr>\n    <tr>\n      <th>22</th>\n      <td>easlemi01</td>\n      <td>Mike Easler</td>\n      <td>148.0</td>\n      <td>490.0</td>\n      <td>0.302</td>\n      <td>Above_avg</td>\n    </tr>\n    <tr>\n      <th>23</th>\n      <td>rivermi01</td>\n      <td>Mickey Rivers</td>\n      <td>598.0</td>\n      <td>2000.0</td>\n      <td>0.299</td>\n      <td>Above_avg</td>\n    </tr>\n    <tr>\n      <th>24</th>\n      <td>raineti01</td>\n      <td>Tim Raines</td>\n      <td>237.0</td>\n      <td>793.0</td>\n      <td>0.299</td>\n      <td>Above_avg</td>\n    </tr>\n  </tbody>\n</table>\n</div>"
     },
     "execution_count": 16,
     "metadata": {},
     "output_type": "execute_result"
    }
   ],
   "source": [
    "league_avg = batting_2[batting_2['ab']>=100]\n",
    "league_avg = league_avg.h.sum() / league_avg.ab.sum()\n",
    "league_avg\n",
    "\n",
    "merged_df = pd.merge(batting, player, on='player_id')\n",
    "filtered_df = merged_df[(merged_df['ab']>=200) & (merged_df['team_id']=='NYA')]\n",
    "grouped_df = filtered_df.groupby(['player_id', 'full_name'])[['h','ab']].sum().reset_index()\n",
    "grouped_df['batting_avg'] = round(grouped_df['h'] / grouped_df['ab'],3)\n",
    "grouped_df['batting_performance'] = grouped_df['batting_avg'].apply(lambda x: 'Above_avg' if x > league_avg else 'Below_avg')\n",
    "result_df = grouped_df.sort_values(by='batting_avg', ascending=False).head(25).reset_index(drop=True)\n",
    "result_df"
   ]
  },
  {
   "cell_type": "markdown",
   "metadata": {},
   "source": [
    "--6.Teams with the highest avg attendance per game in 21st century"
   ]
  },
  {
   "cell_type": "code",
   "execution_count": 33,
   "metadata": {
    "ExecuteTime": {
     "end_time": "2023-11-20T18:34:24.376143300Z",
     "start_time": "2023-11-20T18:34:24.324850Z"
    }
   },
   "outputs": [
    {
     "data": {
      "text/plain": "                             name  attendance     g  avg_attendance_per_game\n0                New York Yankees  58491801.0  2590                  22584.0\n1             Los Angeles Dodgers  55479368.0  2591                  21412.0\n2             St. Louis Cardinals  52779669.0  2591                  20370.0\n3            San Francisco Giants  51539703.0  2590                  19899.0\n4   Los Angeles Angels of Anaheim  35361353.0  1782                  19844.0\n5                    Chicago Cubs  47557886.0  2590                  18362.0\n6                  Boston Red Sox  46097292.0  2591                  17791.0\n7           Philadelphia Phillies  44183070.0  2591                  17053.0\n8                   New York Mets  44026638.0  2590                  16999.0\n9                Colorado Rockies  41978667.0  2593                  16189.0\n10                  Texas Rangers  41050712.0  2593                  15831.0\n11                 Anaheim Angels  12810219.0   810                  15815.0\n12               Seattle Mariners  40344500.0  2592                  15565.0\n13                 Atlanta Braves  40320936.0  2591                  15562.0\n14              Milwaukee Brewers  40188606.0  2592                  15505.0\n15                 Houston Astros  39731913.0  2592                  15329.0\n16                 Detroit Tigers  39444074.0  2591                  15223.0\n17           Arizona Diamondbacks  37946488.0  2592                  14640.0\n18               San Diego Padres  37885083.0  2593                  14611.0\n19              Baltimore Orioles  37766746.0  2592                  14571.0\n20           Washington Nationals  24957479.0  1780                  14021.0\n21                Minnesota Twins  36016389.0  2593                  13890.0\n22                Cincinnati Reds  34950170.0  2594                  13473.0\n23              Chicago White Sox  33366890.0  2593                  12868.0\n24              Toronto Blue Jays  33162614.0  2591                  12799.0\n25              Cleveland Indians  32255283.0  2591                  12449.0\n26             Pittsburgh Pirates  30674181.0  2589                  11848.0\n27              Oakland Athletics  29561870.0  2590                  11414.0\n28                  Miami Marlins   7290284.0   648                  11250.0\n29             Kansas City Royals  27098544.0  2592                  10455.0\n30                 Tampa Bay Rays  12863080.0  1297                   9918.0\n31                Florida Marlins  16518116.0  1942                   8506.0\n32           Tampa Bay Devil Rays  10045608.0  1293                   7769.0\n33                 Montreal Expos   4156251.0   810                   5131.0",
      "text/html": "<div>\n<style scoped>\n    .dataframe tbody tr th:only-of-type {\n        vertical-align: middle;\n    }\n\n    .dataframe tbody tr th {\n        vertical-align: top;\n    }\n\n    .dataframe thead th {\n        text-align: right;\n    }\n</style>\n<table border=\"1\" class=\"dataframe\">\n  <thead>\n    <tr style=\"text-align: right;\">\n      <th></th>\n      <th>name</th>\n      <th>attendance</th>\n      <th>g</th>\n      <th>avg_attendance_per_game</th>\n    </tr>\n  </thead>\n  <tbody>\n    <tr>\n      <th>0</th>\n      <td>New York Yankees</td>\n      <td>58491801.0</td>\n      <td>2590</td>\n      <td>22584.0</td>\n    </tr>\n    <tr>\n      <th>1</th>\n      <td>Los Angeles Dodgers</td>\n      <td>55479368.0</td>\n      <td>2591</td>\n      <td>21412.0</td>\n    </tr>\n    <tr>\n      <th>2</th>\n      <td>St. Louis Cardinals</td>\n      <td>52779669.0</td>\n      <td>2591</td>\n      <td>20370.0</td>\n    </tr>\n    <tr>\n      <th>3</th>\n      <td>San Francisco Giants</td>\n      <td>51539703.0</td>\n      <td>2590</td>\n      <td>19899.0</td>\n    </tr>\n    <tr>\n      <th>4</th>\n      <td>Los Angeles Angels of Anaheim</td>\n      <td>35361353.0</td>\n      <td>1782</td>\n      <td>19844.0</td>\n    </tr>\n    <tr>\n      <th>5</th>\n      <td>Chicago Cubs</td>\n      <td>47557886.0</td>\n      <td>2590</td>\n      <td>18362.0</td>\n    </tr>\n    <tr>\n      <th>6</th>\n      <td>Boston Red Sox</td>\n      <td>46097292.0</td>\n      <td>2591</td>\n      <td>17791.0</td>\n    </tr>\n    <tr>\n      <th>7</th>\n      <td>Philadelphia Phillies</td>\n      <td>44183070.0</td>\n      <td>2591</td>\n      <td>17053.0</td>\n    </tr>\n    <tr>\n      <th>8</th>\n      <td>New York Mets</td>\n      <td>44026638.0</td>\n      <td>2590</td>\n      <td>16999.0</td>\n    </tr>\n    <tr>\n      <th>9</th>\n      <td>Colorado Rockies</td>\n      <td>41978667.0</td>\n      <td>2593</td>\n      <td>16189.0</td>\n    </tr>\n    <tr>\n      <th>10</th>\n      <td>Texas Rangers</td>\n      <td>41050712.0</td>\n      <td>2593</td>\n      <td>15831.0</td>\n    </tr>\n    <tr>\n      <th>11</th>\n      <td>Anaheim Angels</td>\n      <td>12810219.0</td>\n      <td>810</td>\n      <td>15815.0</td>\n    </tr>\n    <tr>\n      <th>12</th>\n      <td>Seattle Mariners</td>\n      <td>40344500.0</td>\n      <td>2592</td>\n      <td>15565.0</td>\n    </tr>\n    <tr>\n      <th>13</th>\n      <td>Atlanta Braves</td>\n      <td>40320936.0</td>\n      <td>2591</td>\n      <td>15562.0</td>\n    </tr>\n    <tr>\n      <th>14</th>\n      <td>Milwaukee Brewers</td>\n      <td>40188606.0</td>\n      <td>2592</td>\n      <td>15505.0</td>\n    </tr>\n    <tr>\n      <th>15</th>\n      <td>Houston Astros</td>\n      <td>39731913.0</td>\n      <td>2592</td>\n      <td>15329.0</td>\n    </tr>\n    <tr>\n      <th>16</th>\n      <td>Detroit Tigers</td>\n      <td>39444074.0</td>\n      <td>2591</td>\n      <td>15223.0</td>\n    </tr>\n    <tr>\n      <th>17</th>\n      <td>Arizona Diamondbacks</td>\n      <td>37946488.0</td>\n      <td>2592</td>\n      <td>14640.0</td>\n    </tr>\n    <tr>\n      <th>18</th>\n      <td>San Diego Padres</td>\n      <td>37885083.0</td>\n      <td>2593</td>\n      <td>14611.0</td>\n    </tr>\n    <tr>\n      <th>19</th>\n      <td>Baltimore Orioles</td>\n      <td>37766746.0</td>\n      <td>2592</td>\n      <td>14571.0</td>\n    </tr>\n    <tr>\n      <th>20</th>\n      <td>Washington Nationals</td>\n      <td>24957479.0</td>\n      <td>1780</td>\n      <td>14021.0</td>\n    </tr>\n    <tr>\n      <th>21</th>\n      <td>Minnesota Twins</td>\n      <td>36016389.0</td>\n      <td>2593</td>\n      <td>13890.0</td>\n    </tr>\n    <tr>\n      <th>22</th>\n      <td>Cincinnati Reds</td>\n      <td>34950170.0</td>\n      <td>2594</td>\n      <td>13473.0</td>\n    </tr>\n    <tr>\n      <th>23</th>\n      <td>Chicago White Sox</td>\n      <td>33366890.0</td>\n      <td>2593</td>\n      <td>12868.0</td>\n    </tr>\n    <tr>\n      <th>24</th>\n      <td>Toronto Blue Jays</td>\n      <td>33162614.0</td>\n      <td>2591</td>\n      <td>12799.0</td>\n    </tr>\n    <tr>\n      <th>25</th>\n      <td>Cleveland Indians</td>\n      <td>32255283.0</td>\n      <td>2591</td>\n      <td>12449.0</td>\n    </tr>\n    <tr>\n      <th>26</th>\n      <td>Pittsburgh Pirates</td>\n      <td>30674181.0</td>\n      <td>2589</td>\n      <td>11848.0</td>\n    </tr>\n    <tr>\n      <th>27</th>\n      <td>Oakland Athletics</td>\n      <td>29561870.0</td>\n      <td>2590</td>\n      <td>11414.0</td>\n    </tr>\n    <tr>\n      <th>28</th>\n      <td>Miami Marlins</td>\n      <td>7290284.0</td>\n      <td>648</td>\n      <td>11250.0</td>\n    </tr>\n    <tr>\n      <th>29</th>\n      <td>Kansas City Royals</td>\n      <td>27098544.0</td>\n      <td>2592</td>\n      <td>10455.0</td>\n    </tr>\n    <tr>\n      <th>30</th>\n      <td>Tampa Bay Rays</td>\n      <td>12863080.0</td>\n      <td>1297</td>\n      <td>9918.0</td>\n    </tr>\n    <tr>\n      <th>31</th>\n      <td>Florida Marlins</td>\n      <td>16518116.0</td>\n      <td>1942</td>\n      <td>8506.0</td>\n    </tr>\n    <tr>\n      <th>32</th>\n      <td>Tampa Bay Devil Rays</td>\n      <td>10045608.0</td>\n      <td>1293</td>\n      <td>7769.0</td>\n    </tr>\n    <tr>\n      <th>33</th>\n      <td>Montreal Expos</td>\n      <td>4156251.0</td>\n      <td>810</td>\n      <td>5131.0</td>\n    </tr>\n  </tbody>\n</table>\n</div>"
     },
     "execution_count": 33,
     "metadata": {},
     "output_type": "execute_result"
    }
   ],
   "source": [
    "filtered_df = team[team['year']>=2000].groupby('name')[['attendance', 'g']].sum().reset_index()\n",
    "filtered_df['avg_attendance_per_game'] = round(filtered_df['attendance'] / filtered_df['g'])\n",
    "result_df = filtered_df.sort_values(by='avg_attendance_per_game', ascending=False).reset_index(drop=True)\n",
    "result_df"
   ]
  },
  {
   "cell_type": "markdown",
   "metadata": {},
   "source": [
    "--7. Top Pitchers of all time based on the highest number of Pitching Triple Crown player award"
   ]
  },
  {
   "cell_type": "code",
   "execution_count": 17,
   "metadata": {
    "ExecuteTime": {
     "end_time": "2023-11-17T23:37:53.377702100Z",
     "start_time": "2023-11-17T23:37:53.313521100Z"
    }
   },
   "outputs": [
    {
     "data": {
      "text/plain": "   player_id          full_name  award_id\n0  alexape01     Pete Alexander         3\n1  johnswa01     Walter Johnson         3\n2  koufasa01       Sandy Koufax         3\n3  gomezle01        Lefty Gomez         2\n4  grovele01        Lefty Grove         2\n5  clemero02      Roger Clemens         2\n6  mathech01  Christy Mathewson         2\n7  clarkjo01      John Clarkson         1\n8  peavyja01         Jake Peavy         1\n9  waltebu01      Bucky Walters         1",
      "text/html": "<div>\n<style scoped>\n    .dataframe tbody tr th:only-of-type {\n        vertical-align: middle;\n    }\n\n    .dataframe tbody tr th {\n        vertical-align: top;\n    }\n\n    .dataframe thead th {\n        text-align: right;\n    }\n</style>\n<table border=\"1\" class=\"dataframe\">\n  <thead>\n    <tr style=\"text-align: right;\">\n      <th></th>\n      <th>player_id</th>\n      <th>full_name</th>\n      <th>award_id</th>\n    </tr>\n  </thead>\n  <tbody>\n    <tr>\n      <th>0</th>\n      <td>alexape01</td>\n      <td>Pete Alexander</td>\n      <td>3</td>\n    </tr>\n    <tr>\n      <th>1</th>\n      <td>johnswa01</td>\n      <td>Walter Johnson</td>\n      <td>3</td>\n    </tr>\n    <tr>\n      <th>2</th>\n      <td>koufasa01</td>\n      <td>Sandy Koufax</td>\n      <td>3</td>\n    </tr>\n    <tr>\n      <th>3</th>\n      <td>gomezle01</td>\n      <td>Lefty Gomez</td>\n      <td>2</td>\n    </tr>\n    <tr>\n      <th>4</th>\n      <td>grovele01</td>\n      <td>Lefty Grove</td>\n      <td>2</td>\n    </tr>\n    <tr>\n      <th>5</th>\n      <td>clemero02</td>\n      <td>Roger Clemens</td>\n      <td>2</td>\n    </tr>\n    <tr>\n      <th>6</th>\n      <td>mathech01</td>\n      <td>Christy Mathewson</td>\n      <td>2</td>\n    </tr>\n    <tr>\n      <th>7</th>\n      <td>clarkjo01</td>\n      <td>John Clarkson</td>\n      <td>1</td>\n    </tr>\n    <tr>\n      <th>8</th>\n      <td>peavyja01</td>\n      <td>Jake Peavy</td>\n      <td>1</td>\n    </tr>\n    <tr>\n      <th>9</th>\n      <td>waltebu01</td>\n      <td>Bucky Walters</td>\n      <td>1</td>\n    </tr>\n  </tbody>\n</table>\n</div>"
     },
     "execution_count": 17,
     "metadata": {},
     "output_type": "execute_result"
    }
   ],
   "source": [
    "merged_df = pd.merge(player, player_award, on = 'player_id')\n",
    "filtered_df = merged_df[merged_df['award_id']=='Pitching Triple Crown']\n",
    "result_df = filtered_df.groupby(['player_id', 'full_name']).award_id.count().reset_index().sort_values(by='award_id', ascending=False).head(10).reset_index(drop=True)\n",
    "result_df"
   ]
  },
  {
   "cell_type": "markdown",
   "metadata": {},
   "source": [
    "--8.Teams with the highest salary disparity"
   ]
  },
  {
   "cell_type": "code",
   "execution_count": 34,
   "metadata": {
    "ExecuteTime": {
     "end_time": "2023-11-20T18:34:33.514388400Z",
     "start_time": "2023-11-20T18:34:33.462112600Z"
    }
   },
   "outputs": [
    {
     "data": {
      "text/plain": "   team_id  average_salary  max_salary salary_disparity\n0      PHI    4.295885e+06    25000000          481.95%\n1      ARI    2.132207e+06    12000000           462.8%\n2      LAA    4.444645e+06    24000000          439.98%\n3      MIN    4.310200e+06    23000000          433.62%\n4      COL    3.827544e+06    20000000          422.53%\n5      NYN    3.870667e+06    20000000          416.71%\n6      SEA    4.888348e+06    24857000          408.49%\n7      TEX    4.791426e+06    24000000          400.89%\n8      CLE    3.022888e+06    15000000          396.21%\n9      TBA    2.224870e+06    11000000          394.41%\n10     TOR    4.519696e+06    22000000          386.76%\n11     CHN    4.138547e+06    20000000          383.26%\n12     SDN    4.555435e+06    21250000          366.48%\n13     OAK    2.823339e+06    13000000          360.45%\n14     LAN    7.441103e+06    32571000          337.72%\n15     SLN    4.586212e+06    19500000          325.19%\n16     DET    6.891390e+06    28000000           306.3%\n17     MIL    3.477586e+06    14000000          302.58%\n18     ATL    2.990885e+06    12000000          301.22%\n19     WAS    5.365085e+06    21000000          291.42%\n20     MIA    2.835688e+06    11000000          287.91%\n21     HOU    2.580579e+06    10000000          287.51%\n22     PIT    3.065259e+06    11666666          280.61%\n23     CHA    4.161989e+06    15750000          278.42%\n24     BOS    5.659481e+06    19750000          248.97%\n25     SFN    6.100056e+06    21000000          244.26%\n26     CIN    4.187862e+06    14000000           234.3%\n27     BAL    4.108744e+06    13333333          224.51%\n28     NYA    7.336274e+06    23125000          215.21%\n29     KCA    4.152112e+06    12500000          201.05%",
      "text/html": "<div>\n<style scoped>\n    .dataframe tbody tr th:only-of-type {\n        vertical-align: middle;\n    }\n\n    .dataframe tbody tr th {\n        vertical-align: top;\n    }\n\n    .dataframe thead th {\n        text-align: right;\n    }\n</style>\n<table border=\"1\" class=\"dataframe\">\n  <thead>\n    <tr style=\"text-align: right;\">\n      <th></th>\n      <th>team_id</th>\n      <th>average_salary</th>\n      <th>max_salary</th>\n      <th>salary_disparity</th>\n    </tr>\n  </thead>\n  <tbody>\n    <tr>\n      <th>0</th>\n      <td>PHI</td>\n      <td>4.295885e+06</td>\n      <td>25000000</td>\n      <td>481.95%</td>\n    </tr>\n    <tr>\n      <th>1</th>\n      <td>ARI</td>\n      <td>2.132207e+06</td>\n      <td>12000000</td>\n      <td>462.8%</td>\n    </tr>\n    <tr>\n      <th>2</th>\n      <td>LAA</td>\n      <td>4.444645e+06</td>\n      <td>24000000</td>\n      <td>439.98%</td>\n    </tr>\n    <tr>\n      <th>3</th>\n      <td>MIN</td>\n      <td>4.310200e+06</td>\n      <td>23000000</td>\n      <td>433.62%</td>\n    </tr>\n    <tr>\n      <th>4</th>\n      <td>COL</td>\n      <td>3.827544e+06</td>\n      <td>20000000</td>\n      <td>422.53%</td>\n    </tr>\n    <tr>\n      <th>5</th>\n      <td>NYN</td>\n      <td>3.870667e+06</td>\n      <td>20000000</td>\n      <td>416.71%</td>\n    </tr>\n    <tr>\n      <th>6</th>\n      <td>SEA</td>\n      <td>4.888348e+06</td>\n      <td>24857000</td>\n      <td>408.49%</td>\n    </tr>\n    <tr>\n      <th>7</th>\n      <td>TEX</td>\n      <td>4.791426e+06</td>\n      <td>24000000</td>\n      <td>400.89%</td>\n    </tr>\n    <tr>\n      <th>8</th>\n      <td>CLE</td>\n      <td>3.022888e+06</td>\n      <td>15000000</td>\n      <td>396.21%</td>\n    </tr>\n    <tr>\n      <th>9</th>\n      <td>TBA</td>\n      <td>2.224870e+06</td>\n      <td>11000000</td>\n      <td>394.41%</td>\n    </tr>\n    <tr>\n      <th>10</th>\n      <td>TOR</td>\n      <td>4.519696e+06</td>\n      <td>22000000</td>\n      <td>386.76%</td>\n    </tr>\n    <tr>\n      <th>11</th>\n      <td>CHN</td>\n      <td>4.138547e+06</td>\n      <td>20000000</td>\n      <td>383.26%</td>\n    </tr>\n    <tr>\n      <th>12</th>\n      <td>SDN</td>\n      <td>4.555435e+06</td>\n      <td>21250000</td>\n      <td>366.48%</td>\n    </tr>\n    <tr>\n      <th>13</th>\n      <td>OAK</td>\n      <td>2.823339e+06</td>\n      <td>13000000</td>\n      <td>360.45%</td>\n    </tr>\n    <tr>\n      <th>14</th>\n      <td>LAN</td>\n      <td>7.441103e+06</td>\n      <td>32571000</td>\n      <td>337.72%</td>\n    </tr>\n    <tr>\n      <th>15</th>\n      <td>SLN</td>\n      <td>4.586212e+06</td>\n      <td>19500000</td>\n      <td>325.19%</td>\n    </tr>\n    <tr>\n      <th>16</th>\n      <td>DET</td>\n      <td>6.891390e+06</td>\n      <td>28000000</td>\n      <td>306.3%</td>\n    </tr>\n    <tr>\n      <th>17</th>\n      <td>MIL</td>\n      <td>3.477586e+06</td>\n      <td>14000000</td>\n      <td>302.58%</td>\n    </tr>\n    <tr>\n      <th>18</th>\n      <td>ATL</td>\n      <td>2.990885e+06</td>\n      <td>12000000</td>\n      <td>301.22%</td>\n    </tr>\n    <tr>\n      <th>19</th>\n      <td>WAS</td>\n      <td>5.365085e+06</td>\n      <td>21000000</td>\n      <td>291.42%</td>\n    </tr>\n    <tr>\n      <th>20</th>\n      <td>MIA</td>\n      <td>2.835688e+06</td>\n      <td>11000000</td>\n      <td>287.91%</td>\n    </tr>\n    <tr>\n      <th>21</th>\n      <td>HOU</td>\n      <td>2.580579e+06</td>\n      <td>10000000</td>\n      <td>287.51%</td>\n    </tr>\n    <tr>\n      <th>22</th>\n      <td>PIT</td>\n      <td>3.065259e+06</td>\n      <td>11666666</td>\n      <td>280.61%</td>\n    </tr>\n    <tr>\n      <th>23</th>\n      <td>CHA</td>\n      <td>4.161989e+06</td>\n      <td>15750000</td>\n      <td>278.42%</td>\n    </tr>\n    <tr>\n      <th>24</th>\n      <td>BOS</td>\n      <td>5.659481e+06</td>\n      <td>19750000</td>\n      <td>248.97%</td>\n    </tr>\n    <tr>\n      <th>25</th>\n      <td>SFN</td>\n      <td>6.100056e+06</td>\n      <td>21000000</td>\n      <td>244.26%</td>\n    </tr>\n    <tr>\n      <th>26</th>\n      <td>CIN</td>\n      <td>4.187862e+06</td>\n      <td>14000000</td>\n      <td>234.3%</td>\n    </tr>\n    <tr>\n      <th>27</th>\n      <td>BAL</td>\n      <td>4.108744e+06</td>\n      <td>13333333</td>\n      <td>224.51%</td>\n    </tr>\n    <tr>\n      <th>28</th>\n      <td>NYA</td>\n      <td>7.336274e+06</td>\n      <td>23125000</td>\n      <td>215.21%</td>\n    </tr>\n    <tr>\n      <th>29</th>\n      <td>KCA</td>\n      <td>4.152112e+06</td>\n      <td>12500000</td>\n      <td>201.05%</td>\n    </tr>\n  </tbody>\n</table>\n</div>"
     },
     "execution_count": 34,
     "metadata": {},
     "output_type": "execute_result"
    }
   ],
   "source": [
    "filtered_df = salary[salary['year']==2015].groupby('team_id').salary.agg(average_salary = 'mean', max_salary = 'max').reset_index()\n",
    "filtered_df['salary_disparity'] = ((filtered_df['max_salary'] - filtered_df['average_salary']) / filtered_df['average_salary'] * 100).round(2).astype(str) + '%'\n",
    "result_df = filtered_df[['team_id', 'average_salary', 'max_salary', 'salary_disparity']].sort_values(by='salary_disparity', ascending=False).reset_index(drop=True)\n",
    "result_df"
   ]
  },
  {
   "cell_type": "markdown",
   "metadata": {},
   "source": [
    "--9. Top 10 players with the highest number of hits who are also members of the Hall of Fame"
   ]
  },
  {
   "cell_type": "code",
   "execution_count": 20,
   "metadata": {
    "ExecuteTime": {
     "end_time": "2023-11-17T23:39:32.756211800Z",
     "start_time": "2023-11-17T23:39:32.591396Z"
    }
   },
   "outputs": [
    {
     "data": {
      "text/plain": "    player_id         full_name       h\n0   aaronha01        Hank Aaron  3771.0\n1   yastrca01  Carl Yastrzemski  3419.0\n2   molitpa01      Paul Molitor  3309.0\n3    mayswi01       Willie Mays  3274.0\n4   murraed02      Eddie Murray  3253.0\n5   ripkeca01        Cal Ripken  3179.0\n6   brettge01      George Brett  3149.0\n7   yountro01       Robin Yount  3142.0\n8   gwynnto01        Tony Gwynn  3141.0\n9   winfida01     Dave Winfield  3110.0\n10  biggicr01      Craig Biggio  3060.0\n11  henderi01  Rickey Henderson  3034.0\n12  boggswa01        Wade Boggs  3010.0\n13  kalinal01         Al Kaline  3007.0\n14  clemero01  Roberto Clemente  3000.0\n15  brocklo01         Lou Brock  2956.0\n16  robinfr02    Frank Robinson  2943.0\n17  carewro01         Rod Carew  2883.0\n18  robinbr01   Brooks Robinson  2846.0\n19  griffke02       Ken Griffey  2763.0\n20  dawsoan01      Andre Dawson  2754.0\n21  perezto01        Tony Perez  2730.0\n22  alomaro01    Roberto Alomar  2724.0\n23  willibi01    Billy Williams  2706.0\n24  jacksre01    Reggie Jackson  2584.0",
      "text/html": "<div>\n<style scoped>\n    .dataframe tbody tr th:only-of-type {\n        vertical-align: middle;\n    }\n\n    .dataframe tbody tr th {\n        vertical-align: top;\n    }\n\n    .dataframe thead th {\n        text-align: right;\n    }\n</style>\n<table border=\"1\" class=\"dataframe\">\n  <thead>\n    <tr style=\"text-align: right;\">\n      <th></th>\n      <th>player_id</th>\n      <th>full_name</th>\n      <th>h</th>\n    </tr>\n  </thead>\n  <tbody>\n    <tr>\n      <th>0</th>\n      <td>aaronha01</td>\n      <td>Hank Aaron</td>\n      <td>3771.0</td>\n    </tr>\n    <tr>\n      <th>1</th>\n      <td>yastrca01</td>\n      <td>Carl Yastrzemski</td>\n      <td>3419.0</td>\n    </tr>\n    <tr>\n      <th>2</th>\n      <td>molitpa01</td>\n      <td>Paul Molitor</td>\n      <td>3309.0</td>\n    </tr>\n    <tr>\n      <th>3</th>\n      <td>mayswi01</td>\n      <td>Willie Mays</td>\n      <td>3274.0</td>\n    </tr>\n    <tr>\n      <th>4</th>\n      <td>murraed02</td>\n      <td>Eddie Murray</td>\n      <td>3253.0</td>\n    </tr>\n    <tr>\n      <th>5</th>\n      <td>ripkeca01</td>\n      <td>Cal Ripken</td>\n      <td>3179.0</td>\n    </tr>\n    <tr>\n      <th>6</th>\n      <td>brettge01</td>\n      <td>George Brett</td>\n      <td>3149.0</td>\n    </tr>\n    <tr>\n      <th>7</th>\n      <td>yountro01</td>\n      <td>Robin Yount</td>\n      <td>3142.0</td>\n    </tr>\n    <tr>\n      <th>8</th>\n      <td>gwynnto01</td>\n      <td>Tony Gwynn</td>\n      <td>3141.0</td>\n    </tr>\n    <tr>\n      <th>9</th>\n      <td>winfida01</td>\n      <td>Dave Winfield</td>\n      <td>3110.0</td>\n    </tr>\n    <tr>\n      <th>10</th>\n      <td>biggicr01</td>\n      <td>Craig Biggio</td>\n      <td>3060.0</td>\n    </tr>\n    <tr>\n      <th>11</th>\n      <td>henderi01</td>\n      <td>Rickey Henderson</td>\n      <td>3034.0</td>\n    </tr>\n    <tr>\n      <th>12</th>\n      <td>boggswa01</td>\n      <td>Wade Boggs</td>\n      <td>3010.0</td>\n    </tr>\n    <tr>\n      <th>13</th>\n      <td>kalinal01</td>\n      <td>Al Kaline</td>\n      <td>3007.0</td>\n    </tr>\n    <tr>\n      <th>14</th>\n      <td>clemero01</td>\n      <td>Roberto Clemente</td>\n      <td>3000.0</td>\n    </tr>\n    <tr>\n      <th>15</th>\n      <td>brocklo01</td>\n      <td>Lou Brock</td>\n      <td>2956.0</td>\n    </tr>\n    <tr>\n      <th>16</th>\n      <td>robinfr02</td>\n      <td>Frank Robinson</td>\n      <td>2943.0</td>\n    </tr>\n    <tr>\n      <th>17</th>\n      <td>carewro01</td>\n      <td>Rod Carew</td>\n      <td>2883.0</td>\n    </tr>\n    <tr>\n      <th>18</th>\n      <td>robinbr01</td>\n      <td>Brooks Robinson</td>\n      <td>2846.0</td>\n    </tr>\n    <tr>\n      <th>19</th>\n      <td>griffke02</td>\n      <td>Ken Griffey</td>\n      <td>2763.0</td>\n    </tr>\n    <tr>\n      <th>20</th>\n      <td>dawsoan01</td>\n      <td>Andre Dawson</td>\n      <td>2754.0</td>\n    </tr>\n    <tr>\n      <th>21</th>\n      <td>perezto01</td>\n      <td>Tony Perez</td>\n      <td>2730.0</td>\n    </tr>\n    <tr>\n      <th>22</th>\n      <td>alomaro01</td>\n      <td>Roberto Alomar</td>\n      <td>2724.0</td>\n    </tr>\n    <tr>\n      <th>23</th>\n      <td>willibi01</td>\n      <td>Billy Williams</td>\n      <td>2706.0</td>\n    </tr>\n    <tr>\n      <th>24</th>\n      <td>jacksre01</td>\n      <td>Reggie Jackson</td>\n      <td>2584.0</td>\n    </tr>\n  </tbody>\n</table>\n</div>"
     },
     "execution_count": 20,
     "metadata": {},
     "output_type": "execute_result"
    }
   ],
   "source": [
    "merged_df = pd.merge(batting_2, player, on = 'player_id')\n",
    "full_merge = pd.merge(merged_df, hall_of_fame, on = 'player_id')\n",
    "filtered_df = full_merge[(full_merge['year']>1950) & (full_merge['inducted']=='Y')].groupby(['player_id', 'full_name'])['h'].sum().reset_index()\n",
    "result_df = filtered_df.sort_values(by='h', ascending=False).head(25).reset_index(drop=True)\n",
    "result_df"
   ]
  },
  {
   "cell_type": "markdown",
   "metadata": {},
   "source": [
    "--10. Best paid players and their fielding position"
   ]
  },
  {
   "cell_type": "code",
   "execution_count": 35,
   "metadata": {
    "ExecuteTime": {
     "end_time": "2023-11-20T18:34:41.870158400Z",
     "start_time": "2023-11-20T18:34:40.780232Z"
    }
   },
   "outputs": [
    {
     "data": {
      "text/plain": "    player_id         full_name pos    salary\n0   rodrial01    Alex Rodriguez  SS  33000000\n1   rodrial01    Alex Rodriguez  DH  33000000\n2   rodrial01    Alex Rodriguez  3B  33000000\n3   rodrial01    Alex Rodriguez  1B  33000000\n4   kershcl01   Clayton Kershaw   P  32571000\n5   verlaju01  Justin Verlander   P  28000000\n6   wellsve01      Vernon Wells  2B  26187500\n7   wellsve01      Vernon Wells  CF  26187500\n8   wellsve01      Vernon Wells  OF  26187500\n9   wellsve01      Vernon Wells  LF  26187500\n10  wellsve01      Vernon Wells  3B  26187500\n11  wellsve01      Vernon Wells  RF  26187500\n12  wellsve01      Vernon Wells  1B  26187500\n13  greinza01      Zack Greinke   P  26000000\n14    leecl02         Cliff Lee   P  25000000\n15  howarry01       Ryan Howard  1B  25000000\n16  hernafe02   Felix Hernandez   P  24857000\n17  sabatcc01       CC Sabathia   P  24285714\n18   canoro01     Robinson Cano  2B  24000000\n19   canoro01     Robinson Cano  SS  24000000\n20  pujolal01     Albert Pujols  SS  24000000\n21  pujolal01     Albert Pujols  RF  24000000\n22  pujolal01     Albert Pujols  OF  24000000\n23  pujolal01     Albert Pujols  LF  24000000\n24  pujolal01     Albert Pujols  3B  24000000\n25  pujolal01     Albert Pujols  2B  24000000\n26  pujolal01     Albert Pujols  1B  24000000\n27  fieldpr01    Prince Fielder  1B  24000000\n28  ramirma02     Manny Ramirez  DH  23854494\n29  ramirma02     Manny Ramirez  LF  23854494\n30  ramirma02     Manny Ramirez  OF  23854494\n31  ramirma02     Manny Ramirez  RF  23854494\n32  hamelco01       Cole Hamels   P  23500000\n33  giambja01      Jason Giambi  1B  23428571\n34  giambja01      Jason Giambi  3B  23428571\n35  giambja01      Jason Giambi  DH  23428571\n36  giambja01      Jason Giambi  LF  23428571\n37  giambja01      Jason Giambi  OF  23428571\n38  giambja01      Jason Giambi  RF  23428571\n39  santajo01     Johan Santana   P  23145011\n40  teixema01     Mark Teixeira  OF  23125000\n41  teixema01     Mark Teixeira  1B  23125000\n42  teixema01     Mark Teixeira  3B  23125000\n43  teixema01     Mark Teixeira  LF  23125000\n44  teixema01     Mark Teixeira  RF  23125000\n45  mauerjo01         Joe Mauer  OF  23000000\n46  mauerjo01         Joe Mauer   C  23000000\n47  mauerjo01         Joe Mauer  1B  23000000\n48  mauerjo01         Joe Mauer  RF  23000000\n49  hamiljo03     Josh Hamilton  RF  22708749",
      "text/html": "<div>\n<style scoped>\n    .dataframe tbody tr th:only-of-type {\n        vertical-align: middle;\n    }\n\n    .dataframe tbody tr th {\n        vertical-align: top;\n    }\n\n    .dataframe thead th {\n        text-align: right;\n    }\n</style>\n<table border=\"1\" class=\"dataframe\">\n  <thead>\n    <tr style=\"text-align: right;\">\n      <th></th>\n      <th>player_id</th>\n      <th>full_name</th>\n      <th>pos</th>\n      <th>salary</th>\n    </tr>\n  </thead>\n  <tbody>\n    <tr>\n      <th>0</th>\n      <td>rodrial01</td>\n      <td>Alex Rodriguez</td>\n      <td>SS</td>\n      <td>33000000</td>\n    </tr>\n    <tr>\n      <th>1</th>\n      <td>rodrial01</td>\n      <td>Alex Rodriguez</td>\n      <td>DH</td>\n      <td>33000000</td>\n    </tr>\n    <tr>\n      <th>2</th>\n      <td>rodrial01</td>\n      <td>Alex Rodriguez</td>\n      <td>3B</td>\n      <td>33000000</td>\n    </tr>\n    <tr>\n      <th>3</th>\n      <td>rodrial01</td>\n      <td>Alex Rodriguez</td>\n      <td>1B</td>\n      <td>33000000</td>\n    </tr>\n    <tr>\n      <th>4</th>\n      <td>kershcl01</td>\n      <td>Clayton Kershaw</td>\n      <td>P</td>\n      <td>32571000</td>\n    </tr>\n    <tr>\n      <th>5</th>\n      <td>verlaju01</td>\n      <td>Justin Verlander</td>\n      <td>P</td>\n      <td>28000000</td>\n    </tr>\n    <tr>\n      <th>6</th>\n      <td>wellsve01</td>\n      <td>Vernon Wells</td>\n      <td>2B</td>\n      <td>26187500</td>\n    </tr>\n    <tr>\n      <th>7</th>\n      <td>wellsve01</td>\n      <td>Vernon Wells</td>\n      <td>CF</td>\n      <td>26187500</td>\n    </tr>\n    <tr>\n      <th>8</th>\n      <td>wellsve01</td>\n      <td>Vernon Wells</td>\n      <td>OF</td>\n      <td>26187500</td>\n    </tr>\n    <tr>\n      <th>9</th>\n      <td>wellsve01</td>\n      <td>Vernon Wells</td>\n      <td>LF</td>\n      <td>26187500</td>\n    </tr>\n    <tr>\n      <th>10</th>\n      <td>wellsve01</td>\n      <td>Vernon Wells</td>\n      <td>3B</td>\n      <td>26187500</td>\n    </tr>\n    <tr>\n      <th>11</th>\n      <td>wellsve01</td>\n      <td>Vernon Wells</td>\n      <td>RF</td>\n      <td>26187500</td>\n    </tr>\n    <tr>\n      <th>12</th>\n      <td>wellsve01</td>\n      <td>Vernon Wells</td>\n      <td>1B</td>\n      <td>26187500</td>\n    </tr>\n    <tr>\n      <th>13</th>\n      <td>greinza01</td>\n      <td>Zack Greinke</td>\n      <td>P</td>\n      <td>26000000</td>\n    </tr>\n    <tr>\n      <th>14</th>\n      <td>leecl02</td>\n      <td>Cliff Lee</td>\n      <td>P</td>\n      <td>25000000</td>\n    </tr>\n    <tr>\n      <th>15</th>\n      <td>howarry01</td>\n      <td>Ryan Howard</td>\n      <td>1B</td>\n      <td>25000000</td>\n    </tr>\n    <tr>\n      <th>16</th>\n      <td>hernafe02</td>\n      <td>Felix Hernandez</td>\n      <td>P</td>\n      <td>24857000</td>\n    </tr>\n    <tr>\n      <th>17</th>\n      <td>sabatcc01</td>\n      <td>CC Sabathia</td>\n      <td>P</td>\n      <td>24285714</td>\n    </tr>\n    <tr>\n      <th>18</th>\n      <td>canoro01</td>\n      <td>Robinson Cano</td>\n      <td>2B</td>\n      <td>24000000</td>\n    </tr>\n    <tr>\n      <th>19</th>\n      <td>canoro01</td>\n      <td>Robinson Cano</td>\n      <td>SS</td>\n      <td>24000000</td>\n    </tr>\n    <tr>\n      <th>20</th>\n      <td>pujolal01</td>\n      <td>Albert Pujols</td>\n      <td>SS</td>\n      <td>24000000</td>\n    </tr>\n    <tr>\n      <th>21</th>\n      <td>pujolal01</td>\n      <td>Albert Pujols</td>\n      <td>RF</td>\n      <td>24000000</td>\n    </tr>\n    <tr>\n      <th>22</th>\n      <td>pujolal01</td>\n      <td>Albert Pujols</td>\n      <td>OF</td>\n      <td>24000000</td>\n    </tr>\n    <tr>\n      <th>23</th>\n      <td>pujolal01</td>\n      <td>Albert Pujols</td>\n      <td>LF</td>\n      <td>24000000</td>\n    </tr>\n    <tr>\n      <th>24</th>\n      <td>pujolal01</td>\n      <td>Albert Pujols</td>\n      <td>3B</td>\n      <td>24000000</td>\n    </tr>\n    <tr>\n      <th>25</th>\n      <td>pujolal01</td>\n      <td>Albert Pujols</td>\n      <td>2B</td>\n      <td>24000000</td>\n    </tr>\n    <tr>\n      <th>26</th>\n      <td>pujolal01</td>\n      <td>Albert Pujols</td>\n      <td>1B</td>\n      <td>24000000</td>\n    </tr>\n    <tr>\n      <th>27</th>\n      <td>fieldpr01</td>\n      <td>Prince Fielder</td>\n      <td>1B</td>\n      <td>24000000</td>\n    </tr>\n    <tr>\n      <th>28</th>\n      <td>ramirma02</td>\n      <td>Manny Ramirez</td>\n      <td>DH</td>\n      <td>23854494</td>\n    </tr>\n    <tr>\n      <th>29</th>\n      <td>ramirma02</td>\n      <td>Manny Ramirez</td>\n      <td>LF</td>\n      <td>23854494</td>\n    </tr>\n    <tr>\n      <th>30</th>\n      <td>ramirma02</td>\n      <td>Manny Ramirez</td>\n      <td>OF</td>\n      <td>23854494</td>\n    </tr>\n    <tr>\n      <th>31</th>\n      <td>ramirma02</td>\n      <td>Manny Ramirez</td>\n      <td>RF</td>\n      <td>23854494</td>\n    </tr>\n    <tr>\n      <th>32</th>\n      <td>hamelco01</td>\n      <td>Cole Hamels</td>\n      <td>P</td>\n      <td>23500000</td>\n    </tr>\n    <tr>\n      <th>33</th>\n      <td>giambja01</td>\n      <td>Jason Giambi</td>\n      <td>1B</td>\n      <td>23428571</td>\n    </tr>\n    <tr>\n      <th>34</th>\n      <td>giambja01</td>\n      <td>Jason Giambi</td>\n      <td>3B</td>\n      <td>23428571</td>\n    </tr>\n    <tr>\n      <th>35</th>\n      <td>giambja01</td>\n      <td>Jason Giambi</td>\n      <td>DH</td>\n      <td>23428571</td>\n    </tr>\n    <tr>\n      <th>36</th>\n      <td>giambja01</td>\n      <td>Jason Giambi</td>\n      <td>LF</td>\n      <td>23428571</td>\n    </tr>\n    <tr>\n      <th>37</th>\n      <td>giambja01</td>\n      <td>Jason Giambi</td>\n      <td>OF</td>\n      <td>23428571</td>\n    </tr>\n    <tr>\n      <th>38</th>\n      <td>giambja01</td>\n      <td>Jason Giambi</td>\n      <td>RF</td>\n      <td>23428571</td>\n    </tr>\n    <tr>\n      <th>39</th>\n      <td>santajo01</td>\n      <td>Johan Santana</td>\n      <td>P</td>\n      <td>23145011</td>\n    </tr>\n    <tr>\n      <th>40</th>\n      <td>teixema01</td>\n      <td>Mark Teixeira</td>\n      <td>OF</td>\n      <td>23125000</td>\n    </tr>\n    <tr>\n      <th>41</th>\n      <td>teixema01</td>\n      <td>Mark Teixeira</td>\n      <td>1B</td>\n      <td>23125000</td>\n    </tr>\n    <tr>\n      <th>42</th>\n      <td>teixema01</td>\n      <td>Mark Teixeira</td>\n      <td>3B</td>\n      <td>23125000</td>\n    </tr>\n    <tr>\n      <th>43</th>\n      <td>teixema01</td>\n      <td>Mark Teixeira</td>\n      <td>LF</td>\n      <td>23125000</td>\n    </tr>\n    <tr>\n      <th>44</th>\n      <td>teixema01</td>\n      <td>Mark Teixeira</td>\n      <td>RF</td>\n      <td>23125000</td>\n    </tr>\n    <tr>\n      <th>45</th>\n      <td>mauerjo01</td>\n      <td>Joe Mauer</td>\n      <td>OF</td>\n      <td>23000000</td>\n    </tr>\n    <tr>\n      <th>46</th>\n      <td>mauerjo01</td>\n      <td>Joe Mauer</td>\n      <td>C</td>\n      <td>23000000</td>\n    </tr>\n    <tr>\n      <th>47</th>\n      <td>mauerjo01</td>\n      <td>Joe Mauer</td>\n      <td>1B</td>\n      <td>23000000</td>\n    </tr>\n    <tr>\n      <th>48</th>\n      <td>mauerjo01</td>\n      <td>Joe Mauer</td>\n      <td>RF</td>\n      <td>23000000</td>\n    </tr>\n    <tr>\n      <th>49</th>\n      <td>hamiljo03</td>\n      <td>Josh Hamilton</td>\n      <td>RF</td>\n      <td>22708749</td>\n    </tr>\n  </tbody>\n</table>\n</div>"
     },
     "execution_count": 35,
     "metadata": {},
     "output_type": "execute_result"
    }
   ],
   "source": [
    "merged_df = pd.merge(salary, fielding, on = 'player_id')\n",
    "full_merge = pd.merge(merged_df, player, on = 'player_id')\n",
    "grouped_df = full_merge.groupby(['player_id', 'full_name', 'pos'])['salary'].max().reset_index()\n",
    "result_df = grouped_df.sort_values(by='salary', ascending=False).head(50).reset_index(drop=True)\n",
    "result_df"
   ]
  },
  {
   "cell_type": "markdown",
   "metadata": {},
   "source": [
    "--11.Average salary per fielding position since 2000`s\n"
   ]
  },
  {
   "cell_type": "code",
   "execution_count": 23,
   "metadata": {
    "ExecuteTime": {
     "end_time": "2023-11-17T23:40:22.297433800Z",
     "start_time": "2023-11-17T23:40:22.064888700Z"
    }
   },
   "outputs": [
    {
     "data": {
      "text/plain": "  pos        salary\n0  1B  3.517212e+06\n1  OF  3.421048e+06\n2  CF  3.279103e+06\n3  RF  3.093472e+06\n4   P  2.903943e+06\n5  LF  2.867335e+06\n6  3B  2.815175e+06\n7  SS  2.807452e+06\n8  2B  2.300095e+06\n9   C  2.179792e+06",
      "text/html": "<div>\n<style scoped>\n    .dataframe tbody tr th:only-of-type {\n        vertical-align: middle;\n    }\n\n    .dataframe tbody tr th {\n        vertical-align: top;\n    }\n\n    .dataframe thead th {\n        text-align: right;\n    }\n</style>\n<table border=\"1\" class=\"dataframe\">\n  <thead>\n    <tr style=\"text-align: right;\">\n      <th></th>\n      <th>pos</th>\n      <th>salary</th>\n    </tr>\n  </thead>\n  <tbody>\n    <tr>\n      <th>0</th>\n      <td>1B</td>\n      <td>3.517212e+06</td>\n    </tr>\n    <tr>\n      <th>1</th>\n      <td>OF</td>\n      <td>3.421048e+06</td>\n    </tr>\n    <tr>\n      <th>2</th>\n      <td>CF</td>\n      <td>3.279103e+06</td>\n    </tr>\n    <tr>\n      <th>3</th>\n      <td>RF</td>\n      <td>3.093472e+06</td>\n    </tr>\n    <tr>\n      <th>4</th>\n      <td>P</td>\n      <td>2.903943e+06</td>\n    </tr>\n    <tr>\n      <th>5</th>\n      <td>LF</td>\n      <td>2.867335e+06</td>\n    </tr>\n    <tr>\n      <th>6</th>\n      <td>3B</td>\n      <td>2.815175e+06</td>\n    </tr>\n    <tr>\n      <th>7</th>\n      <td>SS</td>\n      <td>2.807452e+06</td>\n    </tr>\n    <tr>\n      <th>8</th>\n      <td>2B</td>\n      <td>2.300095e+06</td>\n    </tr>\n    <tr>\n      <th>9</th>\n      <td>C</td>\n      <td>2.179792e+06</td>\n    </tr>\n  </tbody>\n</table>\n</div>"
     },
     "execution_count": 23,
     "metadata": {},
     "output_type": "execute_result"
    }
   ],
   "source": [
    "merged_df = pd.merge(salary, fielding, on = 'player_id')\n",
    "filtered_df = merged_df[merged_df['year_y']>=2000].groupby('pos')['salary'].mean().reset_index()\n",
    "result_df = filtered_df.sort_values(by='salary', ascending=False).reset_index(drop=True)\n",
    "result_df"
   ]
  },
  {
   "cell_type": "markdown",
   "metadata": {},
   "source": [
    "--12.Pitchers that earn more than the average salary in the mlb for the year 2015"
   ]
  },
  {
   "cell_type": "code",
   "execution_count": 29,
   "metadata": {
    "ExecuteTime": {
     "end_time": "2023-11-17T23:47:25.886342700Z",
     "start_time": "2023-11-17T23:47:25.015323100Z"
    }
   },
   "outputs": [
    {
     "data": {
      "text/plain": "            full_name    salary\n0     Clayton Kershaw  32571000\n1    Justin Verlander  28000000\n2        Zack Greinke  25000000\n3     Felix Hernandez  24857000\n4         Cole Hamels  23500000\n5         CC Sabathia  23000000\n6     Masahiro Tanaka  22000000\n7           Matt Cain  21000000\n8          Jon Lester  20000000\n9        Mark Buehrle  20000000\n10        David Price  19750000\n11    Adam Wainwright  19500000\n12       Tim Lincecum  18000000\n13       Jered Weaver  18000000\n14       C. J. Wilson  18000000\n15       Max Scherzer  17142000\n16     Anibal Sanchez  16800000\n17  Jordan Zimmermann  16500000\n18         John Danks  15750000\n19       Nick Swisher  15000000\n20    Yovani Gallardo  14000000\n21      Ervin Santana  13500000\n22       Scott Kazmir  13000000\n23  Jonathan Papelbon  13000000\n24      Edwin Jackson  13000000",
      "text/html": "<div>\n<style scoped>\n    .dataframe tbody tr th:only-of-type {\n        vertical-align: middle;\n    }\n\n    .dataframe tbody tr th {\n        vertical-align: top;\n    }\n\n    .dataframe thead th {\n        text-align: right;\n    }\n</style>\n<table border=\"1\" class=\"dataframe\">\n  <thead>\n    <tr style=\"text-align: right;\">\n      <th></th>\n      <th>full_name</th>\n      <th>salary</th>\n    </tr>\n  </thead>\n  <tbody>\n    <tr>\n      <th>0</th>\n      <td>Clayton Kershaw</td>\n      <td>32571000</td>\n    </tr>\n    <tr>\n      <th>1</th>\n      <td>Justin Verlander</td>\n      <td>28000000</td>\n    </tr>\n    <tr>\n      <th>2</th>\n      <td>Zack Greinke</td>\n      <td>25000000</td>\n    </tr>\n    <tr>\n      <th>3</th>\n      <td>Felix Hernandez</td>\n      <td>24857000</td>\n    </tr>\n    <tr>\n      <th>4</th>\n      <td>Cole Hamels</td>\n      <td>23500000</td>\n    </tr>\n    <tr>\n      <th>5</th>\n      <td>CC Sabathia</td>\n      <td>23000000</td>\n    </tr>\n    <tr>\n      <th>6</th>\n      <td>Masahiro Tanaka</td>\n      <td>22000000</td>\n    </tr>\n    <tr>\n      <th>7</th>\n      <td>Matt Cain</td>\n      <td>21000000</td>\n    </tr>\n    <tr>\n      <th>8</th>\n      <td>Jon Lester</td>\n      <td>20000000</td>\n    </tr>\n    <tr>\n      <th>9</th>\n      <td>Mark Buehrle</td>\n      <td>20000000</td>\n    </tr>\n    <tr>\n      <th>10</th>\n      <td>David Price</td>\n      <td>19750000</td>\n    </tr>\n    <tr>\n      <th>11</th>\n      <td>Adam Wainwright</td>\n      <td>19500000</td>\n    </tr>\n    <tr>\n      <th>12</th>\n      <td>Tim Lincecum</td>\n      <td>18000000</td>\n    </tr>\n    <tr>\n      <th>13</th>\n      <td>Jered Weaver</td>\n      <td>18000000</td>\n    </tr>\n    <tr>\n      <th>14</th>\n      <td>C. J. Wilson</td>\n      <td>18000000</td>\n    </tr>\n    <tr>\n      <th>15</th>\n      <td>Max Scherzer</td>\n      <td>17142000</td>\n    </tr>\n    <tr>\n      <th>16</th>\n      <td>Anibal Sanchez</td>\n      <td>16800000</td>\n    </tr>\n    <tr>\n      <th>17</th>\n      <td>Jordan Zimmermann</td>\n      <td>16500000</td>\n    </tr>\n    <tr>\n      <th>18</th>\n      <td>John Danks</td>\n      <td>15750000</td>\n    </tr>\n    <tr>\n      <th>19</th>\n      <td>Nick Swisher</td>\n      <td>15000000</td>\n    </tr>\n    <tr>\n      <th>20</th>\n      <td>Yovani Gallardo</td>\n      <td>14000000</td>\n    </tr>\n    <tr>\n      <th>21</th>\n      <td>Ervin Santana</td>\n      <td>13500000</td>\n    </tr>\n    <tr>\n      <th>22</th>\n      <td>Scott Kazmir</td>\n      <td>13000000</td>\n    </tr>\n    <tr>\n      <th>23</th>\n      <td>Jonathan Papelbon</td>\n      <td>13000000</td>\n    </tr>\n    <tr>\n      <th>24</th>\n      <td>Edwin Jackson</td>\n      <td>13000000</td>\n    </tr>\n  </tbody>\n</table>\n</div>"
     },
     "execution_count": 29,
     "metadata": {},
     "output_type": "execute_result"
    }
   ],
   "source": [
    "merged_df = pd.merge(player, salary, on = 'player_id')\n",
    "full_merge = pd.merge(merged_df, fielding, on = 'player_id')\n",
    "avg_salary = salary[salary['year']==2015].salary.mean()\n",
    "avg_salary\n",
    "filtered_df = full_merge[(full_merge['salary']>avg_salary) & (full_merge['year_x']==2015) & (full_merge['pos']=='P')]\n",
    "grouped_df = filtered_df.groupby('full_name').salary.max().reset_index()\n",
    "result_df = grouped_df.sort_values(by='salary', ascending=False).head(25).reset_index(drop=True)\n",
    "result_df"
   ]
  },
  {
   "cell_type": "markdown",
   "metadata": {},
   "source": [
    "--13.Average strikeouts per game by decade"
   ]
  },
  {
   "cell_type": "code",
   "execution_count": 25,
   "metadata": {
    "ExecuteTime": {
     "end_time": "2023-11-17T23:41:50.744519300Z",
     "start_time": "2023-11-17T23:41:50.705160400Z"
    }
   },
   "outputs": [
    {
     "data": {
      "text/plain": "    decade  avg_so_per_game\n0     2010         7.435889\n1     2000         6.561033\n2     1990         6.150827\n3     1980         5.342615\n4     1970         5.144959\n5     1960         5.712727\n6     1950         4.399437\n7     1940         3.550000\n8     1930         3.316375\n9     1920         2.814437\n10    1910         3.609671\n11    1900         3.197857\n12    1890         2.657971\n13    1880         3.718805\n14    1870         1.027051",
      "text/html": "<div>\n<style scoped>\n    .dataframe tbody tr th:only-of-type {\n        vertical-align: middle;\n    }\n\n    .dataframe tbody tr th {\n        vertical-align: top;\n    }\n\n    .dataframe thead th {\n        text-align: right;\n    }\n</style>\n<table border=\"1\" class=\"dataframe\">\n  <thead>\n    <tr style=\"text-align: right;\">\n      <th></th>\n      <th>decade</th>\n      <th>avg_so_per_game</th>\n    </tr>\n  </thead>\n  <tbody>\n    <tr>\n      <th>0</th>\n      <td>2010</td>\n      <td>7.435889</td>\n    </tr>\n    <tr>\n      <th>1</th>\n      <td>2000</td>\n      <td>6.561033</td>\n    </tr>\n    <tr>\n      <th>2</th>\n      <td>1990</td>\n      <td>6.150827</td>\n    </tr>\n    <tr>\n      <th>3</th>\n      <td>1980</td>\n      <td>5.342615</td>\n    </tr>\n    <tr>\n      <th>4</th>\n      <td>1970</td>\n      <td>5.144959</td>\n    </tr>\n    <tr>\n      <th>5</th>\n      <td>1960</td>\n      <td>5.712727</td>\n    </tr>\n    <tr>\n      <th>6</th>\n      <td>1950</td>\n      <td>4.399437</td>\n    </tr>\n    <tr>\n      <th>7</th>\n      <td>1940</td>\n      <td>3.550000</td>\n    </tr>\n    <tr>\n      <th>8</th>\n      <td>1930</td>\n      <td>3.316375</td>\n    </tr>\n    <tr>\n      <th>9</th>\n      <td>1920</td>\n      <td>2.814437</td>\n    </tr>\n    <tr>\n      <th>10</th>\n      <td>1910</td>\n      <td>3.609671</td>\n    </tr>\n    <tr>\n      <th>11</th>\n      <td>1900</td>\n      <td>3.197857</td>\n    </tr>\n    <tr>\n      <th>12</th>\n      <td>1890</td>\n      <td>2.657971</td>\n    </tr>\n    <tr>\n      <th>13</th>\n      <td>1880</td>\n      <td>3.718805</td>\n    </tr>\n    <tr>\n      <th>14</th>\n      <td>1870</td>\n      <td>1.027051</td>\n    </tr>\n  </tbody>\n</table>\n</div>"
     },
     "execution_count": 25,
     "metadata": {},
     "output_type": "execute_result"
    }
   ],
   "source": [
    "team['decade'] = (team.year // 10) * 10\n",
    "team['avg_so_per_game'] = (team.so / team.g).round(2)\n",
    "grouped_df = team.groupby('decade').avg_so_per_game.mean().reset_index()\n",
    "result_df = grouped_df.sort_values(by='decade', ascending=False).reset_index(drop=True)\n",
    "result_df"
   ]
  },
  {
   "cell_type": "markdown",
   "metadata": {},
   "source": [
    "--14.Average homeruns per game by decade"
   ]
  },
  {
   "cell_type": "code",
   "execution_count": 29,
   "metadata": {
    "ExecuteTime": {
     "end_time": "2023-11-20T18:29:23.609886200Z",
     "start_time": "2023-11-20T18:29:23.546404100Z"
    }
   },
   "outputs": [
    {
     "data": {
      "text/plain": "    decade  avg_hr_per_game\n0     2010         0.955328\n1     2000         1.073370\n2     1990         0.960288\n3     1980         0.804019\n4     1970         0.745614\n5     1960         0.820222\n6     1950         0.843019\n7     1940         0.523094\n8     1930         0.545725\n9     1920         0.401719\n10    1910         0.169602\n11    1900         0.138461\n12    1890         0.253072\n13    1880         0.202358\n14    1870         0.086295",
      "text/html": "<div>\n<style scoped>\n    .dataframe tbody tr th:only-of-type {\n        vertical-align: middle;\n    }\n\n    .dataframe tbody tr th {\n        vertical-align: top;\n    }\n\n    .dataframe thead th {\n        text-align: right;\n    }\n</style>\n<table border=\"1\" class=\"dataframe\">\n  <thead>\n    <tr style=\"text-align: right;\">\n      <th></th>\n      <th>decade</th>\n      <th>avg_hr_per_game</th>\n    </tr>\n  </thead>\n  <tbody>\n    <tr>\n      <th>0</th>\n      <td>2010</td>\n      <td>0.955328</td>\n    </tr>\n    <tr>\n      <th>1</th>\n      <td>2000</td>\n      <td>1.073370</td>\n    </tr>\n    <tr>\n      <th>2</th>\n      <td>1990</td>\n      <td>0.960288</td>\n    </tr>\n    <tr>\n      <th>3</th>\n      <td>1980</td>\n      <td>0.804019</td>\n    </tr>\n    <tr>\n      <th>4</th>\n      <td>1970</td>\n      <td>0.745614</td>\n    </tr>\n    <tr>\n      <th>5</th>\n      <td>1960</td>\n      <td>0.820222</td>\n    </tr>\n    <tr>\n      <th>6</th>\n      <td>1950</td>\n      <td>0.843019</td>\n    </tr>\n    <tr>\n      <th>7</th>\n      <td>1940</td>\n      <td>0.523094</td>\n    </tr>\n    <tr>\n      <th>8</th>\n      <td>1930</td>\n      <td>0.545725</td>\n    </tr>\n    <tr>\n      <th>9</th>\n      <td>1920</td>\n      <td>0.401719</td>\n    </tr>\n    <tr>\n      <th>10</th>\n      <td>1910</td>\n      <td>0.169602</td>\n    </tr>\n    <tr>\n      <th>11</th>\n      <td>1900</td>\n      <td>0.138461</td>\n    </tr>\n    <tr>\n      <th>12</th>\n      <td>1890</td>\n      <td>0.253072</td>\n    </tr>\n    <tr>\n      <th>13</th>\n      <td>1880</td>\n      <td>0.202358</td>\n    </tr>\n    <tr>\n      <th>14</th>\n      <td>1870</td>\n      <td>0.086295</td>\n    </tr>\n  </tbody>\n</table>\n</div>"
     },
     "execution_count": 29,
     "metadata": {},
     "output_type": "execute_result"
    }
   ],
   "source": [
    "team['decade'] = (team.year // 10) * 10\n",
    "team['avg_hr_per_game'] = (team.hr / team.g).round(3)\n",
    "grouped_df = team.groupby('decade').avg_hr_per_game.mean().reset_index()\n",
    "result_df = grouped_df.sort_values(by='decade', ascending=False).reset_index(drop=True)\n",
    "result_df"
   ]
  },
  {
   "cell_type": "markdown",
   "metadata": {},
   "source": [
    "--15.Most wins in a season without winning the World Series."
   ]
  },
  {
   "cell_type": "code",
   "execution_count": 26,
   "metadata": {
    "ExecuteTime": {
     "end_time": "2023-11-17T23:44:43.734964400Z",
     "start_time": "2023-11-17T23:44:43.659607100Z"
    }
   },
   "outputs": [
    {
     "data": {
      "text/plain": "                    name    g    w  winning_percentage  year\n0       Seattle Mariners  162  116               71.60  2001\n1    St. Louis Cardinals  162  105               64.81  2004\n2       New York Yankees  161  103               63.98  2002\n3      Oakland Athletics  162  103               63.58  2002\n4  Philadelphia Phillies  162  102               62.96  2011",
      "text/html": "<div>\n<style scoped>\n    .dataframe tbody tr th:only-of-type {\n        vertical-align: middle;\n    }\n\n    .dataframe tbody tr th {\n        vertical-align: top;\n    }\n\n    .dataframe thead th {\n        text-align: right;\n    }\n</style>\n<table border=\"1\" class=\"dataframe\">\n  <thead>\n    <tr style=\"text-align: right;\">\n      <th></th>\n      <th>name</th>\n      <th>g</th>\n      <th>w</th>\n      <th>winning_percentage</th>\n      <th>year</th>\n    </tr>\n  </thead>\n  <tbody>\n    <tr>\n      <th>0</th>\n      <td>Seattle Mariners</td>\n      <td>162</td>\n      <td>116</td>\n      <td>71.60</td>\n      <td>2001</td>\n    </tr>\n    <tr>\n      <th>1</th>\n      <td>St. Louis Cardinals</td>\n      <td>162</td>\n      <td>105</td>\n      <td>64.81</td>\n      <td>2004</td>\n    </tr>\n    <tr>\n      <th>2</th>\n      <td>New York Yankees</td>\n      <td>161</td>\n      <td>103</td>\n      <td>63.98</td>\n      <td>2002</td>\n    </tr>\n    <tr>\n      <th>3</th>\n      <td>Oakland Athletics</td>\n      <td>162</td>\n      <td>103</td>\n      <td>63.58</td>\n      <td>2002</td>\n    </tr>\n    <tr>\n      <th>4</th>\n      <td>Philadelphia Phillies</td>\n      <td>162</td>\n      <td>102</td>\n      <td>62.96</td>\n      <td>2011</td>\n    </tr>\n  </tbody>\n</table>\n</div>"
     },
     "execution_count": 26,
     "metadata": {},
     "output_type": "execute_result"
    }
   ],
   "source": [
    "team['winning_percentage'] = ((team.w / team.g)*100).round(2)\n",
    "filtered_df = team[(team['ws_win']== 'N') & (team['year']>=2000)]\n",
    "grouped_df = filtered_df.groupby(['name', 'g', 'w', 'winning_percentage', 'year']).first().reset_index()\n",
    "ordered_df = grouped_df.sort_values(by='winning_percentage', ascending=False).head(5).reset_index(drop=True)\n",
    "result_df = ordered_df[['name', 'g', 'w', 'winning_percentage', 'year']]\n",
    "result_df"
   ]
  },
  {
   "cell_type": "markdown",
   "metadata": {},
   "source": [
    "--16. Minimum wins in a season and winning the World Series since 21st century."
   ]
  },
  {
   "cell_type": "code",
   "execution_count": 28,
   "metadata": {
    "ExecuteTime": {
     "end_time": "2023-11-20T18:25:10.715799Z",
     "start_time": "2023-11-20T18:25:10.645433100Z"
    }
   },
   "outputs": [
    {
     "name": "stderr",
     "output_type": "stream",
     "text": [
      "C:\\Users\\andre\\AppData\\Local\\Temp\\ipykernel_2112\\2945289923.py:2: SettingWithCopyWarning: \n",
      "A value is trying to be set on a copy of a slice from a DataFrame.\n",
      "Try using .loc[row_indexer,col_indexer] = value instead\n",
      "\n",
      "See the caveats in the documentation: https://pandas.pydata.org/pandas-docs/stable/user_guide/indexing.html#returning-a-view-versus-a-copy\n",
      "  filtered_df['winning_percentage'] = ((team.w / team.g)*100).round(2)\n"
     ]
    },
    {
     "data": {
      "text/plain": "                   name    g   w  winning_percentage  year\n0   St. Louis Cardinals  161  83               51.55  2006\n1      New York Yankees  161  87               54.04  2000\n2  San Francisco Giants  162  88               54.32  2014\n3   St. Louis Cardinals  162  90               55.56  2011\n4       Florida Marlins  162  91               56.17  2003",
      "text/html": "<div>\n<style scoped>\n    .dataframe tbody tr th:only-of-type {\n        vertical-align: middle;\n    }\n\n    .dataframe tbody tr th {\n        vertical-align: top;\n    }\n\n    .dataframe thead th {\n        text-align: right;\n    }\n</style>\n<table border=\"1\" class=\"dataframe\">\n  <thead>\n    <tr style=\"text-align: right;\">\n      <th></th>\n      <th>name</th>\n      <th>g</th>\n      <th>w</th>\n      <th>winning_percentage</th>\n      <th>year</th>\n    </tr>\n  </thead>\n  <tbody>\n    <tr>\n      <th>0</th>\n      <td>St. Louis Cardinals</td>\n      <td>161</td>\n      <td>83</td>\n      <td>51.55</td>\n      <td>2006</td>\n    </tr>\n    <tr>\n      <th>1</th>\n      <td>New York Yankees</td>\n      <td>161</td>\n      <td>87</td>\n      <td>54.04</td>\n      <td>2000</td>\n    </tr>\n    <tr>\n      <th>2</th>\n      <td>San Francisco Giants</td>\n      <td>162</td>\n      <td>88</td>\n      <td>54.32</td>\n      <td>2014</td>\n    </tr>\n    <tr>\n      <th>3</th>\n      <td>St. Louis Cardinals</td>\n      <td>162</td>\n      <td>90</td>\n      <td>55.56</td>\n      <td>2011</td>\n    </tr>\n    <tr>\n      <th>4</th>\n      <td>Florida Marlins</td>\n      <td>162</td>\n      <td>91</td>\n      <td>56.17</td>\n      <td>2003</td>\n    </tr>\n  </tbody>\n</table>\n</div>"
     },
     "execution_count": 28,
     "metadata": {},
     "output_type": "execute_result"
    }
   ],
   "source": [
    "filtered_df = team[(team['ws_win']== 'Y') & (team['year']>=2000)]\n",
    "filtered_df['winning_percentage'] = ((team.w / team.g)*100).round(2)\n",
    "grouped_df = filtered_df.groupby(['name', 'g', 'w', 'year']).first().reset_index()\n",
    "ordered_df = grouped_df.sort_values(by='winning_percentage', ascending=True).head(5).reset_index(drop=True)\n",
    "result_df = ordered_df[['name', 'g', 'w', 'winning_percentage', 'year']]\n",
    "result_df"
   ]
  },
  {
   "cell_type": "markdown",
   "metadata": {},
   "source": [
    "--17 Average salaries per decade evolution for MLB players"
   ]
  },
  {
   "cell_type": "code",
   "execution_count": 27,
   "metadata": {
    "ExecuteTime": {
     "end_time": "2023-11-20T18:25:00.280886800Z",
     "start_time": "2023-11-20T18:25:00.240876100Z"
    }
   },
   "outputs": [
    {
     "data": {
      "text/plain": "   decade     salary\n0    2010  3671903.0\n1    2000  2653542.0\n2    1990  1058647.0\n3    1980   456930.0",
      "text/html": "<div>\n<style scoped>\n    .dataframe tbody tr th:only-of-type {\n        vertical-align: middle;\n    }\n\n    .dataframe tbody tr th {\n        vertical-align: top;\n    }\n\n    .dataframe thead th {\n        text-align: right;\n    }\n</style>\n<table border=\"1\" class=\"dataframe\">\n  <thead>\n    <tr style=\"text-align: right;\">\n      <th></th>\n      <th>decade</th>\n      <th>salary</th>\n    </tr>\n  </thead>\n  <tbody>\n    <tr>\n      <th>0</th>\n      <td>2010</td>\n      <td>3671903.0</td>\n    </tr>\n    <tr>\n      <th>1</th>\n      <td>2000</td>\n      <td>2653542.0</td>\n    </tr>\n    <tr>\n      <th>2</th>\n      <td>1990</td>\n      <td>1058647.0</td>\n    </tr>\n    <tr>\n      <th>3</th>\n      <td>1980</td>\n      <td>456930.0</td>\n    </tr>\n  </tbody>\n</table>\n</div>"
     },
     "execution_count": 27,
     "metadata": {},
     "output_type": "execute_result"
    }
   ],
   "source": [
    "salary['decade'] = (salary.year // 10) * 10\n",
    "grouped_df = salary.groupby('decade').salary.mean().round().reset_index()\n",
    "result_df = grouped_df.sort_values(by='decade', ascending=False).reset_index(drop=True)\n",
    "result_df"
   ]
  },
  {
   "cell_type": "markdown",
   "metadata": {},
   "source": [
    "--18.Average salaries by team and which of them have the best and worst compensation to their players in comparison to the league `s average salary using percentiles\n"
   ]
  },
  {
   "cell_type": "code",
   "execution_count": 36,
   "metadata": {
    "ExecuteTime": {
     "end_time": "2023-11-20T18:35:25.746214900Z",
     "start_time": "2023-11-20T18:35:25.694201Z"
    }
   },
   "outputs": [
    {
     "data": {
      "text/plain": "   team_id        salary        Compensation\n0      LAN  7.441103e+06  Very High Salaries\n1      NYA  7.336274e+06  Very High Salaries\n2      DET  6.891390e+06  Very High Salaries\n3      SFN  6.100056e+06       High Salaries\n4      BOS  5.659481e+06       High Salaries\n5      WAS  5.365085e+06       High Salaries\n6      SEA  4.888348e+06       High Salaries\n7      TEX  4.791426e+06       High Salaries\n8      SLN  4.586212e+06     Medium Salaries\n9      SDN  4.555435e+06     Medium Salaries\n10     TOR  4.519696e+06     Medium Salaries\n11     LAA  4.444645e+06     Medium Salaries\n12     MIN  4.310200e+06     Medium Salaries\n13     PHI  4.295885e+06     Medium Salaries\n14     CIN  4.187862e+06     Medium Salaries\n15     CHA  4.161989e+06     Medium Salaries\n16     KCA  4.152112e+06     Medium Salaries\n17     CHN  4.138547e+06     Medium Salaries\n18     BAL  4.108744e+06     Medium Salaries\n19     NYN  3.870667e+06     Medium Salaries\n20     COL  3.827544e+06     Medium Salaries\n21     MIL  3.477586e+06     Medium Salaries\n22     PIT  3.065259e+06        Low Salaries\n23     CLE  3.022888e+06        Low Salaries\n24     ATL  2.990885e+06        Low Salaries\n25     MIA  2.835688e+06        Low Salaries\n26     OAK  2.823339e+06        Low Salaries\n27     HOU  2.580579e+06   Very Low Salaries\n28     TBA  2.224870e+06   Very Low Salaries\n29     ARI  2.132207e+06   Very Low Salaries",
      "text/html": "<div>\n<style scoped>\n    .dataframe tbody tr th:only-of-type {\n        vertical-align: middle;\n    }\n\n    .dataframe tbody tr th {\n        vertical-align: top;\n    }\n\n    .dataframe thead th {\n        text-align: right;\n    }\n</style>\n<table border=\"1\" class=\"dataframe\">\n  <thead>\n    <tr style=\"text-align: right;\">\n      <th></th>\n      <th>team_id</th>\n      <th>salary</th>\n      <th>Compensation</th>\n    </tr>\n  </thead>\n  <tbody>\n    <tr>\n      <th>0</th>\n      <td>LAN</td>\n      <td>7.441103e+06</td>\n      <td>Very High Salaries</td>\n    </tr>\n    <tr>\n      <th>1</th>\n      <td>NYA</td>\n      <td>7.336274e+06</td>\n      <td>Very High Salaries</td>\n    </tr>\n    <tr>\n      <th>2</th>\n      <td>DET</td>\n      <td>6.891390e+06</td>\n      <td>Very High Salaries</td>\n    </tr>\n    <tr>\n      <th>3</th>\n      <td>SFN</td>\n      <td>6.100056e+06</td>\n      <td>High Salaries</td>\n    </tr>\n    <tr>\n      <th>4</th>\n      <td>BOS</td>\n      <td>5.659481e+06</td>\n      <td>High Salaries</td>\n    </tr>\n    <tr>\n      <th>5</th>\n      <td>WAS</td>\n      <td>5.365085e+06</td>\n      <td>High Salaries</td>\n    </tr>\n    <tr>\n      <th>6</th>\n      <td>SEA</td>\n      <td>4.888348e+06</td>\n      <td>High Salaries</td>\n    </tr>\n    <tr>\n      <th>7</th>\n      <td>TEX</td>\n      <td>4.791426e+06</td>\n      <td>High Salaries</td>\n    </tr>\n    <tr>\n      <th>8</th>\n      <td>SLN</td>\n      <td>4.586212e+06</td>\n      <td>Medium Salaries</td>\n    </tr>\n    <tr>\n      <th>9</th>\n      <td>SDN</td>\n      <td>4.555435e+06</td>\n      <td>Medium Salaries</td>\n    </tr>\n    <tr>\n      <th>10</th>\n      <td>TOR</td>\n      <td>4.519696e+06</td>\n      <td>Medium Salaries</td>\n    </tr>\n    <tr>\n      <th>11</th>\n      <td>LAA</td>\n      <td>4.444645e+06</td>\n      <td>Medium Salaries</td>\n    </tr>\n    <tr>\n      <th>12</th>\n      <td>MIN</td>\n      <td>4.310200e+06</td>\n      <td>Medium Salaries</td>\n    </tr>\n    <tr>\n      <th>13</th>\n      <td>PHI</td>\n      <td>4.295885e+06</td>\n      <td>Medium Salaries</td>\n    </tr>\n    <tr>\n      <th>14</th>\n      <td>CIN</td>\n      <td>4.187862e+06</td>\n      <td>Medium Salaries</td>\n    </tr>\n    <tr>\n      <th>15</th>\n      <td>CHA</td>\n      <td>4.161989e+06</td>\n      <td>Medium Salaries</td>\n    </tr>\n    <tr>\n      <th>16</th>\n      <td>KCA</td>\n      <td>4.152112e+06</td>\n      <td>Medium Salaries</td>\n    </tr>\n    <tr>\n      <th>17</th>\n      <td>CHN</td>\n      <td>4.138547e+06</td>\n      <td>Medium Salaries</td>\n    </tr>\n    <tr>\n      <th>18</th>\n      <td>BAL</td>\n      <td>4.108744e+06</td>\n      <td>Medium Salaries</td>\n    </tr>\n    <tr>\n      <th>19</th>\n      <td>NYN</td>\n      <td>3.870667e+06</td>\n      <td>Medium Salaries</td>\n    </tr>\n    <tr>\n      <th>20</th>\n      <td>COL</td>\n      <td>3.827544e+06</td>\n      <td>Medium Salaries</td>\n    </tr>\n    <tr>\n      <th>21</th>\n      <td>MIL</td>\n      <td>3.477586e+06</td>\n      <td>Medium Salaries</td>\n    </tr>\n    <tr>\n      <th>22</th>\n      <td>PIT</td>\n      <td>3.065259e+06</td>\n      <td>Low Salaries</td>\n    </tr>\n    <tr>\n      <th>23</th>\n      <td>CLE</td>\n      <td>3.022888e+06</td>\n      <td>Low Salaries</td>\n    </tr>\n    <tr>\n      <th>24</th>\n      <td>ATL</td>\n      <td>2.990885e+06</td>\n      <td>Low Salaries</td>\n    </tr>\n    <tr>\n      <th>25</th>\n      <td>MIA</td>\n      <td>2.835688e+06</td>\n      <td>Low Salaries</td>\n    </tr>\n    <tr>\n      <th>26</th>\n      <td>OAK</td>\n      <td>2.823339e+06</td>\n      <td>Low Salaries</td>\n    </tr>\n    <tr>\n      <th>27</th>\n      <td>HOU</td>\n      <td>2.580579e+06</td>\n      <td>Very Low Salaries</td>\n    </tr>\n    <tr>\n      <th>28</th>\n      <td>TBA</td>\n      <td>2.224870e+06</td>\n      <td>Very Low Salaries</td>\n    </tr>\n    <tr>\n      <th>29</th>\n      <td>ARI</td>\n      <td>2.132207e+06</td>\n      <td>Very Low Salaries</td>\n    </tr>\n  </tbody>\n</table>\n</div>"
     },
     "execution_count": 36,
     "metadata": {},
     "output_type": "execute_result"
    }
   ],
   "source": [
    "salary_2015 = salary[salary['year'] == 2015]\n",
    "avg_salaries_per_team = salary_2015.groupby('team_id')['salary'].mean().reset_index()\n",
    "\n",
    "p10 = avg_salaries_per_team['salary'].quantile(0.1)\n",
    "p25 = avg_salaries_per_team['salary'].quantile(0.25)\n",
    "p75 = avg_salaries_per_team['salary'].quantile(0.75)\n",
    "p90 = avg_salaries_per_team['salary'].quantile(0.9)\n",
    "\n",
    "def categorize_salary(avg_salary):\n",
    "    if avg_salary > p90:\n",
    "        return 'Very High Salaries'\n",
    "    elif avg_salary < p10:\n",
    "        return 'Very Low Salaries'\n",
    "    elif avg_salary > p75:\n",
    "        return 'High Salaries'\n",
    "    elif avg_salary < p25:\n",
    "        return 'Low Salaries'\n",
    "    else:\n",
    "        return 'Medium Salaries'\n",
    "\n",
    "avg_salaries_per_team['Compensation'] = avg_salaries_per_team['salary'].apply(categorize_salary)\n",
    "result_df = avg_salaries_per_team[['team_id', 'salary', 'Compensation']].sort_values(by='salary', ascending=False).reset_index(drop=True)\n",
    "result_df"
   ]
  },
  {
   "cell_type": "markdown",
   "metadata": {},
   "source": [
    "--19.Ranking and Identifying Cost-Effective Teams in the 2015 Season: Based on Salary and Wins Criteria (Below average spending and above average wins)\n"
   ]
  },
  {
   "cell_type": "code",
   "execution_count": 37,
   "metadata": {
    "ExecuteTime": {
     "end_time": "2023-11-20T18:35:44.647927100Z",
     "start_time": "2023-11-20T18:35:33.491196Z"
    }
   },
   "outputs": [
    {
     "data": {
      "text/plain": "                             name  salary_rank  win_rank   Spending\n0                New York Yankees          1.0       9.0           \n1                  Boston Red Sox          2.0      19.0           \n2             Los Angeles Dodgers          3.0       6.0           \n3                   New York Mets          4.0       7.0           \n4           Philadelphia Phillies          5.0      30.0           \n5            San Francisco Giants          6.0      12.0           \n6                    Chicago Cubs          7.0       3.0           \n7                  Atlanta Braves          8.0      28.0           \n8                  Detroit Tigers          9.0      22.0           \n9             St. Louis Cardinals         10.0       1.0           \n10                  Texas Rangers         11.0       8.0           \n11              Chicago White Sox         12.0      20.0           \n12               Seattle Mariners         13.0      20.0           \n13              Baltimore Orioles         14.0      15.0           \n14              Toronto Blue Jays         15.0       5.0  Effective\n15                Cincinnati Reds         16.0      29.0           \n16              Cleveland Indians         17.0      15.0  Effective\n17                 Houston Astros         18.0      10.0  Effective\n18               Colorado Rockies         19.0      25.0           \n19                Minnesota Twins         20.0      13.0  Effective\n20  Los Angeles Angels of Anaheim         21.0      11.0  Effective\n21               San Diego Padres         22.0      22.0           \n22             Kansas City Royals         23.0       4.0  Effective\n23           Arizona Diamondbacks         24.0      18.0           \n24              Oakland Athletics         25.0      25.0           \n25              Milwaukee Brewers         26.0      25.0           \n26             Pittsburgh Pirates         27.0       2.0  Effective\n27           Washington Nationals         28.0      13.0  Effective\n28                 Tampa Bay Rays         29.0      17.0           \n29                  Miami Marlins         30.0      24.0           ",
      "text/html": "<div>\n<style scoped>\n    .dataframe tbody tr th:only-of-type {\n        vertical-align: middle;\n    }\n\n    .dataframe tbody tr th {\n        vertical-align: top;\n    }\n\n    .dataframe thead th {\n        text-align: right;\n    }\n</style>\n<table border=\"1\" class=\"dataframe\">\n  <thead>\n    <tr style=\"text-align: right;\">\n      <th></th>\n      <th>name</th>\n      <th>salary_rank</th>\n      <th>win_rank</th>\n      <th>Spending</th>\n    </tr>\n  </thead>\n  <tbody>\n    <tr>\n      <th>0</th>\n      <td>New York Yankees</td>\n      <td>1.0</td>\n      <td>9.0</td>\n      <td></td>\n    </tr>\n    <tr>\n      <th>1</th>\n      <td>Boston Red Sox</td>\n      <td>2.0</td>\n      <td>19.0</td>\n      <td></td>\n    </tr>\n    <tr>\n      <th>2</th>\n      <td>Los Angeles Dodgers</td>\n      <td>3.0</td>\n      <td>6.0</td>\n      <td></td>\n    </tr>\n    <tr>\n      <th>3</th>\n      <td>New York Mets</td>\n      <td>4.0</td>\n      <td>7.0</td>\n      <td></td>\n    </tr>\n    <tr>\n      <th>4</th>\n      <td>Philadelphia Phillies</td>\n      <td>5.0</td>\n      <td>30.0</td>\n      <td></td>\n    </tr>\n    <tr>\n      <th>5</th>\n      <td>San Francisco Giants</td>\n      <td>6.0</td>\n      <td>12.0</td>\n      <td></td>\n    </tr>\n    <tr>\n      <th>6</th>\n      <td>Chicago Cubs</td>\n      <td>7.0</td>\n      <td>3.0</td>\n      <td></td>\n    </tr>\n    <tr>\n      <th>7</th>\n      <td>Atlanta Braves</td>\n      <td>8.0</td>\n      <td>28.0</td>\n      <td></td>\n    </tr>\n    <tr>\n      <th>8</th>\n      <td>Detroit Tigers</td>\n      <td>9.0</td>\n      <td>22.0</td>\n      <td></td>\n    </tr>\n    <tr>\n      <th>9</th>\n      <td>St. Louis Cardinals</td>\n      <td>10.0</td>\n      <td>1.0</td>\n      <td></td>\n    </tr>\n    <tr>\n      <th>10</th>\n      <td>Texas Rangers</td>\n      <td>11.0</td>\n      <td>8.0</td>\n      <td></td>\n    </tr>\n    <tr>\n      <th>11</th>\n      <td>Chicago White Sox</td>\n      <td>12.0</td>\n      <td>20.0</td>\n      <td></td>\n    </tr>\n    <tr>\n      <th>12</th>\n      <td>Seattle Mariners</td>\n      <td>13.0</td>\n      <td>20.0</td>\n      <td></td>\n    </tr>\n    <tr>\n      <th>13</th>\n      <td>Baltimore Orioles</td>\n      <td>14.0</td>\n      <td>15.0</td>\n      <td></td>\n    </tr>\n    <tr>\n      <th>14</th>\n      <td>Toronto Blue Jays</td>\n      <td>15.0</td>\n      <td>5.0</td>\n      <td>Effective</td>\n    </tr>\n    <tr>\n      <th>15</th>\n      <td>Cincinnati Reds</td>\n      <td>16.0</td>\n      <td>29.0</td>\n      <td></td>\n    </tr>\n    <tr>\n      <th>16</th>\n      <td>Cleveland Indians</td>\n      <td>17.0</td>\n      <td>15.0</td>\n      <td>Effective</td>\n    </tr>\n    <tr>\n      <th>17</th>\n      <td>Houston Astros</td>\n      <td>18.0</td>\n      <td>10.0</td>\n      <td>Effective</td>\n    </tr>\n    <tr>\n      <th>18</th>\n      <td>Colorado Rockies</td>\n      <td>19.0</td>\n      <td>25.0</td>\n      <td></td>\n    </tr>\n    <tr>\n      <th>19</th>\n      <td>Minnesota Twins</td>\n      <td>20.0</td>\n      <td>13.0</td>\n      <td>Effective</td>\n    </tr>\n    <tr>\n      <th>20</th>\n      <td>Los Angeles Angels of Anaheim</td>\n      <td>21.0</td>\n      <td>11.0</td>\n      <td>Effective</td>\n    </tr>\n    <tr>\n      <th>21</th>\n      <td>San Diego Padres</td>\n      <td>22.0</td>\n      <td>22.0</td>\n      <td></td>\n    </tr>\n    <tr>\n      <th>22</th>\n      <td>Kansas City Royals</td>\n      <td>23.0</td>\n      <td>4.0</td>\n      <td>Effective</td>\n    </tr>\n    <tr>\n      <th>23</th>\n      <td>Arizona Diamondbacks</td>\n      <td>24.0</td>\n      <td>18.0</td>\n      <td></td>\n    </tr>\n    <tr>\n      <th>24</th>\n      <td>Oakland Athletics</td>\n      <td>25.0</td>\n      <td>25.0</td>\n      <td></td>\n    </tr>\n    <tr>\n      <th>25</th>\n      <td>Milwaukee Brewers</td>\n      <td>26.0</td>\n      <td>25.0</td>\n      <td></td>\n    </tr>\n    <tr>\n      <th>26</th>\n      <td>Pittsburgh Pirates</td>\n      <td>27.0</td>\n      <td>2.0</td>\n      <td>Effective</td>\n    </tr>\n    <tr>\n      <th>27</th>\n      <td>Washington Nationals</td>\n      <td>28.0</td>\n      <td>13.0</td>\n      <td>Effective</td>\n    </tr>\n    <tr>\n      <th>28</th>\n      <td>Tampa Bay Rays</td>\n      <td>29.0</td>\n      <td>17.0</td>\n      <td></td>\n    </tr>\n    <tr>\n      <th>29</th>\n      <td>Miami Marlins</td>\n      <td>30.0</td>\n      <td>24.0</td>\n      <td></td>\n    </tr>\n  </tbody>\n</table>\n</div>"
     },
     "execution_count": 37,
     "metadata": {},
     "output_type": "execute_result"
    }
   ],
   "source": [
    "merged_data = pd.merge(salary, team, on='team_id')\n",
    "merged_data_2015 = merged_data[merged_data['year_y'] == 2015]\n",
    "grouped_data = merged_data_2015.groupby(['name', 'w']).salary.sum().reset_index()\n",
    "grouped_data['salary_rank'] = grouped_data['salary'].rank(ascending=False, method='min')\n",
    "grouped_data['win_rank'] = grouped_data['w'].rank(ascending=False, method='min')\n",
    "grouped_data['Spending'] = grouped_data.apply(lambda row: 'Effective' if (row['salary_rank'] >= 15 and row['win_rank'] <= 15) else '', axis=1)\n",
    "result_df = grouped_data[['name', 'salary_rank', 'win_rank', 'Spending']].sort_values(by='salary_rank').reset_index(drop=True)\n",
    "result_df"
   ]
  },
  {
   "cell_type": "code",
   "execution_count": null,
   "outputs": [],
   "source": [],
   "metadata": {
    "collapsed": false
   }
  }
 ],
 "metadata": {
  "kernelspec": {
   "display_name": "Python 3",
   "language": "python",
   "name": "python3"
  },
  "language_info": {
   "codemirror_mode": {
    "name": "ipython",
    "version": 3
   },
   "file_extension": ".py",
   "mimetype": "text/x-python",
   "name": "python",
   "nbconvert_exporter": "python",
   "pygments_lexer": "ipython3",
   "version": "3.11.4"
  }
 },
 "nbformat": 4,
 "nbformat_minor": 2
}
