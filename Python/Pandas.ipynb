{
 "cells": [
  {
   "cell_type": "markdown",
   "metadata": {},
   "source": [
    "Python Pandas Analysis  "
   ]
  },
  {
   "cell_type": "markdown",
   "metadata": {},
   "source": [
    "Libraries\n"
   ]
  },
  {
   "cell_type": "code",
   "execution_count": 3,
   "metadata": {
    "ExecuteTime": {
     "end_time": "2023-11-08T11:17:40.578433400Z",
     "start_time": "2023-11-08T11:17:40.428748Z"
    }
   },
   "outputs": [
    {
     "ename": "ModuleNotFoundError",
     "evalue": "No module named 'matplotlib'",
     "output_type": "error",
     "traceback": [
      "\u001B[1;31m---------------------------------------------------------------------------\u001B[0m",
      "\u001B[1;31mModuleNotFoundError\u001B[0m                       Traceback (most recent call last)",
      "Cell \u001B[1;32mIn[3], line 3\u001B[0m\n\u001B[0;32m      1\u001B[0m \u001B[38;5;28;01mimport\u001B[39;00m \u001B[38;5;21;01mpandas\u001B[39;00m \u001B[38;5;28;01mas\u001B[39;00m \u001B[38;5;21;01mpd\u001B[39;00m \n\u001B[0;32m      2\u001B[0m \u001B[38;5;28;01mimport\u001B[39;00m \u001B[38;5;21;01mnumpy\u001B[39;00m \u001B[38;5;28;01mas\u001B[39;00m \u001B[38;5;21;01mnp\u001B[39;00m\n\u001B[1;32m----> 3\u001B[0m \u001B[38;5;28;01mfrom\u001B[39;00m \u001B[38;5;21;01mmatplotlib\u001B[39;00m \u001B[38;5;28;01mimport\u001B[39;00m pyplo \n",
      "\u001B[1;31mModuleNotFoundError\u001B[0m: No module named 'matplotlib'"
     ]
    }
   ],
   "source": [
    "import pandas as pd \n",
    "import numpy as np\n",
    "from matplotlib import pyplo "
   ]
  },
  {
   "cell_type": "markdown",
   "metadata": {},
   "source": [
    "Loading the data"
   ]
  },
  {
   "cell_type": "code",
   "execution_count": 5,
   "metadata": {
    "ExecuteTime": {
     "end_time": "2023-11-08T11:17:53.017968500Z",
     "start_time": "2023-11-08T11:17:51.657947100Z"
    }
   },
   "outputs": [],
   "source": [
    "batting = pd.read_csv(\"../DATA/batting.csv\")\n",
    "batting_2 = pd.read_csv(\"../DATA/batting.csv\")\n",
    "fielding = pd.read_csv(\"../DATA/fielding.csv\")\n",
    "hall_of_fame = pd.read_csv(\"../DATA/hall_of_fame.csv\")\n",
    "player_award = pd.read_csv(\"../DATA/player_award.csv\")\n",
    "player = pd.read_csv(\"../DATA/player.csv\")\n",
    "salary = pd.read_csv(\"../DATA/salary.csv\")\n",
    "team = pd.read_csv(\"../DATA/team.csv\")"
   ]
  },
  {
   "cell_type": "code",
   "execution_count": 6,
   "metadata": {
    "ExecuteTime": {
     "end_time": "2023-11-08T11:17:57.297178400Z",
     "start_time": "2023-11-08T11:17:57.217190700Z"
    }
   },
   "outputs": [
    {
     "name": "stdout",
     "output_type": "stream",
     "text": [
      "   player_id  year  stint team_id league_id   g     ab     r     h  double  \\\n",
      "0  abercda01  1871      1     TRO       NaN   1    4.0   0.0   0.0     0.0   \n",
      "1   addybo01  1871      1     RC1       NaN  25  118.0  30.0  32.0     6.0   \n",
      "2  allisar01  1871      1     CL1       NaN  29  137.0  28.0  40.0     4.0   \n",
      "3  allisdo01  1871      1     WS3       NaN  27  133.0  28.0  44.0    10.0   \n",
      "4  ansonca01  1871      1     RC1       NaN  25  120.0  29.0  39.0    11.0   \n",
      "\n",
      "   ...   rbi   sb   cs   bb   so  ibb  hbp  sh  sf  g_idp  \n",
      "0  ...   0.0  0.0  0.0  0.0  0.0  NaN  NaN NaN NaN    NaN  \n",
      "1  ...  13.0  8.0  1.0  4.0  0.0  NaN  NaN NaN NaN    NaN  \n",
      "2  ...  19.0  3.0  1.0  2.0  5.0  NaN  NaN NaN NaN    NaN  \n",
      "3  ...  27.0  1.0  1.0  0.0  2.0  NaN  NaN NaN NaN    NaN  \n",
      "4  ...  16.0  6.0  2.0  2.0  1.0  NaN  NaN NaN NaN    NaN  \n",
      "\n",
      "[5 rows x 22 columns]\n",
      "   player_id  year  stint team_id league_id   g     ab     r     h  double  \\\n",
      "0  abercda01  1871      1     TRO       NaN   1    4.0   0.0   0.0     0.0   \n",
      "1   addybo01  1871      1     RC1       NaN  25  118.0  30.0  32.0     6.0   \n",
      "2  allisar01  1871      1     CL1       NaN  29  137.0  28.0  40.0     4.0   \n",
      "3  allisdo01  1871      1     WS3       NaN  27  133.0  28.0  44.0    10.0   \n",
      "4  ansonca01  1871      1     RC1       NaN  25  120.0  29.0  39.0    11.0   \n",
      "\n",
      "   ...   rbi   sb   cs   bb   so  ibb  hbp  sh  sf  g_idp  \n",
      "0  ...   0.0  0.0  0.0  0.0  0.0  NaN  NaN NaN NaN    NaN  \n",
      "1  ...  13.0  8.0  1.0  4.0  0.0  NaN  NaN NaN NaN    NaN  \n",
      "2  ...  19.0  3.0  1.0  2.0  5.0  NaN  NaN NaN NaN    NaN  \n",
      "3  ...  27.0  1.0  1.0  0.0  2.0  NaN  NaN NaN NaN    NaN  \n",
      "4  ...  16.0  6.0  2.0  2.0  1.0  NaN  NaN NaN NaN    NaN  \n",
      "\n",
      "[5 rows x 22 columns]\n",
      "   player_id  year  stint team_id league_id pos   g  gs  inn_outs    po     a  \\\n",
      "0  abercda01  1871      1     TRO       NaN  SS   1 NaN       NaN   1.0   3.0   \n",
      "1   addybo01  1871      1     RC1       NaN  2B  22 NaN       NaN  67.0  72.0   \n",
      "2   addybo01  1871      1     RC1       NaN  SS   3 NaN       NaN   8.0  14.0   \n",
      "3  allisar01  1871      1     CL1       NaN  2B   2 NaN       NaN   1.0   4.0   \n",
      "4  allisar01  1871      1     CL1       NaN  OF  29 NaN       NaN  51.0   3.0   \n",
      "\n",
      "      e   dp  pb  wp  sb  cs  zr  \n",
      "0   2.0  0.0 NaN NaN NaN NaN NaN  \n",
      "1  42.0  5.0 NaN NaN NaN NaN NaN  \n",
      "2   7.0  0.0 NaN NaN NaN NaN NaN  \n",
      "3   0.0  0.0 NaN NaN NaN NaN NaN  \n",
      "4   7.0  1.0 NaN NaN NaN NaN NaN  \n",
      "   player_id  yearid votedby  ballots  needed  votes inducted category  \\\n",
      "0   cobbty01    1936   BBWAA    226.0   170.0  222.0        Y   Player   \n",
      "1   ruthba01    1936   BBWAA    226.0   170.0  215.0        Y   Player   \n",
      "2  wagneho01    1936   BBWAA    226.0   170.0  215.0        Y   Player   \n",
      "3  mathech01    1936   BBWAA    226.0   170.0  205.0        Y   Player   \n",
      "4  johnswa01    1936   BBWAA    226.0   170.0  189.0        Y   Player   \n",
      "\n",
      "  needed_note  \n",
      "0         NaN  \n",
      "1         NaN  \n",
      "2         NaN  \n",
      "3         NaN  \n",
      "4         NaN  \n",
      "   player_id               award_id  year league_id  tie notes\n",
      "0   bondto01  Pitching Triple Crown  1877        NL  NaN   NaN\n",
      "1  hinespa01           Triple Crown  1878        NL  NaN   NaN\n",
      "2  heckegu01  Pitching Triple Crown  1884        AA  NaN   NaN\n",
      "3  radboch01  Pitching Triple Crown  1884        NL  NaN   NaN\n",
      "4  oneilti01           Triple Crown  1887        AA  NaN   NaN\n",
      "   player_id  birth_year  birth_month  birth_day birth_country birth_state  \\\n",
      "0  aardsda01      1981.0         12.0       27.0           USA          CO   \n",
      "1  aaronha01      1934.0          2.0        5.0           USA          AL   \n",
      "2  aaronto01      1939.0          8.0        5.0           USA          AL   \n",
      "3   aasedo01      1954.0          9.0        8.0           USA          CA   \n",
      "4   abadan01      1972.0          8.0       25.0           USA          FL   \n",
      "\n",
      "   birth_city  death_year  death_month  death_day  ... name_last  \\\n",
      "0      Denver         NaN          NaN        NaN  ...   Aardsma   \n",
      "1      Mobile         NaN          NaN        NaN  ...     Aaron   \n",
      "2      Mobile      1984.0          8.0       16.0  ...     Aaron   \n",
      "3      Orange         NaN          NaN        NaN  ...      Aase   \n",
      "4  Palm Beach         NaN          NaN        NaN  ...      Abad   \n",
      "\n",
      "       name_given weight height bats throws       debut  final_game  retro_id  \\\n",
      "0     David Allan  220.0   75.0    R      R  2004-04-06  2015-08-23  aardd001   \n",
      "1     Henry Louis  180.0   72.0    R      R  1954-04-13  1976-10-03  aaroh101   \n",
      "2      Tommie Lee  190.0   75.0    R      R  1962-04-10  1971-09-26  aarot101   \n",
      "3  Donald William  190.0   75.0    R      R  1977-07-26  1990-10-03  aased001   \n",
      "4   Fausto Andres  184.0   73.0    L      L  2001-09-10  2006-04-13  abada001   \n",
      "\n",
      "    bbref_id  \n",
      "0  aardsda01  \n",
      "1  aaronha01  \n",
      "2  aaronto01  \n",
      "3   aasedo01  \n",
      "4   abadan01  \n",
      "\n",
      "[5 rows x 24 columns]\n",
      "   year team_id league_id  player_id  salary\n",
      "0  1985     ATL        NL  barkele01  870000\n",
      "1  1985     ATL        NL  bedrost01  550000\n",
      "2  1985     ATL        NL  benedbr01  545000\n",
      "3  1985     ATL        NL   campri01  633333\n",
      "4  1985     ATL        NL  ceronri01  625000\n",
      "   year league_id team_id franchise_id div_id  rank   g  ghome   w   l  ...  \\\n",
      "0  1871       NaN     BS1          BNA    NaN     3  31    NaN  20  10  ...   \n",
      "1  1871       NaN     CH1          CNA    NaN     2  28    NaN  19   9  ...   \n",
      "2  1871       NaN     CL1          CFC    NaN     8  29    NaN  10  19  ...   \n",
      "3  1871       NaN     FW1          KEK    NaN     7  19    NaN   7  12  ...   \n",
      "4  1871       NaN     NY2          NNA    NaN     5  33    NaN  16  17  ...   \n",
      "\n",
      "   dp    fp                     name                          park  \\\n",
      "0 NaN  0.83     Boston Red Stockings           South End Grounds I   \n",
      "1 NaN  0.82  Chicago White Stockings       Union Base-Ball Grounds   \n",
      "2 NaN  0.81   Cleveland Forest Citys  National Association Grounds   \n",
      "3 NaN  0.80     Fort Wayne Kekiongas                Hamilton Field   \n",
      "4 NaN  0.83         New York Mutuals      Union Grounds (Brooklyn)   \n",
      "\n",
      "   attendance  bpf  ppf  team_id_br  team_id_lahman45  team_id_retro  \n",
      "0         NaN  103   98         BOS               BS1            BS1  \n",
      "1         NaN  104  102         CHI               CH1            CH1  \n",
      "2         NaN   96  100         CLE               CL1            CL1  \n",
      "3         NaN  101  107         KEK               FW1            FW1  \n",
      "4         NaN   90   88         NYU               NY2            NY2  \n",
      "\n",
      "[5 rows x 48 columns]\n"
     ]
    }
   ],
   "source": [
    "table_files = [batting, batting_2, fielding, hall_of_fame, player_award, player, salary, team]\n",
    "for file in table_files:\n",
    "    print(file.head(5))"
   ]
  },
  {
   "cell_type": "markdown",
   "metadata": {},
   "source": [
    "--1. The best hitters in history by home runs"
   ]
  },
  {
   "cell_type": "code",
   "execution_count": 5,
   "metadata": {
    "ExecuteTime": {
     "end_time": "2023-11-07T18:36:58.393152300Z",
     "start_time": "2023-11-07T18:36:58.332895300Z"
    }
   },
   "outputs": [
    {
     "data": {
      "text/plain": "       player_id     hr\n1476   bondsba01  762.0\n1      aaronha01  755.0\n14330   ruthba01  714.0\n14003  rodrial01  687.0\n10464   mayswi01  660.0\n6377   griffke02  630.0\n16396  thomeji01  612.0\n15526   sosasa01  609.0\n13962  robinfr02  586.0\n10745  mcgwima01  583.0\n8673   killeha01  573.0\n12510  palmera01  569.0\n7942   jacksre01  563.0\n13289  pujolal01  560.0\n13434  ramirma02  555.0\n14693  schmimi01  548.0\n10130  mantlmi01  536.0\n5377    foxxji01  534.0\n10590  mccovwi01  521.0\n17709  willite01  521.0\n16373  thomafr04  521.0\n10354  matheed01  512.0\n679    bankser01  512.0\n12419    ottme01  511.0\n15007  sheffga01  509.0",
      "text/html": "<div>\n<style scoped>\n    .dataframe tbody tr th:only-of-type {\n        vertical-align: middle;\n    }\n\n    .dataframe tbody tr th {\n        vertical-align: top;\n    }\n\n    .dataframe thead th {\n        text-align: right;\n    }\n</style>\n<table border=\"1\" class=\"dataframe\">\n  <thead>\n    <tr style=\"text-align: right;\">\n      <th></th>\n      <th>player_id</th>\n      <th>hr</th>\n    </tr>\n  </thead>\n  <tbody>\n    <tr>\n      <th>1476</th>\n      <td>bondsba01</td>\n      <td>762.0</td>\n    </tr>\n    <tr>\n      <th>1</th>\n      <td>aaronha01</td>\n      <td>755.0</td>\n    </tr>\n    <tr>\n      <th>14330</th>\n      <td>ruthba01</td>\n      <td>714.0</td>\n    </tr>\n    <tr>\n      <th>14003</th>\n      <td>rodrial01</td>\n      <td>687.0</td>\n    </tr>\n    <tr>\n      <th>10464</th>\n      <td>mayswi01</td>\n      <td>660.0</td>\n    </tr>\n    <tr>\n      <th>6377</th>\n      <td>griffke02</td>\n      <td>630.0</td>\n    </tr>\n    <tr>\n      <th>16396</th>\n      <td>thomeji01</td>\n      <td>612.0</td>\n    </tr>\n    <tr>\n      <th>15526</th>\n      <td>sosasa01</td>\n      <td>609.0</td>\n    </tr>\n    <tr>\n      <th>13962</th>\n      <td>robinfr02</td>\n      <td>586.0</td>\n    </tr>\n    <tr>\n      <th>10745</th>\n      <td>mcgwima01</td>\n      <td>583.0</td>\n    </tr>\n    <tr>\n      <th>8673</th>\n      <td>killeha01</td>\n      <td>573.0</td>\n    </tr>\n    <tr>\n      <th>12510</th>\n      <td>palmera01</td>\n      <td>569.0</td>\n    </tr>\n    <tr>\n      <th>7942</th>\n      <td>jacksre01</td>\n      <td>563.0</td>\n    </tr>\n    <tr>\n      <th>13289</th>\n      <td>pujolal01</td>\n      <td>560.0</td>\n    </tr>\n    <tr>\n      <th>13434</th>\n      <td>ramirma02</td>\n      <td>555.0</td>\n    </tr>\n    <tr>\n      <th>14693</th>\n      <td>schmimi01</td>\n      <td>548.0</td>\n    </tr>\n    <tr>\n      <th>10130</th>\n      <td>mantlmi01</td>\n      <td>536.0</td>\n    </tr>\n    <tr>\n      <th>5377</th>\n      <td>foxxji01</td>\n      <td>534.0</td>\n    </tr>\n    <tr>\n      <th>10590</th>\n      <td>mccovwi01</td>\n      <td>521.0</td>\n    </tr>\n    <tr>\n      <th>17709</th>\n      <td>willite01</td>\n      <td>521.0</td>\n    </tr>\n    <tr>\n      <th>16373</th>\n      <td>thomafr04</td>\n      <td>521.0</td>\n    </tr>\n    <tr>\n      <th>10354</th>\n      <td>matheed01</td>\n      <td>512.0</td>\n    </tr>\n    <tr>\n      <th>679</th>\n      <td>bankser01</td>\n      <td>512.0</td>\n    </tr>\n    <tr>\n      <th>12419</th>\n      <td>ottme01</td>\n      <td>511.0</td>\n    </tr>\n    <tr>\n      <th>15007</th>\n      <td>sheffga01</td>\n      <td>509.0</td>\n    </tr>\n  </tbody>\n</table>\n</div>"
     },
     "execution_count": 5,
     "metadata": {},
     "output_type": "execute_result"
    }
   ],
   "source": []
  },
  {
   "cell_type": "markdown",
   "metadata": {},
   "source": [
    "--2.  Most homeruns by Boston Red Sox players ever"
   ]
  },
  {
   "cell_type": "code",
   "execution_count": 7,
   "metadata": {
    "ExecuteTime": {
     "end_time": "2023-11-08T11:18:27.691482400Z",
     "start_time": "2023-11-08T11:18:27.396635200Z"
    }
   },
   "outputs": [
    {
     "data": {
      "text/plain": "      player_id         full_name     hr\n1689  willite01      Ted Williams  521.0\n1732  yastrca01  Carl Yastrzemski  452.0\n1152  ortizda01       David Ortiz  445.0\n1292   riceji01          Jim Rice  382.0\n441   evansdw01      Dwight Evans  379.0\n1263  ramirma02     Manny Ramirez  274.0\n1609  vaughmo01         Mo Vaughn  230.0\n394   doerrbo01       Bobby Doerr  223.0\n487    foxxji01       Jimmie Foxx  222.0\n1209  petrori01   Rico Petrocelli  210.0",
      "text/html": "<div>\n<style scoped>\n    .dataframe tbody tr th:only-of-type {\n        vertical-align: middle;\n    }\n\n    .dataframe tbody tr th {\n        vertical-align: top;\n    }\n\n    .dataframe thead th {\n        text-align: right;\n    }\n</style>\n<table border=\"1\" class=\"dataframe\">\n  <thead>\n    <tr style=\"text-align: right;\">\n      <th></th>\n      <th>player_id</th>\n      <th>full_name</th>\n      <th>hr</th>\n    </tr>\n  </thead>\n  <tbody>\n    <tr>\n      <th>1689</th>\n      <td>willite01</td>\n      <td>Ted Williams</td>\n      <td>521.0</td>\n    </tr>\n    <tr>\n      <th>1732</th>\n      <td>yastrca01</td>\n      <td>Carl Yastrzemski</td>\n      <td>452.0</td>\n    </tr>\n    <tr>\n      <th>1152</th>\n      <td>ortizda01</td>\n      <td>David Ortiz</td>\n      <td>445.0</td>\n    </tr>\n    <tr>\n      <th>1292</th>\n      <td>riceji01</td>\n      <td>Jim Rice</td>\n      <td>382.0</td>\n    </tr>\n    <tr>\n      <th>441</th>\n      <td>evansdw01</td>\n      <td>Dwight Evans</td>\n      <td>379.0</td>\n    </tr>\n    <tr>\n      <th>1263</th>\n      <td>ramirma02</td>\n      <td>Manny Ramirez</td>\n      <td>274.0</td>\n    </tr>\n    <tr>\n      <th>1609</th>\n      <td>vaughmo01</td>\n      <td>Mo Vaughn</td>\n      <td>230.0</td>\n    </tr>\n    <tr>\n      <th>394</th>\n      <td>doerrbo01</td>\n      <td>Bobby Doerr</td>\n      <td>223.0</td>\n    </tr>\n    <tr>\n      <th>487</th>\n      <td>foxxji01</td>\n      <td>Jimmie Foxx</td>\n      <td>222.0</td>\n    </tr>\n    <tr>\n      <th>1209</th>\n      <td>petrori01</td>\n      <td>Rico Petrocelli</td>\n      <td>210.0</td>\n    </tr>\n  </tbody>\n</table>\n</div>"
     },
     "execution_count": 7,
     "metadata": {},
     "output_type": "execute_result"
    }
   ],
   "source": [
    "merged_df = pd.merge(batting_2, player, on = 'player_id')\n",
    "filtered_df = merged_df[merged_df['team_id']=='BOS'].groupby(['player_id', 'name_first', 'name_last']).hr.sum().reset_index()\n",
    "filtered_df['full_name'] = filtered_df['name_first'] + ' ' + filtered_df['name_last']\n",
    "filtered_df = filtered_df[['player_id', 'full_name', 'hr']]\n",
    "result_df = filtered_df.sort_values(by='hr', ascending=False).head(10)\n",
    "result_df"
   ]
  },
  {
   "cell_type": "markdown",
   "metadata": {},
   "source": [
    "--3. Ranking players by homeruns, in case of players having the same number of home runs the rank will take number of hits into consideration"
   ]
  },
  {
   "cell_type": "code",
   "execution_count": null,
   "metadata": {},
   "outputs": [],
   "source": []
  },
  {
   "cell_type": "markdown",
   "metadata": {},
   "source": [
    "--4.Best homeruns per at bat averages from the New York Yankees players since 2000´s\n",
    "\n"
   ]
  },
  {
   "cell_type": "code",
   "execution_count": 9,
   "metadata": {
    "ExecuteTime": {
     "end_time": "2023-11-07T18:39:57.414226600Z",
     "start_time": "2023-11-07T18:39:57.277663400Z"
    }
   },
   "outputs": [
    {
     "data": {
      "text/plain": "     player_id name_first   name_last     ab    hr  Homeruns_per_ab\n275  mcgwima01       Mark     McGwire  236.0  32.0            0.136\n44   bondsba01      Barry       Bonds  480.0  49.0            0.102\n191   hillgl01  Glenallen        Hill  300.0  27.0            0.090\n333  ramirma02      Manny     Ramirez  439.0  38.0            0.087\n362  sheffga01       Gary   Sheffield  501.0  43.0            0.086\n142  giambja01      Jason      Giambi  510.0  43.0            0.084\n370   sosasa01      Sammy        Sosa  604.0  50.0            0.083\n148  glaustr01       Troy       Glaus  563.0  47.0            0.083\n51   branyru01    Russell     Branyan  193.0  16.0            0.083\n197  hundlto01       Todd     Hundley  299.0  24.0            0.080\n116  edmonji01        Jim     Edmonds  525.0  42.0            0.080\n18   bagweje01       Jeff     Bagwell  590.0  47.0            0.080\n189  hidalri01    Richard     Hidalgo  558.0  44.0            0.079\n323  piazzmi01       Mike      Piazza  482.0  38.0            0.079\n221  justida01      David     Justice  524.0  41.0            0.078\n163  griffke02        Ken     Griffey  520.0  40.0            0.077\n166  guerrvl01   Vladimir    Guerrero  571.0  44.0            0.077\n409   wardda01     Daryle        Ward  264.0  20.0            0.076\n211  johnsch04    Charles     Johnson  421.0  31.0            0.074\n347  rodriiv01       Ivan   Rodriguez  363.0  27.0            0.074\n345  rodrial01       Alex   Rodriguez  554.0  41.0            0.074\n387  thomafr04      Frank      Thomas  582.0  43.0            0.074\n13   andresh01      Shane     Andrews  192.0  14.0            0.073\n183  heltoto01       Todd      Helton  580.0  42.0            0.072\n66   caminke01        Ken    Caminiti  208.0  15.0            0.072\n104  delgaca01     Carlos     Delgado  569.0  41.0            0.072\n57   buhneja01        Jay      Buhner  364.0  26.0            0.071\n315  palmera01     Rafael    Palmeiro  565.0  39.0            0.069\n122  evereca01       Carl     Everett  496.0  34.0            0.069\n234  lampkto01        Tom     Lampkin  103.0   7.0            0.068\n262  martied01      Edgar    Martinez  556.0  37.0            0.067\n235  lankfra01        Ray    Lankford  392.0  26.0            0.066\n23   batisto01       Tony     Batista  620.0  41.0            0.066\n9     aloumo01     Moises        Alou  454.0  30.0            0.066\n137  fullmbr01       Brad     Fullmer  482.0  32.0            0.066\n207  jenkige01      Geoff     Jenkins  512.0  34.0            0.066\n178  hanseda01       Dave      Hansen  121.0   8.0            0.066\n388  thomeji01        Jim       Thome  557.0  37.0            0.066\n341  richach01      Chris     Richard  199.0  13.0            0.065\n127  finlest01      Steve      Finley  539.0  35.0            0.065\n117  elsteke01      Kevin      Elster  220.0  14.0            0.064\n145  gilesbr02      Brian       Giles  559.0  35.0            0.063\n194  houstty01      Tyler     Houston  284.0  18.0            0.063\n358  seguife01   Fernando   Seguignol  162.0  10.0            0.062\n287  mondera01       Raul     Mondesi  388.0  24.0            0.062\n81   clarkto02       Tony       Clark  208.0  13.0            0.062\n215  jonesch06    Chipper       Jones  579.0  36.0            0.062\n394  vandejo02       John  Vander Wal  384.0  24.0            0.062\n58   burksel01      Ellis       Burks  393.0  24.0            0.061\n396  vaughgr01       Greg      Vaughn  461.0  28.0            0.061",
      "text/html": "<div>\n<style scoped>\n    .dataframe tbody tr th:only-of-type {\n        vertical-align: middle;\n    }\n\n    .dataframe tbody tr th {\n        vertical-align: top;\n    }\n\n    .dataframe thead th {\n        text-align: right;\n    }\n</style>\n<table border=\"1\" class=\"dataframe\">\n  <thead>\n    <tr style=\"text-align: right;\">\n      <th></th>\n      <th>player_id</th>\n      <th>name_first</th>\n      <th>name_last</th>\n      <th>ab</th>\n      <th>hr</th>\n      <th>Homeruns_per_ab</th>\n    </tr>\n  </thead>\n  <tbody>\n    <tr>\n      <th>275</th>\n      <td>mcgwima01</td>\n      <td>Mark</td>\n      <td>McGwire</td>\n      <td>236.0</td>\n      <td>32.0</td>\n      <td>0.136</td>\n    </tr>\n    <tr>\n      <th>44</th>\n      <td>bondsba01</td>\n      <td>Barry</td>\n      <td>Bonds</td>\n      <td>480.0</td>\n      <td>49.0</td>\n      <td>0.102</td>\n    </tr>\n    <tr>\n      <th>191</th>\n      <td>hillgl01</td>\n      <td>Glenallen</td>\n      <td>Hill</td>\n      <td>300.0</td>\n      <td>27.0</td>\n      <td>0.090</td>\n    </tr>\n    <tr>\n      <th>333</th>\n      <td>ramirma02</td>\n      <td>Manny</td>\n      <td>Ramirez</td>\n      <td>439.0</td>\n      <td>38.0</td>\n      <td>0.087</td>\n    </tr>\n    <tr>\n      <th>362</th>\n      <td>sheffga01</td>\n      <td>Gary</td>\n      <td>Sheffield</td>\n      <td>501.0</td>\n      <td>43.0</td>\n      <td>0.086</td>\n    </tr>\n    <tr>\n      <th>142</th>\n      <td>giambja01</td>\n      <td>Jason</td>\n      <td>Giambi</td>\n      <td>510.0</td>\n      <td>43.0</td>\n      <td>0.084</td>\n    </tr>\n    <tr>\n      <th>370</th>\n      <td>sosasa01</td>\n      <td>Sammy</td>\n      <td>Sosa</td>\n      <td>604.0</td>\n      <td>50.0</td>\n      <td>0.083</td>\n    </tr>\n    <tr>\n      <th>148</th>\n      <td>glaustr01</td>\n      <td>Troy</td>\n      <td>Glaus</td>\n      <td>563.0</td>\n      <td>47.0</td>\n      <td>0.083</td>\n    </tr>\n    <tr>\n      <th>51</th>\n      <td>branyru01</td>\n      <td>Russell</td>\n      <td>Branyan</td>\n      <td>193.0</td>\n      <td>16.0</td>\n      <td>0.083</td>\n    </tr>\n    <tr>\n      <th>197</th>\n      <td>hundlto01</td>\n      <td>Todd</td>\n      <td>Hundley</td>\n      <td>299.0</td>\n      <td>24.0</td>\n      <td>0.080</td>\n    </tr>\n    <tr>\n      <th>116</th>\n      <td>edmonji01</td>\n      <td>Jim</td>\n      <td>Edmonds</td>\n      <td>525.0</td>\n      <td>42.0</td>\n      <td>0.080</td>\n    </tr>\n    <tr>\n      <th>18</th>\n      <td>bagweje01</td>\n      <td>Jeff</td>\n      <td>Bagwell</td>\n      <td>590.0</td>\n      <td>47.0</td>\n      <td>0.080</td>\n    </tr>\n    <tr>\n      <th>189</th>\n      <td>hidalri01</td>\n      <td>Richard</td>\n      <td>Hidalgo</td>\n      <td>558.0</td>\n      <td>44.0</td>\n      <td>0.079</td>\n    </tr>\n    <tr>\n      <th>323</th>\n      <td>piazzmi01</td>\n      <td>Mike</td>\n      <td>Piazza</td>\n      <td>482.0</td>\n      <td>38.0</td>\n      <td>0.079</td>\n    </tr>\n    <tr>\n      <th>221</th>\n      <td>justida01</td>\n      <td>David</td>\n      <td>Justice</td>\n      <td>524.0</td>\n      <td>41.0</td>\n      <td>0.078</td>\n    </tr>\n    <tr>\n      <th>163</th>\n      <td>griffke02</td>\n      <td>Ken</td>\n      <td>Griffey</td>\n      <td>520.0</td>\n      <td>40.0</td>\n      <td>0.077</td>\n    </tr>\n    <tr>\n      <th>166</th>\n      <td>guerrvl01</td>\n      <td>Vladimir</td>\n      <td>Guerrero</td>\n      <td>571.0</td>\n      <td>44.0</td>\n      <td>0.077</td>\n    </tr>\n    <tr>\n      <th>409</th>\n      <td>wardda01</td>\n      <td>Daryle</td>\n      <td>Ward</td>\n      <td>264.0</td>\n      <td>20.0</td>\n      <td>0.076</td>\n    </tr>\n    <tr>\n      <th>211</th>\n      <td>johnsch04</td>\n      <td>Charles</td>\n      <td>Johnson</td>\n      <td>421.0</td>\n      <td>31.0</td>\n      <td>0.074</td>\n    </tr>\n    <tr>\n      <th>347</th>\n      <td>rodriiv01</td>\n      <td>Ivan</td>\n      <td>Rodriguez</td>\n      <td>363.0</td>\n      <td>27.0</td>\n      <td>0.074</td>\n    </tr>\n    <tr>\n      <th>345</th>\n      <td>rodrial01</td>\n      <td>Alex</td>\n      <td>Rodriguez</td>\n      <td>554.0</td>\n      <td>41.0</td>\n      <td>0.074</td>\n    </tr>\n    <tr>\n      <th>387</th>\n      <td>thomafr04</td>\n      <td>Frank</td>\n      <td>Thomas</td>\n      <td>582.0</td>\n      <td>43.0</td>\n      <td>0.074</td>\n    </tr>\n    <tr>\n      <th>13</th>\n      <td>andresh01</td>\n      <td>Shane</td>\n      <td>Andrews</td>\n      <td>192.0</td>\n      <td>14.0</td>\n      <td>0.073</td>\n    </tr>\n    <tr>\n      <th>183</th>\n      <td>heltoto01</td>\n      <td>Todd</td>\n      <td>Helton</td>\n      <td>580.0</td>\n      <td>42.0</td>\n      <td>0.072</td>\n    </tr>\n    <tr>\n      <th>66</th>\n      <td>caminke01</td>\n      <td>Ken</td>\n      <td>Caminiti</td>\n      <td>208.0</td>\n      <td>15.0</td>\n      <td>0.072</td>\n    </tr>\n    <tr>\n      <th>104</th>\n      <td>delgaca01</td>\n      <td>Carlos</td>\n      <td>Delgado</td>\n      <td>569.0</td>\n      <td>41.0</td>\n      <td>0.072</td>\n    </tr>\n    <tr>\n      <th>57</th>\n      <td>buhneja01</td>\n      <td>Jay</td>\n      <td>Buhner</td>\n      <td>364.0</td>\n      <td>26.0</td>\n      <td>0.071</td>\n    </tr>\n    <tr>\n      <th>315</th>\n      <td>palmera01</td>\n      <td>Rafael</td>\n      <td>Palmeiro</td>\n      <td>565.0</td>\n      <td>39.0</td>\n      <td>0.069</td>\n    </tr>\n    <tr>\n      <th>122</th>\n      <td>evereca01</td>\n      <td>Carl</td>\n      <td>Everett</td>\n      <td>496.0</td>\n      <td>34.0</td>\n      <td>0.069</td>\n    </tr>\n    <tr>\n      <th>234</th>\n      <td>lampkto01</td>\n      <td>Tom</td>\n      <td>Lampkin</td>\n      <td>103.0</td>\n      <td>7.0</td>\n      <td>0.068</td>\n    </tr>\n    <tr>\n      <th>262</th>\n      <td>martied01</td>\n      <td>Edgar</td>\n      <td>Martinez</td>\n      <td>556.0</td>\n      <td>37.0</td>\n      <td>0.067</td>\n    </tr>\n    <tr>\n      <th>235</th>\n      <td>lankfra01</td>\n      <td>Ray</td>\n      <td>Lankford</td>\n      <td>392.0</td>\n      <td>26.0</td>\n      <td>0.066</td>\n    </tr>\n    <tr>\n      <th>23</th>\n      <td>batisto01</td>\n      <td>Tony</td>\n      <td>Batista</td>\n      <td>620.0</td>\n      <td>41.0</td>\n      <td>0.066</td>\n    </tr>\n    <tr>\n      <th>9</th>\n      <td>aloumo01</td>\n      <td>Moises</td>\n      <td>Alou</td>\n      <td>454.0</td>\n      <td>30.0</td>\n      <td>0.066</td>\n    </tr>\n    <tr>\n      <th>137</th>\n      <td>fullmbr01</td>\n      <td>Brad</td>\n      <td>Fullmer</td>\n      <td>482.0</td>\n      <td>32.0</td>\n      <td>0.066</td>\n    </tr>\n    <tr>\n      <th>207</th>\n      <td>jenkige01</td>\n      <td>Geoff</td>\n      <td>Jenkins</td>\n      <td>512.0</td>\n      <td>34.0</td>\n      <td>0.066</td>\n    </tr>\n    <tr>\n      <th>178</th>\n      <td>hanseda01</td>\n      <td>Dave</td>\n      <td>Hansen</td>\n      <td>121.0</td>\n      <td>8.0</td>\n      <td>0.066</td>\n    </tr>\n    <tr>\n      <th>388</th>\n      <td>thomeji01</td>\n      <td>Jim</td>\n      <td>Thome</td>\n      <td>557.0</td>\n      <td>37.0</td>\n      <td>0.066</td>\n    </tr>\n    <tr>\n      <th>341</th>\n      <td>richach01</td>\n      <td>Chris</td>\n      <td>Richard</td>\n      <td>199.0</td>\n      <td>13.0</td>\n      <td>0.065</td>\n    </tr>\n    <tr>\n      <th>127</th>\n      <td>finlest01</td>\n      <td>Steve</td>\n      <td>Finley</td>\n      <td>539.0</td>\n      <td>35.0</td>\n      <td>0.065</td>\n    </tr>\n    <tr>\n      <th>117</th>\n      <td>elsteke01</td>\n      <td>Kevin</td>\n      <td>Elster</td>\n      <td>220.0</td>\n      <td>14.0</td>\n      <td>0.064</td>\n    </tr>\n    <tr>\n      <th>145</th>\n      <td>gilesbr02</td>\n      <td>Brian</td>\n      <td>Giles</td>\n      <td>559.0</td>\n      <td>35.0</td>\n      <td>0.063</td>\n    </tr>\n    <tr>\n      <th>194</th>\n      <td>houstty01</td>\n      <td>Tyler</td>\n      <td>Houston</td>\n      <td>284.0</td>\n      <td>18.0</td>\n      <td>0.063</td>\n    </tr>\n    <tr>\n      <th>358</th>\n      <td>seguife01</td>\n      <td>Fernando</td>\n      <td>Seguignol</td>\n      <td>162.0</td>\n      <td>10.0</td>\n      <td>0.062</td>\n    </tr>\n    <tr>\n      <th>287</th>\n      <td>mondera01</td>\n      <td>Raul</td>\n      <td>Mondesi</td>\n      <td>388.0</td>\n      <td>24.0</td>\n      <td>0.062</td>\n    </tr>\n    <tr>\n      <th>81</th>\n      <td>clarkto02</td>\n      <td>Tony</td>\n      <td>Clark</td>\n      <td>208.0</td>\n      <td>13.0</td>\n      <td>0.062</td>\n    </tr>\n    <tr>\n      <th>215</th>\n      <td>jonesch06</td>\n      <td>Chipper</td>\n      <td>Jones</td>\n      <td>579.0</td>\n      <td>36.0</td>\n      <td>0.062</td>\n    </tr>\n    <tr>\n      <th>394</th>\n      <td>vandejo02</td>\n      <td>John</td>\n      <td>Vander Wal</td>\n      <td>384.0</td>\n      <td>24.0</td>\n      <td>0.062</td>\n    </tr>\n    <tr>\n      <th>58</th>\n      <td>burksel01</td>\n      <td>Ellis</td>\n      <td>Burks</td>\n      <td>393.0</td>\n      <td>24.0</td>\n      <td>0.061</td>\n    </tr>\n    <tr>\n      <th>396</th>\n      <td>vaughgr01</td>\n      <td>Greg</td>\n      <td>Vaughn</td>\n      <td>461.0</td>\n      <td>28.0</td>\n      <td>0.061</td>\n    </tr>\n  </tbody>\n</table>\n</div>"
     },
     "execution_count": 9,
     "metadata": {},
     "output_type": "execute_result"
    }
   ],
   "source": []
  },
  {
   "cell_type": "markdown",
   "metadata": {},
   "source": [
    "--5.New York Yankees players batting average and determing which ones are above the league ´ s average"
   ]
  },
  {
   "cell_type": "code",
   "execution_count": null,
   "metadata": {},
   "outputs": [],
   "source": []
  },
  {
   "cell_type": "markdown",
   "metadata": {},
   "source": [
    "--6.Teams with the highest avg attendance per game in 21st century"
   ]
  },
  {
   "cell_type": "code",
   "execution_count": null,
   "metadata": {},
   "outputs": [],
   "source": []
  },
  {
   "cell_type": "markdown",
   "metadata": {},
   "source": [
    "--7. Top Pitchers of all time based on the highest number of Pitching Triple Crown player award"
   ]
  },
  {
   "cell_type": "code",
   "execution_count": null,
   "metadata": {},
   "outputs": [],
   "source": []
  },
  {
   "cell_type": "markdown",
   "metadata": {},
   "source": [
    "--8.Teams with the highest salary disparity"
   ]
  },
  {
   "cell_type": "code",
   "execution_count": null,
   "metadata": {},
   "outputs": [],
   "source": []
  },
  {
   "cell_type": "markdown",
   "metadata": {},
   "source": [
    "--9. Top 10 players with the highest number of hits who are also members of the Hall of Fame"
   ]
  },
  {
   "cell_type": "code",
   "execution_count": null,
   "metadata": {},
   "outputs": [],
   "source": []
  },
  {
   "cell_type": "markdown",
   "metadata": {},
   "source": [
    "--10. Best paid players and their fielding position"
   ]
  },
  {
   "cell_type": "code",
   "execution_count": null,
   "metadata": {},
   "outputs": [],
   "source": []
  },
  {
   "cell_type": "markdown",
   "metadata": {},
   "source": [
    "--11.Average salary per fielding position since 2000`s\n"
   ]
  },
  {
   "cell_type": "code",
   "execution_count": null,
   "metadata": {},
   "outputs": [],
   "source": []
  },
  {
   "cell_type": "markdown",
   "metadata": {},
   "source": [
    "--12.Pitchers that earn more than the average salary in the mlb for the year 2015"
   ]
  },
  {
   "cell_type": "code",
   "execution_count": null,
   "metadata": {},
   "outputs": [],
   "source": []
  },
  {
   "cell_type": "markdown",
   "metadata": {},
   "source": [
    "--13.Average strikeouts per game by decade"
   ]
  },
  {
   "cell_type": "code",
   "execution_count": null,
   "metadata": {},
   "outputs": [],
   "source": []
  },
  {
   "cell_type": "markdown",
   "metadata": {},
   "source": [
    "--14.Average homeruns per game by decade"
   ]
  },
  {
   "cell_type": "code",
   "execution_count": null,
   "metadata": {},
   "outputs": [],
   "source": []
  },
  {
   "cell_type": "markdown",
   "metadata": {},
   "source": [
    "--15.Most wins in a season without winning the World Series."
   ]
  },
  {
   "cell_type": "code",
   "execution_count": null,
   "metadata": {},
   "outputs": [],
   "source": []
  },
  {
   "cell_type": "markdown",
   "metadata": {},
   "source": [
    "--16. Minimum wins in a season and winning the World Series since 21st century."
   ]
  },
  {
   "cell_type": "code",
   "execution_count": null,
   "metadata": {},
   "outputs": [],
   "source": []
  },
  {
   "cell_type": "markdown",
   "metadata": {},
   "source": [
    "--17 Average salaries per decade evolution for MLB players"
   ]
  },
  {
   "cell_type": "code",
   "execution_count": null,
   "metadata": {},
   "outputs": [],
   "source": []
  },
  {
   "cell_type": "markdown",
   "metadata": {},
   "source": [
    "--18.Average salaries by team and which of them have the best and worst compensation to their players in comparison to the league `s average salary using percentiles\n"
   ]
  },
  {
   "cell_type": "code",
   "execution_count": null,
   "metadata": {},
   "outputs": [],
   "source": []
  },
  {
   "cell_type": "markdown",
   "metadata": {},
   "source": [
    "--19.Ranking and Identifying Cost-Effective Teams in the 2015 Season: Based on Salary and Wins Criteria (Below average spending and above average wins)\n"
   ]
  },
  {
   "cell_type": "code",
   "execution_count": null,
   "metadata": {},
   "outputs": [],
   "source": []
  }
 ],
 "metadata": {
  "kernelspec": {
   "display_name": "Python 3",
   "language": "python",
   "name": "python3"
  },
  "language_info": {
   "codemirror_mode": {
    "name": "ipython",
    "version": 3
   },
   "file_extension": ".py",
   "mimetype": "text/x-python",
   "name": "python",
   "nbconvert_exporter": "python",
   "pygments_lexer": "ipython3",
   "version": "3.11.4"
  }
 },
 "nbformat": 4,
 "nbformat_minor": 2
}
