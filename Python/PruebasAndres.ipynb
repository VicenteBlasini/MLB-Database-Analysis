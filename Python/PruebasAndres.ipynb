{
 "cells": [
  {
   "cell_type": "code",
   "execution_count": 10,
   "metadata": {
    "ExecuteTime": {
     "end_time": "2023-11-17T23:26:33.473146100Z",
     "start_time": "2023-11-17T23:26:32.679979400Z"
    }
   },
   "outputs": [
    {
     "name": "stdout",
     "output_type": "stream",
     "text": [
      "   player_id  year  stint team_id league_id   g     ab     r     h  double  \\\n",
      "0  abercda01  1871      1     TRO       NaN   1    4.0   0.0   0.0     0.0   \n",
      "1   addybo01  1871      1     RC1       NaN  25  118.0  30.0  32.0     6.0   \n",
      "2  allisar01  1871      1     CL1       NaN  29  137.0  28.0  40.0     4.0   \n",
      "3  allisdo01  1871      1     WS3       NaN  27  133.0  28.0  44.0    10.0   \n",
      "4  ansonca01  1871      1     RC1       NaN  25  120.0  29.0  39.0    11.0   \n",
      "\n",
      "   ...   rbi   sb   cs   bb   so  ibb  hbp  sh  sf  g_idp  \n",
      "0  ...   0.0  0.0  0.0  0.0  0.0  NaN  NaN NaN NaN    NaN  \n",
      "1  ...  13.0  8.0  1.0  4.0  0.0  NaN  NaN NaN NaN    NaN  \n",
      "2  ...  19.0  3.0  1.0  2.0  5.0  NaN  NaN NaN NaN    NaN  \n",
      "3  ...  27.0  1.0  1.0  0.0  2.0  NaN  NaN NaN NaN    NaN  \n",
      "4  ...  16.0  6.0  2.0  2.0  1.0  NaN  NaN NaN NaN    NaN  \n",
      "\n",
      "[5 rows x 22 columns]\n",
      "   player_id  year  stint team_id league_id pos   g  gs  inn_outs    po     a  \\\n",
      "0  abercda01  1871      1     TRO       NaN  SS   1 NaN       NaN   1.0   3.0   \n",
      "1   addybo01  1871      1     RC1       NaN  2B  22 NaN       NaN  67.0  72.0   \n",
      "2   addybo01  1871      1     RC1       NaN  SS   3 NaN       NaN   8.0  14.0   \n",
      "3  allisar01  1871      1     CL1       NaN  2B   2 NaN       NaN   1.0   4.0   \n",
      "4  allisar01  1871      1     CL1       NaN  OF  29 NaN       NaN  51.0   3.0   \n",
      "\n",
      "      e   dp  pb  wp  sb  cs  zr  \n",
      "0   2.0  0.0 NaN NaN NaN NaN NaN  \n",
      "1  42.0  5.0 NaN NaN NaN NaN NaN  \n",
      "2   7.0  0.0 NaN NaN NaN NaN NaN  \n",
      "3   0.0  0.0 NaN NaN NaN NaN NaN  \n",
      "4   7.0  1.0 NaN NaN NaN NaN NaN  \n",
      "   player_id  yearid votedby  ballots  needed  votes inducted category  \\\n",
      "0   cobbty01    1936   BBWAA    226.0   170.0  222.0        Y   Player   \n",
      "1   ruthba01    1936   BBWAA    226.0   170.0  215.0        Y   Player   \n",
      "2  wagneho01    1936   BBWAA    226.0   170.0  215.0        Y   Player   \n",
      "3  mathech01    1936   BBWAA    226.0   170.0  205.0        Y   Player   \n",
      "4  johnswa01    1936   BBWAA    226.0   170.0  189.0        Y   Player   \n",
      "\n",
      "  needed_note  \n",
      "0         NaN  \n",
      "1         NaN  \n",
      "2         NaN  \n",
      "3         NaN  \n",
      "4         NaN  \n",
      "   player_id               award_id  year league_id  tie notes\n",
      "0   bondto01  Pitching Triple Crown  1877        NL  NaN   NaN\n",
      "1  hinespa01           Triple Crown  1878        NL  NaN   NaN\n",
      "2  heckegu01  Pitching Triple Crown  1884        AA  NaN   NaN\n",
      "3  radboch01  Pitching Triple Crown  1884        NL  NaN   NaN\n",
      "4  oneilti01           Triple Crown  1887        AA  NaN   NaN\n",
      "   player_id  birth_year  birth_month  birth_day birth_country birth_state  \\\n",
      "0  aardsda01      1981.0         12.0       27.0           USA          CO   \n",
      "1  aaronha01      1934.0          2.0        5.0           USA          AL   \n",
      "2  aaronto01      1939.0          8.0        5.0           USA          AL   \n",
      "3   aasedo01      1954.0          9.0        8.0           USA          CA   \n",
      "4   abadan01      1972.0          8.0       25.0           USA          FL   \n",
      "\n",
      "   birth_city  death_year  death_month  death_day  ... name_last  \\\n",
      "0      Denver         NaN          NaN        NaN  ...   Aardsma   \n",
      "1      Mobile         NaN          NaN        NaN  ...     Aaron   \n",
      "2      Mobile      1984.0          8.0       16.0  ...     Aaron   \n",
      "3      Orange         NaN          NaN        NaN  ...      Aase   \n",
      "4  Palm Beach         NaN          NaN        NaN  ...      Abad   \n",
      "\n",
      "       name_given weight height bats throws       debut  final_game  retro_id  \\\n",
      "0     David Allan  220.0   75.0    R      R  2004-04-06  2015-08-23  aardd001   \n",
      "1     Henry Louis  180.0   72.0    R      R  1954-04-13  1976-10-03  aaroh101   \n",
      "2      Tommie Lee  190.0   75.0    R      R  1962-04-10  1971-09-26  aarot101   \n",
      "3  Donald William  190.0   75.0    R      R  1977-07-26  1990-10-03  aased001   \n",
      "4   Fausto Andres  184.0   73.0    L      L  2001-09-10  2006-04-13  abada001   \n",
      "\n",
      "    bbref_id  \n",
      "0  aardsda01  \n",
      "1  aaronha01  \n",
      "2  aaronto01  \n",
      "3   aasedo01  \n",
      "4   abadan01  \n",
      "\n",
      "[5 rows x 24 columns]\n",
      "   year team_id league_id  player_id  salary\n",
      "0  1985     ATL        NL  barkele01  870000\n",
      "1  1985     ATL        NL  bedrost01  550000\n",
      "2  1985     ATL        NL  benedbr01  545000\n",
      "3  1985     ATL        NL   campri01  633333\n",
      "4  1985     ATL        NL  ceronri01  625000\n",
      "   year league_id team_id franchise_id div_id  rank   g  ghome   w   l  ...  \\\n",
      "0  1871       NaN     BS1          BNA    NaN     3  31    NaN  20  10  ...   \n",
      "1  1871       NaN     CH1          CNA    NaN     2  28    NaN  19   9  ...   \n",
      "2  1871       NaN     CL1          CFC    NaN     8  29    NaN  10  19  ...   \n",
      "3  1871       NaN     FW1          KEK    NaN     7  19    NaN   7  12  ...   \n",
      "4  1871       NaN     NY2          NNA    NaN     5  33    NaN  16  17  ...   \n",
      "\n",
      "   dp    fp                     name                          park  \\\n",
      "0 NaN  0.83     Boston Red Stockings           South End Grounds I   \n",
      "1 NaN  0.82  Chicago White Stockings       Union Base-Ball Grounds   \n",
      "2 NaN  0.81   Cleveland Forest Citys  National Association Grounds   \n",
      "3 NaN  0.80     Fort Wayne Kekiongas                Hamilton Field   \n",
      "4 NaN  0.83         New York Mutuals      Union Grounds (Brooklyn)   \n",
      "\n",
      "   attendance  bpf  ppf  team_id_br  team_id_lahman45  team_id_retro  \n",
      "0         NaN  103   98         BOS               BS1            BS1  \n",
      "1         NaN  104  102         CHI               CH1            CH1  \n",
      "2         NaN   96  100         CLE               CL1            CL1  \n",
      "3         NaN  101  107         KEK               FW1            FW1  \n",
      "4         NaN   90   88         NYU               NY2            NY2  \n",
      "\n",
      "[5 rows x 48 columns]\n"
     ]
    }
   ],
   "source": [
    "import pandas as pd\n",
    "\n",
    "\n",
    "batting = pd.read_csv(\"../DATA/batting.csv\") \n",
    "fielding = pd.read_csv(\"../DATA/fielding.csv\")\n",
    "hall_of_fame = pd.read_csv(\"../DATA/hall_of_fame.csv\")\n",
    "player_award = pd.read_csv(\"../DATA/player_award.csv\")\n",
    "player = pd.read_csv(\"../DATA/player.csv\")\n",
    "salary = pd.read_csv(\"../DATA/salary.csv\")\n",
    "team = pd.read_csv(\"../DATA/team.csv\")\n",
    "\n",
    "table_files = [batting, fielding, hall_of_fame, player_award, player, salary, team]\n",
    "for file in table_files:\n",
    "    print(file.head(5))\n",
    "\n",
    "\n",
    "## MODIFICATIONS\n",
    "\n",
    "#Creation of batting_2 table\n",
    "batting_2 = batting[(batting['hr'].notnull()) & (batting['hr'] > 0) & (batting['ab'].notnull()) & (batting['ab'] > 0)]\n",
    "batting_2.to_csv('batting_2.csv', index=False)\n",
    "\n",
    "#Altering player table\n",
    "player['full_name'] = player['name_first'] + ' ' + player['name_last']  "
   ]
  },
  {
   "cell_type": "code",
   "execution_count": 8,
   "outputs": [],
   "source": [],
   "metadata": {
    "collapsed": false,
    "ExecuteTime": {
     "end_time": "2023-11-17T23:24:31.993949200Z",
     "start_time": "2023-11-17T23:24:31.676658800Z"
    }
   }
  },
  {
   "cell_type": "code",
   "execution_count": 11,
   "outputs": [
    {
     "data": {
      "text/plain": "    player_id     hr\n0   bondsba01  762.0\n1   aaronha01  755.0\n2    ruthba01  714.0\n3   rodrial01  687.0\n4    mayswi01  660.0\n5   griffke02  630.0\n6   thomeji01  612.0\n7    sosasa01  609.0\n8   robinfr02  586.0\n9   mcgwima01  583.0\n10  killeha01  573.0\n11  palmera01  569.0\n12  jacksre01  563.0\n13  pujolal01  560.0\n14  ramirma02  555.0\n15  schmimi01  548.0\n16  mantlmi01  536.0\n17   foxxji01  534.0\n18  mccovwi01  521.0\n19  willite01  521.0\n20  thomafr04  521.0\n21  matheed01  512.0\n22  bankser01  512.0\n23    ottme01  511.0\n24  sheffga01  509.0",
      "text/html": "<div>\n<style scoped>\n    .dataframe tbody tr th:only-of-type {\n        vertical-align: middle;\n    }\n\n    .dataframe tbody tr th {\n        vertical-align: top;\n    }\n\n    .dataframe thead th {\n        text-align: right;\n    }\n</style>\n<table border=\"1\" class=\"dataframe\">\n  <thead>\n    <tr style=\"text-align: right;\">\n      <th></th>\n      <th>player_id</th>\n      <th>hr</th>\n    </tr>\n  </thead>\n  <tbody>\n    <tr>\n      <th>0</th>\n      <td>bondsba01</td>\n      <td>762.0</td>\n    </tr>\n    <tr>\n      <th>1</th>\n      <td>aaronha01</td>\n      <td>755.0</td>\n    </tr>\n    <tr>\n      <th>2</th>\n      <td>ruthba01</td>\n      <td>714.0</td>\n    </tr>\n    <tr>\n      <th>3</th>\n      <td>rodrial01</td>\n      <td>687.0</td>\n    </tr>\n    <tr>\n      <th>4</th>\n      <td>mayswi01</td>\n      <td>660.0</td>\n    </tr>\n    <tr>\n      <th>5</th>\n      <td>griffke02</td>\n      <td>630.0</td>\n    </tr>\n    <tr>\n      <th>6</th>\n      <td>thomeji01</td>\n      <td>612.0</td>\n    </tr>\n    <tr>\n      <th>7</th>\n      <td>sosasa01</td>\n      <td>609.0</td>\n    </tr>\n    <tr>\n      <th>8</th>\n      <td>robinfr02</td>\n      <td>586.0</td>\n    </tr>\n    <tr>\n      <th>9</th>\n      <td>mcgwima01</td>\n      <td>583.0</td>\n    </tr>\n    <tr>\n      <th>10</th>\n      <td>killeha01</td>\n      <td>573.0</td>\n    </tr>\n    <tr>\n      <th>11</th>\n      <td>palmera01</td>\n      <td>569.0</td>\n    </tr>\n    <tr>\n      <th>12</th>\n      <td>jacksre01</td>\n      <td>563.0</td>\n    </tr>\n    <tr>\n      <th>13</th>\n      <td>pujolal01</td>\n      <td>560.0</td>\n    </tr>\n    <tr>\n      <th>14</th>\n      <td>ramirma02</td>\n      <td>555.0</td>\n    </tr>\n    <tr>\n      <th>15</th>\n      <td>schmimi01</td>\n      <td>548.0</td>\n    </tr>\n    <tr>\n      <th>16</th>\n      <td>mantlmi01</td>\n      <td>536.0</td>\n    </tr>\n    <tr>\n      <th>17</th>\n      <td>foxxji01</td>\n      <td>534.0</td>\n    </tr>\n    <tr>\n      <th>18</th>\n      <td>mccovwi01</td>\n      <td>521.0</td>\n    </tr>\n    <tr>\n      <th>19</th>\n      <td>willite01</td>\n      <td>521.0</td>\n    </tr>\n    <tr>\n      <th>20</th>\n      <td>thomafr04</td>\n      <td>521.0</td>\n    </tr>\n    <tr>\n      <th>21</th>\n      <td>matheed01</td>\n      <td>512.0</td>\n    </tr>\n    <tr>\n      <th>22</th>\n      <td>bankser01</td>\n      <td>512.0</td>\n    </tr>\n    <tr>\n      <th>23</th>\n      <td>ottme01</td>\n      <td>511.0</td>\n    </tr>\n    <tr>\n      <th>24</th>\n      <td>sheffga01</td>\n      <td>509.0</td>\n    </tr>\n  </tbody>\n</table>\n</div>"
     },
     "execution_count": 11,
     "metadata": {},
     "output_type": "execute_result"
    }
   ],
   "source": [
    "#1\n",
    "best_hitters = batting[batting['hr'].notnull()].groupby('player_id').hr.sum().reset_index().sort_values(by= 'hr', ascending=False).head(25).reset_index(drop=True)\n",
    "best_hitters"
   ],
   "metadata": {
    "collapsed": false,
    "ExecuteTime": {
     "end_time": "2023-11-17T23:26:39.556888700Z",
     "start_time": "2023-11-17T23:26:39.478304Z"
    }
   }
  },
  {
   "cell_type": "code",
   "execution_count": null,
   "outputs": [],
   "source": [],
   "metadata": {
    "collapsed": false
   }
  },
  {
   "cell_type": "code",
   "execution_count": 12,
   "outputs": [
    {
     "data": {
      "text/plain": "     player_id         full_name     hr\n624  willite01      Ted Williams  521.0\n635  yastrca01  Carl Yastrzemski  452.0\n419  ortizda01       David Ortiz  445.0\n480   riceji01          Jim Rice  382.0\n170  evansdw01      Dwight Evans  379.0\n467  ramirma02     Manny Ramirez  274.0\n593  vaughmo01         Mo Vaughn  230.0\n154  doerrbo01       Bobby Doerr  223.0\n186   foxxji01       Jimmie Foxx  222.0\n445  petrori01   Rico Petrocelli  210.0",
      "text/html": "<div>\n<style scoped>\n    .dataframe tbody tr th:only-of-type {\n        vertical-align: middle;\n    }\n\n    .dataframe tbody tr th {\n        vertical-align: top;\n    }\n\n    .dataframe thead th {\n        text-align: right;\n    }\n</style>\n<table border=\"1\" class=\"dataframe\">\n  <thead>\n    <tr style=\"text-align: right;\">\n      <th></th>\n      <th>player_id</th>\n      <th>full_name</th>\n      <th>hr</th>\n    </tr>\n  </thead>\n  <tbody>\n    <tr>\n      <th>624</th>\n      <td>willite01</td>\n      <td>Ted Williams</td>\n      <td>521.0</td>\n    </tr>\n    <tr>\n      <th>635</th>\n      <td>yastrca01</td>\n      <td>Carl Yastrzemski</td>\n      <td>452.0</td>\n    </tr>\n    <tr>\n      <th>419</th>\n      <td>ortizda01</td>\n      <td>David Ortiz</td>\n      <td>445.0</td>\n    </tr>\n    <tr>\n      <th>480</th>\n      <td>riceji01</td>\n      <td>Jim Rice</td>\n      <td>382.0</td>\n    </tr>\n    <tr>\n      <th>170</th>\n      <td>evansdw01</td>\n      <td>Dwight Evans</td>\n      <td>379.0</td>\n    </tr>\n    <tr>\n      <th>467</th>\n      <td>ramirma02</td>\n      <td>Manny Ramirez</td>\n      <td>274.0</td>\n    </tr>\n    <tr>\n      <th>593</th>\n      <td>vaughmo01</td>\n      <td>Mo Vaughn</td>\n      <td>230.0</td>\n    </tr>\n    <tr>\n      <th>154</th>\n      <td>doerrbo01</td>\n      <td>Bobby Doerr</td>\n      <td>223.0</td>\n    </tr>\n    <tr>\n      <th>186</th>\n      <td>foxxji01</td>\n      <td>Jimmie Foxx</td>\n      <td>222.0</td>\n    </tr>\n    <tr>\n      <th>445</th>\n      <td>petrori01</td>\n      <td>Rico Petrocelli</td>\n      <td>210.0</td>\n    </tr>\n  </tbody>\n</table>\n</div>"
     },
     "execution_count": 12,
     "metadata": {},
     "output_type": "execute_result"
    }
   ],
   "source": [
    "#2\n",
    "merged_df = pd.merge(batting_2, player, on = 'player_id')\n",
    "filtered_df = merged_df[merged_df['team_id']=='BOS'].groupby(['player_id', 'name_first', 'name_last']).hr.sum().reset_index()\n",
    "filtered_df['full_name'] = filtered_df['name_first'] + ' ' + filtered_df['name_last']\n",
    "filtered_df = filtered_df[['player_id', 'full_name', 'hr']]\n",
    "result_df = filtered_df.sort_values(by='hr', ascending=False).head(10)\n",
    "result_df"
   ],
   "metadata": {
    "collapsed": false,
    "ExecuteTime": {
     "end_time": "2023-11-17T23:26:44.457354500Z",
     "start_time": "2023-11-17T23:26:44.360219200Z"
    }
   }
  },
  {
   "cell_type": "code",
   "execution_count": 16,
   "outputs": [
    {
     "name": "stderr",
     "output_type": "stream",
     "text": [
      "C:\\Users\\andre\\AppData\\Local\\Temp\\ipykernel_22328\\2376274684.py:4: SettingWithCopyWarning: \n",
      "A value is trying to be set on a copy of a slice from a DataFrame.\n",
      "Try using .loc[row_indexer,col_indexer] = value instead\n",
      "\n",
      "See the caveats in the documentation: https://pandas.pydata.org/pandas-docs/stable/user_guide/indexing.html#returning-a-view-versus-a-copy\n",
      "  filtered_df['batting_avg'] = filtered_df['h'] / filtered_df['ab']\n"
     ]
    },
    {
     "data": {
      "text/plain": "            full_name    hr  batting_avg   Rank\n0         Chris Davis  47.0     0.261780  37362\n1         Nelson Cruz  44.0     0.301695  36461\n2        Bryce Harper  42.0     0.330134  38813\n3       Nolan Arenado  42.0     0.287338  38963\n4          Mike Trout  41.0     0.299130  38674\n5      Josh Donaldson  41.0     0.296774  38153\n6     Carlos Gonzalez  40.0     0.270758  37397\n7       Jose Bautista  40.0     0.250460  36418\n8       Albert Pujols  40.0     0.244186  34335\n9   Edwin Encarnacion  39.0     0.276515  36069\n10     J. D. Martinez  38.0     0.281879  38563\n11        David Ortiz  37.0     0.272727  32303\n12      Manny Machado  35.0     0.285940  38856\n13       Todd Frazier  35.0     0.255250  38488\n14   Paul Goldschmidt  33.0     0.320988  38507\n15     Alex Rodriguez  33.0     0.250478  31303\n16      Anthony Rizzo  31.0     0.278157  38637\n17      Mark Teixeira  31.0     0.255102  35393\n18         Jose Abreu  30.0     0.290375  39150\n19         Joey Votto  29.0     0.313761  37280\n20    Adrian Gonzalez  28.0     0.274956  35594\n21     Matt Carpenter  28.0     0.271777  38729\n22       Brian Dozier  28.0     0.235669  38765\n23         Adam Jones  27.0     0.269231  36549\n24  Giancarlo Stanton  27.0     0.265233  38322",
      "text/html": "<div>\n<style scoped>\n    .dataframe tbody tr th:only-of-type {\n        vertical-align: middle;\n    }\n\n    .dataframe tbody tr th {\n        vertical-align: top;\n    }\n\n    .dataframe thead th {\n        text-align: right;\n    }\n</style>\n<table border=\"1\" class=\"dataframe\">\n  <thead>\n    <tr style=\"text-align: right;\">\n      <th></th>\n      <th>full_name</th>\n      <th>hr</th>\n      <th>batting_avg</th>\n      <th>Rank</th>\n    </tr>\n  </thead>\n  <tbody>\n    <tr>\n      <th>0</th>\n      <td>Chris Davis</td>\n      <td>47.0</td>\n      <td>0.261780</td>\n      <td>37362</td>\n    </tr>\n    <tr>\n      <th>1</th>\n      <td>Nelson Cruz</td>\n      <td>44.0</td>\n      <td>0.301695</td>\n      <td>36461</td>\n    </tr>\n    <tr>\n      <th>2</th>\n      <td>Bryce Harper</td>\n      <td>42.0</td>\n      <td>0.330134</td>\n      <td>38813</td>\n    </tr>\n    <tr>\n      <th>3</th>\n      <td>Nolan Arenado</td>\n      <td>42.0</td>\n      <td>0.287338</td>\n      <td>38963</td>\n    </tr>\n    <tr>\n      <th>4</th>\n      <td>Mike Trout</td>\n      <td>41.0</td>\n      <td>0.299130</td>\n      <td>38674</td>\n    </tr>\n    <tr>\n      <th>5</th>\n      <td>Josh Donaldson</td>\n      <td>41.0</td>\n      <td>0.296774</td>\n      <td>38153</td>\n    </tr>\n    <tr>\n      <th>6</th>\n      <td>Carlos Gonzalez</td>\n      <td>40.0</td>\n      <td>0.270758</td>\n      <td>37397</td>\n    </tr>\n    <tr>\n      <th>7</th>\n      <td>Jose Bautista</td>\n      <td>40.0</td>\n      <td>0.250460</td>\n      <td>36418</td>\n    </tr>\n    <tr>\n      <th>8</th>\n      <td>Albert Pujols</td>\n      <td>40.0</td>\n      <td>0.244186</td>\n      <td>34335</td>\n    </tr>\n    <tr>\n      <th>9</th>\n      <td>Edwin Encarnacion</td>\n      <td>39.0</td>\n      <td>0.276515</td>\n      <td>36069</td>\n    </tr>\n    <tr>\n      <th>10</th>\n      <td>J. D. Martinez</td>\n      <td>38.0</td>\n      <td>0.281879</td>\n      <td>38563</td>\n    </tr>\n    <tr>\n      <th>11</th>\n      <td>David Ortiz</td>\n      <td>37.0</td>\n      <td>0.272727</td>\n      <td>32303</td>\n    </tr>\n    <tr>\n      <th>12</th>\n      <td>Manny Machado</td>\n      <td>35.0</td>\n      <td>0.285940</td>\n      <td>38856</td>\n    </tr>\n    <tr>\n      <th>13</th>\n      <td>Todd Frazier</td>\n      <td>35.0</td>\n      <td>0.255250</td>\n      <td>38488</td>\n    </tr>\n    <tr>\n      <th>14</th>\n      <td>Paul Goldschmidt</td>\n      <td>33.0</td>\n      <td>0.320988</td>\n      <td>38507</td>\n    </tr>\n    <tr>\n      <th>15</th>\n      <td>Alex Rodriguez</td>\n      <td>33.0</td>\n      <td>0.250478</td>\n      <td>31303</td>\n    </tr>\n    <tr>\n      <th>16</th>\n      <td>Anthony Rizzo</td>\n      <td>31.0</td>\n      <td>0.278157</td>\n      <td>38637</td>\n    </tr>\n    <tr>\n      <th>17</th>\n      <td>Mark Teixeira</td>\n      <td>31.0</td>\n      <td>0.255102</td>\n      <td>35393</td>\n    </tr>\n    <tr>\n      <th>18</th>\n      <td>Jose Abreu</td>\n      <td>30.0</td>\n      <td>0.290375</td>\n      <td>39150</td>\n    </tr>\n    <tr>\n      <th>19</th>\n      <td>Joey Votto</td>\n      <td>29.0</td>\n      <td>0.313761</td>\n      <td>37280</td>\n    </tr>\n    <tr>\n      <th>20</th>\n      <td>Adrian Gonzalez</td>\n      <td>28.0</td>\n      <td>0.274956</td>\n      <td>35594</td>\n    </tr>\n    <tr>\n      <th>21</th>\n      <td>Matt Carpenter</td>\n      <td>28.0</td>\n      <td>0.271777</td>\n      <td>38729</td>\n    </tr>\n    <tr>\n      <th>22</th>\n      <td>Brian Dozier</td>\n      <td>28.0</td>\n      <td>0.235669</td>\n      <td>38765</td>\n    </tr>\n    <tr>\n      <th>23</th>\n      <td>Adam Jones</td>\n      <td>27.0</td>\n      <td>0.269231</td>\n      <td>36549</td>\n    </tr>\n    <tr>\n      <th>24</th>\n      <td>Giancarlo Stanton</td>\n      <td>27.0</td>\n      <td>0.265233</td>\n      <td>38322</td>\n    </tr>\n  </tbody>\n</table>\n</div>"
     },
     "execution_count": 16,
     "metadata": {},
     "output_type": "execute_result"
    }
   ],
   "source": [
    "#3\n",
    "merged_df = pd.merge(batting_2, player, on='player_id')\n",
    "filtered_df = merged_df[merged_df['year'] == 2015]\n",
    "filtered_df['batting_avg'] = filtered_df['h'] / filtered_df['ab']\n",
    "sorted_df= filtered_df.sort_values(by=['hr', 'batting_avg'], ascending=[False, False])\n",
    "sorted_df.reset_index(drop=True)\n",
    "sorted_df['Rank'] = sorted_df.index + 1\n",
    "result = sorted_df[['full_name', 'hr', 'batting_avg', 'Rank']].head(25).reset_index(drop=True)\n",
    "result\n"
   ],
   "metadata": {
    "collapsed": false,
    "ExecuteTime": {
     "end_time": "2023-11-17T23:32:49.035903800Z",
     "start_time": "2023-11-17T23:32:48.829867Z"
    }
   }
  },
  {
   "cell_type": "code",
   "execution_count": 9,
   "outputs": [
    {
     "ename": "KeyError",
     "evalue": "'full_name'",
     "output_type": "error",
     "traceback": [
      "\u001B[1;31m---------------------------------------------------------------------------\u001B[0m",
      "\u001B[1;31mKeyError\u001B[0m                                  Traceback (most recent call last)",
      "Cell \u001B[1;32mIn[9], line 4\u001B[0m\n\u001B[0;32m      2\u001B[0m merged_df \u001B[38;5;241m=\u001B[39m pd\u001B[38;5;241m.\u001B[39mmerge(batting_2, player, on \u001B[38;5;241m=\u001B[39m \u001B[38;5;124m'\u001B[39m\u001B[38;5;124mplayer_id\u001B[39m\u001B[38;5;124m'\u001B[39m)\n\u001B[0;32m      3\u001B[0m filtered_df \u001B[38;5;241m=\u001B[39m merged_df[(merged_df[\u001B[38;5;124m'\u001B[39m\u001B[38;5;124mab\u001B[39m\u001B[38;5;124m'\u001B[39m] \u001B[38;5;241m>\u001B[39m\u001B[38;5;241m=\u001B[39m \u001B[38;5;241m100\u001B[39m) \u001B[38;5;241m&\u001B[39m (merged_df[\u001B[38;5;124m'\u001B[39m\u001B[38;5;124myear\u001B[39m\u001B[38;5;124m'\u001B[39m]\u001B[38;5;241m==\u001B[39m\u001B[38;5;241m2000\u001B[39m)]\n\u001B[1;32m----> 4\u001B[0m grouped_df \u001B[38;5;241m=\u001B[39m \u001B[43mfiltered_df\u001B[49m\u001B[38;5;241;43m.\u001B[39;49m\u001B[43mgroupby\u001B[49m\u001B[43m(\u001B[49m\u001B[43m[\u001B[49m\u001B[38;5;124;43m'\u001B[39;49m\u001B[38;5;124;43mplayer_id\u001B[39;49m\u001B[38;5;124;43m'\u001B[39;49m\u001B[43m,\u001B[49m\u001B[43m \u001B[49m\u001B[38;5;124;43m'\u001B[39;49m\u001B[38;5;124;43mfull_name\u001B[39;49m\u001B[38;5;124;43m'\u001B[39;49m\u001B[43m]\u001B[49m\u001B[43m)\u001B[49m[[\u001B[38;5;124m'\u001B[39m\u001B[38;5;124mab\u001B[39m\u001B[38;5;124m'\u001B[39m,\u001B[38;5;124m'\u001B[39m\u001B[38;5;124mhr\u001B[39m\u001B[38;5;124m'\u001B[39m]]\u001B[38;5;241m.\u001B[39msum()\u001B[38;5;241m.\u001B[39mreset_index()\n\u001B[0;32m      5\u001B[0m grouped_df[\u001B[38;5;124m'\u001B[39m\u001B[38;5;124mHomeruns_per_ab\u001B[39m\u001B[38;5;124m'\u001B[39m] \u001B[38;5;241m=\u001B[39m \u001B[38;5;28mround\u001B[39m(grouped_df[\u001B[38;5;124m'\u001B[39m\u001B[38;5;124mhr\u001B[39m\u001B[38;5;124m'\u001B[39m] \u001B[38;5;241m/\u001B[39m grouped_df[\u001B[38;5;124m'\u001B[39m\u001B[38;5;124mab\u001B[39m\u001B[38;5;124m'\u001B[39m],\u001B[38;5;241m3\u001B[39m)\n\u001B[0;32m      6\u001B[0m result_df \u001B[38;5;241m=\u001B[39m grouped_df\u001B[38;5;241m.\u001B[39msort_values(by\u001B[38;5;241m=\u001B[39m\u001B[38;5;124m'\u001B[39m\u001B[38;5;124mHomeruns_per_ab\u001B[39m\u001B[38;5;124m'\u001B[39m, ascending\u001B[38;5;241m=\u001B[39m\u001B[38;5;28;01mFalse\u001B[39;00m)\u001B[38;5;241m.\u001B[39mhead(\u001B[38;5;241m50\u001B[39m)\u001B[38;5;241m.\u001B[39mreset_index(drop\u001B[38;5;241m=\u001B[39m\u001B[38;5;28;01mTrue\u001B[39;00m)\n",
      "File \u001B[1;32m~\\AppData\\Local\\Programs\\Python\\Python39\\lib\\site-packages\\pandas\\core\\frame.py:8872\u001B[0m, in \u001B[0;36mDataFrame.groupby\u001B[1;34m(self, by, axis, level, as_index, sort, group_keys, observed, dropna)\u001B[0m\n\u001B[0;32m   8869\u001B[0m \u001B[38;5;28;01mif\u001B[39;00m level \u001B[38;5;129;01mis\u001B[39;00m \u001B[38;5;28;01mNone\u001B[39;00m \u001B[38;5;129;01mand\u001B[39;00m by \u001B[38;5;129;01mis\u001B[39;00m \u001B[38;5;28;01mNone\u001B[39;00m:\n\u001B[0;32m   8870\u001B[0m     \u001B[38;5;28;01mraise\u001B[39;00m \u001B[38;5;167;01mTypeError\u001B[39;00m(\u001B[38;5;124m\"\u001B[39m\u001B[38;5;124mYou have to supply one of \u001B[39m\u001B[38;5;124m'\u001B[39m\u001B[38;5;124mby\u001B[39m\u001B[38;5;124m'\u001B[39m\u001B[38;5;124m and \u001B[39m\u001B[38;5;124m'\u001B[39m\u001B[38;5;124mlevel\u001B[39m\u001B[38;5;124m'\u001B[39m\u001B[38;5;124m\"\u001B[39m)\n\u001B[1;32m-> 8872\u001B[0m \u001B[38;5;28;01mreturn\u001B[39;00m \u001B[43mDataFrameGroupBy\u001B[49m\u001B[43m(\u001B[49m\n\u001B[0;32m   8873\u001B[0m \u001B[43m    \u001B[49m\u001B[43mobj\u001B[49m\u001B[38;5;241;43m=\u001B[39;49m\u001B[38;5;28;43mself\u001B[39;49m\u001B[43m,\u001B[49m\n\u001B[0;32m   8874\u001B[0m \u001B[43m    \u001B[49m\u001B[43mkeys\u001B[49m\u001B[38;5;241;43m=\u001B[39;49m\u001B[43mby\u001B[49m\u001B[43m,\u001B[49m\n\u001B[0;32m   8875\u001B[0m \u001B[43m    \u001B[49m\u001B[43maxis\u001B[49m\u001B[38;5;241;43m=\u001B[39;49m\u001B[43maxis\u001B[49m\u001B[43m,\u001B[49m\n\u001B[0;32m   8876\u001B[0m \u001B[43m    \u001B[49m\u001B[43mlevel\u001B[49m\u001B[38;5;241;43m=\u001B[39;49m\u001B[43mlevel\u001B[49m\u001B[43m,\u001B[49m\n\u001B[0;32m   8877\u001B[0m \u001B[43m    \u001B[49m\u001B[43mas_index\u001B[49m\u001B[38;5;241;43m=\u001B[39;49m\u001B[43mas_index\u001B[49m\u001B[43m,\u001B[49m\n\u001B[0;32m   8878\u001B[0m \u001B[43m    \u001B[49m\u001B[43msort\u001B[49m\u001B[38;5;241;43m=\u001B[39;49m\u001B[43msort\u001B[49m\u001B[43m,\u001B[49m\n\u001B[0;32m   8879\u001B[0m \u001B[43m    \u001B[49m\u001B[43mgroup_keys\u001B[49m\u001B[38;5;241;43m=\u001B[39;49m\u001B[43mgroup_keys\u001B[49m\u001B[43m,\u001B[49m\n\u001B[0;32m   8880\u001B[0m \u001B[43m    \u001B[49m\u001B[43mobserved\u001B[49m\u001B[38;5;241;43m=\u001B[39;49m\u001B[43mobserved\u001B[49m\u001B[43m,\u001B[49m\n\u001B[0;32m   8881\u001B[0m \u001B[43m    \u001B[49m\u001B[43mdropna\u001B[49m\u001B[38;5;241;43m=\u001B[39;49m\u001B[43mdropna\u001B[49m\u001B[43m,\u001B[49m\n\u001B[0;32m   8882\u001B[0m \u001B[43m\u001B[49m\u001B[43m)\u001B[49m\n",
      "File \u001B[1;32m~\\AppData\\Local\\Programs\\Python\\Python39\\lib\\site-packages\\pandas\\core\\groupby\\groupby.py:1274\u001B[0m, in \u001B[0;36mGroupBy.__init__\u001B[1;34m(self, obj, keys, axis, level, grouper, exclusions, selection, as_index, sort, group_keys, observed, dropna)\u001B[0m\n\u001B[0;32m   1271\u001B[0m \u001B[38;5;28mself\u001B[39m\u001B[38;5;241m.\u001B[39mdropna \u001B[38;5;241m=\u001B[39m dropna\n\u001B[0;32m   1273\u001B[0m \u001B[38;5;28;01mif\u001B[39;00m grouper \u001B[38;5;129;01mis\u001B[39;00m \u001B[38;5;28;01mNone\u001B[39;00m:\n\u001B[1;32m-> 1274\u001B[0m     grouper, exclusions, obj \u001B[38;5;241m=\u001B[39m \u001B[43mget_grouper\u001B[49m\u001B[43m(\u001B[49m\n\u001B[0;32m   1275\u001B[0m \u001B[43m        \u001B[49m\u001B[43mobj\u001B[49m\u001B[43m,\u001B[49m\n\u001B[0;32m   1276\u001B[0m \u001B[43m        \u001B[49m\u001B[43mkeys\u001B[49m\u001B[43m,\u001B[49m\n\u001B[0;32m   1277\u001B[0m \u001B[43m        \u001B[49m\u001B[43maxis\u001B[49m\u001B[38;5;241;43m=\u001B[39;49m\u001B[43maxis\u001B[49m\u001B[43m,\u001B[49m\n\u001B[0;32m   1278\u001B[0m \u001B[43m        \u001B[49m\u001B[43mlevel\u001B[49m\u001B[38;5;241;43m=\u001B[39;49m\u001B[43mlevel\u001B[49m\u001B[43m,\u001B[49m\n\u001B[0;32m   1279\u001B[0m \u001B[43m        \u001B[49m\u001B[43msort\u001B[49m\u001B[38;5;241;43m=\u001B[39;49m\u001B[43msort\u001B[49m\u001B[43m,\u001B[49m\n\u001B[0;32m   1280\u001B[0m \u001B[43m        \u001B[49m\u001B[43mobserved\u001B[49m\u001B[38;5;241;43m=\u001B[39;49m\u001B[38;5;28;43;01mFalse\u001B[39;49;00m\u001B[43m \u001B[49m\u001B[38;5;28;43;01mif\u001B[39;49;00m\u001B[43m \u001B[49m\u001B[43mobserved\u001B[49m\u001B[43m \u001B[49m\u001B[38;5;129;43;01mis\u001B[39;49;00m\u001B[43m \u001B[49m\u001B[43mlib\u001B[49m\u001B[38;5;241;43m.\u001B[39;49m\u001B[43mno_default\u001B[49m\u001B[43m \u001B[49m\u001B[38;5;28;43;01melse\u001B[39;49;00m\u001B[43m \u001B[49m\u001B[43mobserved\u001B[49m\u001B[43m,\u001B[49m\n\u001B[0;32m   1281\u001B[0m \u001B[43m        \u001B[49m\u001B[43mdropna\u001B[49m\u001B[38;5;241;43m=\u001B[39;49m\u001B[38;5;28;43mself\u001B[39;49m\u001B[38;5;241;43m.\u001B[39;49m\u001B[43mdropna\u001B[49m\u001B[43m,\u001B[49m\n\u001B[0;32m   1282\u001B[0m \u001B[43m    \u001B[49m\u001B[43m)\u001B[49m\n\u001B[0;32m   1284\u001B[0m \u001B[38;5;28;01mif\u001B[39;00m observed \u001B[38;5;129;01mis\u001B[39;00m lib\u001B[38;5;241m.\u001B[39mno_default:\n\u001B[0;32m   1285\u001B[0m     \u001B[38;5;28;01mif\u001B[39;00m \u001B[38;5;28many\u001B[39m(ping\u001B[38;5;241m.\u001B[39m_passed_categorical \u001B[38;5;28;01mfor\u001B[39;00m ping \u001B[38;5;129;01min\u001B[39;00m grouper\u001B[38;5;241m.\u001B[39mgroupings):\n",
      "File \u001B[1;32m~\\AppData\\Local\\Programs\\Python\\Python39\\lib\\site-packages\\pandas\\core\\groupby\\grouper.py:1009\u001B[0m, in \u001B[0;36mget_grouper\u001B[1;34m(obj, key, axis, level, sort, observed, validate, dropna)\u001B[0m\n\u001B[0;32m   1007\u001B[0m         in_axis, level, gpr \u001B[38;5;241m=\u001B[39m \u001B[38;5;28;01mFalse\u001B[39;00m, gpr, \u001B[38;5;28;01mNone\u001B[39;00m\n\u001B[0;32m   1008\u001B[0m     \u001B[38;5;28;01melse\u001B[39;00m:\n\u001B[1;32m-> 1009\u001B[0m         \u001B[38;5;28;01mraise\u001B[39;00m \u001B[38;5;167;01mKeyError\u001B[39;00m(gpr)\n\u001B[0;32m   1010\u001B[0m \u001B[38;5;28;01melif\u001B[39;00m \u001B[38;5;28misinstance\u001B[39m(gpr, Grouper) \u001B[38;5;129;01mand\u001B[39;00m gpr\u001B[38;5;241m.\u001B[39mkey \u001B[38;5;129;01mis\u001B[39;00m \u001B[38;5;129;01mnot\u001B[39;00m \u001B[38;5;28;01mNone\u001B[39;00m:\n\u001B[0;32m   1011\u001B[0m     \u001B[38;5;66;03m# Add key to exclusions\u001B[39;00m\n\u001B[0;32m   1012\u001B[0m     exclusions\u001B[38;5;241m.\u001B[39madd(gpr\u001B[38;5;241m.\u001B[39mkey)\n",
      "\u001B[1;31mKeyError\u001B[0m: 'full_name'"
     ]
    }
   ],
   "source": [
    "#4\n",
    "merged_df = pd.merge(batting_2, player, on = 'player_id')\n",
    "filtered_df = merged_df[(merged_df['ab'] >= 100) & (merged_df['year']==2000)]\n",
    "grouped_df = filtered_df.groupby(['player_id', 'full_name'])[['ab','hr']].sum().reset_index()\n",
    "grouped_df['Homeruns_per_ab'] = round(grouped_df['hr'] / grouped_df['ab'],3)\n",
    "result_df = grouped_df.sort_values(by='Homeruns_per_ab', ascending=False).head(50).reset_index(drop=True)\n",
    "result_df"
   ],
   "metadata": {
    "collapsed": false,
    "ExecuteTime": {
     "end_time": "2023-11-17T23:25:04.090349Z",
     "start_time": "2023-11-17T23:25:03.969337500Z"
    }
   }
  },
  {
   "cell_type": "code",
   "execution_count": 38,
   "outputs": [
    {
     "data": {
      "text/plain": "    player_id       full_name       h       ab  batting_avg  \\\n0    ruthba01       Babe Ruth  2518.0   7216.0        0.349   \n1   gehrilo01      Lou Gehrig  2700.0   7935.0        0.340   \n2   duncama01  Mariano Duncan   136.0    400.0        0.340   \n3   dimagjo01    Joe DiMaggio  2214.0   6821.0        0.325   \n4   combsea01     Earle Combs  1852.0   5711.0        0.324   \n5   paschbe01     Ben Paschal   163.0    505.0        0.323   \n6   jamesdi01      Dion James   174.0    552.0        0.315   \n7   dickebi01     Bill Dickey  1931.0   6151.0        0.314   \n8   boggswa01      Wade Boggs   702.0   2240.0        0.313   \n9   meusebo01      Bob Meusel  1565.0   5032.0        0.311   \n10  jeterde01     Derek Jeter  3441.0  11084.0        0.310   \n11   canoro01   Robinson Cano  1649.0   5336.0        0.309   \n12  mattido01   Don Mattingly  2151.0   6991.0        0.308   \n13  watsobo01      Bob Watson   144.0    469.0        0.307   \n14   sojolu01       Luis Sojo    66.0    215.0        0.307   \n15  chapmbe01     Ben Chapman  1042.0   3400.0        0.306   \n16  maddoel01  Elliott Maddox   208.0    684.0        0.304   \n17  pinielo01    Lou Piniella   819.0   2699.0        0.303   \n18  schanwa01    Wally Schang   443.0   1460.0        0.303   \n19  oneilpa01    Paul O'Neill  1426.0   4700.0        0.303   \n20   wittwh01     Whitey Witt   522.0   1724.0        0.303   \n21  blombro01    Ron Blomberg   261.0    864.0        0.302   \n22  easlemi01     Mike Easler   148.0    490.0        0.302   \n23  rivermi01   Mickey Rivers   598.0   2000.0        0.299   \n24  raineti01      Tim Raines   237.0    793.0        0.299   \n\n   batting_performance  \n0            Above_avg  \n1            Above_avg  \n2            Above_avg  \n3            Above_avg  \n4            Above_avg  \n5            Above_avg  \n6            Above_avg  \n7            Above_avg  \n8            Above_avg  \n9            Above_avg  \n10           Above_avg  \n11           Above_avg  \n12           Above_avg  \n13           Above_avg  \n14           Above_avg  \n15           Above_avg  \n16           Above_avg  \n17           Above_avg  \n18           Above_avg  \n19           Above_avg  \n20           Above_avg  \n21           Above_avg  \n22           Above_avg  \n23           Above_avg  \n24           Above_avg  ",
      "text/html": "<div>\n<style scoped>\n    .dataframe tbody tr th:only-of-type {\n        vertical-align: middle;\n    }\n\n    .dataframe tbody tr th {\n        vertical-align: top;\n    }\n\n    .dataframe thead th {\n        text-align: right;\n    }\n</style>\n<table border=\"1\" class=\"dataframe\">\n  <thead>\n    <tr style=\"text-align: right;\">\n      <th></th>\n      <th>player_id</th>\n      <th>full_name</th>\n      <th>h</th>\n      <th>ab</th>\n      <th>batting_avg</th>\n      <th>batting_performance</th>\n    </tr>\n  </thead>\n  <tbody>\n    <tr>\n      <th>0</th>\n      <td>ruthba01</td>\n      <td>Babe Ruth</td>\n      <td>2518.0</td>\n      <td>7216.0</td>\n      <td>0.349</td>\n      <td>Above_avg</td>\n    </tr>\n    <tr>\n      <th>1</th>\n      <td>gehrilo01</td>\n      <td>Lou Gehrig</td>\n      <td>2700.0</td>\n      <td>7935.0</td>\n      <td>0.340</td>\n      <td>Above_avg</td>\n    </tr>\n    <tr>\n      <th>2</th>\n      <td>duncama01</td>\n      <td>Mariano Duncan</td>\n      <td>136.0</td>\n      <td>400.0</td>\n      <td>0.340</td>\n      <td>Above_avg</td>\n    </tr>\n    <tr>\n      <th>3</th>\n      <td>dimagjo01</td>\n      <td>Joe DiMaggio</td>\n      <td>2214.0</td>\n      <td>6821.0</td>\n      <td>0.325</td>\n      <td>Above_avg</td>\n    </tr>\n    <tr>\n      <th>4</th>\n      <td>combsea01</td>\n      <td>Earle Combs</td>\n      <td>1852.0</td>\n      <td>5711.0</td>\n      <td>0.324</td>\n      <td>Above_avg</td>\n    </tr>\n    <tr>\n      <th>5</th>\n      <td>paschbe01</td>\n      <td>Ben Paschal</td>\n      <td>163.0</td>\n      <td>505.0</td>\n      <td>0.323</td>\n      <td>Above_avg</td>\n    </tr>\n    <tr>\n      <th>6</th>\n      <td>jamesdi01</td>\n      <td>Dion James</td>\n      <td>174.0</td>\n      <td>552.0</td>\n      <td>0.315</td>\n      <td>Above_avg</td>\n    </tr>\n    <tr>\n      <th>7</th>\n      <td>dickebi01</td>\n      <td>Bill Dickey</td>\n      <td>1931.0</td>\n      <td>6151.0</td>\n      <td>0.314</td>\n      <td>Above_avg</td>\n    </tr>\n    <tr>\n      <th>8</th>\n      <td>boggswa01</td>\n      <td>Wade Boggs</td>\n      <td>702.0</td>\n      <td>2240.0</td>\n      <td>0.313</td>\n      <td>Above_avg</td>\n    </tr>\n    <tr>\n      <th>9</th>\n      <td>meusebo01</td>\n      <td>Bob Meusel</td>\n      <td>1565.0</td>\n      <td>5032.0</td>\n      <td>0.311</td>\n      <td>Above_avg</td>\n    </tr>\n    <tr>\n      <th>10</th>\n      <td>jeterde01</td>\n      <td>Derek Jeter</td>\n      <td>3441.0</td>\n      <td>11084.0</td>\n      <td>0.310</td>\n      <td>Above_avg</td>\n    </tr>\n    <tr>\n      <th>11</th>\n      <td>canoro01</td>\n      <td>Robinson Cano</td>\n      <td>1649.0</td>\n      <td>5336.0</td>\n      <td>0.309</td>\n      <td>Above_avg</td>\n    </tr>\n    <tr>\n      <th>12</th>\n      <td>mattido01</td>\n      <td>Don Mattingly</td>\n      <td>2151.0</td>\n      <td>6991.0</td>\n      <td>0.308</td>\n      <td>Above_avg</td>\n    </tr>\n    <tr>\n      <th>13</th>\n      <td>watsobo01</td>\n      <td>Bob Watson</td>\n      <td>144.0</td>\n      <td>469.0</td>\n      <td>0.307</td>\n      <td>Above_avg</td>\n    </tr>\n    <tr>\n      <th>14</th>\n      <td>sojolu01</td>\n      <td>Luis Sojo</td>\n      <td>66.0</td>\n      <td>215.0</td>\n      <td>0.307</td>\n      <td>Above_avg</td>\n    </tr>\n    <tr>\n      <th>15</th>\n      <td>chapmbe01</td>\n      <td>Ben Chapman</td>\n      <td>1042.0</td>\n      <td>3400.0</td>\n      <td>0.306</td>\n      <td>Above_avg</td>\n    </tr>\n    <tr>\n      <th>16</th>\n      <td>maddoel01</td>\n      <td>Elliott Maddox</td>\n      <td>208.0</td>\n      <td>684.0</td>\n      <td>0.304</td>\n      <td>Above_avg</td>\n    </tr>\n    <tr>\n      <th>17</th>\n      <td>pinielo01</td>\n      <td>Lou Piniella</td>\n      <td>819.0</td>\n      <td>2699.0</td>\n      <td>0.303</td>\n      <td>Above_avg</td>\n    </tr>\n    <tr>\n      <th>18</th>\n      <td>schanwa01</td>\n      <td>Wally Schang</td>\n      <td>443.0</td>\n      <td>1460.0</td>\n      <td>0.303</td>\n      <td>Above_avg</td>\n    </tr>\n    <tr>\n      <th>19</th>\n      <td>oneilpa01</td>\n      <td>Paul O'Neill</td>\n      <td>1426.0</td>\n      <td>4700.0</td>\n      <td>0.303</td>\n      <td>Above_avg</td>\n    </tr>\n    <tr>\n      <th>20</th>\n      <td>wittwh01</td>\n      <td>Whitey Witt</td>\n      <td>522.0</td>\n      <td>1724.0</td>\n      <td>0.303</td>\n      <td>Above_avg</td>\n    </tr>\n    <tr>\n      <th>21</th>\n      <td>blombro01</td>\n      <td>Ron Blomberg</td>\n      <td>261.0</td>\n      <td>864.0</td>\n      <td>0.302</td>\n      <td>Above_avg</td>\n    </tr>\n    <tr>\n      <th>22</th>\n      <td>easlemi01</td>\n      <td>Mike Easler</td>\n      <td>148.0</td>\n      <td>490.0</td>\n      <td>0.302</td>\n      <td>Above_avg</td>\n    </tr>\n    <tr>\n      <th>23</th>\n      <td>rivermi01</td>\n      <td>Mickey Rivers</td>\n      <td>598.0</td>\n      <td>2000.0</td>\n      <td>0.299</td>\n      <td>Above_avg</td>\n    </tr>\n    <tr>\n      <th>24</th>\n      <td>raineti01</td>\n      <td>Tim Raines</td>\n      <td>237.0</td>\n      <td>793.0</td>\n      <td>0.299</td>\n      <td>Above_avg</td>\n    </tr>\n  </tbody>\n</table>\n</div>"
     },
     "execution_count": 38,
     "metadata": {},
     "output_type": "execute_result"
    }
   ],
   "source": [
    "#5\n",
    "league_avg = batting_2[batting_2['ab']>=100]\n",
    "league_avg = league_avg.h.sum() / league_avg.ab.sum()\n",
    "league_avg\n",
    "\n",
    "merged_df = pd.merge(batting, player, on='player_id')\n",
    "filtered_df = merged_df[(merged_df['ab']>=200) & (merged_df['team_id']=='NYA')]\n",
    "grouped_df = filtered_df.groupby(['player_id', 'full_name'])[['h','ab']].sum().reset_index()\n",
    "grouped_df['batting_avg'] = round(grouped_df['h'] / grouped_df['ab'],3)\n",
    "grouped_df['batting_performance'] = grouped_df['batting_avg'].apply(lambda x: 'Above_avg' if x > league_avg else 'Below_avg')\n",
    "ordered_df = grouped_df.sort_values(by='batting_avg', ascending=False).head(25).reset_index(drop=True)\n",
    "ordered_df"
   ],
   "metadata": {
    "collapsed": false,
    "ExecuteTime": {
     "end_time": "2023-11-08T11:57:43.030631800Z",
     "start_time": "2023-11-08T11:57:42.740985900Z"
    }
   }
  },
  {
   "cell_type": "code",
   "execution_count": 172,
   "outputs": [
    {
     "data": {
      "text/plain": "                             name  attendance     g  avg_attendance_per_game\n21               New York Yankees  58491801.0  2590                  22584.0\n15            Los Angeles Dodgers  55479368.0  2591                  21412.0\n28            St. Louis Cardinals  52779669.0  2591                  20370.0\n26           San Francisco Giants  51539703.0  2590                  19899.0\n14  Los Angeles Angels of Anaheim  35361353.0  1782                  19844.0\n5                    Chicago Cubs  47557886.0  2590                  18362.0\n4                  Boston Red Sox  46097292.0  2591                  17791.0\n23          Philadelphia Phillies  44183070.0  2591                  17053.0\n20                  New York Mets  44026638.0  2590                  16999.0\n9                Colorado Rockies  41978667.0  2593                  16189.0\n31                  Texas Rangers  41050712.0  2593                  15831.0\n0                  Anaheim Angels  12810219.0   810                  15815.0\n27               Seattle Mariners  40344500.0  2592                  15565.0\n2                  Atlanta Braves  40320936.0  2591                  15562.0\n17              Milwaukee Brewers  40188606.0  2592                  15505.0\n12                 Houston Astros  39731913.0  2592                  15329.0\n10                 Detroit Tigers  39444074.0  2591                  15223.0\n1            Arizona Diamondbacks  37946488.0  2592                  14640.0\n25               San Diego Padres  37885083.0  2593                  14611.0\n3               Baltimore Orioles  37766746.0  2592                  14571.0\n33           Washington Nationals  24957479.0  1780                  14021.0\n18                Minnesota Twins  36016389.0  2593                  13890.0\n7                 Cincinnati Reds  34950170.0  2594                  13473.0\n6               Chicago White Sox  33366890.0  2593                  12868.0\n32              Toronto Blue Jays  33162614.0  2591                  12799.0\n8               Cleveland Indians  32255283.0  2591                  12449.0\n24             Pittsburgh Pirates  30674181.0  2589                  11848.0\n22              Oakland Athletics  29561870.0  2590                  11414.0\n16                  Miami Marlins   7290284.0   648                  11250.0\n13             Kansas City Royals  27098544.0  2592                  10455.0\n30                 Tampa Bay Rays  12863080.0  1297                   9918.0\n11                Florida Marlins  16518116.0  1942                   8506.0\n29           Tampa Bay Devil Rays  10045608.0  1293                   7769.0\n19                 Montreal Expos   4156251.0   810                   5131.0",
      "text/html": "<div>\n<style scoped>\n    .dataframe tbody tr th:only-of-type {\n        vertical-align: middle;\n    }\n\n    .dataframe tbody tr th {\n        vertical-align: top;\n    }\n\n    .dataframe thead th {\n        text-align: right;\n    }\n</style>\n<table border=\"1\" class=\"dataframe\">\n  <thead>\n    <tr style=\"text-align: right;\">\n      <th></th>\n      <th>name</th>\n      <th>attendance</th>\n      <th>g</th>\n      <th>avg_attendance_per_game</th>\n    </tr>\n  </thead>\n  <tbody>\n    <tr>\n      <th>21</th>\n      <td>New York Yankees</td>\n      <td>58491801.0</td>\n      <td>2590</td>\n      <td>22584.0</td>\n    </tr>\n    <tr>\n      <th>15</th>\n      <td>Los Angeles Dodgers</td>\n      <td>55479368.0</td>\n      <td>2591</td>\n      <td>21412.0</td>\n    </tr>\n    <tr>\n      <th>28</th>\n      <td>St. Louis Cardinals</td>\n      <td>52779669.0</td>\n      <td>2591</td>\n      <td>20370.0</td>\n    </tr>\n    <tr>\n      <th>26</th>\n      <td>San Francisco Giants</td>\n      <td>51539703.0</td>\n      <td>2590</td>\n      <td>19899.0</td>\n    </tr>\n    <tr>\n      <th>14</th>\n      <td>Los Angeles Angels of Anaheim</td>\n      <td>35361353.0</td>\n      <td>1782</td>\n      <td>19844.0</td>\n    </tr>\n    <tr>\n      <th>5</th>\n      <td>Chicago Cubs</td>\n      <td>47557886.0</td>\n      <td>2590</td>\n      <td>18362.0</td>\n    </tr>\n    <tr>\n      <th>4</th>\n      <td>Boston Red Sox</td>\n      <td>46097292.0</td>\n      <td>2591</td>\n      <td>17791.0</td>\n    </tr>\n    <tr>\n      <th>23</th>\n      <td>Philadelphia Phillies</td>\n      <td>44183070.0</td>\n      <td>2591</td>\n      <td>17053.0</td>\n    </tr>\n    <tr>\n      <th>20</th>\n      <td>New York Mets</td>\n      <td>44026638.0</td>\n      <td>2590</td>\n      <td>16999.0</td>\n    </tr>\n    <tr>\n      <th>9</th>\n      <td>Colorado Rockies</td>\n      <td>41978667.0</td>\n      <td>2593</td>\n      <td>16189.0</td>\n    </tr>\n    <tr>\n      <th>31</th>\n      <td>Texas Rangers</td>\n      <td>41050712.0</td>\n      <td>2593</td>\n      <td>15831.0</td>\n    </tr>\n    <tr>\n      <th>0</th>\n      <td>Anaheim Angels</td>\n      <td>12810219.0</td>\n      <td>810</td>\n      <td>15815.0</td>\n    </tr>\n    <tr>\n      <th>27</th>\n      <td>Seattle Mariners</td>\n      <td>40344500.0</td>\n      <td>2592</td>\n      <td>15565.0</td>\n    </tr>\n    <tr>\n      <th>2</th>\n      <td>Atlanta Braves</td>\n      <td>40320936.0</td>\n      <td>2591</td>\n      <td>15562.0</td>\n    </tr>\n    <tr>\n      <th>17</th>\n      <td>Milwaukee Brewers</td>\n      <td>40188606.0</td>\n      <td>2592</td>\n      <td>15505.0</td>\n    </tr>\n    <tr>\n      <th>12</th>\n      <td>Houston Astros</td>\n      <td>39731913.0</td>\n      <td>2592</td>\n      <td>15329.0</td>\n    </tr>\n    <tr>\n      <th>10</th>\n      <td>Detroit Tigers</td>\n      <td>39444074.0</td>\n      <td>2591</td>\n      <td>15223.0</td>\n    </tr>\n    <tr>\n      <th>1</th>\n      <td>Arizona Diamondbacks</td>\n      <td>37946488.0</td>\n      <td>2592</td>\n      <td>14640.0</td>\n    </tr>\n    <tr>\n      <th>25</th>\n      <td>San Diego Padres</td>\n      <td>37885083.0</td>\n      <td>2593</td>\n      <td>14611.0</td>\n    </tr>\n    <tr>\n      <th>3</th>\n      <td>Baltimore Orioles</td>\n      <td>37766746.0</td>\n      <td>2592</td>\n      <td>14571.0</td>\n    </tr>\n    <tr>\n      <th>33</th>\n      <td>Washington Nationals</td>\n      <td>24957479.0</td>\n      <td>1780</td>\n      <td>14021.0</td>\n    </tr>\n    <tr>\n      <th>18</th>\n      <td>Minnesota Twins</td>\n      <td>36016389.0</td>\n      <td>2593</td>\n      <td>13890.0</td>\n    </tr>\n    <tr>\n      <th>7</th>\n      <td>Cincinnati Reds</td>\n      <td>34950170.0</td>\n      <td>2594</td>\n      <td>13473.0</td>\n    </tr>\n    <tr>\n      <th>6</th>\n      <td>Chicago White Sox</td>\n      <td>33366890.0</td>\n      <td>2593</td>\n      <td>12868.0</td>\n    </tr>\n    <tr>\n      <th>32</th>\n      <td>Toronto Blue Jays</td>\n      <td>33162614.0</td>\n      <td>2591</td>\n      <td>12799.0</td>\n    </tr>\n    <tr>\n      <th>8</th>\n      <td>Cleveland Indians</td>\n      <td>32255283.0</td>\n      <td>2591</td>\n      <td>12449.0</td>\n    </tr>\n    <tr>\n      <th>24</th>\n      <td>Pittsburgh Pirates</td>\n      <td>30674181.0</td>\n      <td>2589</td>\n      <td>11848.0</td>\n    </tr>\n    <tr>\n      <th>22</th>\n      <td>Oakland Athletics</td>\n      <td>29561870.0</td>\n      <td>2590</td>\n      <td>11414.0</td>\n    </tr>\n    <tr>\n      <th>16</th>\n      <td>Miami Marlins</td>\n      <td>7290284.0</td>\n      <td>648</td>\n      <td>11250.0</td>\n    </tr>\n    <tr>\n      <th>13</th>\n      <td>Kansas City Royals</td>\n      <td>27098544.0</td>\n      <td>2592</td>\n      <td>10455.0</td>\n    </tr>\n    <tr>\n      <th>30</th>\n      <td>Tampa Bay Rays</td>\n      <td>12863080.0</td>\n      <td>1297</td>\n      <td>9918.0</td>\n    </tr>\n    <tr>\n      <th>11</th>\n      <td>Florida Marlins</td>\n      <td>16518116.0</td>\n      <td>1942</td>\n      <td>8506.0</td>\n    </tr>\n    <tr>\n      <th>29</th>\n      <td>Tampa Bay Devil Rays</td>\n      <td>10045608.0</td>\n      <td>1293</td>\n      <td>7769.0</td>\n    </tr>\n    <tr>\n      <th>19</th>\n      <td>Montreal Expos</td>\n      <td>4156251.0</td>\n      <td>810</td>\n      <td>5131.0</td>\n    </tr>\n  </tbody>\n</table>\n</div>"
     },
     "execution_count": 172,
     "metadata": {},
     "output_type": "execute_result"
    }
   ],
   "source": [
    "#6\n",
    "filtered_df = team[team['year']>=2000].groupby('name')[['attendance', 'g']].sum().reset_index()\n",
    "filtered_df['avg_attendance_per_game'] = round(filtered_df['attendance'] / filtered_df['g'])\n",
    "result_df = filtered_df.sort_values(by='avg_attendance_per_game', ascending=False)\n",
    "result_df"
   ],
   "metadata": {
    "collapsed": false,
    "ExecuteTime": {
     "end_time": "2023-11-03T16:37:26.704347500Z",
     "start_time": "2023-11-03T16:37:26.670139600Z"
    }
   }
  },
  {
   "cell_type": "code",
   "execution_count": 39,
   "outputs": [
    {
     "data": {
      "text/plain": "   player_id          full_name  award_id\n0  alexape01     Pete Alexander         3\n1  johnswa01     Walter Johnson         3\n2  koufasa01       Sandy Koufax         3\n3  gomezle01        Lefty Gomez         2\n4  grovele01        Lefty Grove         2\n5  clemero02      Roger Clemens         2\n6  mathech01  Christy Mathewson         2\n7  clarkjo01      John Clarkson         1\n8  peavyja01         Jake Peavy         1\n9  waltebu01      Bucky Walters         1",
      "text/html": "<div>\n<style scoped>\n    .dataframe tbody tr th:only-of-type {\n        vertical-align: middle;\n    }\n\n    .dataframe tbody tr th {\n        vertical-align: top;\n    }\n\n    .dataframe thead th {\n        text-align: right;\n    }\n</style>\n<table border=\"1\" class=\"dataframe\">\n  <thead>\n    <tr style=\"text-align: right;\">\n      <th></th>\n      <th>player_id</th>\n      <th>full_name</th>\n      <th>award_id</th>\n    </tr>\n  </thead>\n  <tbody>\n    <tr>\n      <th>0</th>\n      <td>alexape01</td>\n      <td>Pete Alexander</td>\n      <td>3</td>\n    </tr>\n    <tr>\n      <th>1</th>\n      <td>johnswa01</td>\n      <td>Walter Johnson</td>\n      <td>3</td>\n    </tr>\n    <tr>\n      <th>2</th>\n      <td>koufasa01</td>\n      <td>Sandy Koufax</td>\n      <td>3</td>\n    </tr>\n    <tr>\n      <th>3</th>\n      <td>gomezle01</td>\n      <td>Lefty Gomez</td>\n      <td>2</td>\n    </tr>\n    <tr>\n      <th>4</th>\n      <td>grovele01</td>\n      <td>Lefty Grove</td>\n      <td>2</td>\n    </tr>\n    <tr>\n      <th>5</th>\n      <td>clemero02</td>\n      <td>Roger Clemens</td>\n      <td>2</td>\n    </tr>\n    <tr>\n      <th>6</th>\n      <td>mathech01</td>\n      <td>Christy Mathewson</td>\n      <td>2</td>\n    </tr>\n    <tr>\n      <th>7</th>\n      <td>clarkjo01</td>\n      <td>John Clarkson</td>\n      <td>1</td>\n    </tr>\n    <tr>\n      <th>8</th>\n      <td>peavyja01</td>\n      <td>Jake Peavy</td>\n      <td>1</td>\n    </tr>\n    <tr>\n      <th>9</th>\n      <td>waltebu01</td>\n      <td>Bucky Walters</td>\n      <td>1</td>\n    </tr>\n  </tbody>\n</table>\n</div>"
     },
     "execution_count": 39,
     "metadata": {},
     "output_type": "execute_result"
    }
   ],
   "source": [
    "#7\n",
    "merged_df = pd.merge(player, player_award, on = 'player_id')\n",
    "filtered_df = merged_df[merged_df['award_id']=='Pitching Triple Crown']\n",
    "grouped_df = filtered_df.groupby(['player_id', 'full_name']).award_id.count().reset_index().sort_values(by='award_id', ascending=False).head(10).reset_index(drop=True)\n",
    "grouped_df"
   ],
   "metadata": {
    "collapsed": false,
    "ExecuteTime": {
     "end_time": "2023-11-08T11:58:17.814080400Z",
     "start_time": "2023-11-08T11:58:17.742549500Z"
    }
   }
  },
  {
   "cell_type": "code",
   "execution_count": 15,
   "outputs": [
    {
     "data": {
      "text/plain": "   player_id          full_name  award_id\n0  alexape01     Pete Alexander         3\n1  johnswa01     Walter Johnson         3\n2  koufasa01       Sandy Koufax         3\n3  gomezle01        Lefty Gomez         2\n4  grovele01        Lefty Grove         2\n5  clemero02      Roger Clemens         2\n6  mathech01  Christy Mathewson         2\n7  clarkjo01      John Clarkson         1\n8  peavyja01         Jake Peavy         1\n9  waltebu01      Bucky Walters         1",
      "text/html": "<div>\n<style scoped>\n    .dataframe tbody tr th:only-of-type {\n        vertical-align: middle;\n    }\n\n    .dataframe tbody tr th {\n        vertical-align: top;\n    }\n\n    .dataframe thead th {\n        text-align: right;\n    }\n</style>\n<table border=\"1\" class=\"dataframe\">\n  <thead>\n    <tr style=\"text-align: right;\">\n      <th></th>\n      <th>player_id</th>\n      <th>full_name</th>\n      <th>award_id</th>\n    </tr>\n  </thead>\n  <tbody>\n    <tr>\n      <th>0</th>\n      <td>alexape01</td>\n      <td>Pete Alexander</td>\n      <td>3</td>\n    </tr>\n    <tr>\n      <th>1</th>\n      <td>johnswa01</td>\n      <td>Walter Johnson</td>\n      <td>3</td>\n    </tr>\n    <tr>\n      <th>2</th>\n      <td>koufasa01</td>\n      <td>Sandy Koufax</td>\n      <td>3</td>\n    </tr>\n    <tr>\n      <th>3</th>\n      <td>gomezle01</td>\n      <td>Lefty Gomez</td>\n      <td>2</td>\n    </tr>\n    <tr>\n      <th>4</th>\n      <td>grovele01</td>\n      <td>Lefty Grove</td>\n      <td>2</td>\n    </tr>\n    <tr>\n      <th>5</th>\n      <td>clemero02</td>\n      <td>Roger Clemens</td>\n      <td>2</td>\n    </tr>\n    <tr>\n      <th>6</th>\n      <td>mathech01</td>\n      <td>Christy Mathewson</td>\n      <td>2</td>\n    </tr>\n    <tr>\n      <th>7</th>\n      <td>clarkjo01</td>\n      <td>John Clarkson</td>\n      <td>1</td>\n    </tr>\n    <tr>\n      <th>8</th>\n      <td>peavyja01</td>\n      <td>Jake Peavy</td>\n      <td>1</td>\n    </tr>\n    <tr>\n      <th>9</th>\n      <td>waltebu01</td>\n      <td>Bucky Walters</td>\n      <td>1</td>\n    </tr>\n  </tbody>\n</table>\n</div>"
     },
     "execution_count": 15,
     "metadata": {},
     "output_type": "execute_result"
    }
   ],
   "source": [],
   "metadata": {
    "collapsed": false,
    "ExecuteTime": {
     "end_time": "2023-11-17T23:28:06.871952800Z",
     "start_time": "2023-11-17T23:28:06.836316600Z"
    }
   }
  },
  {
   "cell_type": "code",
   "execution_count": 4,
   "outputs": [
    {
     "data": {
      "text/plain": "   team_id  average_salary  max_salary salary_disparity\n20     PHI    4.295885e+06    25000000          481.95%\n0      ARI    2.132207e+06    12000000           462.8%\n12     LAA    4.444645e+06    24000000          439.98%\n16     MIN    4.310200e+06    23000000          433.62%\n8      COL    3.827544e+06    20000000          422.53%\n18     NYN    3.870667e+06    20000000          416.71%\n23     SEA    4.888348e+06    24857000          408.49%\n27     TEX    4.791426e+06    24000000          400.89%\n7      CLE    3.022888e+06    15000000          396.21%\n26     TBA    2.224870e+06    11000000          394.41%\n28     TOR    4.519696e+06    22000000          386.76%\n5      CHN    4.138547e+06    20000000          383.26%\n22     SDN    4.555435e+06    21250000          366.48%\n19     OAK    2.823339e+06    13000000          360.45%\n13     LAN    7.441103e+06    32571000          337.72%\n25     SLN    4.586212e+06    19500000          325.19%\n9      DET    6.891390e+06    28000000           306.3%\n15     MIL    3.477586e+06    14000000          302.58%\n1      ATL    2.990885e+06    12000000          301.22%\n29     WAS    5.365085e+06    21000000          291.42%\n14     MIA    2.835688e+06    11000000          287.91%\n10     HOU    2.580579e+06    10000000          287.51%\n21     PIT    3.065259e+06    11666666          280.61%\n4      CHA    4.161989e+06    15750000          278.42%\n3      BOS    5.659481e+06    19750000          248.97%\n24     SFN    6.100056e+06    21000000          244.26%\n6      CIN    4.187862e+06    14000000           234.3%\n2      BAL    4.108744e+06    13333333          224.51%\n17     NYA    7.336274e+06    23125000          215.21%\n11     KCA    4.152112e+06    12500000          201.05%",
      "text/html": "<div>\n<style scoped>\n    .dataframe tbody tr th:only-of-type {\n        vertical-align: middle;\n    }\n\n    .dataframe tbody tr th {\n        vertical-align: top;\n    }\n\n    .dataframe thead th {\n        text-align: right;\n    }\n</style>\n<table border=\"1\" class=\"dataframe\">\n  <thead>\n    <tr style=\"text-align: right;\">\n      <th></th>\n      <th>team_id</th>\n      <th>average_salary</th>\n      <th>max_salary</th>\n      <th>salary_disparity</th>\n    </tr>\n  </thead>\n  <tbody>\n    <tr>\n      <th>20</th>\n      <td>PHI</td>\n      <td>4.295885e+06</td>\n      <td>25000000</td>\n      <td>481.95%</td>\n    </tr>\n    <tr>\n      <th>0</th>\n      <td>ARI</td>\n      <td>2.132207e+06</td>\n      <td>12000000</td>\n      <td>462.8%</td>\n    </tr>\n    <tr>\n      <th>12</th>\n      <td>LAA</td>\n      <td>4.444645e+06</td>\n      <td>24000000</td>\n      <td>439.98%</td>\n    </tr>\n    <tr>\n      <th>16</th>\n      <td>MIN</td>\n      <td>4.310200e+06</td>\n      <td>23000000</td>\n      <td>433.62%</td>\n    </tr>\n    <tr>\n      <th>8</th>\n      <td>COL</td>\n      <td>3.827544e+06</td>\n      <td>20000000</td>\n      <td>422.53%</td>\n    </tr>\n    <tr>\n      <th>18</th>\n      <td>NYN</td>\n      <td>3.870667e+06</td>\n      <td>20000000</td>\n      <td>416.71%</td>\n    </tr>\n    <tr>\n      <th>23</th>\n      <td>SEA</td>\n      <td>4.888348e+06</td>\n      <td>24857000</td>\n      <td>408.49%</td>\n    </tr>\n    <tr>\n      <th>27</th>\n      <td>TEX</td>\n      <td>4.791426e+06</td>\n      <td>24000000</td>\n      <td>400.89%</td>\n    </tr>\n    <tr>\n      <th>7</th>\n      <td>CLE</td>\n      <td>3.022888e+06</td>\n      <td>15000000</td>\n      <td>396.21%</td>\n    </tr>\n    <tr>\n      <th>26</th>\n      <td>TBA</td>\n      <td>2.224870e+06</td>\n      <td>11000000</td>\n      <td>394.41%</td>\n    </tr>\n    <tr>\n      <th>28</th>\n      <td>TOR</td>\n      <td>4.519696e+06</td>\n      <td>22000000</td>\n      <td>386.76%</td>\n    </tr>\n    <tr>\n      <th>5</th>\n      <td>CHN</td>\n      <td>4.138547e+06</td>\n      <td>20000000</td>\n      <td>383.26%</td>\n    </tr>\n    <tr>\n      <th>22</th>\n      <td>SDN</td>\n      <td>4.555435e+06</td>\n      <td>21250000</td>\n      <td>366.48%</td>\n    </tr>\n    <tr>\n      <th>19</th>\n      <td>OAK</td>\n      <td>2.823339e+06</td>\n      <td>13000000</td>\n      <td>360.45%</td>\n    </tr>\n    <tr>\n      <th>13</th>\n      <td>LAN</td>\n      <td>7.441103e+06</td>\n      <td>32571000</td>\n      <td>337.72%</td>\n    </tr>\n    <tr>\n      <th>25</th>\n      <td>SLN</td>\n      <td>4.586212e+06</td>\n      <td>19500000</td>\n      <td>325.19%</td>\n    </tr>\n    <tr>\n      <th>9</th>\n      <td>DET</td>\n      <td>6.891390e+06</td>\n      <td>28000000</td>\n      <td>306.3%</td>\n    </tr>\n    <tr>\n      <th>15</th>\n      <td>MIL</td>\n      <td>3.477586e+06</td>\n      <td>14000000</td>\n      <td>302.58%</td>\n    </tr>\n    <tr>\n      <th>1</th>\n      <td>ATL</td>\n      <td>2.990885e+06</td>\n      <td>12000000</td>\n      <td>301.22%</td>\n    </tr>\n    <tr>\n      <th>29</th>\n      <td>WAS</td>\n      <td>5.365085e+06</td>\n      <td>21000000</td>\n      <td>291.42%</td>\n    </tr>\n    <tr>\n      <th>14</th>\n      <td>MIA</td>\n      <td>2.835688e+06</td>\n      <td>11000000</td>\n      <td>287.91%</td>\n    </tr>\n    <tr>\n      <th>10</th>\n      <td>HOU</td>\n      <td>2.580579e+06</td>\n      <td>10000000</td>\n      <td>287.51%</td>\n    </tr>\n    <tr>\n      <th>21</th>\n      <td>PIT</td>\n      <td>3.065259e+06</td>\n      <td>11666666</td>\n      <td>280.61%</td>\n    </tr>\n    <tr>\n      <th>4</th>\n      <td>CHA</td>\n      <td>4.161989e+06</td>\n      <td>15750000</td>\n      <td>278.42%</td>\n    </tr>\n    <tr>\n      <th>3</th>\n      <td>BOS</td>\n      <td>5.659481e+06</td>\n      <td>19750000</td>\n      <td>248.97%</td>\n    </tr>\n    <tr>\n      <th>24</th>\n      <td>SFN</td>\n      <td>6.100056e+06</td>\n      <td>21000000</td>\n      <td>244.26%</td>\n    </tr>\n    <tr>\n      <th>6</th>\n      <td>CIN</td>\n      <td>4.187862e+06</td>\n      <td>14000000</td>\n      <td>234.3%</td>\n    </tr>\n    <tr>\n      <th>2</th>\n      <td>BAL</td>\n      <td>4.108744e+06</td>\n      <td>13333333</td>\n      <td>224.51%</td>\n    </tr>\n    <tr>\n      <th>17</th>\n      <td>NYA</td>\n      <td>7.336274e+06</td>\n      <td>23125000</td>\n      <td>215.21%</td>\n    </tr>\n    <tr>\n      <th>11</th>\n      <td>KCA</td>\n      <td>4.152112e+06</td>\n      <td>12500000</td>\n      <td>201.05%</td>\n    </tr>\n  </tbody>\n</table>\n</div>"
     },
     "execution_count": 4,
     "metadata": {},
     "output_type": "execute_result"
    }
   ],
   "source": [
    "#8 \n",
    "filtered_df = salary[salary['year']==2015].groupby('team_id').salary.agg(average_salary = 'mean', max_salary = 'max').reset_index()\n",
    "filtered_df['salary_disparity'] = ((filtered_df['max_salary'] - filtered_df['average_salary']) / filtered_df['average_salary'] * 100).round(2).astype(str) + '%'\n",
    "result_df = filtered_df[['team_id', 'average_salary', 'max_salary', 'salary_disparity']].sort_values(by='salary_disparity', ascending=False)\n",
    "result_df"
   ],
   "metadata": {
    "collapsed": false,
    "ExecuteTime": {
     "end_time": "2023-11-08T11:10:18.121067800Z",
     "start_time": "2023-11-08T11:10:18.047940600Z"
    }
   }
  },
  {
   "cell_type": "code",
   "execution_count": 40,
   "outputs": [
    {
     "data": {
      "text/plain": "    player_id         full_name       h\n0   aaronha01        Hank Aaron  3771.0\n1   yastrca01  Carl Yastrzemski  3419.0\n2   molitpa01      Paul Molitor  3309.0\n3    mayswi01       Willie Mays  3274.0\n4   murraed02      Eddie Murray  3253.0\n5   ripkeca01        Cal Ripken  3179.0\n6   brettge01      George Brett  3149.0\n7   yountro01       Robin Yount  3142.0\n8   gwynnto01        Tony Gwynn  3141.0\n9   winfida01     Dave Winfield  3110.0\n10  biggicr01      Craig Biggio  3060.0\n11  henderi01  Rickey Henderson  3034.0\n12  boggswa01        Wade Boggs  3010.0\n13  kalinal01         Al Kaline  3007.0\n14  clemero01  Roberto Clemente  3000.0\n15  brocklo01         Lou Brock  2956.0\n16  robinfr02    Frank Robinson  2943.0\n17  carewro01         Rod Carew  2883.0\n18  robinbr01   Brooks Robinson  2846.0\n19  griffke02       Ken Griffey  2763.0\n20  dawsoan01      Andre Dawson  2754.0\n21  perezto01        Tony Perez  2730.0\n22  alomaro01    Roberto Alomar  2724.0\n23  willibi01    Billy Williams  2706.0\n24  jacksre01    Reggie Jackson  2584.0",
      "text/html": "<div>\n<style scoped>\n    .dataframe tbody tr th:only-of-type {\n        vertical-align: middle;\n    }\n\n    .dataframe tbody tr th {\n        vertical-align: top;\n    }\n\n    .dataframe thead th {\n        text-align: right;\n    }\n</style>\n<table border=\"1\" class=\"dataframe\">\n  <thead>\n    <tr style=\"text-align: right;\">\n      <th></th>\n      <th>player_id</th>\n      <th>full_name</th>\n      <th>h</th>\n    </tr>\n  </thead>\n  <tbody>\n    <tr>\n      <th>0</th>\n      <td>aaronha01</td>\n      <td>Hank Aaron</td>\n      <td>3771.0</td>\n    </tr>\n    <tr>\n      <th>1</th>\n      <td>yastrca01</td>\n      <td>Carl Yastrzemski</td>\n      <td>3419.0</td>\n    </tr>\n    <tr>\n      <th>2</th>\n      <td>molitpa01</td>\n      <td>Paul Molitor</td>\n      <td>3309.0</td>\n    </tr>\n    <tr>\n      <th>3</th>\n      <td>mayswi01</td>\n      <td>Willie Mays</td>\n      <td>3274.0</td>\n    </tr>\n    <tr>\n      <th>4</th>\n      <td>murraed02</td>\n      <td>Eddie Murray</td>\n      <td>3253.0</td>\n    </tr>\n    <tr>\n      <th>5</th>\n      <td>ripkeca01</td>\n      <td>Cal Ripken</td>\n      <td>3179.0</td>\n    </tr>\n    <tr>\n      <th>6</th>\n      <td>brettge01</td>\n      <td>George Brett</td>\n      <td>3149.0</td>\n    </tr>\n    <tr>\n      <th>7</th>\n      <td>yountro01</td>\n      <td>Robin Yount</td>\n      <td>3142.0</td>\n    </tr>\n    <tr>\n      <th>8</th>\n      <td>gwynnto01</td>\n      <td>Tony Gwynn</td>\n      <td>3141.0</td>\n    </tr>\n    <tr>\n      <th>9</th>\n      <td>winfida01</td>\n      <td>Dave Winfield</td>\n      <td>3110.0</td>\n    </tr>\n    <tr>\n      <th>10</th>\n      <td>biggicr01</td>\n      <td>Craig Biggio</td>\n      <td>3060.0</td>\n    </tr>\n    <tr>\n      <th>11</th>\n      <td>henderi01</td>\n      <td>Rickey Henderson</td>\n      <td>3034.0</td>\n    </tr>\n    <tr>\n      <th>12</th>\n      <td>boggswa01</td>\n      <td>Wade Boggs</td>\n      <td>3010.0</td>\n    </tr>\n    <tr>\n      <th>13</th>\n      <td>kalinal01</td>\n      <td>Al Kaline</td>\n      <td>3007.0</td>\n    </tr>\n    <tr>\n      <th>14</th>\n      <td>clemero01</td>\n      <td>Roberto Clemente</td>\n      <td>3000.0</td>\n    </tr>\n    <tr>\n      <th>15</th>\n      <td>brocklo01</td>\n      <td>Lou Brock</td>\n      <td>2956.0</td>\n    </tr>\n    <tr>\n      <th>16</th>\n      <td>robinfr02</td>\n      <td>Frank Robinson</td>\n      <td>2943.0</td>\n    </tr>\n    <tr>\n      <th>17</th>\n      <td>carewro01</td>\n      <td>Rod Carew</td>\n      <td>2883.0</td>\n    </tr>\n    <tr>\n      <th>18</th>\n      <td>robinbr01</td>\n      <td>Brooks Robinson</td>\n      <td>2846.0</td>\n    </tr>\n    <tr>\n      <th>19</th>\n      <td>griffke02</td>\n      <td>Ken Griffey</td>\n      <td>2763.0</td>\n    </tr>\n    <tr>\n      <th>20</th>\n      <td>dawsoan01</td>\n      <td>Andre Dawson</td>\n      <td>2754.0</td>\n    </tr>\n    <tr>\n      <th>21</th>\n      <td>perezto01</td>\n      <td>Tony Perez</td>\n      <td>2730.0</td>\n    </tr>\n    <tr>\n      <th>22</th>\n      <td>alomaro01</td>\n      <td>Roberto Alomar</td>\n      <td>2724.0</td>\n    </tr>\n    <tr>\n      <th>23</th>\n      <td>willibi01</td>\n      <td>Billy Williams</td>\n      <td>2706.0</td>\n    </tr>\n    <tr>\n      <th>24</th>\n      <td>jacksre01</td>\n      <td>Reggie Jackson</td>\n      <td>2584.0</td>\n    </tr>\n  </tbody>\n</table>\n</div>"
     },
     "execution_count": 40,
     "metadata": {},
     "output_type": "execute_result"
    }
   ],
   "source": [
    "#9\n",
    "merged_df = pd.merge(batting_2, player, on = 'player_id')\n",
    "full_merge = pd.merge(merged_df, hall_of_fame, on = 'player_id')\n",
    "filtered_df = full_merge[(full_merge['year']>1950) & (full_merge['inducted']=='Y')].groupby(['player_id', 'full_name'])['h'].sum().reset_index()\n",
    "result_df = filtered_df.sort_values(by='h', ascending=False).head(25).reset_index(drop=True)\n",
    "result_df"
   ],
   "metadata": {
    "collapsed": false,
    "ExecuteTime": {
     "end_time": "2023-11-08T11:58:26.132558900Z",
     "start_time": "2023-11-08T11:58:25.726810Z"
    }
   }
  },
  {
   "cell_type": "code",
   "execution_count": 14,
   "outputs": [
    {
     "data": {
      "text/plain": "       player_id         full_name pos    salary\n10621  rodrial01    Alex Rodriguez  SS  33000000\n10620  rodrial01    Alex Rodriguez  DH  33000000\n10619  rodrial01    Alex Rodriguez  3B  33000000\n10618  rodrial01    Alex Rodriguez  1B  33000000\n6610   kershcl01   Clayton Kershaw   P  32571000\n12752  verlaju01  Justin Verlander   P  28000000\n13064  wellsve01      Vernon Wells  2B  26187500\n13066  wellsve01      Vernon Wells  CF  26187500\n13068  wellsve01      Vernon Wells  OF  26187500\n13067  wellsve01      Vernon Wells  LF  26187500\n13065  wellsve01      Vernon Wells  3B  26187500\n13069  wellsve01      Vernon Wells  RF  26187500\n13063  wellsve01      Vernon Wells  1B  26187500\n4793   greinza01      Zack Greinke   P  26000000\n7088     leecl02         Cliff Lee   P  25000000\n5757   howarry01       Ryan Howard  1B  25000000\n5462   hernafe02   Felix Hernandez   P  24857000\n10918  sabatcc01       CC Sabathia   P  24285714\n1971    canoro01     Robinson Cano  2B  24000000\n1972    canoro01     Robinson Cano  SS  24000000\n10073  pujolal01     Albert Pujols  SS  24000000\n10072  pujolal01     Albert Pujols  RF  24000000\n10071  pujolal01     Albert Pujols  OF  24000000\n10070  pujolal01     Albert Pujols  LF  24000000\n10069  pujolal01     Albert Pujols  3B  24000000\n10068  pujolal01     Albert Pujols  2B  24000000\n10067  pujolal01     Albert Pujols  1B  24000000\n3819   fieldpr01    Prince Fielder  1B  24000000\n10198  ramirma02     Manny Ramirez  DH  23854494\n10199  ramirma02     Manny Ramirez  LF  23854494\n10200  ramirma02     Manny Ramirez  OF  23854494\n10201  ramirma02     Manny Ramirez  RF  23854494\n5087   hamelco01       Cole Hamels   P  23500000\n4368   giambja01      Jason Giambi  1B  23428571\n4369   giambja01      Jason Giambi  3B  23428571\n4370   giambja01      Jason Giambi  DH  23428571\n4371   giambja01      Jason Giambi  LF  23428571\n4372   giambja01      Jason Giambi  OF  23428571\n4373   giambja01      Jason Giambi  RF  23428571\n11086  santajo01     Johan Santana   P  23145011\n12177  teixema01     Mark Teixeira  OF  23125000\n12174  teixema01     Mark Teixeira  1B  23125000\n12175  teixema01     Mark Teixeira  3B  23125000\n12176  teixema01     Mark Teixeira  LF  23125000\n12178  teixema01     Mark Teixeira  RF  23125000\n7930   mauerjo01         Joe Mauer  OF  23000000\n7929   mauerjo01         Joe Mauer   C  23000000\n7928   mauerjo01         Joe Mauer  1B  23000000\n7931   mauerjo01         Joe Mauer  RF  23000000\n5104   hamiljo03     Josh Hamilton  RF  22708749",
      "text/html": "<div>\n<style scoped>\n    .dataframe tbody tr th:only-of-type {\n        vertical-align: middle;\n    }\n\n    .dataframe tbody tr th {\n        vertical-align: top;\n    }\n\n    .dataframe thead th {\n        text-align: right;\n    }\n</style>\n<table border=\"1\" class=\"dataframe\">\n  <thead>\n    <tr style=\"text-align: right;\">\n      <th></th>\n      <th>player_id</th>\n      <th>full_name</th>\n      <th>pos</th>\n      <th>salary</th>\n    </tr>\n  </thead>\n  <tbody>\n    <tr>\n      <th>10621</th>\n      <td>rodrial01</td>\n      <td>Alex Rodriguez</td>\n      <td>SS</td>\n      <td>33000000</td>\n    </tr>\n    <tr>\n      <th>10620</th>\n      <td>rodrial01</td>\n      <td>Alex Rodriguez</td>\n      <td>DH</td>\n      <td>33000000</td>\n    </tr>\n    <tr>\n      <th>10619</th>\n      <td>rodrial01</td>\n      <td>Alex Rodriguez</td>\n      <td>3B</td>\n      <td>33000000</td>\n    </tr>\n    <tr>\n      <th>10618</th>\n      <td>rodrial01</td>\n      <td>Alex Rodriguez</td>\n      <td>1B</td>\n      <td>33000000</td>\n    </tr>\n    <tr>\n      <th>6610</th>\n      <td>kershcl01</td>\n      <td>Clayton Kershaw</td>\n      <td>P</td>\n      <td>32571000</td>\n    </tr>\n    <tr>\n      <th>12752</th>\n      <td>verlaju01</td>\n      <td>Justin Verlander</td>\n      <td>P</td>\n      <td>28000000</td>\n    </tr>\n    <tr>\n      <th>13064</th>\n      <td>wellsve01</td>\n      <td>Vernon Wells</td>\n      <td>2B</td>\n      <td>26187500</td>\n    </tr>\n    <tr>\n      <th>13066</th>\n      <td>wellsve01</td>\n      <td>Vernon Wells</td>\n      <td>CF</td>\n      <td>26187500</td>\n    </tr>\n    <tr>\n      <th>13068</th>\n      <td>wellsve01</td>\n      <td>Vernon Wells</td>\n      <td>OF</td>\n      <td>26187500</td>\n    </tr>\n    <tr>\n      <th>13067</th>\n      <td>wellsve01</td>\n      <td>Vernon Wells</td>\n      <td>LF</td>\n      <td>26187500</td>\n    </tr>\n    <tr>\n      <th>13065</th>\n      <td>wellsve01</td>\n      <td>Vernon Wells</td>\n      <td>3B</td>\n      <td>26187500</td>\n    </tr>\n    <tr>\n      <th>13069</th>\n      <td>wellsve01</td>\n      <td>Vernon Wells</td>\n      <td>RF</td>\n      <td>26187500</td>\n    </tr>\n    <tr>\n      <th>13063</th>\n      <td>wellsve01</td>\n      <td>Vernon Wells</td>\n      <td>1B</td>\n      <td>26187500</td>\n    </tr>\n    <tr>\n      <th>4793</th>\n      <td>greinza01</td>\n      <td>Zack Greinke</td>\n      <td>P</td>\n      <td>26000000</td>\n    </tr>\n    <tr>\n      <th>7088</th>\n      <td>leecl02</td>\n      <td>Cliff Lee</td>\n      <td>P</td>\n      <td>25000000</td>\n    </tr>\n    <tr>\n      <th>5757</th>\n      <td>howarry01</td>\n      <td>Ryan Howard</td>\n      <td>1B</td>\n      <td>25000000</td>\n    </tr>\n    <tr>\n      <th>5462</th>\n      <td>hernafe02</td>\n      <td>Felix Hernandez</td>\n      <td>P</td>\n      <td>24857000</td>\n    </tr>\n    <tr>\n      <th>10918</th>\n      <td>sabatcc01</td>\n      <td>CC Sabathia</td>\n      <td>P</td>\n      <td>24285714</td>\n    </tr>\n    <tr>\n      <th>1971</th>\n      <td>canoro01</td>\n      <td>Robinson Cano</td>\n      <td>2B</td>\n      <td>24000000</td>\n    </tr>\n    <tr>\n      <th>1972</th>\n      <td>canoro01</td>\n      <td>Robinson Cano</td>\n      <td>SS</td>\n      <td>24000000</td>\n    </tr>\n    <tr>\n      <th>10073</th>\n      <td>pujolal01</td>\n      <td>Albert Pujols</td>\n      <td>SS</td>\n      <td>24000000</td>\n    </tr>\n    <tr>\n      <th>10072</th>\n      <td>pujolal01</td>\n      <td>Albert Pujols</td>\n      <td>RF</td>\n      <td>24000000</td>\n    </tr>\n    <tr>\n      <th>10071</th>\n      <td>pujolal01</td>\n      <td>Albert Pujols</td>\n      <td>OF</td>\n      <td>24000000</td>\n    </tr>\n    <tr>\n      <th>10070</th>\n      <td>pujolal01</td>\n      <td>Albert Pujols</td>\n      <td>LF</td>\n      <td>24000000</td>\n    </tr>\n    <tr>\n      <th>10069</th>\n      <td>pujolal01</td>\n      <td>Albert Pujols</td>\n      <td>3B</td>\n      <td>24000000</td>\n    </tr>\n    <tr>\n      <th>10068</th>\n      <td>pujolal01</td>\n      <td>Albert Pujols</td>\n      <td>2B</td>\n      <td>24000000</td>\n    </tr>\n    <tr>\n      <th>10067</th>\n      <td>pujolal01</td>\n      <td>Albert Pujols</td>\n      <td>1B</td>\n      <td>24000000</td>\n    </tr>\n    <tr>\n      <th>3819</th>\n      <td>fieldpr01</td>\n      <td>Prince Fielder</td>\n      <td>1B</td>\n      <td>24000000</td>\n    </tr>\n    <tr>\n      <th>10198</th>\n      <td>ramirma02</td>\n      <td>Manny Ramirez</td>\n      <td>DH</td>\n      <td>23854494</td>\n    </tr>\n    <tr>\n      <th>10199</th>\n      <td>ramirma02</td>\n      <td>Manny Ramirez</td>\n      <td>LF</td>\n      <td>23854494</td>\n    </tr>\n    <tr>\n      <th>10200</th>\n      <td>ramirma02</td>\n      <td>Manny Ramirez</td>\n      <td>OF</td>\n      <td>23854494</td>\n    </tr>\n    <tr>\n      <th>10201</th>\n      <td>ramirma02</td>\n      <td>Manny Ramirez</td>\n      <td>RF</td>\n      <td>23854494</td>\n    </tr>\n    <tr>\n      <th>5087</th>\n      <td>hamelco01</td>\n      <td>Cole Hamels</td>\n      <td>P</td>\n      <td>23500000</td>\n    </tr>\n    <tr>\n      <th>4368</th>\n      <td>giambja01</td>\n      <td>Jason Giambi</td>\n      <td>1B</td>\n      <td>23428571</td>\n    </tr>\n    <tr>\n      <th>4369</th>\n      <td>giambja01</td>\n      <td>Jason Giambi</td>\n      <td>3B</td>\n      <td>23428571</td>\n    </tr>\n    <tr>\n      <th>4370</th>\n      <td>giambja01</td>\n      <td>Jason Giambi</td>\n      <td>DH</td>\n      <td>23428571</td>\n    </tr>\n    <tr>\n      <th>4371</th>\n      <td>giambja01</td>\n      <td>Jason Giambi</td>\n      <td>LF</td>\n      <td>23428571</td>\n    </tr>\n    <tr>\n      <th>4372</th>\n      <td>giambja01</td>\n      <td>Jason Giambi</td>\n      <td>OF</td>\n      <td>23428571</td>\n    </tr>\n    <tr>\n      <th>4373</th>\n      <td>giambja01</td>\n      <td>Jason Giambi</td>\n      <td>RF</td>\n      <td>23428571</td>\n    </tr>\n    <tr>\n      <th>11086</th>\n      <td>santajo01</td>\n      <td>Johan Santana</td>\n      <td>P</td>\n      <td>23145011</td>\n    </tr>\n    <tr>\n      <th>12177</th>\n      <td>teixema01</td>\n      <td>Mark Teixeira</td>\n      <td>OF</td>\n      <td>23125000</td>\n    </tr>\n    <tr>\n      <th>12174</th>\n      <td>teixema01</td>\n      <td>Mark Teixeira</td>\n      <td>1B</td>\n      <td>23125000</td>\n    </tr>\n    <tr>\n      <th>12175</th>\n      <td>teixema01</td>\n      <td>Mark Teixeira</td>\n      <td>3B</td>\n      <td>23125000</td>\n    </tr>\n    <tr>\n      <th>12176</th>\n      <td>teixema01</td>\n      <td>Mark Teixeira</td>\n      <td>LF</td>\n      <td>23125000</td>\n    </tr>\n    <tr>\n      <th>12178</th>\n      <td>teixema01</td>\n      <td>Mark Teixeira</td>\n      <td>RF</td>\n      <td>23125000</td>\n    </tr>\n    <tr>\n      <th>7930</th>\n      <td>mauerjo01</td>\n      <td>Joe Mauer</td>\n      <td>OF</td>\n      <td>23000000</td>\n    </tr>\n    <tr>\n      <th>7929</th>\n      <td>mauerjo01</td>\n      <td>Joe Mauer</td>\n      <td>C</td>\n      <td>23000000</td>\n    </tr>\n    <tr>\n      <th>7928</th>\n      <td>mauerjo01</td>\n      <td>Joe Mauer</td>\n      <td>1B</td>\n      <td>23000000</td>\n    </tr>\n    <tr>\n      <th>7931</th>\n      <td>mauerjo01</td>\n      <td>Joe Mauer</td>\n      <td>RF</td>\n      <td>23000000</td>\n    </tr>\n    <tr>\n      <th>5104</th>\n      <td>hamiljo03</td>\n      <td>Josh Hamilton</td>\n      <td>RF</td>\n      <td>22708749</td>\n    </tr>\n  </tbody>\n</table>\n</div>"
     },
     "execution_count": 14,
     "metadata": {},
     "output_type": "execute_result"
    }
   ],
   "source": [
    "#10\n",
    "merged_df = pd.merge(salary, fielding, on = 'player_id')\n",
    "full_merge = pd.merge(merged_df, player, on = 'player_id')\n",
    "grouped_df = full_merge.groupby(['player_id', 'full_name', 'pos'])['salary'].max().reset_index()\n",
    "result_df = grouped_df.sort_values(by='salary', ascending=False).head(50)\n",
    "result_df"
   ],
   "metadata": {
    "collapsed": false,
    "ExecuteTime": {
     "end_time": "2023-11-08T11:33:15.145086200Z",
     "start_time": "2023-11-08T11:33:13.282014600Z"
    }
   }
  },
  {
   "cell_type": "code",
   "execution_count": 41,
   "outputs": [
    {
     "data": {
      "text/plain": "  pos        salary\n0  1B  3.517212e+06\n1  OF  3.421048e+06\n2  CF  3.279103e+06\n3  RF  3.093472e+06\n4   P  2.903943e+06\n5  LF  2.867335e+06\n6  3B  2.815175e+06\n7  SS  2.807452e+06\n8  2B  2.300095e+06\n9   C  2.179792e+06",
      "text/html": "<div>\n<style scoped>\n    .dataframe tbody tr th:only-of-type {\n        vertical-align: middle;\n    }\n\n    .dataframe tbody tr th {\n        vertical-align: top;\n    }\n\n    .dataframe thead th {\n        text-align: right;\n    }\n</style>\n<table border=\"1\" class=\"dataframe\">\n  <thead>\n    <tr style=\"text-align: right;\">\n      <th></th>\n      <th>pos</th>\n      <th>salary</th>\n    </tr>\n  </thead>\n  <tbody>\n    <tr>\n      <th>0</th>\n      <td>1B</td>\n      <td>3.517212e+06</td>\n    </tr>\n    <tr>\n      <th>1</th>\n      <td>OF</td>\n      <td>3.421048e+06</td>\n    </tr>\n    <tr>\n      <th>2</th>\n      <td>CF</td>\n      <td>3.279103e+06</td>\n    </tr>\n    <tr>\n      <th>3</th>\n      <td>RF</td>\n      <td>3.093472e+06</td>\n    </tr>\n    <tr>\n      <th>4</th>\n      <td>P</td>\n      <td>2.903943e+06</td>\n    </tr>\n    <tr>\n      <th>5</th>\n      <td>LF</td>\n      <td>2.867335e+06</td>\n    </tr>\n    <tr>\n      <th>6</th>\n      <td>3B</td>\n      <td>2.815175e+06</td>\n    </tr>\n    <tr>\n      <th>7</th>\n      <td>SS</td>\n      <td>2.807452e+06</td>\n    </tr>\n    <tr>\n      <th>8</th>\n      <td>2B</td>\n      <td>2.300095e+06</td>\n    </tr>\n    <tr>\n      <th>9</th>\n      <td>C</td>\n      <td>2.179792e+06</td>\n    </tr>\n  </tbody>\n</table>\n</div>"
     },
     "execution_count": 41,
     "metadata": {},
     "output_type": "execute_result"
    }
   ],
   "source": [
    "#11\n",
    "merged_df = pd.merge(salary, fielding, on = 'player_id')\n",
    "filtered_df = merged_df[merged_df['year_y']>=2000].groupby('pos')['salary'].mean().reset_index()\n",
    "ordered_df = filtered_df.sort_values(by='salary', ascending=False).reset_index(drop=True)\n",
    "ordered_df\n",
    "\n"
   ],
   "metadata": {
    "collapsed": false,
    "ExecuteTime": {
     "end_time": "2023-11-08T11:58:34.408230600Z",
     "start_time": "2023-11-08T11:58:33.811082200Z"
    }
   }
  },
  {
   "cell_type": "code",
   "execution_count": 17,
   "outputs": [
    {
     "data": {
      "text/plain": "            full_name    salary\n0     Clayton Kershaw  32571000\n1    Justin Verlander  28000000\n2        Zack Greinke  25000000\n3     Felix Hernandez  24857000\n4         Cole Hamels  23500000\n5         CC Sabathia  23000000\n6     Masahiro Tanaka  22000000\n7           Matt Cain  21000000\n8          Jon Lester  20000000\n9        Mark Buehrle  20000000\n10        David Price  19750000\n11    Adam Wainwright  19500000\n12       Tim Lincecum  18000000\n13       Jered Weaver  18000000\n14       C. J. Wilson  18000000\n15       Max Scherzer  17142000\n16     Anibal Sanchez  16800000\n17  Jordan Zimmermann  16500000\n18         John Danks  15750000\n19       Nick Swisher  15000000\n20    Yovani Gallardo  14000000\n21      Ervin Santana  13500000\n22       Scott Kazmir  13000000\n23  Jonathan Papelbon  13000000\n24      Edwin Jackson  13000000",
      "text/html": "<div>\n<style scoped>\n    .dataframe tbody tr th:only-of-type {\n        vertical-align: middle;\n    }\n\n    .dataframe tbody tr th {\n        vertical-align: top;\n    }\n\n    .dataframe thead th {\n        text-align: right;\n    }\n</style>\n<table border=\"1\" class=\"dataframe\">\n  <thead>\n    <tr style=\"text-align: right;\">\n      <th></th>\n      <th>full_name</th>\n      <th>salary</th>\n    </tr>\n  </thead>\n  <tbody>\n    <tr>\n      <th>0</th>\n      <td>Clayton Kershaw</td>\n      <td>32571000</td>\n    </tr>\n    <tr>\n      <th>1</th>\n      <td>Justin Verlander</td>\n      <td>28000000</td>\n    </tr>\n    <tr>\n      <th>2</th>\n      <td>Zack Greinke</td>\n      <td>25000000</td>\n    </tr>\n    <tr>\n      <th>3</th>\n      <td>Felix Hernandez</td>\n      <td>24857000</td>\n    </tr>\n    <tr>\n      <th>4</th>\n      <td>Cole Hamels</td>\n      <td>23500000</td>\n    </tr>\n    <tr>\n      <th>5</th>\n      <td>CC Sabathia</td>\n      <td>23000000</td>\n    </tr>\n    <tr>\n      <th>6</th>\n      <td>Masahiro Tanaka</td>\n      <td>22000000</td>\n    </tr>\n    <tr>\n      <th>7</th>\n      <td>Matt Cain</td>\n      <td>21000000</td>\n    </tr>\n    <tr>\n      <th>8</th>\n      <td>Jon Lester</td>\n      <td>20000000</td>\n    </tr>\n    <tr>\n      <th>9</th>\n      <td>Mark Buehrle</td>\n      <td>20000000</td>\n    </tr>\n    <tr>\n      <th>10</th>\n      <td>David Price</td>\n      <td>19750000</td>\n    </tr>\n    <tr>\n      <th>11</th>\n      <td>Adam Wainwright</td>\n      <td>19500000</td>\n    </tr>\n    <tr>\n      <th>12</th>\n      <td>Tim Lincecum</td>\n      <td>18000000</td>\n    </tr>\n    <tr>\n      <th>13</th>\n      <td>Jered Weaver</td>\n      <td>18000000</td>\n    </tr>\n    <tr>\n      <th>14</th>\n      <td>C. J. Wilson</td>\n      <td>18000000</td>\n    </tr>\n    <tr>\n      <th>15</th>\n      <td>Max Scherzer</td>\n      <td>17142000</td>\n    </tr>\n    <tr>\n      <th>16</th>\n      <td>Anibal Sanchez</td>\n      <td>16800000</td>\n    </tr>\n    <tr>\n      <th>17</th>\n      <td>Jordan Zimmermann</td>\n      <td>16500000</td>\n    </tr>\n    <tr>\n      <th>18</th>\n      <td>John Danks</td>\n      <td>15750000</td>\n    </tr>\n    <tr>\n      <th>19</th>\n      <td>Nick Swisher</td>\n      <td>15000000</td>\n    </tr>\n    <tr>\n      <th>20</th>\n      <td>Yovani Gallardo</td>\n      <td>14000000</td>\n    </tr>\n    <tr>\n      <th>21</th>\n      <td>Ervin Santana</td>\n      <td>13500000</td>\n    </tr>\n    <tr>\n      <th>22</th>\n      <td>Scott Kazmir</td>\n      <td>13000000</td>\n    </tr>\n    <tr>\n      <th>23</th>\n      <td>Jonathan Papelbon</td>\n      <td>13000000</td>\n    </tr>\n    <tr>\n      <th>24</th>\n      <td>Edwin Jackson</td>\n      <td>13000000</td>\n    </tr>\n  </tbody>\n</table>\n</div>"
     },
     "execution_count": 17,
     "metadata": {},
     "output_type": "execute_result"
    }
   ],
   "source": [
    "#12 \n",
    "merged_df = pd.merge(player, salary, on = 'player_id')\n",
    "full_merge = pd.merge(merged_df, fielding, on = 'player_id')\n",
    "avg_salary = salary[salary['year']==2015].salary.mean()\n",
    "avg_salary\n",
    "filtered_df = full_merge[(full_merge['salary']>avg_salary) & (full_merge['year_x']==2015) & (full_merge['pos']=='P')]\n",
    "grouped_df = filtered_df.groupby('full_name').salary.max().reset_index()\n",
    "result_df = grouped_df.sort_values(by='salary', ascending=False).head(25).reset_index(drop=True)\n",
    "result_df\n",
    "\n"
   ],
   "metadata": {
    "collapsed": false,
    "ExecuteTime": {
     "end_time": "2023-11-17T23:41:09.484040900Z",
     "start_time": "2023-11-17T23:41:07.475255900Z"
    }
   }
  },
  {
   "cell_type": "code",
   "execution_count": 18,
   "outputs": [
    {
     "data": {
      "text/plain": "    decade  avg_so_per_game\n0     2010         7.435889\n1     2000         6.561033\n2     1990         6.150827\n3     1980         5.342615\n4     1970         5.144959\n5     1960         5.712727\n6     1950         4.399437\n7     1940         3.550000\n8     1930         3.316375\n9     1920         2.814437\n10    1910         3.609671\n11    1900         3.197857\n12    1890         2.657971\n13    1880         3.718805\n14    1870         1.027051",
      "text/html": "<div>\n<style scoped>\n    .dataframe tbody tr th:only-of-type {\n        vertical-align: middle;\n    }\n\n    .dataframe tbody tr th {\n        vertical-align: top;\n    }\n\n    .dataframe thead th {\n        text-align: right;\n    }\n</style>\n<table border=\"1\" class=\"dataframe\">\n  <thead>\n    <tr style=\"text-align: right;\">\n      <th></th>\n      <th>decade</th>\n      <th>avg_so_per_game</th>\n    </tr>\n  </thead>\n  <tbody>\n    <tr>\n      <th>0</th>\n      <td>2010</td>\n      <td>7.435889</td>\n    </tr>\n    <tr>\n      <th>1</th>\n      <td>2000</td>\n      <td>6.561033</td>\n    </tr>\n    <tr>\n      <th>2</th>\n      <td>1990</td>\n      <td>6.150827</td>\n    </tr>\n    <tr>\n      <th>3</th>\n      <td>1980</td>\n      <td>5.342615</td>\n    </tr>\n    <tr>\n      <th>4</th>\n      <td>1970</td>\n      <td>5.144959</td>\n    </tr>\n    <tr>\n      <th>5</th>\n      <td>1960</td>\n      <td>5.712727</td>\n    </tr>\n    <tr>\n      <th>6</th>\n      <td>1950</td>\n      <td>4.399437</td>\n    </tr>\n    <tr>\n      <th>7</th>\n      <td>1940</td>\n      <td>3.550000</td>\n    </tr>\n    <tr>\n      <th>8</th>\n      <td>1930</td>\n      <td>3.316375</td>\n    </tr>\n    <tr>\n      <th>9</th>\n      <td>1920</td>\n      <td>2.814437</td>\n    </tr>\n    <tr>\n      <th>10</th>\n      <td>1910</td>\n      <td>3.609671</td>\n    </tr>\n    <tr>\n      <th>11</th>\n      <td>1900</td>\n      <td>3.197857</td>\n    </tr>\n    <tr>\n      <th>12</th>\n      <td>1890</td>\n      <td>2.657971</td>\n    </tr>\n    <tr>\n      <th>13</th>\n      <td>1880</td>\n      <td>3.718805</td>\n    </tr>\n    <tr>\n      <th>14</th>\n      <td>1870</td>\n      <td>1.027051</td>\n    </tr>\n  </tbody>\n</table>\n</div>"
     },
     "execution_count": 18,
     "metadata": {},
     "output_type": "execute_result"
    }
   ],
   "source": [
    "#13\n",
    "team['decade'] = (team.year // 10) * 10\n",
    "team['avg_so_per_game'] = (team.so / team.g).round(2)\n",
    "grouped_df = team.groupby('decade').avg_so_per_game.mean().reset_index()\n",
    "result_df = grouped_df.sort_values(by='decade', ascending=False).reset_index(drop=True)\n",
    "result_df"
   ],
   "metadata": {
    "collapsed": false,
    "ExecuteTime": {
     "end_time": "2023-11-17T23:41:41.885697800Z",
     "start_time": "2023-11-17T23:41:41.848597800Z"
    }
   }
  },
  {
   "cell_type": "code",
   "execution_count": 19,
   "outputs": [
    {
     "data": {
      "text/plain": "    decade  avg_hr_per_game\n0     2010         0.955328\n1     2000         1.073370\n2     1990         0.960288\n3     1980         0.804019\n4     1970         0.745614\n5     1960         0.820222\n6     1950         0.843019\n7     1940         0.523094\n8     1930         0.545725\n9     1920         0.401719\n10    1910         0.169602\n11    1900         0.138461\n12    1890         0.253072\n13    1880         0.202358\n14    1870         0.086295",
      "text/html": "<div>\n<style scoped>\n    .dataframe tbody tr th:only-of-type {\n        vertical-align: middle;\n    }\n\n    .dataframe tbody tr th {\n        vertical-align: top;\n    }\n\n    .dataframe thead th {\n        text-align: right;\n    }\n</style>\n<table border=\"1\" class=\"dataframe\">\n  <thead>\n    <tr style=\"text-align: right;\">\n      <th></th>\n      <th>decade</th>\n      <th>avg_hr_per_game</th>\n    </tr>\n  </thead>\n  <tbody>\n    <tr>\n      <th>0</th>\n      <td>2010</td>\n      <td>0.955328</td>\n    </tr>\n    <tr>\n      <th>1</th>\n      <td>2000</td>\n      <td>1.073370</td>\n    </tr>\n    <tr>\n      <th>2</th>\n      <td>1990</td>\n      <td>0.960288</td>\n    </tr>\n    <tr>\n      <th>3</th>\n      <td>1980</td>\n      <td>0.804019</td>\n    </tr>\n    <tr>\n      <th>4</th>\n      <td>1970</td>\n      <td>0.745614</td>\n    </tr>\n    <tr>\n      <th>5</th>\n      <td>1960</td>\n      <td>0.820222</td>\n    </tr>\n    <tr>\n      <th>6</th>\n      <td>1950</td>\n      <td>0.843019</td>\n    </tr>\n    <tr>\n      <th>7</th>\n      <td>1940</td>\n      <td>0.523094</td>\n    </tr>\n    <tr>\n      <th>8</th>\n      <td>1930</td>\n      <td>0.545725</td>\n    </tr>\n    <tr>\n      <th>9</th>\n      <td>1920</td>\n      <td>0.401719</td>\n    </tr>\n    <tr>\n      <th>10</th>\n      <td>1910</td>\n      <td>0.169602</td>\n    </tr>\n    <tr>\n      <th>11</th>\n      <td>1900</td>\n      <td>0.138461</td>\n    </tr>\n    <tr>\n      <th>12</th>\n      <td>1890</td>\n      <td>0.253072</td>\n    </tr>\n    <tr>\n      <th>13</th>\n      <td>1880</td>\n      <td>0.202358</td>\n    </tr>\n    <tr>\n      <th>14</th>\n      <td>1870</td>\n      <td>0.086295</td>\n    </tr>\n  </tbody>\n</table>\n</div>"
     },
     "execution_count": 19,
     "metadata": {},
     "output_type": "execute_result"
    }
   ],
   "source": [
    "#14\n",
    "team['decade'] = (team.year // 10) * 10\n",
    "team['avg_hr_per_game'] = (team.hr / team.g).round(3)\n",
    "grouped_df = team.groupby('decade').avg_hr_per_game.mean().reset_index()\n",
    "result_df = grouped_df.sort_values(by='decade', ascending=False).reset_index(drop=True)\n",
    "result_df"
   ],
   "metadata": {
    "collapsed": false,
    "ExecuteTime": {
     "end_time": "2023-11-17T23:42:06.513680500Z",
     "start_time": "2023-11-17T23:42:06.464197200Z"
    }
   }
  },
  {
   "cell_type": "code",
   "execution_count": 20,
   "outputs": [
    {
     "data": {
      "text/plain": "                    name    g    w  winning_percentage  year\n0       Seattle Mariners  162  116               71.60  2001\n1    St. Louis Cardinals  162  105               64.81  2004\n2       New York Yankees  161  103               63.98  2002\n3      Oakland Athletics  162  103               63.58  2002\n4  Philadelphia Phillies  162  102               62.96  2011",
      "text/html": "<div>\n<style scoped>\n    .dataframe tbody tr th:only-of-type {\n        vertical-align: middle;\n    }\n\n    .dataframe tbody tr th {\n        vertical-align: top;\n    }\n\n    .dataframe thead th {\n        text-align: right;\n    }\n</style>\n<table border=\"1\" class=\"dataframe\">\n  <thead>\n    <tr style=\"text-align: right;\">\n      <th></th>\n      <th>name</th>\n      <th>g</th>\n      <th>w</th>\n      <th>winning_percentage</th>\n      <th>year</th>\n    </tr>\n  </thead>\n  <tbody>\n    <tr>\n      <th>0</th>\n      <td>Seattle Mariners</td>\n      <td>162</td>\n      <td>116</td>\n      <td>71.60</td>\n      <td>2001</td>\n    </tr>\n    <tr>\n      <th>1</th>\n      <td>St. Louis Cardinals</td>\n      <td>162</td>\n      <td>105</td>\n      <td>64.81</td>\n      <td>2004</td>\n    </tr>\n    <tr>\n      <th>2</th>\n      <td>New York Yankees</td>\n      <td>161</td>\n      <td>103</td>\n      <td>63.98</td>\n      <td>2002</td>\n    </tr>\n    <tr>\n      <th>3</th>\n      <td>Oakland Athletics</td>\n      <td>162</td>\n      <td>103</td>\n      <td>63.58</td>\n      <td>2002</td>\n    </tr>\n    <tr>\n      <th>4</th>\n      <td>Philadelphia Phillies</td>\n      <td>162</td>\n      <td>102</td>\n      <td>62.96</td>\n      <td>2011</td>\n    </tr>\n  </tbody>\n</table>\n</div>"
     },
     "execution_count": 20,
     "metadata": {},
     "output_type": "execute_result"
    }
   ],
   "source": [
    "#15\n",
    "team['winning_percentage'] = ((team.w / team.g)*100).round(2)\n",
    "filtered_df = team[(team['ws_win']== 'N') & (team['year']>=2000)]\n",
    "grouped_df = filtered_df.groupby(['name', 'g', 'w', 'winning_percentage', 'year']).first().reset_index()\n",
    "ordered_df = grouped_df.sort_values(by='winning_percentage', ascending=False).head(5).reset_index(drop=True)\n",
    "result_df = ordered_df[['name', 'g', 'w', 'winning_percentage', 'year']]\n",
    "result_df"
   ],
   "metadata": {
    "collapsed": false,
    "ExecuteTime": {
     "end_time": "2023-11-17T23:44:35.469556300Z",
     "start_time": "2023-11-17T23:44:34.553522600Z"
    }
   }
  },
  {
   "cell_type": "code",
   "execution_count": 70,
   "outputs": [
    {
     "name": "stderr",
     "output_type": "stream",
     "text": [
      "C:\\Users\\andre\\AppData\\Local\\Temp\\ipykernel_3164\\407752792.py:5: SettingWithCopyWarning: \n",
      "A value is trying to be set on a copy of a slice from a DataFrame.\n",
      "Try using .loc[row_indexer,col_indexer] = value instead\n",
      "\n",
      "See the caveats in the documentation: https://pandas.pydata.org/pandas-docs/stable/user_guide/indexing.html#returning-a-view-versus-a-copy\n",
      "  filtered_df['winning_percentage'] = ((team.w / team.g)*100).round(2)\n"
     ]
    },
    {
     "data": {
      "text/plain": "                    name      g     w  winning_percentage  year\n14   St. Louis Cardinals  161.0  83.0               51.55  2006\n8       New York Yankees  161.0  87.0               54.04  2000\n11  San Francisco Giants  162.0  88.0               54.32  2014\n15   St. Louis Cardinals  162.0  90.0               55.56  2011\n6        Florida Marlins  162.0  91.0               56.17  2003",
      "text/html": "<div>\n<style scoped>\n    .dataframe tbody tr th:only-of-type {\n        vertical-align: middle;\n    }\n\n    .dataframe tbody tr th {\n        vertical-align: top;\n    }\n\n    .dataframe thead th {\n        text-align: right;\n    }\n</style>\n<table border=\"1\" class=\"dataframe\">\n  <thead>\n    <tr style=\"text-align: right;\">\n      <th></th>\n      <th>name</th>\n      <th>g</th>\n      <th>w</th>\n      <th>winning_percentage</th>\n      <th>year</th>\n    </tr>\n  </thead>\n  <tbody>\n    <tr>\n      <th>14</th>\n      <td>St. Louis Cardinals</td>\n      <td>161.0</td>\n      <td>83.0</td>\n      <td>51.55</td>\n      <td>2006</td>\n    </tr>\n    <tr>\n      <th>8</th>\n      <td>New York Yankees</td>\n      <td>161.0</td>\n      <td>87.0</td>\n      <td>54.04</td>\n      <td>2000</td>\n    </tr>\n    <tr>\n      <th>11</th>\n      <td>San Francisco Giants</td>\n      <td>162.0</td>\n      <td>88.0</td>\n      <td>54.32</td>\n      <td>2014</td>\n    </tr>\n    <tr>\n      <th>15</th>\n      <td>St. Louis Cardinals</td>\n      <td>162.0</td>\n      <td>90.0</td>\n      <td>55.56</td>\n      <td>2011</td>\n    </tr>\n    <tr>\n      <th>6</th>\n      <td>Florida Marlins</td>\n      <td>162.0</td>\n      <td>91.0</td>\n      <td>56.17</td>\n      <td>2003</td>\n    </tr>\n  </tbody>\n</table>\n</div>"
     },
     "execution_count": 70,
     "metadata": {},
     "output_type": "execute_result"
    }
   ],
   "source": [
    "#16\n",
    "filtered_df = team[(team['ws_win']== 'Y') & (team['year']>=2000)]\n",
    "filtered_df['winning_percentage'] = ((team.w / team.g)*100).round(2)\n",
    "grouped_df = filtered_df.groupby(['name', 'g', 'w', 'year']).first().reset_index()\n",
    "ordered_df = grouped_df.sort_values(by='winning_percentage', ascending=True).head(5).reset_index(drop=True)\n",
    "ordered_df = ordered_df[['name', 'g', 'w', 'winning_percentage', 'year']]\n",
    "ordered_df"
   ],
   "metadata": {
    "collapsed": false,
    "ExecuteTime": {
     "end_time": "2023-11-07T18:14:02.846509200Z",
     "start_time": "2023-11-07T18:14:02.799594700Z"
    }
   }
  },
  {
   "cell_type": "code",
   "execution_count": 21,
   "outputs": [
    {
     "data": {
      "text/plain": "   decade     salary\n0    2010  3671903.0\n1    2000  2653542.0\n2    1990  1058647.0\n3    1980   456930.0",
      "text/html": "<div>\n<style scoped>\n    .dataframe tbody tr th:only-of-type {\n        vertical-align: middle;\n    }\n\n    .dataframe tbody tr th {\n        vertical-align: top;\n    }\n\n    .dataframe thead th {\n        text-align: right;\n    }\n</style>\n<table border=\"1\" class=\"dataframe\">\n  <thead>\n    <tr style=\"text-align: right;\">\n      <th></th>\n      <th>decade</th>\n      <th>salary</th>\n    </tr>\n  </thead>\n  <tbody>\n    <tr>\n      <th>0</th>\n      <td>2010</td>\n      <td>3671903.0</td>\n    </tr>\n    <tr>\n      <th>1</th>\n      <td>2000</td>\n      <td>2653542.0</td>\n    </tr>\n    <tr>\n      <th>2</th>\n      <td>1990</td>\n      <td>1058647.0</td>\n    </tr>\n    <tr>\n      <th>3</th>\n      <td>1980</td>\n      <td>456930.0</td>\n    </tr>\n  </tbody>\n</table>\n</div>"
     },
     "execution_count": 21,
     "metadata": {},
     "output_type": "execute_result"
    }
   ],
   "source": [
    "#17\n",
    "salary['decade'] = (salary.year // 10) * 10\n",
    "grouped_df = salary.groupby('decade').salary.mean().round().reset_index()\n",
    "result_df = grouped_df.sort_values(by='decade', ascending=False).reset_index(drop=True)\n",
    "result_df"
   ],
   "metadata": {
    "collapsed": false,
    "ExecuteTime": {
     "end_time": "2023-11-17T23:45:58.216570600Z",
     "start_time": "2023-11-17T23:45:58.179441600Z"
    }
   }
  },
  {
   "cell_type": "code",
   "execution_count": 16,
   "outputs": [
    {
     "ename": "KeyError",
     "evalue": "'salary'",
     "output_type": "error",
     "traceback": [
      "\u001B[1;31m---------------------------------------------------------------------------\u001B[0m",
      "\u001B[1;31mKeyError\u001B[0m                                  Traceback (most recent call last)",
      "Cell \u001B[1;32mIn[16], line 5\u001B[0m\n\u001B[0;32m      2\u001B[0m avg_salaries_per_team \u001B[38;5;241m=\u001B[39m salary[salary[\u001B[38;5;124m'\u001B[39m\u001B[38;5;124myear\u001B[39m\u001B[38;5;124m'\u001B[39m] \u001B[38;5;241m==\u001B[39m \u001B[38;5;241m2015\u001B[39m]\u001B[38;5;241m.\u001B[39mgroupby(\u001B[38;5;124m'\u001B[39m\u001B[38;5;124mteam_id\u001B[39m\u001B[38;5;124m'\u001B[39m)[\u001B[38;5;124m'\u001B[39m\u001B[38;5;124msalary\u001B[39m\u001B[38;5;124m'\u001B[39m]\u001B[38;5;241m.\u001B[39mmean()\u001B[38;5;241m.\u001B[39mreset_index()\n\u001B[0;32m      3\u001B[0m avg_salaries_per_team \u001B[38;5;241m=\u001B[39m avg_salaries_per_team[\u001B[38;5;124m'\u001B[39m\u001B[38;5;124msalary\u001B[39m\u001B[38;5;124m'\u001B[39m]\n\u001B[1;32m----> 5\u001B[0m p10 \u001B[38;5;241m=\u001B[39m \u001B[43mavg_salaries_per_team\u001B[49m\u001B[43m[\u001B[49m\u001B[38;5;124;43m'\u001B[39;49m\u001B[38;5;124;43msalary\u001B[39;49m\u001B[38;5;124;43m'\u001B[39;49m\u001B[43m]\u001B[49m\u001B[38;5;241m.\u001B[39mquantile(\u001B[38;5;241m0.1\u001B[39m)\n\u001B[0;32m      6\u001B[0m p25 \u001B[38;5;241m=\u001B[39m avg_salaries_per_team[\u001B[38;5;124m'\u001B[39m\u001B[38;5;124msalary\u001B[39m\u001B[38;5;124m'\u001B[39m]\u001B[38;5;241m.\u001B[39mquantile(\u001B[38;5;241m0.25\u001B[39m)\n\u001B[0;32m      7\u001B[0m p75 \u001B[38;5;241m=\u001B[39m avg_salaries_per_team[\u001B[38;5;124m'\u001B[39m\u001B[38;5;124msalary\u001B[39m\u001B[38;5;124m'\u001B[39m]\u001B[38;5;241m.\u001B[39mquantile(\u001B[38;5;241m0.75\u001B[39m)\n",
      "File \u001B[1;32m~\\AppData\\Local\\Programs\\Python\\Python39\\lib\\site-packages\\pandas\\core\\series.py:1040\u001B[0m, in \u001B[0;36mSeries.__getitem__\u001B[1;34m(self, key)\u001B[0m\n\u001B[0;32m   1037\u001B[0m     \u001B[38;5;28;01mreturn\u001B[39;00m \u001B[38;5;28mself\u001B[39m\u001B[38;5;241m.\u001B[39m_values[key]\n\u001B[0;32m   1039\u001B[0m \u001B[38;5;28;01melif\u001B[39;00m key_is_scalar:\n\u001B[1;32m-> 1040\u001B[0m     \u001B[38;5;28;01mreturn\u001B[39;00m \u001B[38;5;28;43mself\u001B[39;49m\u001B[38;5;241;43m.\u001B[39;49m\u001B[43m_get_value\u001B[49m\u001B[43m(\u001B[49m\u001B[43mkey\u001B[49m\u001B[43m)\u001B[49m\n\u001B[0;32m   1042\u001B[0m \u001B[38;5;66;03m# Convert generator to list before going through hashable part\u001B[39;00m\n\u001B[0;32m   1043\u001B[0m \u001B[38;5;66;03m# (We will iterate through the generator there to check for slices)\u001B[39;00m\n\u001B[0;32m   1044\u001B[0m \u001B[38;5;28;01mif\u001B[39;00m is_iterator(key):\n",
      "File \u001B[1;32m~\\AppData\\Local\\Programs\\Python\\Python39\\lib\\site-packages\\pandas\\core\\series.py:1156\u001B[0m, in \u001B[0;36mSeries._get_value\u001B[1;34m(self, label, takeable)\u001B[0m\n\u001B[0;32m   1153\u001B[0m     \u001B[38;5;28;01mreturn\u001B[39;00m \u001B[38;5;28mself\u001B[39m\u001B[38;5;241m.\u001B[39m_values[label]\n\u001B[0;32m   1155\u001B[0m \u001B[38;5;66;03m# Similar to Index.get_value, but we do not fall back to positional\u001B[39;00m\n\u001B[1;32m-> 1156\u001B[0m loc \u001B[38;5;241m=\u001B[39m \u001B[38;5;28;43mself\u001B[39;49m\u001B[38;5;241;43m.\u001B[39;49m\u001B[43mindex\u001B[49m\u001B[38;5;241;43m.\u001B[39;49m\u001B[43mget_loc\u001B[49m\u001B[43m(\u001B[49m\u001B[43mlabel\u001B[49m\u001B[43m)\u001B[49m\n\u001B[0;32m   1158\u001B[0m \u001B[38;5;28;01mif\u001B[39;00m is_integer(loc):\n\u001B[0;32m   1159\u001B[0m     \u001B[38;5;28;01mreturn\u001B[39;00m \u001B[38;5;28mself\u001B[39m\u001B[38;5;241m.\u001B[39m_values[loc]\n",
      "File \u001B[1;32m~\\AppData\\Local\\Programs\\Python\\Python39\\lib\\site-packages\\pandas\\core\\indexes\\range.py:418\u001B[0m, in \u001B[0;36mRangeIndex.get_loc\u001B[1;34m(self, key)\u001B[0m\n\u001B[0;32m    416\u001B[0m         \u001B[38;5;28;01mraise\u001B[39;00m \u001B[38;5;167;01mKeyError\u001B[39;00m(key) \u001B[38;5;28;01mfrom\u001B[39;00m \u001B[38;5;21;01merr\u001B[39;00m\n\u001B[0;32m    417\u001B[0m \u001B[38;5;28;01mif\u001B[39;00m \u001B[38;5;28misinstance\u001B[39m(key, Hashable):\n\u001B[1;32m--> 418\u001B[0m     \u001B[38;5;28;01mraise\u001B[39;00m \u001B[38;5;167;01mKeyError\u001B[39;00m(key)\n\u001B[0;32m    419\u001B[0m \u001B[38;5;28mself\u001B[39m\u001B[38;5;241m.\u001B[39m_check_indexing_error(key)\n\u001B[0;32m    420\u001B[0m \u001B[38;5;28;01mraise\u001B[39;00m \u001B[38;5;167;01mKeyError\u001B[39;00m(key)\n",
      "\u001B[1;31mKeyError\u001B[0m: 'salary'"
     ]
    }
   ],
   "source": [
    "#18 No entiendo el peo en categorize\n",
    "avg_salaries_per_team = salary[salary['year'] == 2015].groupby('team_id')['salary'].mean().reset_index()\n",
    "avg_salaries_per_team = avg_salaries_per_team['salary']\n",
    "\n",
    "p10 = avg_salaries_per_team['salary'].quantile(0.1)\n",
    "p25 = avg_salaries_per_team['salary'].quantile(0.25)\n",
    "p75 = avg_salaries_per_team['salary'].quantile(0.75)\n",
    "p90 = avg_salaries_per_team['salary'].quantile(0.9)\n",
    "\n",
    "\n",
    "# Step 2: Categorize teams based on average salary\n",
    "def categorize_salary(avg_salary):\n",
    "    if avg_salary > p90:\n",
    "        return 'Very High Salaries'\n",
    "    elif avg_salary < p10:\n",
    "        return 'Very Low Salaries'\n",
    "    elif avg_salary > p75:\n",
    "        return 'High Salaries'\n",
    "    elif avg_salary < p25:\n",
    "        return 'Low Salaries'\n",
    "    else:\n",
    "        return 'Medium Salaries'\n",
    "\n",
    "\n",
    "avg_salaries_per_team['Compensation'] = avg_salaries_per_team['salary'].apply(categorize_salary)\n",
    "\n",
    "# Display the resulting DataFrame\n",
    "result_df = avg_salaries_per_team[['team_id', 'salary', 'Compensation']].sort_values(by='salary', ascending=False)\n",
    "print(result_df)\n",
    "\n",
    "\n"
   ],
   "metadata": {
    "collapsed": false,
    "ExecuteTime": {
     "end_time": "2023-11-08T11:35:31.030075400Z",
     "start_time": "2023-11-08T11:35:29.611215900Z"
    }
   }
  },
  {
   "cell_type": "code",
   "execution_count": 62,
   "outputs": [
    {
     "name": "stdout",
     "output_type": "stream",
     "text": [
      "                         name  salary_rank  win_rank  Spending\n",
      "             New York Yankees          1.0       9.0          \n",
      "               Boston Red Sox          2.0      19.0          \n",
      "          Los Angeles Dodgers          3.0       6.0          \n",
      "                New York Mets          4.0       7.0          \n",
      "        Philadelphia Phillies          5.0      30.0          \n",
      "         San Francisco Giants          6.0      12.0          \n",
      "                 Chicago Cubs          7.0       3.0          \n",
      "               Atlanta Braves          8.0      28.0          \n",
      "               Detroit Tigers          9.0      22.0          \n",
      "          St. Louis Cardinals         10.0       1.0          \n",
      "                Texas Rangers         11.0       8.0          \n",
      "            Chicago White Sox         12.0      20.0          \n",
      "             Seattle Mariners         13.0      20.0          \n",
      "            Baltimore Orioles         14.0      15.0          \n",
      "            Toronto Blue Jays         15.0       5.0 Effective\n",
      "              Cincinnati Reds         16.0      29.0          \n",
      "            Cleveland Indians         17.0      15.0 Effective\n",
      "               Houston Astros         18.0      10.0 Effective\n",
      "             Colorado Rockies         19.0      25.0          \n",
      "              Minnesota Twins         20.0      13.0 Effective\n",
      "Los Angeles Angels of Anaheim         21.0      11.0 Effective\n",
      "             San Diego Padres         22.0      22.0          \n",
      "           Kansas City Royals         23.0       4.0 Effective\n",
      "         Arizona Diamondbacks         24.0      18.0          \n",
      "            Oakland Athletics         25.0      25.0          \n",
      "            Milwaukee Brewers         26.0      25.0          \n",
      "           Pittsburgh Pirates         27.0       2.0 Effective\n",
      "         Washington Nationals         28.0      13.0 Effective\n",
      "               Tampa Bay Rays         29.0      17.0          \n",
      "                Miami Marlins         30.0      24.0          \n"
     ]
    }
   ],
   "source": [
    "#19 puro gpt la segunda parte del code\n",
    "\n",
    "merged_data = pd.merge(salary, team, on='team_id')\n",
    "filtered_data = merged_data[merged_data['year_y'] == 2015]\n",
    "grouped_data = filtered_data.groupby(['name', 'w'])['salary'].sum().reset_index()\n",
    "grouped_data['salary_rank'] = grouped_data['salary'].rank(ascending=False, method='min')\n",
    "grouped_data['win_rank'] = grouped_data['w'].rank(ascending=False, method='min')\n",
    "\n",
    "grouped_data['Spending'] = grouped_data.apply(lambda row: 'Effective' if row['salary_rank'] >= 15 and row['win_rank'] <= 15 else '', axis=1)\n",
    "result = grouped_data[['name', 'salary_rank', 'win_rank', 'Spending']]\n",
    "result = result.sort_values(by='salary_rank')\n",
    "result.reset_index(drop=True, inplace=True)\n",
    "print(result.to_string(index=False))"
   ],
   "metadata": {
    "collapsed": false,
    "ExecuteTime": {
     "end_time": "2023-11-08T12:36:24.144871600Z",
     "start_time": "2023-11-08T12:36:22.048690200Z"
    }
   }
  },
  {
   "cell_type": "code",
   "execution_count": null,
   "outputs": [],
   "source": [],
   "metadata": {
    "collapsed": false
   }
  }
 ],
 "metadata": {
  "kernelspec": {
   "display_name": "Python 3",
   "language": "python",
   "name": "python3"
  },
  "language_info": {
   "codemirror_mode": {
    "name": "ipython",
    "version": 3
   },
   "file_extension": ".py",
   "mimetype": "text/x-python",
   "name": "python",
   "nbconvert_exporter": "python",
   "pygments_lexer": "ipython3",
   "version": "3.11.4"
  }
 },
 "nbformat": 4,
 "nbformat_minor": 2
}
