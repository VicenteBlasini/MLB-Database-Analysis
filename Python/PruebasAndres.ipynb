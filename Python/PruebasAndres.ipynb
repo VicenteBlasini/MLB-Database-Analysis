{
 "cells": [
  {
   "cell_type": "code",
   "execution_count": null,
   "metadata": {},
   "outputs": [],
   "source": [
    "import pandas as pd\n",
    "\n",
    "\n",
    "batting = pd.read_csv(\"../DATA/batting.csv\")\n",
    "fielding = pd.read_csv(\"../DATA/fielding.csv\")\n",
    "hall_of_fame = pd.read_csv(\"../DATA/hall_of_fame.csv\")\n",
    "player_award = pd.read_csv(\"../DATA/player_award.csv\")\n",
    "player = pd.read_csv(\"../DATA/player.csv\")\n",
    "salary = pd.read_csv(\"../DATA/salary.csv\")\n",
    "team = pd.read_csv(\"../DATA/team.csv\")\n",
    "\n",
    "table_files = [batting, fielding, hall_of_fame, player_award, player, salary, team]\n",
    "for file in table_files:\n",
    "    print(file.head(5))\n",
    "    \n",
    "    \n",
    "    \n",
    "    \n",
    "    "
   ]
  },
  {
   "cell_type": "code",
   "execution_count": null,
   "outputs": [],
   "source": [
    "#1.short\n",
    "best_hitters = batting[batting['hr'].notnull()].groupby('player_id').hr.sum().reset_index().sort_values(by= 'hr', ascending=False).head(25)\n",
    "best_hitters"
   ],
   "metadata": {
    "collapsed": false
   }
  },
  {
   "cell_type": "code",
   "execution_count": null,
   "outputs": [],
   "source": [
    "#1.long\n",
    "filtered_df = filtered_df[filtered_df['hr'].notnull()]\n",
    "grouped_df = filtered_df.groupby('player_id').hr.sum().reset_index()\n",
    "ordered_df = grouped_df.sort_values(by = 'hr', ascending = False).head(25)\n",
    "ordered_df"
   ],
   "metadata": {
    "collapsed": false
   }
  },
  {
   "cell_type": "code",
   "execution_count": null,
   "outputs": [],
   "source": [
    "#2.short\n",
    "merged_df = pd.merge(batting, player, on = 'player_id')\n",
    "filtered_df = merged_df[merged_df['team_id']=='BOS'].groupby(['player_id', 'name_first', 'name_last']).hr.sum().reset_index()\n",
    "filtered_df['full_name'] = filtered_df['name_first'] + ' ' + filtered_df['name_last']\n",
    "filtered_df = filtered_df[['player_id', 'full_name', 'hr']]\n",
    "ordered_df = filtered_df.sort_values(by='hr', ascending=False).head(10)\n",
    "ordered_df"
   ],
   "metadata": {
    "collapsed": false
   }
  },
  {
   "cell_type": "code",
   "execution_count": null,
   "outputs": [],
   "source": [
    "#2.long\n",
    "merged_df = pd.merge(batting, player, on = 'player_id')\n",
    "filtered_df = merged_df[merged_df['team_id'] == 'BOS']\n",
    "grouped_df = filtered_df.groupby(['player_id', 'name_first', 'name_last']).hr.sum().reset_index()\n",
    "grouped_df['full_name'] = grouped_df['name_first'] + ' ' + grouped_df['name_last']\n",
    "grouped_df = grouped_df[['player_id', 'full_name', 'hr']]\n",
    "ordered_df = grouped_df.sort_values(by='hr', ascending=False).head(10)\n",
    "ordered_df"
   ],
   "metadata": {
    "collapsed": false
   }
  },
  {
   "cell_type": "code",
   "execution_count": null,
   "outputs": [],
   "source": [],
   "metadata": {
    "collapsed": false
   }
  },
  {
   "cell_type": "code",
   "execution_count": null,
   "outputs": [],
   "source": [],
   "metadata": {
    "collapsed": false
   }
  },
  {
   "cell_type": "code",
   "execution_count": null,
   "outputs": [],
   "source": [],
   "metadata": {
    "collapsed": false
   }
  }
 ],
 "metadata": {
  "kernelspec": {
   "display_name": "Python 3",
   "language": "python",
   "name": "python3"
  },
  "language_info": {
   "codemirror_mode": {
    "name": "ipython",
    "version": 3
   },
   "file_extension": ".py",
   "mimetype": "text/x-python",
   "name": "python",
   "nbconvert_exporter": "python",
   "pygments_lexer": "ipython3",
   "version": "3.11.4"
  }
 },
 "nbformat": 4,
 "nbformat_minor": 2
}
