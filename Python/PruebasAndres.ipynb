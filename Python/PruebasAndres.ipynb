{
 "cells": [
  {
   "cell_type": "code",
   "execution_count": 2,
   "metadata": {
    "ExecuteTime": {
     "end_time": "2023-11-06T19:23:55.436602800Z",
     "start_time": "2023-11-06T19:23:48.599784Z"
    }
   },
   "outputs": [
    {
     "name": "stdout",
     "output_type": "stream",
     "text": [
      "   player_id  year  stint team_id league_id   g     ab     r     h  double  \\\n",
      "0  abercda01  1871      1     TRO       NaN   1    4.0   0.0   0.0     0.0   \n",
      "1   addybo01  1871      1     RC1       NaN  25  118.0  30.0  32.0     6.0   \n",
      "2  allisar01  1871      1     CL1       NaN  29  137.0  28.0  40.0     4.0   \n",
      "3  allisdo01  1871      1     WS3       NaN  27  133.0  28.0  44.0    10.0   \n",
      "4  ansonca01  1871      1     RC1       NaN  25  120.0  29.0  39.0    11.0   \n",
      "\n",
      "   ...   rbi   sb   cs   bb   so  ibb  hbp  sh  sf  g_idp  \n",
      "0  ...   0.0  0.0  0.0  0.0  0.0  NaN  NaN NaN NaN    NaN  \n",
      "1  ...  13.0  8.0  1.0  4.0  0.0  NaN  NaN NaN NaN    NaN  \n",
      "2  ...  19.0  3.0  1.0  2.0  5.0  NaN  NaN NaN NaN    NaN  \n",
      "3  ...  27.0  1.0  1.0  0.0  2.0  NaN  NaN NaN NaN    NaN  \n",
      "4  ...  16.0  6.0  2.0  2.0  1.0  NaN  NaN NaN NaN    NaN  \n",
      "\n",
      "[5 rows x 22 columns]\n",
      "   player_id  year  stint team_id league_id pos   g  gs  inn_outs    po     a  \\\n",
      "0  abercda01  1871      1     TRO       NaN  SS   1 NaN       NaN   1.0   3.0   \n",
      "1   addybo01  1871      1     RC1       NaN  2B  22 NaN       NaN  67.0  72.0   \n",
      "2   addybo01  1871      1     RC1       NaN  SS   3 NaN       NaN   8.0  14.0   \n",
      "3  allisar01  1871      1     CL1       NaN  2B   2 NaN       NaN   1.0   4.0   \n",
      "4  allisar01  1871      1     CL1       NaN  OF  29 NaN       NaN  51.0   3.0   \n",
      "\n",
      "      e   dp  pb  wp  sb  cs  zr  \n",
      "0   2.0  0.0 NaN NaN NaN NaN NaN  \n",
      "1  42.0  5.0 NaN NaN NaN NaN NaN  \n",
      "2   7.0  0.0 NaN NaN NaN NaN NaN  \n",
      "3   0.0  0.0 NaN NaN NaN NaN NaN  \n",
      "4   7.0  1.0 NaN NaN NaN NaN NaN  \n",
      "   player_id  yearid votedby  ballots  needed  votes inducted category  \\\n",
      "0   cobbty01    1936   BBWAA    226.0   170.0  222.0        Y   Player   \n",
      "1   ruthba01    1936   BBWAA    226.0   170.0  215.0        Y   Player   \n",
      "2  wagneho01    1936   BBWAA    226.0   170.0  215.0        Y   Player   \n",
      "3  mathech01    1936   BBWAA    226.0   170.0  205.0        Y   Player   \n",
      "4  johnswa01    1936   BBWAA    226.0   170.0  189.0        Y   Player   \n",
      "\n",
      "  needed_note  \n",
      "0         NaN  \n",
      "1         NaN  \n",
      "2         NaN  \n",
      "3         NaN  \n",
      "4         NaN  \n",
      "   player_id               award_id  year league_id  tie notes\n",
      "0   bondto01  Pitching Triple Crown  1877        NL  NaN   NaN\n",
      "1  hinespa01           Triple Crown  1878        NL  NaN   NaN\n",
      "2  heckegu01  Pitching Triple Crown  1884        AA  NaN   NaN\n",
      "3  radboch01  Pitching Triple Crown  1884        NL  NaN   NaN\n",
      "4  oneilti01           Triple Crown  1887        AA  NaN   NaN\n",
      "   player_id  birth_year  birth_month  birth_day birth_country birth_state  \\\n",
      "0  aardsda01      1981.0         12.0       27.0           USA          CO   \n",
      "1  aaronha01      1934.0          2.0        5.0           USA          AL   \n",
      "2  aaronto01      1939.0          8.0        5.0           USA          AL   \n",
      "3   aasedo01      1954.0          9.0        8.0           USA          CA   \n",
      "4   abadan01      1972.0          8.0       25.0           USA          FL   \n",
      "\n",
      "   birth_city  death_year  death_month  death_day  ... name_last  \\\n",
      "0      Denver         NaN          NaN        NaN  ...   Aardsma   \n",
      "1      Mobile         NaN          NaN        NaN  ...     Aaron   \n",
      "2      Mobile      1984.0          8.0       16.0  ...     Aaron   \n",
      "3      Orange         NaN          NaN        NaN  ...      Aase   \n",
      "4  Palm Beach         NaN          NaN        NaN  ...      Abad   \n",
      "\n",
      "       name_given weight height bats throws       debut  final_game  retro_id  \\\n",
      "0     David Allan  220.0   75.0    R      R  2004-04-06  2015-08-23  aardd001   \n",
      "1     Henry Louis  180.0   72.0    R      R  1954-04-13  1976-10-03  aaroh101   \n",
      "2      Tommie Lee  190.0   75.0    R      R  1962-04-10  1971-09-26  aarot101   \n",
      "3  Donald William  190.0   75.0    R      R  1977-07-26  1990-10-03  aased001   \n",
      "4   Fausto Andres  184.0   73.0    L      L  2001-09-10  2006-04-13  abada001   \n",
      "\n",
      "    bbref_id  \n",
      "0  aardsda01  \n",
      "1  aaronha01  \n",
      "2  aaronto01  \n",
      "3   aasedo01  \n",
      "4   abadan01  \n",
      "\n",
      "[5 rows x 24 columns]\n",
      "   year team_id league_id  player_id  salary\n",
      "0  1985     ATL        NL  barkele01  870000\n",
      "1  1985     ATL        NL  bedrost01  550000\n",
      "2  1985     ATL        NL  benedbr01  545000\n",
      "3  1985     ATL        NL   campri01  633333\n",
      "4  1985     ATL        NL  ceronri01  625000\n",
      "   year league_id team_id franchise_id div_id  rank   g  ghome   w   l  ...  \\\n",
      "0  1871       NaN     BS1          BNA    NaN     3  31    NaN  20  10  ...   \n",
      "1  1871       NaN     CH1          CNA    NaN     2  28    NaN  19   9  ...   \n",
      "2  1871       NaN     CL1          CFC    NaN     8  29    NaN  10  19  ...   \n",
      "3  1871       NaN     FW1          KEK    NaN     7  19    NaN   7  12  ...   \n",
      "4  1871       NaN     NY2          NNA    NaN     5  33    NaN  16  17  ...   \n",
      "\n",
      "   dp    fp                     name                          park  \\\n",
      "0 NaN  0.83     Boston Red Stockings           South End Grounds I   \n",
      "1 NaN  0.82  Chicago White Stockings       Union Base-Ball Grounds   \n",
      "2 NaN  0.81   Cleveland Forest Citys  National Association Grounds   \n",
      "3 NaN  0.80     Fort Wayne Kekiongas                Hamilton Field   \n",
      "4 NaN  0.83         New York Mutuals      Union Grounds (Brooklyn)   \n",
      "\n",
      "   attendance  bpf  ppf  team_id_br  team_id_lahman45  team_id_retro  \n",
      "0         NaN  103   98         BOS               BS1            BS1  \n",
      "1         NaN  104  102         CHI               CH1            CH1  \n",
      "2         NaN   96  100         CLE               CL1            CL1  \n",
      "3         NaN  101  107         KEK               FW1            FW1  \n",
      "4         NaN   90   88         NYU               NY2            NY2  \n",
      "\n",
      "[5 rows x 48 columns]\n"
     ]
    }
   ],
   "source": [
    "import pandas as pd\n",
    "\n",
    "\n",
    "batting = pd.read_csv(\"../DATA/batting.csv\")\n",
    "fielding = pd.read_csv(\"../DATA/fielding.csv\")\n",
    "hall_of_fame = pd.read_csv(\"../DATA/hall_of_fame.csv\")\n",
    "player_award = pd.read_csv(\"../DATA/player_award.csv\")\n",
    "player = pd.read_csv(\"../DATA/player.csv\")\n",
    "salary = pd.read_csv(\"../DATA/salary.csv\")\n",
    "team = pd.read_csv(\"../DATA/team.csv\")\n",
    "\n",
    "table_files = [batting, fielding, hall_of_fame, player_award, player, salary, team]\n",
    "for file in table_files:\n",
    "    print(file.head(5))\n",
    "    \n",
    "    \n",
    "    \n",
    "    \n",
    "    "
   ]
  },
  {
   "cell_type": "code",
   "execution_count": null,
   "outputs": [],
   "source": [
    "#1\n",
    "best_hitters = batting[batting['hr'].notnull()].groupby('player_id').hr.sum().reset_index().sort_values(by= 'hr', ascending=False).head(25)\n",
    "best_hitters"
   ],
   "metadata": {
    "collapsed": false
   }
  },
  {
   "cell_type": "code",
   "execution_count": null,
   "outputs": [],
   "source": [
    "#2\n",
    "merged_df = pd.merge(batting, player, on = 'player_id')\n",
    "filtered_df = merged_df[merged_df['team_id']=='BOS'].groupby(['player_id', 'name_first', 'name_last']).hr.sum().reset_index()\n",
    "filtered_df['full_name'] = filtered_df['name_first'] + ' ' + filtered_df['name_last']\n",
    "filtered_df = filtered_df[['player_id', 'full_name', 'hr']]\n",
    "ordered_df = filtered_df.sort_values(by='hr', ascending=False).head(10)\n",
    "ordered_df"
   ],
   "metadata": {
    "collapsed": false
   }
  },
  {
   "cell_type": "code",
   "execution_count": 279,
   "outputs": [
    {
     "name": "stderr",
     "output_type": "stream",
     "text": [
      "C:\\Users\\andre\\AppData\\Local\\Temp\\ipykernel_15460\\671918632.py:4: SettingWithCopyWarning: \n",
      "A value is trying to be set on a copy of a slice from a DataFrame.\n",
      "Try using .loc[row_indexer,col_indexer] = value instead\n",
      "\n",
      "See the caveats in the documentation: https://pandas.pydata.org/pandas-docs/stable/user_guide/indexing.html#returning-a-view-versus-a-copy\n",
      "  filtered_df['batting_avg'] = (filtered_df.h / filtered_df.ab).round(3)\n",
      "C:\\Users\\andre\\AppData\\Local\\Temp\\ipykernel_15460\\671918632.py:7: SettingWithCopyWarning: \n",
      "A value is trying to be set on a copy of a slice from a DataFrame.\n",
      "Try using .loc[row_indexer,col_indexer] = value instead\n",
      "\n",
      "See the caveats in the documentation: https://pandas.pydata.org/pandas-docs/stable/user_guide/indexing.html#returning-a-view-versus-a-copy\n",
      "  filtered_df['hr_rank'] = filtered_df['hr'].rank(method='first', ascending=False)\n",
      "C:\\Users\\andre\\AppData\\Local\\Temp\\ipykernel_15460\\671918632.py:8: SettingWithCopyWarning: \n",
      "A value is trying to be set on a copy of a slice from a DataFrame.\n",
      "Try using .loc[row_indexer,col_indexer] = value instead\n",
      "\n",
      "See the caveats in the documentation: https://pandas.pydata.org/pandas-docs/stable/user_guide/indexing.html#returning-a-view-versus-a-copy\n",
      "  filtered_df['batting_avg_rank'] = filtered_df['batting_avg'].rank(method='first', ascending=False)\n"
     ]
    },
    {
     "data": {
      "text/plain": "        name_last    hr  hr_rank  batting_avg  batting_avg_rank\n78855   Rodriguez  33.0     15.0        0.250             359.0\n79712     Hawkins   0.0    548.0        0.000             839.0\n79713     Hawkins   0.0    549.0          NaN               NaN\n82290       Colon   0.0    550.0        0.138             738.0\n82602      Hunter  22.0     49.0        0.240             429.0\n82937       Ortiz  37.0     12.0        0.273             217.0\n83396      Beltre  18.0     69.0        0.287             146.0\n83416     Beltran  19.0     62.0        0.276             201.0\n83547        Chen   0.0    551.0          NaN               NaN\n84315  Pierzynski   9.0    194.0        0.300              99.0\n84395     Ramirez  11.0    158.0        0.247             393.0\n84396     Ramirez   6.0    254.0        0.245             408.0\n84857     Burnett   1.0    461.0        0.119             760.0\n84876     Carlyle   0.0    552.0          NaN               NaN\n85245      Hudson   1.0    462.0        0.184             644.0\n85618      Nathan   0.0    553.0          NaN               NaN\n86033        Wolf   0.0    554.0          NaN               NaN\n86166     Buehrle   0.0    555.0        0.143             725.0\n86220      Choate   0.0    556.0          NaN               NaN\n86455      Grilli   0.0    557.0          NaN               NaN\n86624     Marquis   0.0    558.0        0.188             634.0\n86936     Rollins  13.0    128.0        0.224             505.0\n87056   Vogelsong   1.0    463.0        0.139             737.0\n87161        Zito   0.0    559.0          NaN               NaN\n87220     Balfour   0.0    560.0          NaN               NaN",
      "text/html": "<div>\n<style scoped>\n    .dataframe tbody tr th:only-of-type {\n        vertical-align: middle;\n    }\n\n    .dataframe tbody tr th {\n        vertical-align: top;\n    }\n\n    .dataframe thead th {\n        text-align: right;\n    }\n</style>\n<table border=\"1\" class=\"dataframe\">\n  <thead>\n    <tr style=\"text-align: right;\">\n      <th></th>\n      <th>name_last</th>\n      <th>hr</th>\n      <th>hr_rank</th>\n      <th>batting_avg</th>\n      <th>batting_avg_rank</th>\n    </tr>\n  </thead>\n  <tbody>\n    <tr>\n      <th>78855</th>\n      <td>Rodriguez</td>\n      <td>33.0</td>\n      <td>15.0</td>\n      <td>0.250</td>\n      <td>359.0</td>\n    </tr>\n    <tr>\n      <th>79712</th>\n      <td>Hawkins</td>\n      <td>0.0</td>\n      <td>548.0</td>\n      <td>0.000</td>\n      <td>839.0</td>\n    </tr>\n    <tr>\n      <th>79713</th>\n      <td>Hawkins</td>\n      <td>0.0</td>\n      <td>549.0</td>\n      <td>NaN</td>\n      <td>NaN</td>\n    </tr>\n    <tr>\n      <th>82290</th>\n      <td>Colon</td>\n      <td>0.0</td>\n      <td>550.0</td>\n      <td>0.138</td>\n      <td>738.0</td>\n    </tr>\n    <tr>\n      <th>82602</th>\n      <td>Hunter</td>\n      <td>22.0</td>\n      <td>49.0</td>\n      <td>0.240</td>\n      <td>429.0</td>\n    </tr>\n    <tr>\n      <th>82937</th>\n      <td>Ortiz</td>\n      <td>37.0</td>\n      <td>12.0</td>\n      <td>0.273</td>\n      <td>217.0</td>\n    </tr>\n    <tr>\n      <th>83396</th>\n      <td>Beltre</td>\n      <td>18.0</td>\n      <td>69.0</td>\n      <td>0.287</td>\n      <td>146.0</td>\n    </tr>\n    <tr>\n      <th>83416</th>\n      <td>Beltran</td>\n      <td>19.0</td>\n      <td>62.0</td>\n      <td>0.276</td>\n      <td>201.0</td>\n    </tr>\n    <tr>\n      <th>83547</th>\n      <td>Chen</td>\n      <td>0.0</td>\n      <td>551.0</td>\n      <td>NaN</td>\n      <td>NaN</td>\n    </tr>\n    <tr>\n      <th>84315</th>\n      <td>Pierzynski</td>\n      <td>9.0</td>\n      <td>194.0</td>\n      <td>0.300</td>\n      <td>99.0</td>\n    </tr>\n    <tr>\n      <th>84395</th>\n      <td>Ramirez</td>\n      <td>11.0</td>\n      <td>158.0</td>\n      <td>0.247</td>\n      <td>393.0</td>\n    </tr>\n    <tr>\n      <th>84396</th>\n      <td>Ramirez</td>\n      <td>6.0</td>\n      <td>254.0</td>\n      <td>0.245</td>\n      <td>408.0</td>\n    </tr>\n    <tr>\n      <th>84857</th>\n      <td>Burnett</td>\n      <td>1.0</td>\n      <td>461.0</td>\n      <td>0.119</td>\n      <td>760.0</td>\n    </tr>\n    <tr>\n      <th>84876</th>\n      <td>Carlyle</td>\n      <td>0.0</td>\n      <td>552.0</td>\n      <td>NaN</td>\n      <td>NaN</td>\n    </tr>\n    <tr>\n      <th>85245</th>\n      <td>Hudson</td>\n      <td>1.0</td>\n      <td>462.0</td>\n      <td>0.184</td>\n      <td>644.0</td>\n    </tr>\n    <tr>\n      <th>85618</th>\n      <td>Nathan</td>\n      <td>0.0</td>\n      <td>553.0</td>\n      <td>NaN</td>\n      <td>NaN</td>\n    </tr>\n    <tr>\n      <th>86033</th>\n      <td>Wolf</td>\n      <td>0.0</td>\n      <td>554.0</td>\n      <td>NaN</td>\n      <td>NaN</td>\n    </tr>\n    <tr>\n      <th>86166</th>\n      <td>Buehrle</td>\n      <td>0.0</td>\n      <td>555.0</td>\n      <td>0.143</td>\n      <td>725.0</td>\n    </tr>\n    <tr>\n      <th>86220</th>\n      <td>Choate</td>\n      <td>0.0</td>\n      <td>556.0</td>\n      <td>NaN</td>\n      <td>NaN</td>\n    </tr>\n    <tr>\n      <th>86455</th>\n      <td>Grilli</td>\n      <td>0.0</td>\n      <td>557.0</td>\n      <td>NaN</td>\n      <td>NaN</td>\n    </tr>\n    <tr>\n      <th>86624</th>\n      <td>Marquis</td>\n      <td>0.0</td>\n      <td>558.0</td>\n      <td>0.188</td>\n      <td>634.0</td>\n    </tr>\n    <tr>\n      <th>86936</th>\n      <td>Rollins</td>\n      <td>13.0</td>\n      <td>128.0</td>\n      <td>0.224</td>\n      <td>505.0</td>\n    </tr>\n    <tr>\n      <th>87056</th>\n      <td>Vogelsong</td>\n      <td>1.0</td>\n      <td>463.0</td>\n      <td>0.139</td>\n      <td>737.0</td>\n    </tr>\n    <tr>\n      <th>87161</th>\n      <td>Zito</td>\n      <td>0.0</td>\n      <td>559.0</td>\n      <td>NaN</td>\n      <td>NaN</td>\n    </tr>\n    <tr>\n      <th>87220</th>\n      <td>Balfour</td>\n      <td>0.0</td>\n      <td>560.0</td>\n      <td>NaN</td>\n      <td>NaN</td>\n    </tr>\n  </tbody>\n</table>\n</div>"
     },
     "execution_count": 279,
     "metadata": {},
     "output_type": "execute_result"
    }
   ],
   "source": [
    "#3\n"
   ],
   "metadata": {
    "collapsed": false,
    "ExecuteTime": {
     "end_time": "2023-11-06T18:09:40.592057200Z",
     "start_time": "2023-11-06T18:09:40.412292100Z"
    }
   }
  },
  {
   "cell_type": "code",
   "execution_count": 275,
   "outputs": [
    {
     "data": {
      "text/plain": "     player_id name_first   name_last     ab    hr  Homeruns_per_ab\n275  mcgwima01       Mark     McGwire  236.0  32.0            0.136\n44   bondsba01      Barry       Bonds  480.0  49.0            0.102\n191   hillgl01  Glenallen        Hill  300.0  27.0            0.090\n333  ramirma02      Manny     Ramirez  439.0  38.0            0.087\n362  sheffga01       Gary   Sheffield  501.0  43.0            0.086\n142  giambja01      Jason      Giambi  510.0  43.0            0.084\n370   sosasa01      Sammy        Sosa  604.0  50.0            0.083\n148  glaustr01       Troy       Glaus  563.0  47.0            0.083\n51   branyru01    Russell     Branyan  193.0  16.0            0.083\n197  hundlto01       Todd     Hundley  299.0  24.0            0.080\n116  edmonji01        Jim     Edmonds  525.0  42.0            0.080\n18   bagweje01       Jeff     Bagwell  590.0  47.0            0.080\n189  hidalri01    Richard     Hidalgo  558.0  44.0            0.079\n323  piazzmi01       Mike      Piazza  482.0  38.0            0.079\n221  justida01      David     Justice  524.0  41.0            0.078\n163  griffke02        Ken     Griffey  520.0  40.0            0.077\n166  guerrvl01   Vladimir    Guerrero  571.0  44.0            0.077\n409   wardda01     Daryle        Ward  264.0  20.0            0.076\n211  johnsch04    Charles     Johnson  421.0  31.0            0.074\n347  rodriiv01       Ivan   Rodriguez  363.0  27.0            0.074\n345  rodrial01       Alex   Rodriguez  554.0  41.0            0.074\n387  thomafr04      Frank      Thomas  582.0  43.0            0.074\n13   andresh01      Shane     Andrews  192.0  14.0            0.073\n183  heltoto01       Todd      Helton  580.0  42.0            0.072\n66   caminke01        Ken    Caminiti  208.0  15.0            0.072\n104  delgaca01     Carlos     Delgado  569.0  41.0            0.072\n57   buhneja01        Jay      Buhner  364.0  26.0            0.071\n315  palmera01     Rafael    Palmeiro  565.0  39.0            0.069\n122  evereca01       Carl     Everett  496.0  34.0            0.069\n234  lampkto01        Tom     Lampkin  103.0   7.0            0.068\n262  martied01      Edgar    Martinez  556.0  37.0            0.067\n235  lankfra01        Ray    Lankford  392.0  26.0            0.066\n23   batisto01       Tony     Batista  620.0  41.0            0.066\n9     aloumo01     Moises        Alou  454.0  30.0            0.066\n137  fullmbr01       Brad     Fullmer  482.0  32.0            0.066\n207  jenkige01      Geoff     Jenkins  512.0  34.0            0.066\n178  hanseda01       Dave      Hansen  121.0   8.0            0.066\n388  thomeji01        Jim       Thome  557.0  37.0            0.066\n341  richach01      Chris     Richard  199.0  13.0            0.065\n127  finlest01      Steve      Finley  539.0  35.0            0.065\n117  elsteke01      Kevin      Elster  220.0  14.0            0.064\n145  gilesbr02      Brian       Giles  559.0  35.0            0.063\n194  houstty01      Tyler     Houston  284.0  18.0            0.063\n358  seguife01   Fernando   Seguignol  162.0  10.0            0.062\n287  mondera01       Raul     Mondesi  388.0  24.0            0.062\n81   clarkto02       Tony       Clark  208.0  13.0            0.062\n215  jonesch06    Chipper       Jones  579.0  36.0            0.062\n394  vandejo02       John  Vander Wal  384.0  24.0            0.062\n58   burksel01      Ellis       Burks  393.0  24.0            0.061\n396  vaughgr01       Greg      Vaughn  461.0  28.0            0.061",
      "text/html": "<div>\n<style scoped>\n    .dataframe tbody tr th:only-of-type {\n        vertical-align: middle;\n    }\n\n    .dataframe tbody tr th {\n        vertical-align: top;\n    }\n\n    .dataframe thead th {\n        text-align: right;\n    }\n</style>\n<table border=\"1\" class=\"dataframe\">\n  <thead>\n    <tr style=\"text-align: right;\">\n      <th></th>\n      <th>player_id</th>\n      <th>name_first</th>\n      <th>name_last</th>\n      <th>ab</th>\n      <th>hr</th>\n      <th>Homeruns_per_ab</th>\n    </tr>\n  </thead>\n  <tbody>\n    <tr>\n      <th>275</th>\n      <td>mcgwima01</td>\n      <td>Mark</td>\n      <td>McGwire</td>\n      <td>236.0</td>\n      <td>32.0</td>\n      <td>0.136</td>\n    </tr>\n    <tr>\n      <th>44</th>\n      <td>bondsba01</td>\n      <td>Barry</td>\n      <td>Bonds</td>\n      <td>480.0</td>\n      <td>49.0</td>\n      <td>0.102</td>\n    </tr>\n    <tr>\n      <th>191</th>\n      <td>hillgl01</td>\n      <td>Glenallen</td>\n      <td>Hill</td>\n      <td>300.0</td>\n      <td>27.0</td>\n      <td>0.090</td>\n    </tr>\n    <tr>\n      <th>333</th>\n      <td>ramirma02</td>\n      <td>Manny</td>\n      <td>Ramirez</td>\n      <td>439.0</td>\n      <td>38.0</td>\n      <td>0.087</td>\n    </tr>\n    <tr>\n      <th>362</th>\n      <td>sheffga01</td>\n      <td>Gary</td>\n      <td>Sheffield</td>\n      <td>501.0</td>\n      <td>43.0</td>\n      <td>0.086</td>\n    </tr>\n    <tr>\n      <th>142</th>\n      <td>giambja01</td>\n      <td>Jason</td>\n      <td>Giambi</td>\n      <td>510.0</td>\n      <td>43.0</td>\n      <td>0.084</td>\n    </tr>\n    <tr>\n      <th>370</th>\n      <td>sosasa01</td>\n      <td>Sammy</td>\n      <td>Sosa</td>\n      <td>604.0</td>\n      <td>50.0</td>\n      <td>0.083</td>\n    </tr>\n    <tr>\n      <th>148</th>\n      <td>glaustr01</td>\n      <td>Troy</td>\n      <td>Glaus</td>\n      <td>563.0</td>\n      <td>47.0</td>\n      <td>0.083</td>\n    </tr>\n    <tr>\n      <th>51</th>\n      <td>branyru01</td>\n      <td>Russell</td>\n      <td>Branyan</td>\n      <td>193.0</td>\n      <td>16.0</td>\n      <td>0.083</td>\n    </tr>\n    <tr>\n      <th>197</th>\n      <td>hundlto01</td>\n      <td>Todd</td>\n      <td>Hundley</td>\n      <td>299.0</td>\n      <td>24.0</td>\n      <td>0.080</td>\n    </tr>\n    <tr>\n      <th>116</th>\n      <td>edmonji01</td>\n      <td>Jim</td>\n      <td>Edmonds</td>\n      <td>525.0</td>\n      <td>42.0</td>\n      <td>0.080</td>\n    </tr>\n    <tr>\n      <th>18</th>\n      <td>bagweje01</td>\n      <td>Jeff</td>\n      <td>Bagwell</td>\n      <td>590.0</td>\n      <td>47.0</td>\n      <td>0.080</td>\n    </tr>\n    <tr>\n      <th>189</th>\n      <td>hidalri01</td>\n      <td>Richard</td>\n      <td>Hidalgo</td>\n      <td>558.0</td>\n      <td>44.0</td>\n      <td>0.079</td>\n    </tr>\n    <tr>\n      <th>323</th>\n      <td>piazzmi01</td>\n      <td>Mike</td>\n      <td>Piazza</td>\n      <td>482.0</td>\n      <td>38.0</td>\n      <td>0.079</td>\n    </tr>\n    <tr>\n      <th>221</th>\n      <td>justida01</td>\n      <td>David</td>\n      <td>Justice</td>\n      <td>524.0</td>\n      <td>41.0</td>\n      <td>0.078</td>\n    </tr>\n    <tr>\n      <th>163</th>\n      <td>griffke02</td>\n      <td>Ken</td>\n      <td>Griffey</td>\n      <td>520.0</td>\n      <td>40.0</td>\n      <td>0.077</td>\n    </tr>\n    <tr>\n      <th>166</th>\n      <td>guerrvl01</td>\n      <td>Vladimir</td>\n      <td>Guerrero</td>\n      <td>571.0</td>\n      <td>44.0</td>\n      <td>0.077</td>\n    </tr>\n    <tr>\n      <th>409</th>\n      <td>wardda01</td>\n      <td>Daryle</td>\n      <td>Ward</td>\n      <td>264.0</td>\n      <td>20.0</td>\n      <td>0.076</td>\n    </tr>\n    <tr>\n      <th>211</th>\n      <td>johnsch04</td>\n      <td>Charles</td>\n      <td>Johnson</td>\n      <td>421.0</td>\n      <td>31.0</td>\n      <td>0.074</td>\n    </tr>\n    <tr>\n      <th>347</th>\n      <td>rodriiv01</td>\n      <td>Ivan</td>\n      <td>Rodriguez</td>\n      <td>363.0</td>\n      <td>27.0</td>\n      <td>0.074</td>\n    </tr>\n    <tr>\n      <th>345</th>\n      <td>rodrial01</td>\n      <td>Alex</td>\n      <td>Rodriguez</td>\n      <td>554.0</td>\n      <td>41.0</td>\n      <td>0.074</td>\n    </tr>\n    <tr>\n      <th>387</th>\n      <td>thomafr04</td>\n      <td>Frank</td>\n      <td>Thomas</td>\n      <td>582.0</td>\n      <td>43.0</td>\n      <td>0.074</td>\n    </tr>\n    <tr>\n      <th>13</th>\n      <td>andresh01</td>\n      <td>Shane</td>\n      <td>Andrews</td>\n      <td>192.0</td>\n      <td>14.0</td>\n      <td>0.073</td>\n    </tr>\n    <tr>\n      <th>183</th>\n      <td>heltoto01</td>\n      <td>Todd</td>\n      <td>Helton</td>\n      <td>580.0</td>\n      <td>42.0</td>\n      <td>0.072</td>\n    </tr>\n    <tr>\n      <th>66</th>\n      <td>caminke01</td>\n      <td>Ken</td>\n      <td>Caminiti</td>\n      <td>208.0</td>\n      <td>15.0</td>\n      <td>0.072</td>\n    </tr>\n    <tr>\n      <th>104</th>\n      <td>delgaca01</td>\n      <td>Carlos</td>\n      <td>Delgado</td>\n      <td>569.0</td>\n      <td>41.0</td>\n      <td>0.072</td>\n    </tr>\n    <tr>\n      <th>57</th>\n      <td>buhneja01</td>\n      <td>Jay</td>\n      <td>Buhner</td>\n      <td>364.0</td>\n      <td>26.0</td>\n      <td>0.071</td>\n    </tr>\n    <tr>\n      <th>315</th>\n      <td>palmera01</td>\n      <td>Rafael</td>\n      <td>Palmeiro</td>\n      <td>565.0</td>\n      <td>39.0</td>\n      <td>0.069</td>\n    </tr>\n    <tr>\n      <th>122</th>\n      <td>evereca01</td>\n      <td>Carl</td>\n      <td>Everett</td>\n      <td>496.0</td>\n      <td>34.0</td>\n      <td>0.069</td>\n    </tr>\n    <tr>\n      <th>234</th>\n      <td>lampkto01</td>\n      <td>Tom</td>\n      <td>Lampkin</td>\n      <td>103.0</td>\n      <td>7.0</td>\n      <td>0.068</td>\n    </tr>\n    <tr>\n      <th>262</th>\n      <td>martied01</td>\n      <td>Edgar</td>\n      <td>Martinez</td>\n      <td>556.0</td>\n      <td>37.0</td>\n      <td>0.067</td>\n    </tr>\n    <tr>\n      <th>235</th>\n      <td>lankfra01</td>\n      <td>Ray</td>\n      <td>Lankford</td>\n      <td>392.0</td>\n      <td>26.0</td>\n      <td>0.066</td>\n    </tr>\n    <tr>\n      <th>23</th>\n      <td>batisto01</td>\n      <td>Tony</td>\n      <td>Batista</td>\n      <td>620.0</td>\n      <td>41.0</td>\n      <td>0.066</td>\n    </tr>\n    <tr>\n      <th>9</th>\n      <td>aloumo01</td>\n      <td>Moises</td>\n      <td>Alou</td>\n      <td>454.0</td>\n      <td>30.0</td>\n      <td>0.066</td>\n    </tr>\n    <tr>\n      <th>137</th>\n      <td>fullmbr01</td>\n      <td>Brad</td>\n      <td>Fullmer</td>\n      <td>482.0</td>\n      <td>32.0</td>\n      <td>0.066</td>\n    </tr>\n    <tr>\n      <th>207</th>\n      <td>jenkige01</td>\n      <td>Geoff</td>\n      <td>Jenkins</td>\n      <td>512.0</td>\n      <td>34.0</td>\n      <td>0.066</td>\n    </tr>\n    <tr>\n      <th>178</th>\n      <td>hanseda01</td>\n      <td>Dave</td>\n      <td>Hansen</td>\n      <td>121.0</td>\n      <td>8.0</td>\n      <td>0.066</td>\n    </tr>\n    <tr>\n      <th>388</th>\n      <td>thomeji01</td>\n      <td>Jim</td>\n      <td>Thome</td>\n      <td>557.0</td>\n      <td>37.0</td>\n      <td>0.066</td>\n    </tr>\n    <tr>\n      <th>341</th>\n      <td>richach01</td>\n      <td>Chris</td>\n      <td>Richard</td>\n      <td>199.0</td>\n      <td>13.0</td>\n      <td>0.065</td>\n    </tr>\n    <tr>\n      <th>127</th>\n      <td>finlest01</td>\n      <td>Steve</td>\n      <td>Finley</td>\n      <td>539.0</td>\n      <td>35.0</td>\n      <td>0.065</td>\n    </tr>\n    <tr>\n      <th>117</th>\n      <td>elsteke01</td>\n      <td>Kevin</td>\n      <td>Elster</td>\n      <td>220.0</td>\n      <td>14.0</td>\n      <td>0.064</td>\n    </tr>\n    <tr>\n      <th>145</th>\n      <td>gilesbr02</td>\n      <td>Brian</td>\n      <td>Giles</td>\n      <td>559.0</td>\n      <td>35.0</td>\n      <td>0.063</td>\n    </tr>\n    <tr>\n      <th>194</th>\n      <td>houstty01</td>\n      <td>Tyler</td>\n      <td>Houston</td>\n      <td>284.0</td>\n      <td>18.0</td>\n      <td>0.063</td>\n    </tr>\n    <tr>\n      <th>358</th>\n      <td>seguife01</td>\n      <td>Fernando</td>\n      <td>Seguignol</td>\n      <td>162.0</td>\n      <td>10.0</td>\n      <td>0.062</td>\n    </tr>\n    <tr>\n      <th>287</th>\n      <td>mondera01</td>\n      <td>Raul</td>\n      <td>Mondesi</td>\n      <td>388.0</td>\n      <td>24.0</td>\n      <td>0.062</td>\n    </tr>\n    <tr>\n      <th>81</th>\n      <td>clarkto02</td>\n      <td>Tony</td>\n      <td>Clark</td>\n      <td>208.0</td>\n      <td>13.0</td>\n      <td>0.062</td>\n    </tr>\n    <tr>\n      <th>215</th>\n      <td>jonesch06</td>\n      <td>Chipper</td>\n      <td>Jones</td>\n      <td>579.0</td>\n      <td>36.0</td>\n      <td>0.062</td>\n    </tr>\n    <tr>\n      <th>394</th>\n      <td>vandejo02</td>\n      <td>John</td>\n      <td>Vander Wal</td>\n      <td>384.0</td>\n      <td>24.0</td>\n      <td>0.062</td>\n    </tr>\n    <tr>\n      <th>58</th>\n      <td>burksel01</td>\n      <td>Ellis</td>\n      <td>Burks</td>\n      <td>393.0</td>\n      <td>24.0</td>\n      <td>0.061</td>\n    </tr>\n    <tr>\n      <th>396</th>\n      <td>vaughgr01</td>\n      <td>Greg</td>\n      <td>Vaughn</td>\n      <td>461.0</td>\n      <td>28.0</td>\n      <td>0.061</td>\n    </tr>\n  </tbody>\n</table>\n</div>"
     },
     "execution_count": 275,
     "metadata": {},
     "output_type": "execute_result"
    }
   ],
   "source": [
    "#4\n",
    "merged_df = pd.merge(batting, player, on = 'player_id')\n",
    "filtered_df = merged_df[(merged_df['ab'] >= 100) & (merged_df['year']==2000)]\n",
    "grouped_df = filtered_df.groupby(['player_id', 'name_first', 'name_last'])[['ab','hr']].sum().reset_index()\n",
    "grouped_df['Homeruns_per_ab'] = round(grouped_df['hr'] / grouped_df['ab'],3)\n",
    "ordered_df = grouped_df.sort_values(by='Homeruns_per_ab', ascending=False).head(50)\n",
    "ordered_df"
   ],
   "metadata": {
    "collapsed": false,
    "ExecuteTime": {
     "end_time": "2023-11-06T18:03:56.798922100Z",
     "start_time": "2023-11-06T18:03:56.577182100Z"
    }
   }
  },
  {
   "cell_type": "code",
   "execution_count": 159,
   "outputs": [
    {
     "data": {
      "text/plain": "     player_id name_first       h       ab  batting_avg batting_performance\n252   ruthba01       Babe  2518.0   7216.0        0.349           Above_avg\n98   gehrilo01        Lou  2700.0   7935.0        0.340           Above_avg\n76   duncama01    Mariano   136.0    400.0        0.340           Above_avg\n72   dimagjo01        Joe  2214.0   6821.0        0.325           Above_avg\n54   combsea01      Earle  1852.0   5711.0        0.324           Above_avg\n223  paschbe01        Ben   163.0    505.0        0.323           Above_avg\n137  jamesdi01       Dion   174.0    552.0        0.315           Above_avg\n71   dickebi01       Bill  1931.0   6151.0        0.314           Above_avg\n26   boggswa01       Wade   702.0   2240.0        0.313           Above_avg\n195  meusebo01        Bob  1565.0   5032.0        0.311           Above_avg\n138  jeterde01      Derek  3441.0  11084.0        0.310           Above_avg\n37    canoro01   Robinson  1649.0   5336.0        0.309           Above_avg\n183  mattido01        Don  2151.0   6991.0        0.308           Above_avg\n310  watsobo01        Bob   144.0    469.0        0.307           Above_avg\n274   sojolu01       Luis    66.0    215.0        0.307           Above_avg\n44   chapmbe01        Ben  1042.0   3400.0        0.306           Above_avg\n170  maddoel01    Elliott   208.0    684.0        0.304           Above_avg\n228  pinielo01        Lou   819.0   2699.0        0.303           Above_avg\n258  schanwa01      Wally   443.0   1460.0        0.303           Above_avg\n219  oneilpa01       Paul  1426.0   4700.0        0.303           Above_avg\n322   wittwh01     Whitey   522.0   1724.0        0.303           Above_avg\n24   blombro01        Ron   261.0    864.0        0.302           Above_avg\n79   easlemi01       Mike   148.0    490.0        0.302           Above_avg\n240  rivermi01     Mickey   598.0   2000.0        0.299           Above_avg\n234  raineti01        Tim   237.0    793.0        0.299           Above_avg",
      "text/html": "<div>\n<style scoped>\n    .dataframe tbody tr th:only-of-type {\n        vertical-align: middle;\n    }\n\n    .dataframe tbody tr th {\n        vertical-align: top;\n    }\n\n    .dataframe thead th {\n        text-align: right;\n    }\n</style>\n<table border=\"1\" class=\"dataframe\">\n  <thead>\n    <tr style=\"text-align: right;\">\n      <th></th>\n      <th>player_id</th>\n      <th>name_first</th>\n      <th>h</th>\n      <th>ab</th>\n      <th>batting_avg</th>\n      <th>batting_performance</th>\n    </tr>\n  </thead>\n  <tbody>\n    <tr>\n      <th>252</th>\n      <td>ruthba01</td>\n      <td>Babe</td>\n      <td>2518.0</td>\n      <td>7216.0</td>\n      <td>0.349</td>\n      <td>Above_avg</td>\n    </tr>\n    <tr>\n      <th>98</th>\n      <td>gehrilo01</td>\n      <td>Lou</td>\n      <td>2700.0</td>\n      <td>7935.0</td>\n      <td>0.340</td>\n      <td>Above_avg</td>\n    </tr>\n    <tr>\n      <th>76</th>\n      <td>duncama01</td>\n      <td>Mariano</td>\n      <td>136.0</td>\n      <td>400.0</td>\n      <td>0.340</td>\n      <td>Above_avg</td>\n    </tr>\n    <tr>\n      <th>72</th>\n      <td>dimagjo01</td>\n      <td>Joe</td>\n      <td>2214.0</td>\n      <td>6821.0</td>\n      <td>0.325</td>\n      <td>Above_avg</td>\n    </tr>\n    <tr>\n      <th>54</th>\n      <td>combsea01</td>\n      <td>Earle</td>\n      <td>1852.0</td>\n      <td>5711.0</td>\n      <td>0.324</td>\n      <td>Above_avg</td>\n    </tr>\n    <tr>\n      <th>223</th>\n      <td>paschbe01</td>\n      <td>Ben</td>\n      <td>163.0</td>\n      <td>505.0</td>\n      <td>0.323</td>\n      <td>Above_avg</td>\n    </tr>\n    <tr>\n      <th>137</th>\n      <td>jamesdi01</td>\n      <td>Dion</td>\n      <td>174.0</td>\n      <td>552.0</td>\n      <td>0.315</td>\n      <td>Above_avg</td>\n    </tr>\n    <tr>\n      <th>71</th>\n      <td>dickebi01</td>\n      <td>Bill</td>\n      <td>1931.0</td>\n      <td>6151.0</td>\n      <td>0.314</td>\n      <td>Above_avg</td>\n    </tr>\n    <tr>\n      <th>26</th>\n      <td>boggswa01</td>\n      <td>Wade</td>\n      <td>702.0</td>\n      <td>2240.0</td>\n      <td>0.313</td>\n      <td>Above_avg</td>\n    </tr>\n    <tr>\n      <th>195</th>\n      <td>meusebo01</td>\n      <td>Bob</td>\n      <td>1565.0</td>\n      <td>5032.0</td>\n      <td>0.311</td>\n      <td>Above_avg</td>\n    </tr>\n    <tr>\n      <th>138</th>\n      <td>jeterde01</td>\n      <td>Derek</td>\n      <td>3441.0</td>\n      <td>11084.0</td>\n      <td>0.310</td>\n      <td>Above_avg</td>\n    </tr>\n    <tr>\n      <th>37</th>\n      <td>canoro01</td>\n      <td>Robinson</td>\n      <td>1649.0</td>\n      <td>5336.0</td>\n      <td>0.309</td>\n      <td>Above_avg</td>\n    </tr>\n    <tr>\n      <th>183</th>\n      <td>mattido01</td>\n      <td>Don</td>\n      <td>2151.0</td>\n      <td>6991.0</td>\n      <td>0.308</td>\n      <td>Above_avg</td>\n    </tr>\n    <tr>\n      <th>310</th>\n      <td>watsobo01</td>\n      <td>Bob</td>\n      <td>144.0</td>\n      <td>469.0</td>\n      <td>0.307</td>\n      <td>Above_avg</td>\n    </tr>\n    <tr>\n      <th>274</th>\n      <td>sojolu01</td>\n      <td>Luis</td>\n      <td>66.0</td>\n      <td>215.0</td>\n      <td>0.307</td>\n      <td>Above_avg</td>\n    </tr>\n    <tr>\n      <th>44</th>\n      <td>chapmbe01</td>\n      <td>Ben</td>\n      <td>1042.0</td>\n      <td>3400.0</td>\n      <td>0.306</td>\n      <td>Above_avg</td>\n    </tr>\n    <tr>\n      <th>170</th>\n      <td>maddoel01</td>\n      <td>Elliott</td>\n      <td>208.0</td>\n      <td>684.0</td>\n      <td>0.304</td>\n      <td>Above_avg</td>\n    </tr>\n    <tr>\n      <th>228</th>\n      <td>pinielo01</td>\n      <td>Lou</td>\n      <td>819.0</td>\n      <td>2699.0</td>\n      <td>0.303</td>\n      <td>Above_avg</td>\n    </tr>\n    <tr>\n      <th>258</th>\n      <td>schanwa01</td>\n      <td>Wally</td>\n      <td>443.0</td>\n      <td>1460.0</td>\n      <td>0.303</td>\n      <td>Above_avg</td>\n    </tr>\n    <tr>\n      <th>219</th>\n      <td>oneilpa01</td>\n      <td>Paul</td>\n      <td>1426.0</td>\n      <td>4700.0</td>\n      <td>0.303</td>\n      <td>Above_avg</td>\n    </tr>\n    <tr>\n      <th>322</th>\n      <td>wittwh01</td>\n      <td>Whitey</td>\n      <td>522.0</td>\n      <td>1724.0</td>\n      <td>0.303</td>\n      <td>Above_avg</td>\n    </tr>\n    <tr>\n      <th>24</th>\n      <td>blombro01</td>\n      <td>Ron</td>\n      <td>261.0</td>\n      <td>864.0</td>\n      <td>0.302</td>\n      <td>Above_avg</td>\n    </tr>\n    <tr>\n      <th>79</th>\n      <td>easlemi01</td>\n      <td>Mike</td>\n      <td>148.0</td>\n      <td>490.0</td>\n      <td>0.302</td>\n      <td>Above_avg</td>\n    </tr>\n    <tr>\n      <th>240</th>\n      <td>rivermi01</td>\n      <td>Mickey</td>\n      <td>598.0</td>\n      <td>2000.0</td>\n      <td>0.299</td>\n      <td>Above_avg</td>\n    </tr>\n    <tr>\n      <th>234</th>\n      <td>raineti01</td>\n      <td>Tim</td>\n      <td>237.0</td>\n      <td>793.0</td>\n      <td>0.299</td>\n      <td>Above_avg</td>\n    </tr>\n  </tbody>\n</table>\n</div>"
     },
     "execution_count": 159,
     "metadata": {},
     "output_type": "execute_result"
    }
   ],
   "source": [
    "#5\n",
    "league_avg = batting[batting['ab']>=100]\n",
    "league_avg = league_avg.h.sum() / league_avg.ab.sum()\n",
    "league_avg\n",
    "\n",
    "merged_df = pd.merge(batting, player, on='player_id')\n",
    "filtered_df = merged_df[(merged_df['ab']>=200) & (merged_df['team_id']=='NYA')]\n",
    "grouped_df = filtered_df.groupby(['player_id', 'name_first'])[['h','ab']].sum().reset_index()\n",
    "grouped_df['batting_avg'] = round(grouped_df['h'] / grouped_df['ab'],3)\n",
    "grouped_df['batting_performance'] = grouped_df['batting_avg'].apply(lambda x: 'Above_avg' if x > league_avg else 'Below_avg')\n",
    "ordered_df = grouped_df.sort_values(by='batting_avg', ascending=False).head(25)\n",
    "ordered_df"
   ],
   "metadata": {
    "collapsed": false,
    "ExecuteTime": {
     "end_time": "2023-11-03T15:54:45.035286200Z",
     "start_time": "2023-11-03T15:54:44.878348300Z"
    }
   }
  },
  {
   "cell_type": "code",
   "execution_count": 172,
   "outputs": [
    {
     "data": {
      "text/plain": "                             name  attendance     g  avg_attendance_per_game\n21               New York Yankees  58491801.0  2590                  22584.0\n15            Los Angeles Dodgers  55479368.0  2591                  21412.0\n28            St. Louis Cardinals  52779669.0  2591                  20370.0\n26           San Francisco Giants  51539703.0  2590                  19899.0\n14  Los Angeles Angels of Anaheim  35361353.0  1782                  19844.0\n5                    Chicago Cubs  47557886.0  2590                  18362.0\n4                  Boston Red Sox  46097292.0  2591                  17791.0\n23          Philadelphia Phillies  44183070.0  2591                  17053.0\n20                  New York Mets  44026638.0  2590                  16999.0\n9                Colorado Rockies  41978667.0  2593                  16189.0\n31                  Texas Rangers  41050712.0  2593                  15831.0\n0                  Anaheim Angels  12810219.0   810                  15815.0\n27               Seattle Mariners  40344500.0  2592                  15565.0\n2                  Atlanta Braves  40320936.0  2591                  15562.0\n17              Milwaukee Brewers  40188606.0  2592                  15505.0\n12                 Houston Astros  39731913.0  2592                  15329.0\n10                 Detroit Tigers  39444074.0  2591                  15223.0\n1            Arizona Diamondbacks  37946488.0  2592                  14640.0\n25               San Diego Padres  37885083.0  2593                  14611.0\n3               Baltimore Orioles  37766746.0  2592                  14571.0\n33           Washington Nationals  24957479.0  1780                  14021.0\n18                Minnesota Twins  36016389.0  2593                  13890.0\n7                 Cincinnati Reds  34950170.0  2594                  13473.0\n6               Chicago White Sox  33366890.0  2593                  12868.0\n32              Toronto Blue Jays  33162614.0  2591                  12799.0\n8               Cleveland Indians  32255283.0  2591                  12449.0\n24             Pittsburgh Pirates  30674181.0  2589                  11848.0\n22              Oakland Athletics  29561870.0  2590                  11414.0\n16                  Miami Marlins   7290284.0   648                  11250.0\n13             Kansas City Royals  27098544.0  2592                  10455.0\n30                 Tampa Bay Rays  12863080.0  1297                   9918.0\n11                Florida Marlins  16518116.0  1942                   8506.0\n29           Tampa Bay Devil Rays  10045608.0  1293                   7769.0\n19                 Montreal Expos   4156251.0   810                   5131.0",
      "text/html": "<div>\n<style scoped>\n    .dataframe tbody tr th:only-of-type {\n        vertical-align: middle;\n    }\n\n    .dataframe tbody tr th {\n        vertical-align: top;\n    }\n\n    .dataframe thead th {\n        text-align: right;\n    }\n</style>\n<table border=\"1\" class=\"dataframe\">\n  <thead>\n    <tr style=\"text-align: right;\">\n      <th></th>\n      <th>name</th>\n      <th>attendance</th>\n      <th>g</th>\n      <th>avg_attendance_per_game</th>\n    </tr>\n  </thead>\n  <tbody>\n    <tr>\n      <th>21</th>\n      <td>New York Yankees</td>\n      <td>58491801.0</td>\n      <td>2590</td>\n      <td>22584.0</td>\n    </tr>\n    <tr>\n      <th>15</th>\n      <td>Los Angeles Dodgers</td>\n      <td>55479368.0</td>\n      <td>2591</td>\n      <td>21412.0</td>\n    </tr>\n    <tr>\n      <th>28</th>\n      <td>St. Louis Cardinals</td>\n      <td>52779669.0</td>\n      <td>2591</td>\n      <td>20370.0</td>\n    </tr>\n    <tr>\n      <th>26</th>\n      <td>San Francisco Giants</td>\n      <td>51539703.0</td>\n      <td>2590</td>\n      <td>19899.0</td>\n    </tr>\n    <tr>\n      <th>14</th>\n      <td>Los Angeles Angels of Anaheim</td>\n      <td>35361353.0</td>\n      <td>1782</td>\n      <td>19844.0</td>\n    </tr>\n    <tr>\n      <th>5</th>\n      <td>Chicago Cubs</td>\n      <td>47557886.0</td>\n      <td>2590</td>\n      <td>18362.0</td>\n    </tr>\n    <tr>\n      <th>4</th>\n      <td>Boston Red Sox</td>\n      <td>46097292.0</td>\n      <td>2591</td>\n      <td>17791.0</td>\n    </tr>\n    <tr>\n      <th>23</th>\n      <td>Philadelphia Phillies</td>\n      <td>44183070.0</td>\n      <td>2591</td>\n      <td>17053.0</td>\n    </tr>\n    <tr>\n      <th>20</th>\n      <td>New York Mets</td>\n      <td>44026638.0</td>\n      <td>2590</td>\n      <td>16999.0</td>\n    </tr>\n    <tr>\n      <th>9</th>\n      <td>Colorado Rockies</td>\n      <td>41978667.0</td>\n      <td>2593</td>\n      <td>16189.0</td>\n    </tr>\n    <tr>\n      <th>31</th>\n      <td>Texas Rangers</td>\n      <td>41050712.0</td>\n      <td>2593</td>\n      <td>15831.0</td>\n    </tr>\n    <tr>\n      <th>0</th>\n      <td>Anaheim Angels</td>\n      <td>12810219.0</td>\n      <td>810</td>\n      <td>15815.0</td>\n    </tr>\n    <tr>\n      <th>27</th>\n      <td>Seattle Mariners</td>\n      <td>40344500.0</td>\n      <td>2592</td>\n      <td>15565.0</td>\n    </tr>\n    <tr>\n      <th>2</th>\n      <td>Atlanta Braves</td>\n      <td>40320936.0</td>\n      <td>2591</td>\n      <td>15562.0</td>\n    </tr>\n    <tr>\n      <th>17</th>\n      <td>Milwaukee Brewers</td>\n      <td>40188606.0</td>\n      <td>2592</td>\n      <td>15505.0</td>\n    </tr>\n    <tr>\n      <th>12</th>\n      <td>Houston Astros</td>\n      <td>39731913.0</td>\n      <td>2592</td>\n      <td>15329.0</td>\n    </tr>\n    <tr>\n      <th>10</th>\n      <td>Detroit Tigers</td>\n      <td>39444074.0</td>\n      <td>2591</td>\n      <td>15223.0</td>\n    </tr>\n    <tr>\n      <th>1</th>\n      <td>Arizona Diamondbacks</td>\n      <td>37946488.0</td>\n      <td>2592</td>\n      <td>14640.0</td>\n    </tr>\n    <tr>\n      <th>25</th>\n      <td>San Diego Padres</td>\n      <td>37885083.0</td>\n      <td>2593</td>\n      <td>14611.0</td>\n    </tr>\n    <tr>\n      <th>3</th>\n      <td>Baltimore Orioles</td>\n      <td>37766746.0</td>\n      <td>2592</td>\n      <td>14571.0</td>\n    </tr>\n    <tr>\n      <th>33</th>\n      <td>Washington Nationals</td>\n      <td>24957479.0</td>\n      <td>1780</td>\n      <td>14021.0</td>\n    </tr>\n    <tr>\n      <th>18</th>\n      <td>Minnesota Twins</td>\n      <td>36016389.0</td>\n      <td>2593</td>\n      <td>13890.0</td>\n    </tr>\n    <tr>\n      <th>7</th>\n      <td>Cincinnati Reds</td>\n      <td>34950170.0</td>\n      <td>2594</td>\n      <td>13473.0</td>\n    </tr>\n    <tr>\n      <th>6</th>\n      <td>Chicago White Sox</td>\n      <td>33366890.0</td>\n      <td>2593</td>\n      <td>12868.0</td>\n    </tr>\n    <tr>\n      <th>32</th>\n      <td>Toronto Blue Jays</td>\n      <td>33162614.0</td>\n      <td>2591</td>\n      <td>12799.0</td>\n    </tr>\n    <tr>\n      <th>8</th>\n      <td>Cleveland Indians</td>\n      <td>32255283.0</td>\n      <td>2591</td>\n      <td>12449.0</td>\n    </tr>\n    <tr>\n      <th>24</th>\n      <td>Pittsburgh Pirates</td>\n      <td>30674181.0</td>\n      <td>2589</td>\n      <td>11848.0</td>\n    </tr>\n    <tr>\n      <th>22</th>\n      <td>Oakland Athletics</td>\n      <td>29561870.0</td>\n      <td>2590</td>\n      <td>11414.0</td>\n    </tr>\n    <tr>\n      <th>16</th>\n      <td>Miami Marlins</td>\n      <td>7290284.0</td>\n      <td>648</td>\n      <td>11250.0</td>\n    </tr>\n    <tr>\n      <th>13</th>\n      <td>Kansas City Royals</td>\n      <td>27098544.0</td>\n      <td>2592</td>\n      <td>10455.0</td>\n    </tr>\n    <tr>\n      <th>30</th>\n      <td>Tampa Bay Rays</td>\n      <td>12863080.0</td>\n      <td>1297</td>\n      <td>9918.0</td>\n    </tr>\n    <tr>\n      <th>11</th>\n      <td>Florida Marlins</td>\n      <td>16518116.0</td>\n      <td>1942</td>\n      <td>8506.0</td>\n    </tr>\n    <tr>\n      <th>29</th>\n      <td>Tampa Bay Devil Rays</td>\n      <td>10045608.0</td>\n      <td>1293</td>\n      <td>7769.0</td>\n    </tr>\n    <tr>\n      <th>19</th>\n      <td>Montreal Expos</td>\n      <td>4156251.0</td>\n      <td>810</td>\n      <td>5131.0</td>\n    </tr>\n  </tbody>\n</table>\n</div>"
     },
     "execution_count": 172,
     "metadata": {},
     "output_type": "execute_result"
    }
   ],
   "source": [
    "#6\n",
    "filtered_df = team[team['year']>=2000].groupby('name')[['attendance', 'g']].sum().reset_index()\n",
    "filtered_df['avg_attendance_per_game'] = round(filtered_df['attendance'] / filtered_df['g'])\n",
    "result_df = filtered_df.sort_values(by='avg_attendance_per_game', ascending=False)\n",
    "result_df"
   ],
   "metadata": {
    "collapsed": false,
    "ExecuteTime": {
     "end_time": "2023-11-03T16:37:26.704347500Z",
     "start_time": "2023-11-03T16:37:26.670139600Z"
    }
   }
  },
  {
   "cell_type": "code",
   "execution_count": 175,
   "outputs": [
    {
     "data": {
      "text/plain": "    player_id name_first  award_id\n0   alexape01       Pete         3\n11  johnswa01     Walter         3\n14  koufasa01      Sandy         3\n6   gomezle01      Lefty         2\n8   grovele01      Lefty         2\n4   clemero02      Roger         2\n16  mathech01    Christy         2\n3   clarkjo01       John         1\n18  peavyja01       Jake         1\n26  waltebu01      Bucky         1",
      "text/html": "<div>\n<style scoped>\n    .dataframe tbody tr th:only-of-type {\n        vertical-align: middle;\n    }\n\n    .dataframe tbody tr th {\n        vertical-align: top;\n    }\n\n    .dataframe thead th {\n        text-align: right;\n    }\n</style>\n<table border=\"1\" class=\"dataframe\">\n  <thead>\n    <tr style=\"text-align: right;\">\n      <th></th>\n      <th>player_id</th>\n      <th>name_first</th>\n      <th>award_id</th>\n    </tr>\n  </thead>\n  <tbody>\n    <tr>\n      <th>0</th>\n      <td>alexape01</td>\n      <td>Pete</td>\n      <td>3</td>\n    </tr>\n    <tr>\n      <th>11</th>\n      <td>johnswa01</td>\n      <td>Walter</td>\n      <td>3</td>\n    </tr>\n    <tr>\n      <th>14</th>\n      <td>koufasa01</td>\n      <td>Sandy</td>\n      <td>3</td>\n    </tr>\n    <tr>\n      <th>6</th>\n      <td>gomezle01</td>\n      <td>Lefty</td>\n      <td>2</td>\n    </tr>\n    <tr>\n      <th>8</th>\n      <td>grovele01</td>\n      <td>Lefty</td>\n      <td>2</td>\n    </tr>\n    <tr>\n      <th>4</th>\n      <td>clemero02</td>\n      <td>Roger</td>\n      <td>2</td>\n    </tr>\n    <tr>\n      <th>16</th>\n      <td>mathech01</td>\n      <td>Christy</td>\n      <td>2</td>\n    </tr>\n    <tr>\n      <th>3</th>\n      <td>clarkjo01</td>\n      <td>John</td>\n      <td>1</td>\n    </tr>\n    <tr>\n      <th>18</th>\n      <td>peavyja01</td>\n      <td>Jake</td>\n      <td>1</td>\n    </tr>\n    <tr>\n      <th>26</th>\n      <td>waltebu01</td>\n      <td>Bucky</td>\n      <td>1</td>\n    </tr>\n  </tbody>\n</table>\n</div>"
     },
     "execution_count": 175,
     "metadata": {},
     "output_type": "execute_result"
    }
   ],
   "source": [
    "#7\n",
    "merged_df = pd.merge(player, player_award, on = 'player_id')\n",
    "filtered_df = merged_df[merged_df['award_id']=='Pitching Triple Crown']\n",
    "grouped_df = filtered_df.groupby(['player_id', 'name_first']).award_id.count().reset_index().sort_values(by='award_id', ascending=False).head(10)\n",
    "grouped_df"
   ],
   "metadata": {
    "collapsed": false,
    "ExecuteTime": {
     "end_time": "2023-11-03T16:49:47.821167200Z",
     "start_time": "2023-11-03T16:49:47.786101900Z"
    }
   }
  },
  {
   "cell_type": "code",
   "execution_count": 266,
   "outputs": [
    {
     "data": {
      "text/plain": "   team_id  average_salary  max_salary salary_disparity\n20     PHI    4.295885e+06    25000000          481.95%\n0      ARI    2.132207e+06    12000000           462.8%\n12     LAA    4.444645e+06    24000000          439.98%\n16     MIN    4.310200e+06    23000000          433.62%\n8      COL    3.827544e+06    20000000          422.53%\n18     NYN    3.870667e+06    20000000          416.71%\n23     SEA    4.888348e+06    24857000          408.49%\n27     TEX    4.791426e+06    24000000          400.89%\n7      CLE    3.022888e+06    15000000          396.21%\n26     TBA    2.224870e+06    11000000          394.41%\n28     TOR    4.519696e+06    22000000          386.76%\n5      CHN    4.138547e+06    20000000          383.26%\n22     SDN    4.555435e+06    21250000          366.48%\n19     OAK    2.823339e+06    13000000          360.45%\n13     LAN    7.441103e+06    32571000          337.72%\n25     SLN    4.586212e+06    19500000          325.19%\n9      DET    6.891390e+06    28000000           306.3%\n15     MIL    3.477586e+06    14000000          302.58%\n1      ATL    2.990885e+06    12000000          301.22%\n29     WAS    5.365085e+06    21000000          291.42%\n14     MIA    2.835688e+06    11000000          287.91%\n10     HOU    2.580579e+06    10000000          287.51%\n21     PIT    3.065259e+06    11666666          280.61%\n4      CHA    4.161989e+06    15750000          278.42%\n3      BOS    5.659481e+06    19750000          248.97%\n24     SFN    6.100056e+06    21000000          244.26%\n6      CIN    4.187862e+06    14000000           234.3%\n2      BAL    4.108744e+06    13333333          224.51%\n17     NYA    7.336274e+06    23125000          215.21%\n11     KCA    4.152112e+06    12500000          201.05%",
      "text/html": "<div>\n<style scoped>\n    .dataframe tbody tr th:only-of-type {\n        vertical-align: middle;\n    }\n\n    .dataframe tbody tr th {\n        vertical-align: top;\n    }\n\n    .dataframe thead th {\n        text-align: right;\n    }\n</style>\n<table border=\"1\" class=\"dataframe\">\n  <thead>\n    <tr style=\"text-align: right;\">\n      <th></th>\n      <th>team_id</th>\n      <th>average_salary</th>\n      <th>max_salary</th>\n      <th>salary_disparity</th>\n    </tr>\n  </thead>\n  <tbody>\n    <tr>\n      <th>20</th>\n      <td>PHI</td>\n      <td>4.295885e+06</td>\n      <td>25000000</td>\n      <td>481.95%</td>\n    </tr>\n    <tr>\n      <th>0</th>\n      <td>ARI</td>\n      <td>2.132207e+06</td>\n      <td>12000000</td>\n      <td>462.8%</td>\n    </tr>\n    <tr>\n      <th>12</th>\n      <td>LAA</td>\n      <td>4.444645e+06</td>\n      <td>24000000</td>\n      <td>439.98%</td>\n    </tr>\n    <tr>\n      <th>16</th>\n      <td>MIN</td>\n      <td>4.310200e+06</td>\n      <td>23000000</td>\n      <td>433.62%</td>\n    </tr>\n    <tr>\n      <th>8</th>\n      <td>COL</td>\n      <td>3.827544e+06</td>\n      <td>20000000</td>\n      <td>422.53%</td>\n    </tr>\n    <tr>\n      <th>18</th>\n      <td>NYN</td>\n      <td>3.870667e+06</td>\n      <td>20000000</td>\n      <td>416.71%</td>\n    </tr>\n    <tr>\n      <th>23</th>\n      <td>SEA</td>\n      <td>4.888348e+06</td>\n      <td>24857000</td>\n      <td>408.49%</td>\n    </tr>\n    <tr>\n      <th>27</th>\n      <td>TEX</td>\n      <td>4.791426e+06</td>\n      <td>24000000</td>\n      <td>400.89%</td>\n    </tr>\n    <tr>\n      <th>7</th>\n      <td>CLE</td>\n      <td>3.022888e+06</td>\n      <td>15000000</td>\n      <td>396.21%</td>\n    </tr>\n    <tr>\n      <th>26</th>\n      <td>TBA</td>\n      <td>2.224870e+06</td>\n      <td>11000000</td>\n      <td>394.41%</td>\n    </tr>\n    <tr>\n      <th>28</th>\n      <td>TOR</td>\n      <td>4.519696e+06</td>\n      <td>22000000</td>\n      <td>386.76%</td>\n    </tr>\n    <tr>\n      <th>5</th>\n      <td>CHN</td>\n      <td>4.138547e+06</td>\n      <td>20000000</td>\n      <td>383.26%</td>\n    </tr>\n    <tr>\n      <th>22</th>\n      <td>SDN</td>\n      <td>4.555435e+06</td>\n      <td>21250000</td>\n      <td>366.48%</td>\n    </tr>\n    <tr>\n      <th>19</th>\n      <td>OAK</td>\n      <td>2.823339e+06</td>\n      <td>13000000</td>\n      <td>360.45%</td>\n    </tr>\n    <tr>\n      <th>13</th>\n      <td>LAN</td>\n      <td>7.441103e+06</td>\n      <td>32571000</td>\n      <td>337.72%</td>\n    </tr>\n    <tr>\n      <th>25</th>\n      <td>SLN</td>\n      <td>4.586212e+06</td>\n      <td>19500000</td>\n      <td>325.19%</td>\n    </tr>\n    <tr>\n      <th>9</th>\n      <td>DET</td>\n      <td>6.891390e+06</td>\n      <td>28000000</td>\n      <td>306.3%</td>\n    </tr>\n    <tr>\n      <th>15</th>\n      <td>MIL</td>\n      <td>3.477586e+06</td>\n      <td>14000000</td>\n      <td>302.58%</td>\n    </tr>\n    <tr>\n      <th>1</th>\n      <td>ATL</td>\n      <td>2.990885e+06</td>\n      <td>12000000</td>\n      <td>301.22%</td>\n    </tr>\n    <tr>\n      <th>29</th>\n      <td>WAS</td>\n      <td>5.365085e+06</td>\n      <td>21000000</td>\n      <td>291.42%</td>\n    </tr>\n    <tr>\n      <th>14</th>\n      <td>MIA</td>\n      <td>2.835688e+06</td>\n      <td>11000000</td>\n      <td>287.91%</td>\n    </tr>\n    <tr>\n      <th>10</th>\n      <td>HOU</td>\n      <td>2.580579e+06</td>\n      <td>10000000</td>\n      <td>287.51%</td>\n    </tr>\n    <tr>\n      <th>21</th>\n      <td>PIT</td>\n      <td>3.065259e+06</td>\n      <td>11666666</td>\n      <td>280.61%</td>\n    </tr>\n    <tr>\n      <th>4</th>\n      <td>CHA</td>\n      <td>4.161989e+06</td>\n      <td>15750000</td>\n      <td>278.42%</td>\n    </tr>\n    <tr>\n      <th>3</th>\n      <td>BOS</td>\n      <td>5.659481e+06</td>\n      <td>19750000</td>\n      <td>248.97%</td>\n    </tr>\n    <tr>\n      <th>24</th>\n      <td>SFN</td>\n      <td>6.100056e+06</td>\n      <td>21000000</td>\n      <td>244.26%</td>\n    </tr>\n    <tr>\n      <th>6</th>\n      <td>CIN</td>\n      <td>4.187862e+06</td>\n      <td>14000000</td>\n      <td>234.3%</td>\n    </tr>\n    <tr>\n      <th>2</th>\n      <td>BAL</td>\n      <td>4.108744e+06</td>\n      <td>13333333</td>\n      <td>224.51%</td>\n    </tr>\n    <tr>\n      <th>17</th>\n      <td>NYA</td>\n      <td>7.336274e+06</td>\n      <td>23125000</td>\n      <td>215.21%</td>\n    </tr>\n    <tr>\n      <th>11</th>\n      <td>KCA</td>\n      <td>4.152112e+06</td>\n      <td>12500000</td>\n      <td>201.05%</td>\n    </tr>\n  </tbody>\n</table>\n</div>"
     },
     "execution_count": 266,
     "metadata": {},
     "output_type": "execute_result"
    }
   ],
   "source": [
    "#8 Este me costó, repetirlo para recordar la funcion de astype\n",
    "filtered_df = salary[salary['year']==2015].groupby('team_id').salary.agg(average_salary = 'mean', max_salary = 'max').reset_index()\n",
    "filtered_df['salary_disparity'] = ((filtered_df['max_salary'] - filtered_df['average_salary']) / filtered_df['average_salary'] * 100).round(2).astype(str) + '%'\n",
    "result_df = filtered_df[['team_id', 'average_salary', 'max_salary', 'salary_disparity']].sort_values(by='salary_disparity', ascending=False)\n",
    "result_df"
   ],
   "metadata": {
    "collapsed": false,
    "ExecuteTime": {
     "end_time": "2023-11-05T17:09:02.151612600Z",
     "start_time": "2023-11-05T17:09:02.093926200Z"
    }
   }
  },
  {
   "cell_type": "code",
   "execution_count": 272,
   "outputs": [
    {
     "data": {
      "text/plain": "     player_id    name_last       h\n0    aaronha01        Aaron  3771.0\n105  yastrca01  Yastrzemski  3419.0\n63   molitpa01      Molitor  3319.0\n59    mayswi01         Mays  3283.0\n65   murraed02       Murray  3255.0\n77   ripkeca01       Ripken  3184.0\n12   brettge01        Brett  3154.0\n106  yountro01        Yount  3142.0\n37   gwynnto01        Gwynn  3141.0\n103  winfida01     Winfield  3110.0\n8    biggicr01       Biggio  3060.0\n38   henderi01    Henderson  3055.0\n16   carewro01        Carew  3053.0\n13   brocklo01        Brock  3023.0\n10   boggswa01        Boggs  3010.0\n45   kalinal01       Kaline  3007.0\n20   clemero01     Clemente  3000.0\n81   robinfr02     Robinson  2943.0\n80   robinbr01     Robinson  2848.0\n36   griffke02      Griffey  2781.0\n22   dawsoan01       Dawson  2774.0\n71   perezto01        Perez  2732.0\n1    alomaro01       Alomar  2724.0\n100  willibi01     Williams  2711.0\n3    aparilu01     Aparicio  2677.0",
      "text/html": "<div>\n<style scoped>\n    .dataframe tbody tr th:only-of-type {\n        vertical-align: middle;\n    }\n\n    .dataframe tbody tr th {\n        vertical-align: top;\n    }\n\n    .dataframe thead th {\n        text-align: right;\n    }\n</style>\n<table border=\"1\" class=\"dataframe\">\n  <thead>\n    <tr style=\"text-align: right;\">\n      <th></th>\n      <th>player_id</th>\n      <th>name_last</th>\n      <th>h</th>\n    </tr>\n  </thead>\n  <tbody>\n    <tr>\n      <th>0</th>\n      <td>aaronha01</td>\n      <td>Aaron</td>\n      <td>3771.0</td>\n    </tr>\n    <tr>\n      <th>105</th>\n      <td>yastrca01</td>\n      <td>Yastrzemski</td>\n      <td>3419.0</td>\n    </tr>\n    <tr>\n      <th>63</th>\n      <td>molitpa01</td>\n      <td>Molitor</td>\n      <td>3319.0</td>\n    </tr>\n    <tr>\n      <th>59</th>\n      <td>mayswi01</td>\n      <td>Mays</td>\n      <td>3283.0</td>\n    </tr>\n    <tr>\n      <th>65</th>\n      <td>murraed02</td>\n      <td>Murray</td>\n      <td>3255.0</td>\n    </tr>\n    <tr>\n      <th>77</th>\n      <td>ripkeca01</td>\n      <td>Ripken</td>\n      <td>3184.0</td>\n    </tr>\n    <tr>\n      <th>12</th>\n      <td>brettge01</td>\n      <td>Brett</td>\n      <td>3154.0</td>\n    </tr>\n    <tr>\n      <th>106</th>\n      <td>yountro01</td>\n      <td>Yount</td>\n      <td>3142.0</td>\n    </tr>\n    <tr>\n      <th>37</th>\n      <td>gwynnto01</td>\n      <td>Gwynn</td>\n      <td>3141.0</td>\n    </tr>\n    <tr>\n      <th>103</th>\n      <td>winfida01</td>\n      <td>Winfield</td>\n      <td>3110.0</td>\n    </tr>\n    <tr>\n      <th>8</th>\n      <td>biggicr01</td>\n      <td>Biggio</td>\n      <td>3060.0</td>\n    </tr>\n    <tr>\n      <th>38</th>\n      <td>henderi01</td>\n      <td>Henderson</td>\n      <td>3055.0</td>\n    </tr>\n    <tr>\n      <th>16</th>\n      <td>carewro01</td>\n      <td>Carew</td>\n      <td>3053.0</td>\n    </tr>\n    <tr>\n      <th>13</th>\n      <td>brocklo01</td>\n      <td>Brock</td>\n      <td>3023.0</td>\n    </tr>\n    <tr>\n      <th>10</th>\n      <td>boggswa01</td>\n      <td>Boggs</td>\n      <td>3010.0</td>\n    </tr>\n    <tr>\n      <th>45</th>\n      <td>kalinal01</td>\n      <td>Kaline</td>\n      <td>3007.0</td>\n    </tr>\n    <tr>\n      <th>20</th>\n      <td>clemero01</td>\n      <td>Clemente</td>\n      <td>3000.0</td>\n    </tr>\n    <tr>\n      <th>81</th>\n      <td>robinfr02</td>\n      <td>Robinson</td>\n      <td>2943.0</td>\n    </tr>\n    <tr>\n      <th>80</th>\n      <td>robinbr01</td>\n      <td>Robinson</td>\n      <td>2848.0</td>\n    </tr>\n    <tr>\n      <th>36</th>\n      <td>griffke02</td>\n      <td>Griffey</td>\n      <td>2781.0</td>\n    </tr>\n    <tr>\n      <th>22</th>\n      <td>dawsoan01</td>\n      <td>Dawson</td>\n      <td>2774.0</td>\n    </tr>\n    <tr>\n      <th>71</th>\n      <td>perezto01</td>\n      <td>Perez</td>\n      <td>2732.0</td>\n    </tr>\n    <tr>\n      <th>1</th>\n      <td>alomaro01</td>\n      <td>Alomar</td>\n      <td>2724.0</td>\n    </tr>\n    <tr>\n      <th>100</th>\n      <td>willibi01</td>\n      <td>Williams</td>\n      <td>2711.0</td>\n    </tr>\n    <tr>\n      <th>3</th>\n      <td>aparilu01</td>\n      <td>Aparicio</td>\n      <td>2677.0</td>\n    </tr>\n  </tbody>\n</table>\n</div>"
     },
     "execution_count": 272,
     "metadata": {},
     "output_type": "execute_result"
    }
   ],
   "source": [
    "#9\n",
    "merged_df = pd.merge(batting, player, on = 'player_id')\n",
    "full_merge = pd.merge(merged_df, hall_of_fame, on = 'player_id')\n",
    "filtered_df = full_merge[(full_merge['year']>1950) & (full_merge['inducted']=='Y')].groupby(['player_id', 'name_last'])['h'].sum().reset_index()\n",
    "result_df = filtered_df.sort_values(by='h', ascending=False).head(25)\n",
    "result_df"
   ],
   "metadata": {
    "collapsed": false,
    "ExecuteTime": {
     "end_time": "2023-11-05T17:35:01.014052500Z",
     "start_time": "2023-11-05T17:35:00.581424200Z"
    }
   }
  },
  {
   "cell_type": "code",
   "execution_count": 273,
   "outputs": [
    {
     "data": {
      "text/plain": "       player_id name_first pos    salary\n10621  rodrial01       Alex  SS  33000000\n10620  rodrial01       Alex  DH  33000000\n10619  rodrial01       Alex  3B  33000000\n10618  rodrial01       Alex  1B  33000000\n6610   kershcl01    Clayton   P  32571000\n12752  verlaju01     Justin   P  28000000\n13064  wellsve01     Vernon  2B  26187500\n13066  wellsve01     Vernon  CF  26187500\n13068  wellsve01     Vernon  OF  26187500\n13067  wellsve01     Vernon  LF  26187500\n13065  wellsve01     Vernon  3B  26187500\n13069  wellsve01     Vernon  RF  26187500\n13063  wellsve01     Vernon  1B  26187500\n4793   greinza01       Zack   P  26000000\n7088     leecl02      Cliff   P  25000000\n5757   howarry01       Ryan  1B  25000000\n5462   hernafe02      Felix   P  24857000\n10918  sabatcc01         CC   P  24285714\n1971    canoro01   Robinson  2B  24000000\n1972    canoro01   Robinson  SS  24000000\n10073  pujolal01     Albert  SS  24000000\n10072  pujolal01     Albert  RF  24000000\n10071  pujolal01     Albert  OF  24000000\n10070  pujolal01     Albert  LF  24000000\n10069  pujolal01     Albert  3B  24000000\n10068  pujolal01     Albert  2B  24000000\n10067  pujolal01     Albert  1B  24000000\n3819   fieldpr01     Prince  1B  24000000\n10198  ramirma02      Manny  DH  23854494\n10199  ramirma02      Manny  LF  23854494\n10200  ramirma02      Manny  OF  23854494\n10201  ramirma02      Manny  RF  23854494\n5087   hamelco01       Cole   P  23500000\n4368   giambja01      Jason  1B  23428571\n4369   giambja01      Jason  3B  23428571\n4370   giambja01      Jason  DH  23428571\n4371   giambja01      Jason  LF  23428571\n4372   giambja01      Jason  OF  23428571\n4373   giambja01      Jason  RF  23428571\n11086  santajo01      Johan   P  23145011\n12177  teixema01       Mark  OF  23125000\n12174  teixema01       Mark  1B  23125000\n12175  teixema01       Mark  3B  23125000\n12176  teixema01       Mark  LF  23125000\n12178  teixema01       Mark  RF  23125000\n7930   mauerjo01        Joe  OF  23000000\n7929   mauerjo01        Joe   C  23000000\n7928   mauerjo01        Joe  1B  23000000\n7931   mauerjo01        Joe  RF  23000000\n5104   hamiljo03       Josh  RF  22708749",
      "text/html": "<div>\n<style scoped>\n    .dataframe tbody tr th:only-of-type {\n        vertical-align: middle;\n    }\n\n    .dataframe tbody tr th {\n        vertical-align: top;\n    }\n\n    .dataframe thead th {\n        text-align: right;\n    }\n</style>\n<table border=\"1\" class=\"dataframe\">\n  <thead>\n    <tr style=\"text-align: right;\">\n      <th></th>\n      <th>player_id</th>\n      <th>name_first</th>\n      <th>pos</th>\n      <th>salary</th>\n    </tr>\n  </thead>\n  <tbody>\n    <tr>\n      <th>10621</th>\n      <td>rodrial01</td>\n      <td>Alex</td>\n      <td>SS</td>\n      <td>33000000</td>\n    </tr>\n    <tr>\n      <th>10620</th>\n      <td>rodrial01</td>\n      <td>Alex</td>\n      <td>DH</td>\n      <td>33000000</td>\n    </tr>\n    <tr>\n      <th>10619</th>\n      <td>rodrial01</td>\n      <td>Alex</td>\n      <td>3B</td>\n      <td>33000000</td>\n    </tr>\n    <tr>\n      <th>10618</th>\n      <td>rodrial01</td>\n      <td>Alex</td>\n      <td>1B</td>\n      <td>33000000</td>\n    </tr>\n    <tr>\n      <th>6610</th>\n      <td>kershcl01</td>\n      <td>Clayton</td>\n      <td>P</td>\n      <td>32571000</td>\n    </tr>\n    <tr>\n      <th>12752</th>\n      <td>verlaju01</td>\n      <td>Justin</td>\n      <td>P</td>\n      <td>28000000</td>\n    </tr>\n    <tr>\n      <th>13064</th>\n      <td>wellsve01</td>\n      <td>Vernon</td>\n      <td>2B</td>\n      <td>26187500</td>\n    </tr>\n    <tr>\n      <th>13066</th>\n      <td>wellsve01</td>\n      <td>Vernon</td>\n      <td>CF</td>\n      <td>26187500</td>\n    </tr>\n    <tr>\n      <th>13068</th>\n      <td>wellsve01</td>\n      <td>Vernon</td>\n      <td>OF</td>\n      <td>26187500</td>\n    </tr>\n    <tr>\n      <th>13067</th>\n      <td>wellsve01</td>\n      <td>Vernon</td>\n      <td>LF</td>\n      <td>26187500</td>\n    </tr>\n    <tr>\n      <th>13065</th>\n      <td>wellsve01</td>\n      <td>Vernon</td>\n      <td>3B</td>\n      <td>26187500</td>\n    </tr>\n    <tr>\n      <th>13069</th>\n      <td>wellsve01</td>\n      <td>Vernon</td>\n      <td>RF</td>\n      <td>26187500</td>\n    </tr>\n    <tr>\n      <th>13063</th>\n      <td>wellsve01</td>\n      <td>Vernon</td>\n      <td>1B</td>\n      <td>26187500</td>\n    </tr>\n    <tr>\n      <th>4793</th>\n      <td>greinza01</td>\n      <td>Zack</td>\n      <td>P</td>\n      <td>26000000</td>\n    </tr>\n    <tr>\n      <th>7088</th>\n      <td>leecl02</td>\n      <td>Cliff</td>\n      <td>P</td>\n      <td>25000000</td>\n    </tr>\n    <tr>\n      <th>5757</th>\n      <td>howarry01</td>\n      <td>Ryan</td>\n      <td>1B</td>\n      <td>25000000</td>\n    </tr>\n    <tr>\n      <th>5462</th>\n      <td>hernafe02</td>\n      <td>Felix</td>\n      <td>P</td>\n      <td>24857000</td>\n    </tr>\n    <tr>\n      <th>10918</th>\n      <td>sabatcc01</td>\n      <td>CC</td>\n      <td>P</td>\n      <td>24285714</td>\n    </tr>\n    <tr>\n      <th>1971</th>\n      <td>canoro01</td>\n      <td>Robinson</td>\n      <td>2B</td>\n      <td>24000000</td>\n    </tr>\n    <tr>\n      <th>1972</th>\n      <td>canoro01</td>\n      <td>Robinson</td>\n      <td>SS</td>\n      <td>24000000</td>\n    </tr>\n    <tr>\n      <th>10073</th>\n      <td>pujolal01</td>\n      <td>Albert</td>\n      <td>SS</td>\n      <td>24000000</td>\n    </tr>\n    <tr>\n      <th>10072</th>\n      <td>pujolal01</td>\n      <td>Albert</td>\n      <td>RF</td>\n      <td>24000000</td>\n    </tr>\n    <tr>\n      <th>10071</th>\n      <td>pujolal01</td>\n      <td>Albert</td>\n      <td>OF</td>\n      <td>24000000</td>\n    </tr>\n    <tr>\n      <th>10070</th>\n      <td>pujolal01</td>\n      <td>Albert</td>\n      <td>LF</td>\n      <td>24000000</td>\n    </tr>\n    <tr>\n      <th>10069</th>\n      <td>pujolal01</td>\n      <td>Albert</td>\n      <td>3B</td>\n      <td>24000000</td>\n    </tr>\n    <tr>\n      <th>10068</th>\n      <td>pujolal01</td>\n      <td>Albert</td>\n      <td>2B</td>\n      <td>24000000</td>\n    </tr>\n    <tr>\n      <th>10067</th>\n      <td>pujolal01</td>\n      <td>Albert</td>\n      <td>1B</td>\n      <td>24000000</td>\n    </tr>\n    <tr>\n      <th>3819</th>\n      <td>fieldpr01</td>\n      <td>Prince</td>\n      <td>1B</td>\n      <td>24000000</td>\n    </tr>\n    <tr>\n      <th>10198</th>\n      <td>ramirma02</td>\n      <td>Manny</td>\n      <td>DH</td>\n      <td>23854494</td>\n    </tr>\n    <tr>\n      <th>10199</th>\n      <td>ramirma02</td>\n      <td>Manny</td>\n      <td>LF</td>\n      <td>23854494</td>\n    </tr>\n    <tr>\n      <th>10200</th>\n      <td>ramirma02</td>\n      <td>Manny</td>\n      <td>OF</td>\n      <td>23854494</td>\n    </tr>\n    <tr>\n      <th>10201</th>\n      <td>ramirma02</td>\n      <td>Manny</td>\n      <td>RF</td>\n      <td>23854494</td>\n    </tr>\n    <tr>\n      <th>5087</th>\n      <td>hamelco01</td>\n      <td>Cole</td>\n      <td>P</td>\n      <td>23500000</td>\n    </tr>\n    <tr>\n      <th>4368</th>\n      <td>giambja01</td>\n      <td>Jason</td>\n      <td>1B</td>\n      <td>23428571</td>\n    </tr>\n    <tr>\n      <th>4369</th>\n      <td>giambja01</td>\n      <td>Jason</td>\n      <td>3B</td>\n      <td>23428571</td>\n    </tr>\n    <tr>\n      <th>4370</th>\n      <td>giambja01</td>\n      <td>Jason</td>\n      <td>DH</td>\n      <td>23428571</td>\n    </tr>\n    <tr>\n      <th>4371</th>\n      <td>giambja01</td>\n      <td>Jason</td>\n      <td>LF</td>\n      <td>23428571</td>\n    </tr>\n    <tr>\n      <th>4372</th>\n      <td>giambja01</td>\n      <td>Jason</td>\n      <td>OF</td>\n      <td>23428571</td>\n    </tr>\n    <tr>\n      <th>4373</th>\n      <td>giambja01</td>\n      <td>Jason</td>\n      <td>RF</td>\n      <td>23428571</td>\n    </tr>\n    <tr>\n      <th>11086</th>\n      <td>santajo01</td>\n      <td>Johan</td>\n      <td>P</td>\n      <td>23145011</td>\n    </tr>\n    <tr>\n      <th>12177</th>\n      <td>teixema01</td>\n      <td>Mark</td>\n      <td>OF</td>\n      <td>23125000</td>\n    </tr>\n    <tr>\n      <th>12174</th>\n      <td>teixema01</td>\n      <td>Mark</td>\n      <td>1B</td>\n      <td>23125000</td>\n    </tr>\n    <tr>\n      <th>12175</th>\n      <td>teixema01</td>\n      <td>Mark</td>\n      <td>3B</td>\n      <td>23125000</td>\n    </tr>\n    <tr>\n      <th>12176</th>\n      <td>teixema01</td>\n      <td>Mark</td>\n      <td>LF</td>\n      <td>23125000</td>\n    </tr>\n    <tr>\n      <th>12178</th>\n      <td>teixema01</td>\n      <td>Mark</td>\n      <td>RF</td>\n      <td>23125000</td>\n    </tr>\n    <tr>\n      <th>7930</th>\n      <td>mauerjo01</td>\n      <td>Joe</td>\n      <td>OF</td>\n      <td>23000000</td>\n    </tr>\n    <tr>\n      <th>7929</th>\n      <td>mauerjo01</td>\n      <td>Joe</td>\n      <td>C</td>\n      <td>23000000</td>\n    </tr>\n    <tr>\n      <th>7928</th>\n      <td>mauerjo01</td>\n      <td>Joe</td>\n      <td>1B</td>\n      <td>23000000</td>\n    </tr>\n    <tr>\n      <th>7931</th>\n      <td>mauerjo01</td>\n      <td>Joe</td>\n      <td>RF</td>\n      <td>23000000</td>\n    </tr>\n    <tr>\n      <th>5104</th>\n      <td>hamiljo03</td>\n      <td>Josh</td>\n      <td>RF</td>\n      <td>22708749</td>\n    </tr>\n  </tbody>\n</table>\n</div>"
     },
     "execution_count": 273,
     "metadata": {},
     "output_type": "execute_result"
    }
   ],
   "source": [
    "#10\n",
    "merged_df = pd.merge(salary, fielding, on = 'player_id')\n",
    "full_merge = pd.merge(merged_df, player, on = 'player_id')\n",
    "grouped_df = full_merge.groupby(['player_id', 'name_first', 'pos'])['salary'].max().reset_index()\n",
    "result_df = grouped_df.sort_values(by='salary', ascending=False).head(50)\n",
    "result_df"
   ],
   "metadata": {
    "collapsed": false,
    "ExecuteTime": {
     "end_time": "2023-11-05T17:53:38.839561700Z",
     "start_time": "2023-11-05T17:53:35.963181600Z"
    }
   }
  },
  {
   "cell_type": "code",
   "execution_count": 283,
   "outputs": [
    {
     "data": {
      "text/plain": "  pos        salary\n0  1B  3.517212e+06\n6  OF  3.421048e+06\n4  CF  3.279103e+06\n8  RF  3.093472e+06\n7   P  2.903943e+06\n5  LF  2.867335e+06\n2  3B  2.815175e+06\n9  SS  2.807452e+06\n1  2B  2.300095e+06\n3   C  2.179792e+06",
      "text/html": "<div>\n<style scoped>\n    .dataframe tbody tr th:only-of-type {\n        vertical-align: middle;\n    }\n\n    .dataframe tbody tr th {\n        vertical-align: top;\n    }\n\n    .dataframe thead th {\n        text-align: right;\n    }\n</style>\n<table border=\"1\" class=\"dataframe\">\n  <thead>\n    <tr style=\"text-align: right;\">\n      <th></th>\n      <th>pos</th>\n      <th>salary</th>\n    </tr>\n  </thead>\n  <tbody>\n    <tr>\n      <th>0</th>\n      <td>1B</td>\n      <td>3.517212e+06</td>\n    </tr>\n    <tr>\n      <th>6</th>\n      <td>OF</td>\n      <td>3.421048e+06</td>\n    </tr>\n    <tr>\n      <th>4</th>\n      <td>CF</td>\n      <td>3.279103e+06</td>\n    </tr>\n    <tr>\n      <th>8</th>\n      <td>RF</td>\n      <td>3.093472e+06</td>\n    </tr>\n    <tr>\n      <th>7</th>\n      <td>P</td>\n      <td>2.903943e+06</td>\n    </tr>\n    <tr>\n      <th>5</th>\n      <td>LF</td>\n      <td>2.867335e+06</td>\n    </tr>\n    <tr>\n      <th>2</th>\n      <td>3B</td>\n      <td>2.815175e+06</td>\n    </tr>\n    <tr>\n      <th>9</th>\n      <td>SS</td>\n      <td>2.807452e+06</td>\n    </tr>\n    <tr>\n      <th>1</th>\n      <td>2B</td>\n      <td>2.300095e+06</td>\n    </tr>\n    <tr>\n      <th>3</th>\n      <td>C</td>\n      <td>2.179792e+06</td>\n    </tr>\n  </tbody>\n</table>\n</div>"
     },
     "execution_count": 283,
     "metadata": {},
     "output_type": "execute_result"
    }
   ],
   "source": [
    "#11-Revisar el tema de year_x o year_y\n",
    "merged_df = pd.merge(salary, fielding, on = 'player_id')\n",
    "filtered_df = merged_df[merged_df['year_y']>=2000].groupby('pos')['salary'].mean().reset_index()\n",
    "ordered_df = filtered_df.sort_values(by='salary', ascending=False)\n",
    "ordered_df\n",
    "\n"
   ],
   "metadata": {
    "collapsed": false,
    "ExecuteTime": {
     "end_time": "2023-11-06T18:29:08.528878200Z",
     "start_time": "2023-11-06T18:29:07.848085400Z"
    }
   }
  },
  {
   "cell_type": "code",
   "execution_count": 6,
   "outputs": [
    {
     "data": {
      "text/plain": "   name_first    salary\n20    Clayton  32571000\n62     Justin  28000000\n98       Zack  25000000\n34      Felix  24857000\n21       Cole  23500000\n16         CC  23000000\n70   Masahiro  22000000\n72       Matt  21000000\n58        Jon  20000000\n69       Mark  20000000\n24      David  19750000\n2        Adam  19500000\n15      C. J.  18000000\n51      Jered  18000000\n87        Tim  18000000\n73        Max  17142000\n7      Anibal  16800000\n61     Jordan  16500000\n56       John  15750000\n76       Nick  15000000\n96     Yovani  14000000\n33      Ervin  13500000\n59   Jonathan  13000000\n83      Scott  13000000\n31      Edwin  13000000",
      "text/html": "<div>\n<style scoped>\n    .dataframe tbody tr th:only-of-type {\n        vertical-align: middle;\n    }\n\n    .dataframe tbody tr th {\n        vertical-align: top;\n    }\n\n    .dataframe thead th {\n        text-align: right;\n    }\n</style>\n<table border=\"1\" class=\"dataframe\">\n  <thead>\n    <tr style=\"text-align: right;\">\n      <th></th>\n      <th>name_first</th>\n      <th>salary</th>\n    </tr>\n  </thead>\n  <tbody>\n    <tr>\n      <th>20</th>\n      <td>Clayton</td>\n      <td>32571000</td>\n    </tr>\n    <tr>\n      <th>62</th>\n      <td>Justin</td>\n      <td>28000000</td>\n    </tr>\n    <tr>\n      <th>98</th>\n      <td>Zack</td>\n      <td>25000000</td>\n    </tr>\n    <tr>\n      <th>34</th>\n      <td>Felix</td>\n      <td>24857000</td>\n    </tr>\n    <tr>\n      <th>21</th>\n      <td>Cole</td>\n      <td>23500000</td>\n    </tr>\n    <tr>\n      <th>16</th>\n      <td>CC</td>\n      <td>23000000</td>\n    </tr>\n    <tr>\n      <th>70</th>\n      <td>Masahiro</td>\n      <td>22000000</td>\n    </tr>\n    <tr>\n      <th>72</th>\n      <td>Matt</td>\n      <td>21000000</td>\n    </tr>\n    <tr>\n      <th>58</th>\n      <td>Jon</td>\n      <td>20000000</td>\n    </tr>\n    <tr>\n      <th>69</th>\n      <td>Mark</td>\n      <td>20000000</td>\n    </tr>\n    <tr>\n      <th>24</th>\n      <td>David</td>\n      <td>19750000</td>\n    </tr>\n    <tr>\n      <th>2</th>\n      <td>Adam</td>\n      <td>19500000</td>\n    </tr>\n    <tr>\n      <th>15</th>\n      <td>C. J.</td>\n      <td>18000000</td>\n    </tr>\n    <tr>\n      <th>51</th>\n      <td>Jered</td>\n      <td>18000000</td>\n    </tr>\n    <tr>\n      <th>87</th>\n      <td>Tim</td>\n      <td>18000000</td>\n    </tr>\n    <tr>\n      <th>73</th>\n      <td>Max</td>\n      <td>17142000</td>\n    </tr>\n    <tr>\n      <th>7</th>\n      <td>Anibal</td>\n      <td>16800000</td>\n    </tr>\n    <tr>\n      <th>61</th>\n      <td>Jordan</td>\n      <td>16500000</td>\n    </tr>\n    <tr>\n      <th>56</th>\n      <td>John</td>\n      <td>15750000</td>\n    </tr>\n    <tr>\n      <th>76</th>\n      <td>Nick</td>\n      <td>15000000</td>\n    </tr>\n    <tr>\n      <th>96</th>\n      <td>Yovani</td>\n      <td>14000000</td>\n    </tr>\n    <tr>\n      <th>33</th>\n      <td>Ervin</td>\n      <td>13500000</td>\n    </tr>\n    <tr>\n      <th>59</th>\n      <td>Jonathan</td>\n      <td>13000000</td>\n    </tr>\n    <tr>\n      <th>83</th>\n      <td>Scott</td>\n      <td>13000000</td>\n    </tr>\n    <tr>\n      <th>31</th>\n      <td>Edwin</td>\n      <td>13000000</td>\n    </tr>\n  </tbody>\n</table>\n</div>"
     },
     "execution_count": 6,
     "metadata": {},
     "output_type": "execute_result"
    }
   ],
   "source": [
    "#12 Por qué el salary es max en groupby\n",
    "merged_df = pd.merge(player, salary, on = 'player_id')\n",
    "full_merge = pd.merge(merged_df, fielding, on = 'player_id')\n",
    "avg_salary = salary[salary['year']==2015].salary.mean()\n",
    "avg_salary\n",
    "filtered_df = full_merge[(full_merge['salary']>avg_salary) & (full_merge['year_x']==2015) & (full_merge['pos']=='P')]\n",
    "grouped_df = filtered_df.groupby('name_first').salary.max().reset_index()\n",
    "result_df = grouped_df.sort_values(by='salary', ascending=False).head(25)\n",
    "result_df\n",
    "\n"
   ],
   "metadata": {
    "collapsed": false,
    "ExecuteTime": {
     "end_time": "2023-11-06T19:28:46.205204200Z",
     "start_time": "2023-11-06T19:28:44.875990700Z"
    }
   }
  },
  {
   "cell_type": "code",
   "execution_count": 219,
   "outputs": [
    {
     "data": {
      "text/plain": "    decade  avg_so_per_game\n14    2010         7.435889\n13    2000         6.561033\n12    1990         6.150827\n11    1980         5.342615\n10    1970         5.144959\n9     1960         5.712727\n8     1950         4.399437\n7     1940         3.550000\n6     1930         3.316375\n5     1920         2.814437\n4     1910         3.609671\n3     1900         3.197857\n2     1890         2.657971\n1     1880         3.718805\n0     1870         1.027051",
      "text/html": "<div>\n<style scoped>\n    .dataframe tbody tr th:only-of-type {\n        vertical-align: middle;\n    }\n\n    .dataframe tbody tr th {\n        vertical-align: top;\n    }\n\n    .dataframe thead th {\n        text-align: right;\n    }\n</style>\n<table border=\"1\" class=\"dataframe\">\n  <thead>\n    <tr style=\"text-align: right;\">\n      <th></th>\n      <th>decade</th>\n      <th>avg_so_per_game</th>\n    </tr>\n  </thead>\n  <tbody>\n    <tr>\n      <th>14</th>\n      <td>2010</td>\n      <td>7.435889</td>\n    </tr>\n    <tr>\n      <th>13</th>\n      <td>2000</td>\n      <td>6.561033</td>\n    </tr>\n    <tr>\n      <th>12</th>\n      <td>1990</td>\n      <td>6.150827</td>\n    </tr>\n    <tr>\n      <th>11</th>\n      <td>1980</td>\n      <td>5.342615</td>\n    </tr>\n    <tr>\n      <th>10</th>\n      <td>1970</td>\n      <td>5.144959</td>\n    </tr>\n    <tr>\n      <th>9</th>\n      <td>1960</td>\n      <td>5.712727</td>\n    </tr>\n    <tr>\n      <th>8</th>\n      <td>1950</td>\n      <td>4.399437</td>\n    </tr>\n    <tr>\n      <th>7</th>\n      <td>1940</td>\n      <td>3.550000</td>\n    </tr>\n    <tr>\n      <th>6</th>\n      <td>1930</td>\n      <td>3.316375</td>\n    </tr>\n    <tr>\n      <th>5</th>\n      <td>1920</td>\n      <td>2.814437</td>\n    </tr>\n    <tr>\n      <th>4</th>\n      <td>1910</td>\n      <td>3.609671</td>\n    </tr>\n    <tr>\n      <th>3</th>\n      <td>1900</td>\n      <td>3.197857</td>\n    </tr>\n    <tr>\n      <th>2</th>\n      <td>1890</td>\n      <td>2.657971</td>\n    </tr>\n    <tr>\n      <th>1</th>\n      <td>1880</td>\n      <td>3.718805</td>\n    </tr>\n    <tr>\n      <th>0</th>\n      <td>1870</td>\n      <td>1.027051</td>\n    </tr>\n  </tbody>\n</table>\n</div>"
     },
     "execution_count": 219,
     "metadata": {},
     "output_type": "execute_result"
    }
   ],
   "source": [
    "#13\n",
    "team['decade'] = (team.year // 10) * 10\n",
    "team['avg_so_per_game'] = (team.so / team.g).round(2)\n",
    "grouped_df = team.groupby('decade').avg_so_per_game.mean().reset_index()\n",
    "ordered_df = grouped_df.sort_values(by='decade', ascending=False)\n",
    "ordered_df"
   ],
   "metadata": {
    "collapsed": false,
    "ExecuteTime": {
     "end_time": "2023-11-05T12:48:05.037672200Z",
     "start_time": "2023-11-05T12:48:04.998238Z"
    }
   }
  },
  {
   "cell_type": "code",
   "execution_count": 221,
   "outputs": [
    {
     "data": {
      "text/plain": "    decade  avg_hr_per_game\n14    2010         0.955328\n13    2000         1.073370\n12    1990         0.960288\n11    1980         0.804019\n10    1970         0.745614\n9     1960         0.820222\n8     1950         0.843019\n7     1940         0.523094\n6     1930         0.545725\n5     1920         0.401719\n4     1910         0.169602\n3     1900         0.138461\n2     1890         0.253072\n1     1880         0.202358\n0     1870         0.086295",
      "text/html": "<div>\n<style scoped>\n    .dataframe tbody tr th:only-of-type {\n        vertical-align: middle;\n    }\n\n    .dataframe tbody tr th {\n        vertical-align: top;\n    }\n\n    .dataframe thead th {\n        text-align: right;\n    }\n</style>\n<table border=\"1\" class=\"dataframe\">\n  <thead>\n    <tr style=\"text-align: right;\">\n      <th></th>\n      <th>decade</th>\n      <th>avg_hr_per_game</th>\n    </tr>\n  </thead>\n  <tbody>\n    <tr>\n      <th>14</th>\n      <td>2010</td>\n      <td>0.955328</td>\n    </tr>\n    <tr>\n      <th>13</th>\n      <td>2000</td>\n      <td>1.073370</td>\n    </tr>\n    <tr>\n      <th>12</th>\n      <td>1990</td>\n      <td>0.960288</td>\n    </tr>\n    <tr>\n      <th>11</th>\n      <td>1980</td>\n      <td>0.804019</td>\n    </tr>\n    <tr>\n      <th>10</th>\n      <td>1970</td>\n      <td>0.745614</td>\n    </tr>\n    <tr>\n      <th>9</th>\n      <td>1960</td>\n      <td>0.820222</td>\n    </tr>\n    <tr>\n      <th>8</th>\n      <td>1950</td>\n      <td>0.843019</td>\n    </tr>\n    <tr>\n      <th>7</th>\n      <td>1940</td>\n      <td>0.523094</td>\n    </tr>\n    <tr>\n      <th>6</th>\n      <td>1930</td>\n      <td>0.545725</td>\n    </tr>\n    <tr>\n      <th>5</th>\n      <td>1920</td>\n      <td>0.401719</td>\n    </tr>\n    <tr>\n      <th>4</th>\n      <td>1910</td>\n      <td>0.169602</td>\n    </tr>\n    <tr>\n      <th>3</th>\n      <td>1900</td>\n      <td>0.138461</td>\n    </tr>\n    <tr>\n      <th>2</th>\n      <td>1890</td>\n      <td>0.253072</td>\n    </tr>\n    <tr>\n      <th>1</th>\n      <td>1880</td>\n      <td>0.202358</td>\n    </tr>\n    <tr>\n      <th>0</th>\n      <td>1870</td>\n      <td>0.086295</td>\n    </tr>\n  </tbody>\n</table>\n</div>"
     },
     "execution_count": 221,
     "metadata": {},
     "output_type": "execute_result"
    }
   ],
   "source": [
    "#14\n",
    "team['decade'] = (team.year // 10) * 10\n",
    "team['avg_hr_per_game'] = (team.hr / team.g).round(3)\n",
    "grouped_df = team.groupby('decade').avg_hr_per_game.mean().reset_index()\n",
    "ordered_df = grouped_df.sort_values(by='decade', ascending=False)\n",
    "ordered_df"
   ],
   "metadata": {
    "collapsed": false,
    "ExecuteTime": {
     "end_time": "2023-11-05T12:53:16.560678Z",
     "start_time": "2023-11-05T12:53:16.483175400Z"
    }
   }
  },
  {
   "cell_type": "code",
   "execution_count": 240,
   "outputs": [
    {
     "data": {
      "text/plain": "                      name    g    w  winning_percentage  year\n390       Seattle Mariners  162  116               71.60  2001\n404    St. Louis Cardinals  162  105               64.81  2004\n286       New York Yankees  161  103               63.98  2002\n314      Oakland Athletics  162  103               63.58  2002\n329  Philadelphia Phillies  162  102               62.96  2011",
      "text/html": "<div>\n<style scoped>\n    .dataframe tbody tr th:only-of-type {\n        vertical-align: middle;\n    }\n\n    .dataframe tbody tr th {\n        vertical-align: top;\n    }\n\n    .dataframe thead th {\n        text-align: right;\n    }\n</style>\n<table border=\"1\" class=\"dataframe\">\n  <thead>\n    <tr style=\"text-align: right;\">\n      <th></th>\n      <th>name</th>\n      <th>g</th>\n      <th>w</th>\n      <th>winning_percentage</th>\n      <th>year</th>\n    </tr>\n  </thead>\n  <tbody>\n    <tr>\n      <th>390</th>\n      <td>Seattle Mariners</td>\n      <td>162</td>\n      <td>116</td>\n      <td>71.60</td>\n      <td>2001</td>\n    </tr>\n    <tr>\n      <th>404</th>\n      <td>St. Louis Cardinals</td>\n      <td>162</td>\n      <td>105</td>\n      <td>64.81</td>\n      <td>2004</td>\n    </tr>\n    <tr>\n      <th>286</th>\n      <td>New York Yankees</td>\n      <td>161</td>\n      <td>103</td>\n      <td>63.98</td>\n      <td>2002</td>\n    </tr>\n    <tr>\n      <th>314</th>\n      <td>Oakland Athletics</td>\n      <td>162</td>\n      <td>103</td>\n      <td>63.58</td>\n      <td>2002</td>\n    </tr>\n    <tr>\n      <th>329</th>\n      <td>Philadelphia Phillies</td>\n      <td>162</td>\n      <td>102</td>\n      <td>62.96</td>\n      <td>2011</td>\n    </tr>\n  </tbody>\n</table>\n</div>"
     },
     "execution_count": 240,
     "metadata": {},
     "output_type": "execute_result"
    }
   ],
   "source": [
    "#15\n",
    "team['winning_percentage'] = ((team.w / team.g)*100).round(2)\n",
    "filtered_df = team[(team['ws_win']== 'N') & (team['year']>=2000)]\n",
    "grouped_df = filtered_df.groupby(['name', 'g', 'w', 'winning_percentage', 'year']).first().reset_index()\n",
    "ordered_df = grouped_df.sort_values(by='winning_percentage', ascending=False).head(5)\n",
    "ordered_df = ordered_df[['name', 'g', 'w', 'winning_percentage', 'year']]\n",
    "ordered_df"
   ],
   "metadata": {
    "collapsed": false,
    "ExecuteTime": {
     "end_time": "2023-11-05T13:18:36.780016700Z",
     "start_time": "2023-11-05T13:18:36.720765700Z"
    }
   }
  },
  {
   "cell_type": "code",
   "execution_count": 243,
   "outputs": [
    {
     "ename": "TypeError",
     "evalue": "Invalid comparison between dtype=int64 and str",
     "output_type": "error",
     "traceback": [
      "\u001B[1;31m---------------------------------------------------------------------------\u001B[0m",
      "\u001B[1;31mTypeError\u001B[0m                                 Traceback (most recent call last)",
      "Cell \u001B[1;32mIn[243], line 3\u001B[0m\n\u001B[0;32m      1\u001B[0m \u001B[38;5;66;03m#16\u001B[39;00m\n\u001B[0;32m      2\u001B[0m team[\u001B[38;5;124m'\u001B[39m\u001B[38;5;124mwinning_percentage\u001B[39m\u001B[38;5;124m'\u001B[39m] \u001B[38;5;241m=\u001B[39m ((team\u001B[38;5;241m.\u001B[39mw \u001B[38;5;241m/\u001B[39m team\u001B[38;5;241m.\u001B[39mg)\u001B[38;5;241m*\u001B[39m\u001B[38;5;241m100\u001B[39m)\u001B[38;5;241m.\u001B[39mround(\u001B[38;5;241m2\u001B[39m)\n\u001B[1;32m----> 3\u001B[0m filtered_df \u001B[38;5;241m=\u001B[39m team[(team[\u001B[38;5;124m'\u001B[39m\u001B[38;5;124mws_win\u001B[39m\u001B[38;5;124m'\u001B[39m]\u001B[38;5;241m==\u001B[39m \u001B[38;5;124m'\u001B[39m\u001B[38;5;124mY\u001B[39m\u001B[38;5;124m'\u001B[39m) \u001B[38;5;241m&\u001B[39m (\u001B[43mteam\u001B[49m\u001B[43m[\u001B[49m\u001B[38;5;124;43m'\u001B[39;49m\u001B[38;5;124;43myear\u001B[39;49m\u001B[38;5;124;43m'\u001B[39;49m\u001B[43m]\u001B[49m\u001B[38;5;241;43m>\u001B[39;49m\u001B[38;5;241;43m=\u001B[39;49m\u001B[38;5;124;43m'\u001B[39;49m\u001B[38;5;124;43m2000\u001B[39;49m\u001B[38;5;124;43m'\u001B[39;49m)]\n",
      "File \u001B[1;32m~\\AppData\\Local\\Programs\\Python\\Python39\\lib\\site-packages\\pandas\\core\\ops\\common.py:76\u001B[0m, in \u001B[0;36m_unpack_zerodim_and_defer.<locals>.new_method\u001B[1;34m(self, other)\u001B[0m\n\u001B[0;32m     72\u001B[0m             \u001B[38;5;28;01mreturn\u001B[39;00m \u001B[38;5;28mNotImplemented\u001B[39m\n\u001B[0;32m     74\u001B[0m other \u001B[38;5;241m=\u001B[39m item_from_zerodim(other)\n\u001B[1;32m---> 76\u001B[0m \u001B[38;5;28;01mreturn\u001B[39;00m \u001B[43mmethod\u001B[49m\u001B[43m(\u001B[49m\u001B[38;5;28;43mself\u001B[39;49m\u001B[43m,\u001B[49m\u001B[43m \u001B[49m\u001B[43mother\u001B[49m\u001B[43m)\u001B[49m\n",
      "File \u001B[1;32m~\\AppData\\Local\\Programs\\Python\\Python39\\lib\\site-packages\\pandas\\core\\arraylike.py:60\u001B[0m, in \u001B[0;36mOpsMixin.__ge__\u001B[1;34m(self, other)\u001B[0m\n\u001B[0;32m     58\u001B[0m \u001B[38;5;129m@unpack_zerodim_and_defer\u001B[39m(\u001B[38;5;124m\"\u001B[39m\u001B[38;5;124m__ge__\u001B[39m\u001B[38;5;124m\"\u001B[39m)\n\u001B[0;32m     59\u001B[0m \u001B[38;5;28;01mdef\u001B[39;00m \u001B[38;5;21m__ge__\u001B[39m(\u001B[38;5;28mself\u001B[39m, other):\n\u001B[1;32m---> 60\u001B[0m     \u001B[38;5;28;01mreturn\u001B[39;00m \u001B[38;5;28;43mself\u001B[39;49m\u001B[38;5;241;43m.\u001B[39;49m\u001B[43m_cmp_method\u001B[49m\u001B[43m(\u001B[49m\u001B[43mother\u001B[49m\u001B[43m,\u001B[49m\u001B[43m \u001B[49m\u001B[43moperator\u001B[49m\u001B[38;5;241;43m.\u001B[39;49m\u001B[43mge\u001B[49m\u001B[43m)\u001B[49m\n",
      "File \u001B[1;32m~\\AppData\\Local\\Programs\\Python\\Python39\\lib\\site-packages\\pandas\\core\\series.py:5799\u001B[0m, in \u001B[0;36mSeries._cmp_method\u001B[1;34m(self, other, op)\u001B[0m\n\u001B[0;32m   5796\u001B[0m lvalues \u001B[38;5;241m=\u001B[39m \u001B[38;5;28mself\u001B[39m\u001B[38;5;241m.\u001B[39m_values\n\u001B[0;32m   5797\u001B[0m rvalues \u001B[38;5;241m=\u001B[39m extract_array(other, extract_numpy\u001B[38;5;241m=\u001B[39m\u001B[38;5;28;01mTrue\u001B[39;00m, extract_range\u001B[38;5;241m=\u001B[39m\u001B[38;5;28;01mTrue\u001B[39;00m)\n\u001B[1;32m-> 5799\u001B[0m res_values \u001B[38;5;241m=\u001B[39m \u001B[43mops\u001B[49m\u001B[38;5;241;43m.\u001B[39;49m\u001B[43mcomparison_op\u001B[49m\u001B[43m(\u001B[49m\u001B[43mlvalues\u001B[49m\u001B[43m,\u001B[49m\u001B[43m \u001B[49m\u001B[43mrvalues\u001B[49m\u001B[43m,\u001B[49m\u001B[43m \u001B[49m\u001B[43mop\u001B[49m\u001B[43m)\u001B[49m\n\u001B[0;32m   5801\u001B[0m \u001B[38;5;28;01mreturn\u001B[39;00m \u001B[38;5;28mself\u001B[39m\u001B[38;5;241m.\u001B[39m_construct_result(res_values, name\u001B[38;5;241m=\u001B[39mres_name)\n",
      "File \u001B[1;32m~\\AppData\\Local\\Programs\\Python\\Python39\\lib\\site-packages\\pandas\\core\\ops\\array_ops.py:343\u001B[0m, in \u001B[0;36mcomparison_op\u001B[1;34m(left, right, op)\u001B[0m\n\u001B[0;32m    339\u001B[0m         res_values \u001B[38;5;241m=\u001B[39m np\u001B[38;5;241m.\u001B[39mzeros(lvalues\u001B[38;5;241m.\u001B[39mshape, dtype\u001B[38;5;241m=\u001B[39m\u001B[38;5;28mbool\u001B[39m)\n\u001B[0;32m    341\u001B[0m \u001B[38;5;28;01melif\u001B[39;00m is_numeric_v_string_like(lvalues, rvalues):\n\u001B[0;32m    342\u001B[0m     \u001B[38;5;66;03m# GH#36377 going through the numexpr path would incorrectly raise\u001B[39;00m\n\u001B[1;32m--> 343\u001B[0m     \u001B[38;5;28;01mreturn\u001B[39;00m \u001B[43minvalid_comparison\u001B[49m\u001B[43m(\u001B[49m\u001B[43mlvalues\u001B[49m\u001B[43m,\u001B[49m\u001B[43m \u001B[49m\u001B[43mrvalues\u001B[49m\u001B[43m,\u001B[49m\u001B[43m \u001B[49m\u001B[43mop\u001B[49m\u001B[43m)\u001B[49m\n\u001B[0;32m    345\u001B[0m \u001B[38;5;28;01melif\u001B[39;00m lvalues\u001B[38;5;241m.\u001B[39mdtype \u001B[38;5;241m==\u001B[39m \u001B[38;5;28mobject\u001B[39m \u001B[38;5;129;01mor\u001B[39;00m \u001B[38;5;28misinstance\u001B[39m(rvalues, \u001B[38;5;28mstr\u001B[39m):\n\u001B[0;32m    346\u001B[0m     res_values \u001B[38;5;241m=\u001B[39m comp_method_OBJECT_ARRAY(op, lvalues, rvalues)\n",
      "File \u001B[1;32m~\\AppData\\Local\\Programs\\Python\\Python39\\lib\\site-packages\\pandas\\core\\ops\\invalid.py:40\u001B[0m, in \u001B[0;36minvalid_comparison\u001B[1;34m(left, right, op)\u001B[0m\n\u001B[0;32m     38\u001B[0m \u001B[38;5;28;01melse\u001B[39;00m:\n\u001B[0;32m     39\u001B[0m     typ \u001B[38;5;241m=\u001B[39m \u001B[38;5;28mtype\u001B[39m(right)\u001B[38;5;241m.\u001B[39m\u001B[38;5;18m__name__\u001B[39m\n\u001B[1;32m---> 40\u001B[0m     \u001B[38;5;28;01mraise\u001B[39;00m \u001B[38;5;167;01mTypeError\u001B[39;00m(\u001B[38;5;124mf\u001B[39m\u001B[38;5;124m\"\u001B[39m\u001B[38;5;124mInvalid comparison between dtype=\u001B[39m\u001B[38;5;132;01m{\u001B[39;00mleft\u001B[38;5;241m.\u001B[39mdtype\u001B[38;5;132;01m}\u001B[39;00m\u001B[38;5;124m and \u001B[39m\u001B[38;5;132;01m{\u001B[39;00mtyp\u001B[38;5;132;01m}\u001B[39;00m\u001B[38;5;124m\"\u001B[39m)\n\u001B[0;32m     41\u001B[0m \u001B[38;5;28;01mreturn\u001B[39;00m res_values\n",
      "\u001B[1;31mTypeError\u001B[0m: Invalid comparison between dtype=int64 and str"
     ]
    }
   ],
   "source": [
    "#16. Arreglar el data type de w para que funcione\n",
    "team['winning_percentage'] = ((team.w / team.g)*100).round(2)\n",
    "filtered_df = team[(team['ws_win']== 'Y') & (team['year']>='2000')]\n",
    "grouped_df = filtered_df.groupby(['name', 'g', 'w', 'year']).first().reset_index()\n",
    "ordered_df = grouped_df.sort_values(by='winning_percentage', ascending=False).head(5)\n",
    "ordered_df = ordered_df['name', 'g', 'w', 'winning_percentage', 'year']\n",
    "ordered_df"
   ],
   "metadata": {
    "collapsed": false,
    "ExecuteTime": {
     "end_time": "2023-11-05T13:39:31.885708400Z",
     "start_time": "2023-11-05T13:39:31.824904600Z"
    }
   }
  },
  {
   "cell_type": "code",
   "execution_count": 247,
   "outputs": [
    {
     "data": {
      "text/plain": "   decade     salary\n3    2010  3671903.0\n2    2000  2653542.0\n1    1990  1058647.0\n0    1980   456930.0",
      "text/html": "<div>\n<style scoped>\n    .dataframe tbody tr th:only-of-type {\n        vertical-align: middle;\n    }\n\n    .dataframe tbody tr th {\n        vertical-align: top;\n    }\n\n    .dataframe thead th {\n        text-align: right;\n    }\n</style>\n<table border=\"1\" class=\"dataframe\">\n  <thead>\n    <tr style=\"text-align: right;\">\n      <th></th>\n      <th>decade</th>\n      <th>salary</th>\n    </tr>\n  </thead>\n  <tbody>\n    <tr>\n      <th>3</th>\n      <td>2010</td>\n      <td>3671903.0</td>\n    </tr>\n    <tr>\n      <th>2</th>\n      <td>2000</td>\n      <td>2653542.0</td>\n    </tr>\n    <tr>\n      <th>1</th>\n      <td>1990</td>\n      <td>1058647.0</td>\n    </tr>\n    <tr>\n      <th>0</th>\n      <td>1980</td>\n      <td>456930.0</td>\n    </tr>\n  </tbody>\n</table>\n</div>"
     },
     "execution_count": 247,
     "metadata": {},
     "output_type": "execute_result"
    }
   ],
   "source": [
    "#17\n",
    "salary['decade'] = (salary.year // 10) * 10\n",
    "grouped_df = salary.groupby('decade').salary.mean().round().reset_index()\n",
    "ordered_df = grouped_df.sort_values(by='decade', ascending=False)\n",
    "ordered_df"
   ],
   "metadata": {
    "collapsed": false,
    "ExecuteTime": {
     "end_time": "2023-11-05T14:25:52.088428100Z",
     "start_time": "2023-11-05T14:25:52.042125700Z"
    }
   }
  },
  {
   "cell_type": "code",
   "execution_count": 8,
   "outputs": [
    {
     "data": {
      "text/plain": "0     2.132207e+06\n1     2.990885e+06\n2     4.108744e+06\n3     5.659481e+06\n4     4.161989e+06\n5     4.138547e+06\n6     4.187862e+06\n7     3.022888e+06\n8     3.827544e+06\n9     6.891390e+06\n10    2.580579e+06\n11    4.152112e+06\n12    4.444645e+06\n13    7.441103e+06\n14    2.835688e+06\n15    3.477586e+06\n16    4.310200e+06\n17    7.336274e+06\n18    3.870667e+06\n19    2.823339e+06\n20    4.295885e+06\n21    3.065259e+06\n22    4.555435e+06\n23    4.888348e+06\n24    6.100056e+06\n25    4.586212e+06\n26    2.224870e+06\n27    4.791426e+06\n28    4.519696e+06\n29    5.365085e+06\nName: salary, dtype: float64"
     },
     "execution_count": 8,
     "metadata": {},
     "output_type": "execute_result"
    }
   ],
   "source": [
    "#18\n",
    "avg_salaries = salary[salary['year']==2015]\n",
    "avg_salaries = avg_salaries.groupby('team_id')['salary'].mean().reset_index()\n",
    "avg_salaries = avg_salaries['salary']\n",
    "avg_salaries\n",
    "\n",
    "\n"
   ],
   "metadata": {
    "collapsed": false,
    "ExecuteTime": {
     "end_time": "2023-11-06T19:44:02.887319200Z",
     "start_time": "2023-11-06T19:44:02.850643100Z"
    }
   }
  },
  {
   "cell_type": "code",
   "execution_count": 258,
   "outputs": [
    {
     "name": "stdout",
     "output_type": "stream",
     "text": [
      "   team_id    avg_salary  max_salary salary_disparity\n",
      "20     PHI  4.295885e+06    25000000          481.95%\n",
      "0      ARI  2.132207e+06    12000000           462.8%\n",
      "12     LAA  4.444645e+06    24000000          439.98%\n",
      "16     MIN  4.310200e+06    23000000          433.62%\n",
      "8      COL  3.827544e+06    20000000          422.53%\n",
      "18     NYN  3.870667e+06    20000000          416.71%\n",
      "23     SEA  4.888348e+06    24857000          408.49%\n",
      "27     TEX  4.791426e+06    24000000          400.89%\n",
      "7      CLE  3.022888e+06    15000000          396.21%\n",
      "26     TBA  2.224870e+06    11000000          394.41%\n",
      "28     TOR  4.519696e+06    22000000          386.76%\n",
      "5      CHN  4.138547e+06    20000000          383.26%\n",
      "22     SDN  4.555435e+06    21250000          366.48%\n",
      "19     OAK  2.823339e+06    13000000          360.45%\n",
      "13     LAN  7.441103e+06    32571000          337.72%\n",
      "25     SLN  4.586212e+06    19500000          325.19%\n",
      "9      DET  6.891390e+06    28000000           306.3%\n",
      "15     MIL  3.477586e+06    14000000          302.58%\n",
      "1      ATL  2.990885e+06    12000000          301.22%\n",
      "29     WAS  5.365085e+06    21000000          291.42%\n",
      "14     MIA  2.835688e+06    11000000          287.91%\n",
      "10     HOU  2.580579e+06    10000000          287.51%\n",
      "21     PIT  3.065259e+06    11666666          280.61%\n",
      "4      CHA  4.161989e+06    15750000          278.42%\n",
      "3      BOS  5.659481e+06    19750000          248.97%\n",
      "24     SFN  6.100056e+06    21000000          244.26%\n",
      "6      CIN  4.187862e+06    14000000           234.3%\n",
      "2      BAL  4.108744e+06    13333333          224.51%\n",
      "17     NYA  7.336274e+06    23125000          215.21%\n",
      "11     KCA  4.152112e+06    12500000          201.05%\n"
     ]
    }
   ],
   "source": [
    "\n"
   ],
   "metadata": {
    "collapsed": false,
    "ExecuteTime": {
     "end_time": "2023-11-05T16:53:59.907614200Z",
     "start_time": "2023-11-05T16:53:59.859998300Z"
    }
   }
  },
  {
   "cell_type": "code",
   "execution_count": null,
   "outputs": [],
   "source": [],
   "metadata": {
    "collapsed": false
   }
  }
 ],
 "metadata": {
  "kernelspec": {
   "display_name": "Python 3",
   "language": "python",
   "name": "python3"
  },
  "language_info": {
   "codemirror_mode": {
    "name": "ipython",
    "version": 3
   },
   "file_extension": ".py",
   "mimetype": "text/x-python",
   "name": "python",
   "nbconvert_exporter": "python",
   "pygments_lexer": "ipython3",
   "version": "3.11.4"
  }
 },
 "nbformat": 4,
 "nbformat_minor": 2
}
