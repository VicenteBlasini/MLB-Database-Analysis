{
 "cells": [
  {
   "cell_type": "code",
   "execution_count": null,
   "metadata": {},
   "outputs": [],
   "source": [
    "import pandas as pd\n",
    "\n",
    "\n",
    "batting = pd.read_csv(\"../DATA/batting.csv\")\n",
    "fielding = pd.read_csv(\"../DATA/fielding.csv\")\n",
    "hall_of_fame = pd.read_csv(\"../DATA/hall_of_fame.csv\")\n",
    "player_award = pd.read_csv(\"../DATA/player_award.csv\")\n",
    "player = pd.read_csv(\"../DATA/player.csv\")\n",
    "salary = pd.read_csv(\"../DATA/salary.csv\")\n",
    "team = pd.read_csv(\"../DATA/team.csv\")\n",
    "\n",
    "table_files = [batting, fielding, hall_of_fame, player_award, player, salary, team]\n",
    "for file in table_files:\n",
    "    print(file.head(5))\n",
    "    \n",
    "    \n",
    "    \n",
    "    \n",
    "    "
   ]
  },
  {
   "cell_type": "code",
   "execution_count": null,
   "outputs": [],
   "source": [
    "#1.short\n",
    "best_hitters = batting[batting['hr'].notnull()].groupby('player_id').hr.sum().reset_index().sort_values(by= 'hr', ascending=False).head(25)\n",
    "best_hitters"
   ],
   "metadata": {
    "collapsed": false
   }
  },
  {
   "cell_type": "code",
   "execution_count": null,
   "outputs": [],
   "source": [
    "#1.long\n",
    "filtered_df = filtered_df[filtered_df['hr'].notnull()]\n",
    "grouped_df = filtered_df.groupby('player_id').hr.sum().reset_index()\n",
    "ordered_df = grouped_df.sort_values(by = 'hr', ascending = False).head(25)\n",
    "ordered_df"
   ],
   "metadata": {
    "collapsed": false
   }
  },
  {
   "cell_type": "code",
   "execution_count": null,
   "outputs": [],
   "source": [
    "#2.short\n",
    "merged_df = pd.merge(batting, player, on = 'player_id')\n",
    "filtered_df = merged_df[merged_df['team_id']=='BOS'].groupby(['player_id', 'name_first', 'name_last']).hr.sum().reset_index()\n",
    "filtered_df['full_name'] = filtered_df['name_first'] + ' ' + filtered_df['name_last']\n",
    "filtered_df = filtered_df[['player_id', 'full_name', 'hr']]\n",
    "ordered_df = filtered_df.sort_values(by='hr', ascending=False).head(10)\n",
    "ordered_df"
   ],
   "metadata": {
    "collapsed": false
   }
  },
  {
   "cell_type": "code",
   "execution_count": null,
   "outputs": [],
   "source": [
    "#2.long\n",
    "merged_df = pd.merge(batting, player, on = 'player_id')\n",
    "filtered_df = merged_df[merged_df['team_id'] == 'BOS']\n",
    "grouped_df = filtered_df.groupby(['player_id', 'name_first', 'name_last']).hr.sum().reset_index()\n",
    "grouped_df['full_name'] = grouped_df['name_first'] + ' ' + grouped_df['name_last']\n",
    "grouped_df = grouped_df[['player_id', 'full_name', 'hr']]\n",
    "ordered_df = grouped_df.sort_values(by='hr', ascending=False).head(10)\n",
    "ordered_df"
   ],
   "metadata": {
    "collapsed": false
   }
  },
  {
   "cell_type": "code",
   "execution_count": 135,
   "outputs": [
    {
     "data": {
      "text/plain": "     player_id name_first   name_last     ab    hr  Homeruns_per_ab\n275  mcgwima01       Mark     McGwire  236.0  32.0            0.136\n44   bondsba01      Barry       Bonds  480.0  49.0            0.102\n191   hillgl01  Glenallen        Hill  300.0  27.0            0.090\n333  ramirma02      Manny     Ramirez  439.0  38.0            0.087\n362  sheffga01       Gary   Sheffield  501.0  43.0            0.086\n142  giambja01      Jason      Giambi  510.0  43.0            0.084\n370   sosasa01      Sammy        Sosa  604.0  50.0            0.083\n148  glaustr01       Troy       Glaus  563.0  47.0            0.083\n51   branyru01    Russell     Branyan  193.0  16.0            0.083\n197  hundlto01       Todd     Hundley  299.0  24.0            0.080\n116  edmonji01        Jim     Edmonds  525.0  42.0            0.080\n18   bagweje01       Jeff     Bagwell  590.0  47.0            0.080\n189  hidalri01    Richard     Hidalgo  558.0  44.0            0.079\n323  piazzmi01       Mike      Piazza  482.0  38.0            0.079\n221  justida01      David     Justice  524.0  41.0            0.078\n163  griffke02        Ken     Griffey  520.0  40.0            0.077\n166  guerrvl01   Vladimir    Guerrero  571.0  44.0            0.077\n409   wardda01     Daryle        Ward  264.0  20.0            0.076\n211  johnsch04    Charles     Johnson  421.0  31.0            0.074\n347  rodriiv01       Ivan   Rodriguez  363.0  27.0            0.074\n345  rodrial01       Alex   Rodriguez  554.0  41.0            0.074\n387  thomafr04      Frank      Thomas  582.0  43.0            0.074\n13   andresh01      Shane     Andrews  192.0  14.0            0.073\n183  heltoto01       Todd      Helton  580.0  42.0            0.072\n66   caminke01        Ken    Caminiti  208.0  15.0            0.072\n104  delgaca01     Carlos     Delgado  569.0  41.0            0.072\n57   buhneja01        Jay      Buhner  364.0  26.0            0.071\n315  palmera01     Rafael    Palmeiro  565.0  39.0            0.069\n122  evereca01       Carl     Everett  496.0  34.0            0.069\n234  lampkto01        Tom     Lampkin  103.0   7.0            0.068\n262  martied01      Edgar    Martinez  556.0  37.0            0.067\n235  lankfra01        Ray    Lankford  392.0  26.0            0.066\n23   batisto01       Tony     Batista  620.0  41.0            0.066\n9     aloumo01     Moises        Alou  454.0  30.0            0.066\n137  fullmbr01       Brad     Fullmer  482.0  32.0            0.066\n207  jenkige01      Geoff     Jenkins  512.0  34.0            0.066\n178  hanseda01       Dave      Hansen  121.0   8.0            0.066\n388  thomeji01        Jim       Thome  557.0  37.0            0.066\n341  richach01      Chris     Richard  199.0  13.0            0.065\n127  finlest01      Steve      Finley  539.0  35.0            0.065\n117  elsteke01      Kevin      Elster  220.0  14.0            0.064\n145  gilesbr02      Brian       Giles  559.0  35.0            0.063\n194  houstty01      Tyler     Houston  284.0  18.0            0.063\n358  seguife01   Fernando   Seguignol  162.0  10.0            0.062\n287  mondera01       Raul     Mondesi  388.0  24.0            0.062\n81   clarkto02       Tony       Clark  208.0  13.0            0.062\n215  jonesch06    Chipper       Jones  579.0  36.0            0.062\n394  vandejo02       John  Vander Wal  384.0  24.0            0.062\n58   burksel01      Ellis       Burks  393.0  24.0            0.061\n396  vaughgr01       Greg      Vaughn  461.0  28.0            0.061",
      "text/html": "<div>\n<style scoped>\n    .dataframe tbody tr th:only-of-type {\n        vertical-align: middle;\n    }\n\n    .dataframe tbody tr th {\n        vertical-align: top;\n    }\n\n    .dataframe thead th {\n        text-align: right;\n    }\n</style>\n<table border=\"1\" class=\"dataframe\">\n  <thead>\n    <tr style=\"text-align: right;\">\n      <th></th>\n      <th>player_id</th>\n      <th>name_first</th>\n      <th>name_last</th>\n      <th>ab</th>\n      <th>hr</th>\n      <th>Homeruns_per_ab</th>\n    </tr>\n  </thead>\n  <tbody>\n    <tr>\n      <th>275</th>\n      <td>mcgwima01</td>\n      <td>Mark</td>\n      <td>McGwire</td>\n      <td>236.0</td>\n      <td>32.0</td>\n      <td>0.136</td>\n    </tr>\n    <tr>\n      <th>44</th>\n      <td>bondsba01</td>\n      <td>Barry</td>\n      <td>Bonds</td>\n      <td>480.0</td>\n      <td>49.0</td>\n      <td>0.102</td>\n    </tr>\n    <tr>\n      <th>191</th>\n      <td>hillgl01</td>\n      <td>Glenallen</td>\n      <td>Hill</td>\n      <td>300.0</td>\n      <td>27.0</td>\n      <td>0.090</td>\n    </tr>\n    <tr>\n      <th>333</th>\n      <td>ramirma02</td>\n      <td>Manny</td>\n      <td>Ramirez</td>\n      <td>439.0</td>\n      <td>38.0</td>\n      <td>0.087</td>\n    </tr>\n    <tr>\n      <th>362</th>\n      <td>sheffga01</td>\n      <td>Gary</td>\n      <td>Sheffield</td>\n      <td>501.0</td>\n      <td>43.0</td>\n      <td>0.086</td>\n    </tr>\n    <tr>\n      <th>142</th>\n      <td>giambja01</td>\n      <td>Jason</td>\n      <td>Giambi</td>\n      <td>510.0</td>\n      <td>43.0</td>\n      <td>0.084</td>\n    </tr>\n    <tr>\n      <th>370</th>\n      <td>sosasa01</td>\n      <td>Sammy</td>\n      <td>Sosa</td>\n      <td>604.0</td>\n      <td>50.0</td>\n      <td>0.083</td>\n    </tr>\n    <tr>\n      <th>148</th>\n      <td>glaustr01</td>\n      <td>Troy</td>\n      <td>Glaus</td>\n      <td>563.0</td>\n      <td>47.0</td>\n      <td>0.083</td>\n    </tr>\n    <tr>\n      <th>51</th>\n      <td>branyru01</td>\n      <td>Russell</td>\n      <td>Branyan</td>\n      <td>193.0</td>\n      <td>16.0</td>\n      <td>0.083</td>\n    </tr>\n    <tr>\n      <th>197</th>\n      <td>hundlto01</td>\n      <td>Todd</td>\n      <td>Hundley</td>\n      <td>299.0</td>\n      <td>24.0</td>\n      <td>0.080</td>\n    </tr>\n    <tr>\n      <th>116</th>\n      <td>edmonji01</td>\n      <td>Jim</td>\n      <td>Edmonds</td>\n      <td>525.0</td>\n      <td>42.0</td>\n      <td>0.080</td>\n    </tr>\n    <tr>\n      <th>18</th>\n      <td>bagweje01</td>\n      <td>Jeff</td>\n      <td>Bagwell</td>\n      <td>590.0</td>\n      <td>47.0</td>\n      <td>0.080</td>\n    </tr>\n    <tr>\n      <th>189</th>\n      <td>hidalri01</td>\n      <td>Richard</td>\n      <td>Hidalgo</td>\n      <td>558.0</td>\n      <td>44.0</td>\n      <td>0.079</td>\n    </tr>\n    <tr>\n      <th>323</th>\n      <td>piazzmi01</td>\n      <td>Mike</td>\n      <td>Piazza</td>\n      <td>482.0</td>\n      <td>38.0</td>\n      <td>0.079</td>\n    </tr>\n    <tr>\n      <th>221</th>\n      <td>justida01</td>\n      <td>David</td>\n      <td>Justice</td>\n      <td>524.0</td>\n      <td>41.0</td>\n      <td>0.078</td>\n    </tr>\n    <tr>\n      <th>163</th>\n      <td>griffke02</td>\n      <td>Ken</td>\n      <td>Griffey</td>\n      <td>520.0</td>\n      <td>40.0</td>\n      <td>0.077</td>\n    </tr>\n    <tr>\n      <th>166</th>\n      <td>guerrvl01</td>\n      <td>Vladimir</td>\n      <td>Guerrero</td>\n      <td>571.0</td>\n      <td>44.0</td>\n      <td>0.077</td>\n    </tr>\n    <tr>\n      <th>409</th>\n      <td>wardda01</td>\n      <td>Daryle</td>\n      <td>Ward</td>\n      <td>264.0</td>\n      <td>20.0</td>\n      <td>0.076</td>\n    </tr>\n    <tr>\n      <th>211</th>\n      <td>johnsch04</td>\n      <td>Charles</td>\n      <td>Johnson</td>\n      <td>421.0</td>\n      <td>31.0</td>\n      <td>0.074</td>\n    </tr>\n    <tr>\n      <th>347</th>\n      <td>rodriiv01</td>\n      <td>Ivan</td>\n      <td>Rodriguez</td>\n      <td>363.0</td>\n      <td>27.0</td>\n      <td>0.074</td>\n    </tr>\n    <tr>\n      <th>345</th>\n      <td>rodrial01</td>\n      <td>Alex</td>\n      <td>Rodriguez</td>\n      <td>554.0</td>\n      <td>41.0</td>\n      <td>0.074</td>\n    </tr>\n    <tr>\n      <th>387</th>\n      <td>thomafr04</td>\n      <td>Frank</td>\n      <td>Thomas</td>\n      <td>582.0</td>\n      <td>43.0</td>\n      <td>0.074</td>\n    </tr>\n    <tr>\n      <th>13</th>\n      <td>andresh01</td>\n      <td>Shane</td>\n      <td>Andrews</td>\n      <td>192.0</td>\n      <td>14.0</td>\n      <td>0.073</td>\n    </tr>\n    <tr>\n      <th>183</th>\n      <td>heltoto01</td>\n      <td>Todd</td>\n      <td>Helton</td>\n      <td>580.0</td>\n      <td>42.0</td>\n      <td>0.072</td>\n    </tr>\n    <tr>\n      <th>66</th>\n      <td>caminke01</td>\n      <td>Ken</td>\n      <td>Caminiti</td>\n      <td>208.0</td>\n      <td>15.0</td>\n      <td>0.072</td>\n    </tr>\n    <tr>\n      <th>104</th>\n      <td>delgaca01</td>\n      <td>Carlos</td>\n      <td>Delgado</td>\n      <td>569.0</td>\n      <td>41.0</td>\n      <td>0.072</td>\n    </tr>\n    <tr>\n      <th>57</th>\n      <td>buhneja01</td>\n      <td>Jay</td>\n      <td>Buhner</td>\n      <td>364.0</td>\n      <td>26.0</td>\n      <td>0.071</td>\n    </tr>\n    <tr>\n      <th>315</th>\n      <td>palmera01</td>\n      <td>Rafael</td>\n      <td>Palmeiro</td>\n      <td>565.0</td>\n      <td>39.0</td>\n      <td>0.069</td>\n    </tr>\n    <tr>\n      <th>122</th>\n      <td>evereca01</td>\n      <td>Carl</td>\n      <td>Everett</td>\n      <td>496.0</td>\n      <td>34.0</td>\n      <td>0.069</td>\n    </tr>\n    <tr>\n      <th>234</th>\n      <td>lampkto01</td>\n      <td>Tom</td>\n      <td>Lampkin</td>\n      <td>103.0</td>\n      <td>7.0</td>\n      <td>0.068</td>\n    </tr>\n    <tr>\n      <th>262</th>\n      <td>martied01</td>\n      <td>Edgar</td>\n      <td>Martinez</td>\n      <td>556.0</td>\n      <td>37.0</td>\n      <td>0.067</td>\n    </tr>\n    <tr>\n      <th>235</th>\n      <td>lankfra01</td>\n      <td>Ray</td>\n      <td>Lankford</td>\n      <td>392.0</td>\n      <td>26.0</td>\n      <td>0.066</td>\n    </tr>\n    <tr>\n      <th>23</th>\n      <td>batisto01</td>\n      <td>Tony</td>\n      <td>Batista</td>\n      <td>620.0</td>\n      <td>41.0</td>\n      <td>0.066</td>\n    </tr>\n    <tr>\n      <th>9</th>\n      <td>aloumo01</td>\n      <td>Moises</td>\n      <td>Alou</td>\n      <td>454.0</td>\n      <td>30.0</td>\n      <td>0.066</td>\n    </tr>\n    <tr>\n      <th>137</th>\n      <td>fullmbr01</td>\n      <td>Brad</td>\n      <td>Fullmer</td>\n      <td>482.0</td>\n      <td>32.0</td>\n      <td>0.066</td>\n    </tr>\n    <tr>\n      <th>207</th>\n      <td>jenkige01</td>\n      <td>Geoff</td>\n      <td>Jenkins</td>\n      <td>512.0</td>\n      <td>34.0</td>\n      <td>0.066</td>\n    </tr>\n    <tr>\n      <th>178</th>\n      <td>hanseda01</td>\n      <td>Dave</td>\n      <td>Hansen</td>\n      <td>121.0</td>\n      <td>8.0</td>\n      <td>0.066</td>\n    </tr>\n    <tr>\n      <th>388</th>\n      <td>thomeji01</td>\n      <td>Jim</td>\n      <td>Thome</td>\n      <td>557.0</td>\n      <td>37.0</td>\n      <td>0.066</td>\n    </tr>\n    <tr>\n      <th>341</th>\n      <td>richach01</td>\n      <td>Chris</td>\n      <td>Richard</td>\n      <td>199.0</td>\n      <td>13.0</td>\n      <td>0.065</td>\n    </tr>\n    <tr>\n      <th>127</th>\n      <td>finlest01</td>\n      <td>Steve</td>\n      <td>Finley</td>\n      <td>539.0</td>\n      <td>35.0</td>\n      <td>0.065</td>\n    </tr>\n    <tr>\n      <th>117</th>\n      <td>elsteke01</td>\n      <td>Kevin</td>\n      <td>Elster</td>\n      <td>220.0</td>\n      <td>14.0</td>\n      <td>0.064</td>\n    </tr>\n    <tr>\n      <th>145</th>\n      <td>gilesbr02</td>\n      <td>Brian</td>\n      <td>Giles</td>\n      <td>559.0</td>\n      <td>35.0</td>\n      <td>0.063</td>\n    </tr>\n    <tr>\n      <th>194</th>\n      <td>houstty01</td>\n      <td>Tyler</td>\n      <td>Houston</td>\n      <td>284.0</td>\n      <td>18.0</td>\n      <td>0.063</td>\n    </tr>\n    <tr>\n      <th>358</th>\n      <td>seguife01</td>\n      <td>Fernando</td>\n      <td>Seguignol</td>\n      <td>162.0</td>\n      <td>10.0</td>\n      <td>0.062</td>\n    </tr>\n    <tr>\n      <th>287</th>\n      <td>mondera01</td>\n      <td>Raul</td>\n      <td>Mondesi</td>\n      <td>388.0</td>\n      <td>24.0</td>\n      <td>0.062</td>\n    </tr>\n    <tr>\n      <th>81</th>\n      <td>clarkto02</td>\n      <td>Tony</td>\n      <td>Clark</td>\n      <td>208.0</td>\n      <td>13.0</td>\n      <td>0.062</td>\n    </tr>\n    <tr>\n      <th>215</th>\n      <td>jonesch06</td>\n      <td>Chipper</td>\n      <td>Jones</td>\n      <td>579.0</td>\n      <td>36.0</td>\n      <td>0.062</td>\n    </tr>\n    <tr>\n      <th>394</th>\n      <td>vandejo02</td>\n      <td>John</td>\n      <td>Vander Wal</td>\n      <td>384.0</td>\n      <td>24.0</td>\n      <td>0.062</td>\n    </tr>\n    <tr>\n      <th>58</th>\n      <td>burksel01</td>\n      <td>Ellis</td>\n      <td>Burks</td>\n      <td>393.0</td>\n      <td>24.0</td>\n      <td>0.061</td>\n    </tr>\n    <tr>\n      <th>396</th>\n      <td>vaughgr01</td>\n      <td>Greg</td>\n      <td>Vaughn</td>\n      <td>461.0</td>\n      <td>28.0</td>\n      <td>0.061</td>\n    </tr>\n  </tbody>\n</table>\n</div>"
     },
     "execution_count": 135,
     "metadata": {},
     "output_type": "execute_result"
    }
   ],
   "source": [
    "#4\n",
    "merged_df = pd.merge(batting, player, on = 'player_id')\n",
    "filtered_df = merged_df[(merged_df['ab'] >= 100) & (merged_df['year']==2000)]\n",
    "grouped_df = filtered_df.groupby(['player_id', 'name_first', 'name_last'])[['ab','hr']].sum().reset_index()\n",
    "grouped_df['Homeruns_per_ab'] = round(grouped_df['hr'] / grouped_df['ab'],3)\n",
    "ordered_df = grouped_df.sort_values(by='Homeruns_per_ab', ascending=False).head(50)\n",
    "ordered_df"
   ],
   "metadata": {
    "collapsed": false,
    "ExecuteTime": {
     "end_time": "2023-11-03T14:16:52.500482500Z",
     "start_time": "2023-11-03T14:16:52.368648Z"
    }
   }
  },
  {
   "cell_type": "code",
   "execution_count": 159,
   "outputs": [
    {
     "data": {
      "text/plain": "     player_id name_first       h       ab  batting_avg batting_performance\n252   ruthba01       Babe  2518.0   7216.0        0.349           Above_avg\n98   gehrilo01        Lou  2700.0   7935.0        0.340           Above_avg\n76   duncama01    Mariano   136.0    400.0        0.340           Above_avg\n72   dimagjo01        Joe  2214.0   6821.0        0.325           Above_avg\n54   combsea01      Earle  1852.0   5711.0        0.324           Above_avg\n223  paschbe01        Ben   163.0    505.0        0.323           Above_avg\n137  jamesdi01       Dion   174.0    552.0        0.315           Above_avg\n71   dickebi01       Bill  1931.0   6151.0        0.314           Above_avg\n26   boggswa01       Wade   702.0   2240.0        0.313           Above_avg\n195  meusebo01        Bob  1565.0   5032.0        0.311           Above_avg\n138  jeterde01      Derek  3441.0  11084.0        0.310           Above_avg\n37    canoro01   Robinson  1649.0   5336.0        0.309           Above_avg\n183  mattido01        Don  2151.0   6991.0        0.308           Above_avg\n310  watsobo01        Bob   144.0    469.0        0.307           Above_avg\n274   sojolu01       Luis    66.0    215.0        0.307           Above_avg\n44   chapmbe01        Ben  1042.0   3400.0        0.306           Above_avg\n170  maddoel01    Elliott   208.0    684.0        0.304           Above_avg\n228  pinielo01        Lou   819.0   2699.0        0.303           Above_avg\n258  schanwa01      Wally   443.0   1460.0        0.303           Above_avg\n219  oneilpa01       Paul  1426.0   4700.0        0.303           Above_avg\n322   wittwh01     Whitey   522.0   1724.0        0.303           Above_avg\n24   blombro01        Ron   261.0    864.0        0.302           Above_avg\n79   easlemi01       Mike   148.0    490.0        0.302           Above_avg\n240  rivermi01     Mickey   598.0   2000.0        0.299           Above_avg\n234  raineti01        Tim   237.0    793.0        0.299           Above_avg",
      "text/html": "<div>\n<style scoped>\n    .dataframe tbody tr th:only-of-type {\n        vertical-align: middle;\n    }\n\n    .dataframe tbody tr th {\n        vertical-align: top;\n    }\n\n    .dataframe thead th {\n        text-align: right;\n    }\n</style>\n<table border=\"1\" class=\"dataframe\">\n  <thead>\n    <tr style=\"text-align: right;\">\n      <th></th>\n      <th>player_id</th>\n      <th>name_first</th>\n      <th>h</th>\n      <th>ab</th>\n      <th>batting_avg</th>\n      <th>batting_performance</th>\n    </tr>\n  </thead>\n  <tbody>\n    <tr>\n      <th>252</th>\n      <td>ruthba01</td>\n      <td>Babe</td>\n      <td>2518.0</td>\n      <td>7216.0</td>\n      <td>0.349</td>\n      <td>Above_avg</td>\n    </tr>\n    <tr>\n      <th>98</th>\n      <td>gehrilo01</td>\n      <td>Lou</td>\n      <td>2700.0</td>\n      <td>7935.0</td>\n      <td>0.340</td>\n      <td>Above_avg</td>\n    </tr>\n    <tr>\n      <th>76</th>\n      <td>duncama01</td>\n      <td>Mariano</td>\n      <td>136.0</td>\n      <td>400.0</td>\n      <td>0.340</td>\n      <td>Above_avg</td>\n    </tr>\n    <tr>\n      <th>72</th>\n      <td>dimagjo01</td>\n      <td>Joe</td>\n      <td>2214.0</td>\n      <td>6821.0</td>\n      <td>0.325</td>\n      <td>Above_avg</td>\n    </tr>\n    <tr>\n      <th>54</th>\n      <td>combsea01</td>\n      <td>Earle</td>\n      <td>1852.0</td>\n      <td>5711.0</td>\n      <td>0.324</td>\n      <td>Above_avg</td>\n    </tr>\n    <tr>\n      <th>223</th>\n      <td>paschbe01</td>\n      <td>Ben</td>\n      <td>163.0</td>\n      <td>505.0</td>\n      <td>0.323</td>\n      <td>Above_avg</td>\n    </tr>\n    <tr>\n      <th>137</th>\n      <td>jamesdi01</td>\n      <td>Dion</td>\n      <td>174.0</td>\n      <td>552.0</td>\n      <td>0.315</td>\n      <td>Above_avg</td>\n    </tr>\n    <tr>\n      <th>71</th>\n      <td>dickebi01</td>\n      <td>Bill</td>\n      <td>1931.0</td>\n      <td>6151.0</td>\n      <td>0.314</td>\n      <td>Above_avg</td>\n    </tr>\n    <tr>\n      <th>26</th>\n      <td>boggswa01</td>\n      <td>Wade</td>\n      <td>702.0</td>\n      <td>2240.0</td>\n      <td>0.313</td>\n      <td>Above_avg</td>\n    </tr>\n    <tr>\n      <th>195</th>\n      <td>meusebo01</td>\n      <td>Bob</td>\n      <td>1565.0</td>\n      <td>5032.0</td>\n      <td>0.311</td>\n      <td>Above_avg</td>\n    </tr>\n    <tr>\n      <th>138</th>\n      <td>jeterde01</td>\n      <td>Derek</td>\n      <td>3441.0</td>\n      <td>11084.0</td>\n      <td>0.310</td>\n      <td>Above_avg</td>\n    </tr>\n    <tr>\n      <th>37</th>\n      <td>canoro01</td>\n      <td>Robinson</td>\n      <td>1649.0</td>\n      <td>5336.0</td>\n      <td>0.309</td>\n      <td>Above_avg</td>\n    </tr>\n    <tr>\n      <th>183</th>\n      <td>mattido01</td>\n      <td>Don</td>\n      <td>2151.0</td>\n      <td>6991.0</td>\n      <td>0.308</td>\n      <td>Above_avg</td>\n    </tr>\n    <tr>\n      <th>310</th>\n      <td>watsobo01</td>\n      <td>Bob</td>\n      <td>144.0</td>\n      <td>469.0</td>\n      <td>0.307</td>\n      <td>Above_avg</td>\n    </tr>\n    <tr>\n      <th>274</th>\n      <td>sojolu01</td>\n      <td>Luis</td>\n      <td>66.0</td>\n      <td>215.0</td>\n      <td>0.307</td>\n      <td>Above_avg</td>\n    </tr>\n    <tr>\n      <th>44</th>\n      <td>chapmbe01</td>\n      <td>Ben</td>\n      <td>1042.0</td>\n      <td>3400.0</td>\n      <td>0.306</td>\n      <td>Above_avg</td>\n    </tr>\n    <tr>\n      <th>170</th>\n      <td>maddoel01</td>\n      <td>Elliott</td>\n      <td>208.0</td>\n      <td>684.0</td>\n      <td>0.304</td>\n      <td>Above_avg</td>\n    </tr>\n    <tr>\n      <th>228</th>\n      <td>pinielo01</td>\n      <td>Lou</td>\n      <td>819.0</td>\n      <td>2699.0</td>\n      <td>0.303</td>\n      <td>Above_avg</td>\n    </tr>\n    <tr>\n      <th>258</th>\n      <td>schanwa01</td>\n      <td>Wally</td>\n      <td>443.0</td>\n      <td>1460.0</td>\n      <td>0.303</td>\n      <td>Above_avg</td>\n    </tr>\n    <tr>\n      <th>219</th>\n      <td>oneilpa01</td>\n      <td>Paul</td>\n      <td>1426.0</td>\n      <td>4700.0</td>\n      <td>0.303</td>\n      <td>Above_avg</td>\n    </tr>\n    <tr>\n      <th>322</th>\n      <td>wittwh01</td>\n      <td>Whitey</td>\n      <td>522.0</td>\n      <td>1724.0</td>\n      <td>0.303</td>\n      <td>Above_avg</td>\n    </tr>\n    <tr>\n      <th>24</th>\n      <td>blombro01</td>\n      <td>Ron</td>\n      <td>261.0</td>\n      <td>864.0</td>\n      <td>0.302</td>\n      <td>Above_avg</td>\n    </tr>\n    <tr>\n      <th>79</th>\n      <td>easlemi01</td>\n      <td>Mike</td>\n      <td>148.0</td>\n      <td>490.0</td>\n      <td>0.302</td>\n      <td>Above_avg</td>\n    </tr>\n    <tr>\n      <th>240</th>\n      <td>rivermi01</td>\n      <td>Mickey</td>\n      <td>598.0</td>\n      <td>2000.0</td>\n      <td>0.299</td>\n      <td>Above_avg</td>\n    </tr>\n    <tr>\n      <th>234</th>\n      <td>raineti01</td>\n      <td>Tim</td>\n      <td>237.0</td>\n      <td>793.0</td>\n      <td>0.299</td>\n      <td>Above_avg</td>\n    </tr>\n  </tbody>\n</table>\n</div>"
     },
     "execution_count": 159,
     "metadata": {},
     "output_type": "execute_result"
    }
   ],
   "source": [
    "#5\n",
    "league_avg = batting[batting['ab']>=100]\n",
    "league_avg = league_avg.h.sum() / league_avg.ab.sum()\n",
    "league_avg\n",
    "\n",
    "merged_df = pd.merge(batting, player, on='player_id')\n",
    "filtered_df = merged_df[(merged_df['ab']>=200) & (merged_df['team_id']=='NYA')]\n",
    "grouped_df = filtered_df.groupby(['player_id', 'name_first'])[['h','ab']].sum().reset_index()\n",
    "grouped_df['batting_avg'] = round(grouped_df['h'] / grouped_df['ab'],3)\n",
    "grouped_df['batting_performance'] = grouped_df['batting_avg'].apply(lambda x: 'Above_avg' if x > league_avg else 'Below_avg')\n",
    "ordered_df = grouped_df.sort_values(by='batting_avg', ascending=False).head(25)\n",
    "ordered_df"
   ],
   "metadata": {
    "collapsed": false,
    "ExecuteTime": {
     "end_time": "2023-11-03T15:54:45.035286200Z",
     "start_time": "2023-11-03T15:54:44.878348300Z"
    }
   }
  },
  {
   "cell_type": "code",
   "execution_count": 172,
   "outputs": [
    {
     "data": {
      "text/plain": "                             name  attendance     g  avg_attendance_per_game\n21               New York Yankees  58491801.0  2590                  22584.0\n15            Los Angeles Dodgers  55479368.0  2591                  21412.0\n28            St. Louis Cardinals  52779669.0  2591                  20370.0\n26           San Francisco Giants  51539703.0  2590                  19899.0\n14  Los Angeles Angels of Anaheim  35361353.0  1782                  19844.0\n5                    Chicago Cubs  47557886.0  2590                  18362.0\n4                  Boston Red Sox  46097292.0  2591                  17791.0\n23          Philadelphia Phillies  44183070.0  2591                  17053.0\n20                  New York Mets  44026638.0  2590                  16999.0\n9                Colorado Rockies  41978667.0  2593                  16189.0\n31                  Texas Rangers  41050712.0  2593                  15831.0\n0                  Anaheim Angels  12810219.0   810                  15815.0\n27               Seattle Mariners  40344500.0  2592                  15565.0\n2                  Atlanta Braves  40320936.0  2591                  15562.0\n17              Milwaukee Brewers  40188606.0  2592                  15505.0\n12                 Houston Astros  39731913.0  2592                  15329.0\n10                 Detroit Tigers  39444074.0  2591                  15223.0\n1            Arizona Diamondbacks  37946488.0  2592                  14640.0\n25               San Diego Padres  37885083.0  2593                  14611.0\n3               Baltimore Orioles  37766746.0  2592                  14571.0\n33           Washington Nationals  24957479.0  1780                  14021.0\n18                Minnesota Twins  36016389.0  2593                  13890.0\n7                 Cincinnati Reds  34950170.0  2594                  13473.0\n6               Chicago White Sox  33366890.0  2593                  12868.0\n32              Toronto Blue Jays  33162614.0  2591                  12799.0\n8               Cleveland Indians  32255283.0  2591                  12449.0\n24             Pittsburgh Pirates  30674181.0  2589                  11848.0\n22              Oakland Athletics  29561870.0  2590                  11414.0\n16                  Miami Marlins   7290284.0   648                  11250.0\n13             Kansas City Royals  27098544.0  2592                  10455.0\n30                 Tampa Bay Rays  12863080.0  1297                   9918.0\n11                Florida Marlins  16518116.0  1942                   8506.0\n29           Tampa Bay Devil Rays  10045608.0  1293                   7769.0\n19                 Montreal Expos   4156251.0   810                   5131.0",
      "text/html": "<div>\n<style scoped>\n    .dataframe tbody tr th:only-of-type {\n        vertical-align: middle;\n    }\n\n    .dataframe tbody tr th {\n        vertical-align: top;\n    }\n\n    .dataframe thead th {\n        text-align: right;\n    }\n</style>\n<table border=\"1\" class=\"dataframe\">\n  <thead>\n    <tr style=\"text-align: right;\">\n      <th></th>\n      <th>name</th>\n      <th>attendance</th>\n      <th>g</th>\n      <th>avg_attendance_per_game</th>\n    </tr>\n  </thead>\n  <tbody>\n    <tr>\n      <th>21</th>\n      <td>New York Yankees</td>\n      <td>58491801.0</td>\n      <td>2590</td>\n      <td>22584.0</td>\n    </tr>\n    <tr>\n      <th>15</th>\n      <td>Los Angeles Dodgers</td>\n      <td>55479368.0</td>\n      <td>2591</td>\n      <td>21412.0</td>\n    </tr>\n    <tr>\n      <th>28</th>\n      <td>St. Louis Cardinals</td>\n      <td>52779669.0</td>\n      <td>2591</td>\n      <td>20370.0</td>\n    </tr>\n    <tr>\n      <th>26</th>\n      <td>San Francisco Giants</td>\n      <td>51539703.0</td>\n      <td>2590</td>\n      <td>19899.0</td>\n    </tr>\n    <tr>\n      <th>14</th>\n      <td>Los Angeles Angels of Anaheim</td>\n      <td>35361353.0</td>\n      <td>1782</td>\n      <td>19844.0</td>\n    </tr>\n    <tr>\n      <th>5</th>\n      <td>Chicago Cubs</td>\n      <td>47557886.0</td>\n      <td>2590</td>\n      <td>18362.0</td>\n    </tr>\n    <tr>\n      <th>4</th>\n      <td>Boston Red Sox</td>\n      <td>46097292.0</td>\n      <td>2591</td>\n      <td>17791.0</td>\n    </tr>\n    <tr>\n      <th>23</th>\n      <td>Philadelphia Phillies</td>\n      <td>44183070.0</td>\n      <td>2591</td>\n      <td>17053.0</td>\n    </tr>\n    <tr>\n      <th>20</th>\n      <td>New York Mets</td>\n      <td>44026638.0</td>\n      <td>2590</td>\n      <td>16999.0</td>\n    </tr>\n    <tr>\n      <th>9</th>\n      <td>Colorado Rockies</td>\n      <td>41978667.0</td>\n      <td>2593</td>\n      <td>16189.0</td>\n    </tr>\n    <tr>\n      <th>31</th>\n      <td>Texas Rangers</td>\n      <td>41050712.0</td>\n      <td>2593</td>\n      <td>15831.0</td>\n    </tr>\n    <tr>\n      <th>0</th>\n      <td>Anaheim Angels</td>\n      <td>12810219.0</td>\n      <td>810</td>\n      <td>15815.0</td>\n    </tr>\n    <tr>\n      <th>27</th>\n      <td>Seattle Mariners</td>\n      <td>40344500.0</td>\n      <td>2592</td>\n      <td>15565.0</td>\n    </tr>\n    <tr>\n      <th>2</th>\n      <td>Atlanta Braves</td>\n      <td>40320936.0</td>\n      <td>2591</td>\n      <td>15562.0</td>\n    </tr>\n    <tr>\n      <th>17</th>\n      <td>Milwaukee Brewers</td>\n      <td>40188606.0</td>\n      <td>2592</td>\n      <td>15505.0</td>\n    </tr>\n    <tr>\n      <th>12</th>\n      <td>Houston Astros</td>\n      <td>39731913.0</td>\n      <td>2592</td>\n      <td>15329.0</td>\n    </tr>\n    <tr>\n      <th>10</th>\n      <td>Detroit Tigers</td>\n      <td>39444074.0</td>\n      <td>2591</td>\n      <td>15223.0</td>\n    </tr>\n    <tr>\n      <th>1</th>\n      <td>Arizona Diamondbacks</td>\n      <td>37946488.0</td>\n      <td>2592</td>\n      <td>14640.0</td>\n    </tr>\n    <tr>\n      <th>25</th>\n      <td>San Diego Padres</td>\n      <td>37885083.0</td>\n      <td>2593</td>\n      <td>14611.0</td>\n    </tr>\n    <tr>\n      <th>3</th>\n      <td>Baltimore Orioles</td>\n      <td>37766746.0</td>\n      <td>2592</td>\n      <td>14571.0</td>\n    </tr>\n    <tr>\n      <th>33</th>\n      <td>Washington Nationals</td>\n      <td>24957479.0</td>\n      <td>1780</td>\n      <td>14021.0</td>\n    </tr>\n    <tr>\n      <th>18</th>\n      <td>Minnesota Twins</td>\n      <td>36016389.0</td>\n      <td>2593</td>\n      <td>13890.0</td>\n    </tr>\n    <tr>\n      <th>7</th>\n      <td>Cincinnati Reds</td>\n      <td>34950170.0</td>\n      <td>2594</td>\n      <td>13473.0</td>\n    </tr>\n    <tr>\n      <th>6</th>\n      <td>Chicago White Sox</td>\n      <td>33366890.0</td>\n      <td>2593</td>\n      <td>12868.0</td>\n    </tr>\n    <tr>\n      <th>32</th>\n      <td>Toronto Blue Jays</td>\n      <td>33162614.0</td>\n      <td>2591</td>\n      <td>12799.0</td>\n    </tr>\n    <tr>\n      <th>8</th>\n      <td>Cleveland Indians</td>\n      <td>32255283.0</td>\n      <td>2591</td>\n      <td>12449.0</td>\n    </tr>\n    <tr>\n      <th>24</th>\n      <td>Pittsburgh Pirates</td>\n      <td>30674181.0</td>\n      <td>2589</td>\n      <td>11848.0</td>\n    </tr>\n    <tr>\n      <th>22</th>\n      <td>Oakland Athletics</td>\n      <td>29561870.0</td>\n      <td>2590</td>\n      <td>11414.0</td>\n    </tr>\n    <tr>\n      <th>16</th>\n      <td>Miami Marlins</td>\n      <td>7290284.0</td>\n      <td>648</td>\n      <td>11250.0</td>\n    </tr>\n    <tr>\n      <th>13</th>\n      <td>Kansas City Royals</td>\n      <td>27098544.0</td>\n      <td>2592</td>\n      <td>10455.0</td>\n    </tr>\n    <tr>\n      <th>30</th>\n      <td>Tampa Bay Rays</td>\n      <td>12863080.0</td>\n      <td>1297</td>\n      <td>9918.0</td>\n    </tr>\n    <tr>\n      <th>11</th>\n      <td>Florida Marlins</td>\n      <td>16518116.0</td>\n      <td>1942</td>\n      <td>8506.0</td>\n    </tr>\n    <tr>\n      <th>29</th>\n      <td>Tampa Bay Devil Rays</td>\n      <td>10045608.0</td>\n      <td>1293</td>\n      <td>7769.0</td>\n    </tr>\n    <tr>\n      <th>19</th>\n      <td>Montreal Expos</td>\n      <td>4156251.0</td>\n      <td>810</td>\n      <td>5131.0</td>\n    </tr>\n  </tbody>\n</table>\n</div>"
     },
     "execution_count": 172,
     "metadata": {},
     "output_type": "execute_result"
    }
   ],
   "source": [
    "#6\n",
    "filtered_df = team[team['year']>=2000].groupby('name')[['attendance', 'g']].sum().reset_index()\n",
    "filtered_df['avg_attendance_per_game'] = round(filtered_df['attendance'] / filtered_df['g'])\n",
    "result_df = filtered_df.sort_values(by='avg_attendance_per_game', ascending=False)\n",
    "result_df\n",
    "\n"
   ],
   "metadata": {
    "collapsed": false,
    "ExecuteTime": {
     "end_time": "2023-11-03T16:37:26.704347500Z",
     "start_time": "2023-11-03T16:37:26.670139600Z"
    }
   }
  },
  {
   "cell_type": "code",
   "execution_count": 175,
   "outputs": [
    {
     "data": {
      "text/plain": "    player_id name_first  award_id\n0   alexape01       Pete         3\n11  johnswa01     Walter         3\n14  koufasa01      Sandy         3\n6   gomezle01      Lefty         2\n8   grovele01      Lefty         2\n4   clemero02      Roger         2\n16  mathech01    Christy         2\n3   clarkjo01       John         1\n18  peavyja01       Jake         1\n26  waltebu01      Bucky         1",
      "text/html": "<div>\n<style scoped>\n    .dataframe tbody tr th:only-of-type {\n        vertical-align: middle;\n    }\n\n    .dataframe tbody tr th {\n        vertical-align: top;\n    }\n\n    .dataframe thead th {\n        text-align: right;\n    }\n</style>\n<table border=\"1\" class=\"dataframe\">\n  <thead>\n    <tr style=\"text-align: right;\">\n      <th></th>\n      <th>player_id</th>\n      <th>name_first</th>\n      <th>award_id</th>\n    </tr>\n  </thead>\n  <tbody>\n    <tr>\n      <th>0</th>\n      <td>alexape01</td>\n      <td>Pete</td>\n      <td>3</td>\n    </tr>\n    <tr>\n      <th>11</th>\n      <td>johnswa01</td>\n      <td>Walter</td>\n      <td>3</td>\n    </tr>\n    <tr>\n      <th>14</th>\n      <td>koufasa01</td>\n      <td>Sandy</td>\n      <td>3</td>\n    </tr>\n    <tr>\n      <th>6</th>\n      <td>gomezle01</td>\n      <td>Lefty</td>\n      <td>2</td>\n    </tr>\n    <tr>\n      <th>8</th>\n      <td>grovele01</td>\n      <td>Lefty</td>\n      <td>2</td>\n    </tr>\n    <tr>\n      <th>4</th>\n      <td>clemero02</td>\n      <td>Roger</td>\n      <td>2</td>\n    </tr>\n    <tr>\n      <th>16</th>\n      <td>mathech01</td>\n      <td>Christy</td>\n      <td>2</td>\n    </tr>\n    <tr>\n      <th>3</th>\n      <td>clarkjo01</td>\n      <td>John</td>\n      <td>1</td>\n    </tr>\n    <tr>\n      <th>18</th>\n      <td>peavyja01</td>\n      <td>Jake</td>\n      <td>1</td>\n    </tr>\n    <tr>\n      <th>26</th>\n      <td>waltebu01</td>\n      <td>Bucky</td>\n      <td>1</td>\n    </tr>\n  </tbody>\n</table>\n</div>"
     },
     "execution_count": 175,
     "metadata": {},
     "output_type": "execute_result"
    }
   ],
   "source": [
    "#7\n",
    "merged_df = pd.merge(player, player_award, on = 'player_id')\n",
    "filtered_df = merged_df[merged_df['award_id']=='Pitching Triple Crown']\n",
    "grouped_df = filtered_df.groupby(['player_id', 'name_first']).award_id.count().reset_index().sort_values(by='award_id', ascending=False).head(10)\n",
    "grouped_df"
   ],
   "metadata": {
    "collapsed": false,
    "ExecuteTime": {
     "end_time": "2023-11-03T16:49:47.821167200Z",
     "start_time": "2023-11-03T16:49:47.786101900Z"
    }
   }
  },
  {
   "cell_type": "code",
   "execution_count": 220,
   "outputs": [
    {
     "ename": "KeyError",
     "evalue": "'year'",
     "output_type": "error",
     "traceback": [
      "\u001B[1;31m---------------------------------------------------------------------------\u001B[0m",
      "\u001B[1;31mKeyError\u001B[0m                                  Traceback (most recent call last)",
      "File \u001B[1;32m~\\AppData\\Local\\Programs\\Python\\Python39\\lib\\site-packages\\pandas\\core\\indexes\\base.py:3790\u001B[0m, in \u001B[0;36mIndex.get_loc\u001B[1;34m(self, key)\u001B[0m\n\u001B[0;32m   3789\u001B[0m \u001B[38;5;28;01mtry\u001B[39;00m:\n\u001B[1;32m-> 3790\u001B[0m     \u001B[38;5;28;01mreturn\u001B[39;00m \u001B[38;5;28;43mself\u001B[39;49m\u001B[38;5;241;43m.\u001B[39;49m\u001B[43m_engine\u001B[49m\u001B[38;5;241;43m.\u001B[39;49m\u001B[43mget_loc\u001B[49m\u001B[43m(\u001B[49m\u001B[43mcasted_key\u001B[49m\u001B[43m)\u001B[49m\n\u001B[0;32m   3791\u001B[0m \u001B[38;5;28;01mexcept\u001B[39;00m \u001B[38;5;167;01mKeyError\u001B[39;00m \u001B[38;5;28;01mas\u001B[39;00m err:\n",
      "File \u001B[1;32mindex.pyx:152\u001B[0m, in \u001B[0;36mpandas._libs.index.IndexEngine.get_loc\u001B[1;34m()\u001B[0m\n",
      "File \u001B[1;32mindex.pyx:181\u001B[0m, in \u001B[0;36mpandas._libs.index.IndexEngine.get_loc\u001B[1;34m()\u001B[0m\n",
      "File \u001B[1;32mpandas\\_libs\\hashtable_class_helper.pxi:7080\u001B[0m, in \u001B[0;36mpandas._libs.hashtable.PyObjectHashTable.get_item\u001B[1;34m()\u001B[0m\n",
      "File \u001B[1;32mpandas\\_libs\\hashtable_class_helper.pxi:7088\u001B[0m, in \u001B[0;36mpandas._libs.hashtable.PyObjectHashTable.get_item\u001B[1;34m()\u001B[0m\n",
      "\u001B[1;31mKeyError\u001B[0m: 'year'",
      "\nThe above exception was the direct cause of the following exception:\n",
      "\u001B[1;31mKeyError\u001B[0m                                  Traceback (most recent call last)",
      "Cell \u001B[1;32mIn[220], line 3\u001B[0m\n\u001B[0;32m      1\u001B[0m \u001B[38;5;66;03m#11- por alguna razon me da error en year\u001B[39;00m\n\u001B[0;32m      2\u001B[0m merged_df \u001B[38;5;241m=\u001B[39m pd\u001B[38;5;241m.\u001B[39mmerge(salary, fielding, on \u001B[38;5;241m=\u001B[39m \u001B[38;5;124m'\u001B[39m\u001B[38;5;124mplayer_id\u001B[39m\u001B[38;5;124m'\u001B[39m)\n\u001B[1;32m----> 3\u001B[0m filtered_df \u001B[38;5;241m=\u001B[39m merged_df[\u001B[43mmerged_df\u001B[49m\u001B[43m[\u001B[49m\u001B[38;5;124;43m'\u001B[39;49m\u001B[38;5;124;43myear\u001B[39;49m\u001B[38;5;124;43m'\u001B[39;49m\u001B[43m]\u001B[49m\u001B[38;5;241m>\u001B[39m\u001B[38;5;241m=\u001B[39m\u001B[38;5;241m2000\u001B[39m]\u001B[38;5;241m.\u001B[39mgroupby(\u001B[38;5;124m'\u001B[39m\u001B[38;5;124mpos\u001B[39m\u001B[38;5;124m'\u001B[39m)[\u001B[38;5;124m'\u001B[39m\u001B[38;5;124msalary\u001B[39m\u001B[38;5;124m'\u001B[39m]\u001B[38;5;241m.\u001B[39mmean()\u001B[38;5;241m.\u001B[39mreset_index()\n\u001B[0;32m      4\u001B[0m ordered_df \u001B[38;5;241m=\u001B[39m filtered_df\u001B[38;5;241m.\u001B[39msort_values(by\u001B[38;5;241m=\u001B[39m\u001B[38;5;124m'\u001B[39m\u001B[38;5;124msalary\u001B[39m\u001B[38;5;124m'\u001B[39m, ascending\u001B[38;5;241m=\u001B[39m\u001B[38;5;28;01mFalse\u001B[39;00m)\n\u001B[0;32m      5\u001B[0m ordered_df\n",
      "File \u001B[1;32m~\\AppData\\Local\\Programs\\Python\\Python39\\lib\\site-packages\\pandas\\core\\frame.py:3896\u001B[0m, in \u001B[0;36mDataFrame.__getitem__\u001B[1;34m(self, key)\u001B[0m\n\u001B[0;32m   3894\u001B[0m \u001B[38;5;28;01mif\u001B[39;00m \u001B[38;5;28mself\u001B[39m\u001B[38;5;241m.\u001B[39mcolumns\u001B[38;5;241m.\u001B[39mnlevels \u001B[38;5;241m>\u001B[39m \u001B[38;5;241m1\u001B[39m:\n\u001B[0;32m   3895\u001B[0m     \u001B[38;5;28;01mreturn\u001B[39;00m \u001B[38;5;28mself\u001B[39m\u001B[38;5;241m.\u001B[39m_getitem_multilevel(key)\n\u001B[1;32m-> 3896\u001B[0m indexer \u001B[38;5;241m=\u001B[39m \u001B[38;5;28;43mself\u001B[39;49m\u001B[38;5;241;43m.\u001B[39;49m\u001B[43mcolumns\u001B[49m\u001B[38;5;241;43m.\u001B[39;49m\u001B[43mget_loc\u001B[49m\u001B[43m(\u001B[49m\u001B[43mkey\u001B[49m\u001B[43m)\u001B[49m\n\u001B[0;32m   3897\u001B[0m \u001B[38;5;28;01mif\u001B[39;00m is_integer(indexer):\n\u001B[0;32m   3898\u001B[0m     indexer \u001B[38;5;241m=\u001B[39m [indexer]\n",
      "File \u001B[1;32m~\\AppData\\Local\\Programs\\Python\\Python39\\lib\\site-packages\\pandas\\core\\indexes\\base.py:3797\u001B[0m, in \u001B[0;36mIndex.get_loc\u001B[1;34m(self, key)\u001B[0m\n\u001B[0;32m   3792\u001B[0m     \u001B[38;5;28;01mif\u001B[39;00m \u001B[38;5;28misinstance\u001B[39m(casted_key, \u001B[38;5;28mslice\u001B[39m) \u001B[38;5;129;01mor\u001B[39;00m (\n\u001B[0;32m   3793\u001B[0m         \u001B[38;5;28misinstance\u001B[39m(casted_key, abc\u001B[38;5;241m.\u001B[39mIterable)\n\u001B[0;32m   3794\u001B[0m         \u001B[38;5;129;01mand\u001B[39;00m \u001B[38;5;28many\u001B[39m(\u001B[38;5;28misinstance\u001B[39m(x, \u001B[38;5;28mslice\u001B[39m) \u001B[38;5;28;01mfor\u001B[39;00m x \u001B[38;5;129;01min\u001B[39;00m casted_key)\n\u001B[0;32m   3795\u001B[0m     ):\n\u001B[0;32m   3796\u001B[0m         \u001B[38;5;28;01mraise\u001B[39;00m InvalidIndexError(key)\n\u001B[1;32m-> 3797\u001B[0m     \u001B[38;5;28;01mraise\u001B[39;00m \u001B[38;5;167;01mKeyError\u001B[39;00m(key) \u001B[38;5;28;01mfrom\u001B[39;00m \u001B[38;5;21;01merr\u001B[39;00m\n\u001B[0;32m   3798\u001B[0m \u001B[38;5;28;01mexcept\u001B[39;00m \u001B[38;5;167;01mTypeError\u001B[39;00m:\n\u001B[0;32m   3799\u001B[0m     \u001B[38;5;66;03m# If we have a listlike key, _check_indexing_error will raise\u001B[39;00m\n\u001B[0;32m   3800\u001B[0m     \u001B[38;5;66;03m#  InvalidIndexError. Otherwise we fall through and re-raise\u001B[39;00m\n\u001B[0;32m   3801\u001B[0m     \u001B[38;5;66;03m#  the TypeError.\u001B[39;00m\n\u001B[0;32m   3802\u001B[0m     \u001B[38;5;28mself\u001B[39m\u001B[38;5;241m.\u001B[39m_check_indexing_error(key)\n",
      "\u001B[1;31mKeyError\u001B[0m: 'year'"
     ]
    }
   ],
   "source": [
    "#11- por alguna razon me da error en year\n",
    "merged_df = pd.merge(salary, fielding, on = 'player_id')\n",
    "filtered_df = merged_df[merged_df['year']>=2000].groupby('pos')['salary'].mean().reset_index()\n",
    "ordered_df = filtered_df.sort_values(by='salary', ascending=False)\n",
    "ordered_df\n"
   ],
   "metadata": {
    "collapsed": false,
    "ExecuteTime": {
     "end_time": "2023-11-05T12:49:26.852850500Z",
     "start_time": "2023-11-05T12:49:26.271358500Z"
    }
   }
  },
  {
   "cell_type": "code",
   "execution_count": 219,
   "outputs": [
    {
     "data": {
      "text/plain": "    decade  avg_so_per_game\n14    2010         7.435889\n13    2000         6.561033\n12    1990         6.150827\n11    1980         5.342615\n10    1970         5.144959\n9     1960         5.712727\n8     1950         4.399437\n7     1940         3.550000\n6     1930         3.316375\n5     1920         2.814437\n4     1910         3.609671\n3     1900         3.197857\n2     1890         2.657971\n1     1880         3.718805\n0     1870         1.027051",
      "text/html": "<div>\n<style scoped>\n    .dataframe tbody tr th:only-of-type {\n        vertical-align: middle;\n    }\n\n    .dataframe tbody tr th {\n        vertical-align: top;\n    }\n\n    .dataframe thead th {\n        text-align: right;\n    }\n</style>\n<table border=\"1\" class=\"dataframe\">\n  <thead>\n    <tr style=\"text-align: right;\">\n      <th></th>\n      <th>decade</th>\n      <th>avg_so_per_game</th>\n    </tr>\n  </thead>\n  <tbody>\n    <tr>\n      <th>14</th>\n      <td>2010</td>\n      <td>7.435889</td>\n    </tr>\n    <tr>\n      <th>13</th>\n      <td>2000</td>\n      <td>6.561033</td>\n    </tr>\n    <tr>\n      <th>12</th>\n      <td>1990</td>\n      <td>6.150827</td>\n    </tr>\n    <tr>\n      <th>11</th>\n      <td>1980</td>\n      <td>5.342615</td>\n    </tr>\n    <tr>\n      <th>10</th>\n      <td>1970</td>\n      <td>5.144959</td>\n    </tr>\n    <tr>\n      <th>9</th>\n      <td>1960</td>\n      <td>5.712727</td>\n    </tr>\n    <tr>\n      <th>8</th>\n      <td>1950</td>\n      <td>4.399437</td>\n    </tr>\n    <tr>\n      <th>7</th>\n      <td>1940</td>\n      <td>3.550000</td>\n    </tr>\n    <tr>\n      <th>6</th>\n      <td>1930</td>\n      <td>3.316375</td>\n    </tr>\n    <tr>\n      <th>5</th>\n      <td>1920</td>\n      <td>2.814437</td>\n    </tr>\n    <tr>\n      <th>4</th>\n      <td>1910</td>\n      <td>3.609671</td>\n    </tr>\n    <tr>\n      <th>3</th>\n      <td>1900</td>\n      <td>3.197857</td>\n    </tr>\n    <tr>\n      <th>2</th>\n      <td>1890</td>\n      <td>2.657971</td>\n    </tr>\n    <tr>\n      <th>1</th>\n      <td>1880</td>\n      <td>3.718805</td>\n    </tr>\n    <tr>\n      <th>0</th>\n      <td>1870</td>\n      <td>1.027051</td>\n    </tr>\n  </tbody>\n</table>\n</div>"
     },
     "execution_count": 219,
     "metadata": {},
     "output_type": "execute_result"
    }
   ],
   "source": [
    "#13\n",
    "team['decade'] = (team.year // 10) * 10\n",
    "team['avg_so_per_game'] = (team.so / team.g).round(2)\n",
    "grouped_df = team.groupby('decade').avg_so_per_game.mean().reset_index()\n",
    "ordered_df = grouped_df.sort_values(by='decade', ascending=False)\n",
    "ordered_df\n",
    "              \n",
    "              \n",
    "\n",
    "\n",
    "\n",
    "\n",
    "\n"
   ],
   "metadata": {
    "collapsed": false,
    "ExecuteTime": {
     "end_time": "2023-11-05T12:48:05.037672200Z",
     "start_time": "2023-11-05T12:48:04.998238Z"
    }
   }
  },
  {
   "cell_type": "code",
   "execution_count": 221,
   "outputs": [
    {
     "data": {
      "text/plain": "    decade  avg_hr_per_game\n14    2010         0.955328\n13    2000         1.073370\n12    1990         0.960288\n11    1980         0.804019\n10    1970         0.745614\n9     1960         0.820222\n8     1950         0.843019\n7     1940         0.523094\n6     1930         0.545725\n5     1920         0.401719\n4     1910         0.169602\n3     1900         0.138461\n2     1890         0.253072\n1     1880         0.202358\n0     1870         0.086295",
      "text/html": "<div>\n<style scoped>\n    .dataframe tbody tr th:only-of-type {\n        vertical-align: middle;\n    }\n\n    .dataframe tbody tr th {\n        vertical-align: top;\n    }\n\n    .dataframe thead th {\n        text-align: right;\n    }\n</style>\n<table border=\"1\" class=\"dataframe\">\n  <thead>\n    <tr style=\"text-align: right;\">\n      <th></th>\n      <th>decade</th>\n      <th>avg_hr_per_game</th>\n    </tr>\n  </thead>\n  <tbody>\n    <tr>\n      <th>14</th>\n      <td>2010</td>\n      <td>0.955328</td>\n    </tr>\n    <tr>\n      <th>13</th>\n      <td>2000</td>\n      <td>1.073370</td>\n    </tr>\n    <tr>\n      <th>12</th>\n      <td>1990</td>\n      <td>0.960288</td>\n    </tr>\n    <tr>\n      <th>11</th>\n      <td>1980</td>\n      <td>0.804019</td>\n    </tr>\n    <tr>\n      <th>10</th>\n      <td>1970</td>\n      <td>0.745614</td>\n    </tr>\n    <tr>\n      <th>9</th>\n      <td>1960</td>\n      <td>0.820222</td>\n    </tr>\n    <tr>\n      <th>8</th>\n      <td>1950</td>\n      <td>0.843019</td>\n    </tr>\n    <tr>\n      <th>7</th>\n      <td>1940</td>\n      <td>0.523094</td>\n    </tr>\n    <tr>\n      <th>6</th>\n      <td>1930</td>\n      <td>0.545725</td>\n    </tr>\n    <tr>\n      <th>5</th>\n      <td>1920</td>\n      <td>0.401719</td>\n    </tr>\n    <tr>\n      <th>4</th>\n      <td>1910</td>\n      <td>0.169602</td>\n    </tr>\n    <tr>\n      <th>3</th>\n      <td>1900</td>\n      <td>0.138461</td>\n    </tr>\n    <tr>\n      <th>2</th>\n      <td>1890</td>\n      <td>0.253072</td>\n    </tr>\n    <tr>\n      <th>1</th>\n      <td>1880</td>\n      <td>0.202358</td>\n    </tr>\n    <tr>\n      <th>0</th>\n      <td>1870</td>\n      <td>0.086295</td>\n    </tr>\n  </tbody>\n</table>\n</div>"
     },
     "execution_count": 221,
     "metadata": {},
     "output_type": "execute_result"
    }
   ],
   "source": [
    "#14\n",
    "team['decade'] = (team.year // 10) * 10\n",
    "team['avg_hr_per_game'] = (team.hr / team.g).round(3)\n",
    "grouped_df = team.groupby('decade').avg_hr_per_game.mean().reset_index()\n",
    "ordered_df = grouped_df.sort_values(by='decade', ascending=False)\n",
    "ordered_df"
   ],
   "metadata": {
    "collapsed": false,
    "ExecuteTime": {
     "end_time": "2023-11-05T12:53:16.560678Z",
     "start_time": "2023-11-05T12:53:16.483175400Z"
    }
   }
  },
  {
   "cell_type": "code",
   "execution_count": 240,
   "outputs": [
    {
     "data": {
      "text/plain": "                      name    g    w  winning_percentage  year\n390       Seattle Mariners  162  116               71.60  2001\n404    St. Louis Cardinals  162  105               64.81  2004\n286       New York Yankees  161  103               63.98  2002\n314      Oakland Athletics  162  103               63.58  2002\n329  Philadelphia Phillies  162  102               62.96  2011",
      "text/html": "<div>\n<style scoped>\n    .dataframe tbody tr th:only-of-type {\n        vertical-align: middle;\n    }\n\n    .dataframe tbody tr th {\n        vertical-align: top;\n    }\n\n    .dataframe thead th {\n        text-align: right;\n    }\n</style>\n<table border=\"1\" class=\"dataframe\">\n  <thead>\n    <tr style=\"text-align: right;\">\n      <th></th>\n      <th>name</th>\n      <th>g</th>\n      <th>w</th>\n      <th>winning_percentage</th>\n      <th>year</th>\n    </tr>\n  </thead>\n  <tbody>\n    <tr>\n      <th>390</th>\n      <td>Seattle Mariners</td>\n      <td>162</td>\n      <td>116</td>\n      <td>71.60</td>\n      <td>2001</td>\n    </tr>\n    <tr>\n      <th>404</th>\n      <td>St. Louis Cardinals</td>\n      <td>162</td>\n      <td>105</td>\n      <td>64.81</td>\n      <td>2004</td>\n    </tr>\n    <tr>\n      <th>286</th>\n      <td>New York Yankees</td>\n      <td>161</td>\n      <td>103</td>\n      <td>63.98</td>\n      <td>2002</td>\n    </tr>\n    <tr>\n      <th>314</th>\n      <td>Oakland Athletics</td>\n      <td>162</td>\n      <td>103</td>\n      <td>63.58</td>\n      <td>2002</td>\n    </tr>\n    <tr>\n      <th>329</th>\n      <td>Philadelphia Phillies</td>\n      <td>162</td>\n      <td>102</td>\n      <td>62.96</td>\n      <td>2011</td>\n    </tr>\n  </tbody>\n</table>\n</div>"
     },
     "execution_count": 240,
     "metadata": {},
     "output_type": "execute_result"
    }
   ],
   "source": [
    "#15\n",
    "team['winning_percentage'] = ((team.w / team.g)*100).round(2)\n",
    "filtered_df = team[(team['ws_win']== 'N') & (team['year']>=2000)]\n",
    "grouped_df = filtered_df.groupby(['name', 'g', 'w', 'winning_percentage', 'year']).first().reset_index()\n",
    "ordered_df = grouped_df.sort_values(by='winning_percentage', ascending=False).head(5)\n",
    "ordered_df = ordered_df[['name', 'g', 'w', 'winning_percentage', 'year']]\n",
    "ordered_df"
   ],
   "metadata": {
    "collapsed": false,
    "ExecuteTime": {
     "end_time": "2023-11-05T13:18:36.780016700Z",
     "start_time": "2023-11-05T13:18:36.720765700Z"
    }
   }
  },
  {
   "cell_type": "code",
   "execution_count": 236,
   "outputs": [
    {
     "ename": "KeyError",
     "evalue": "\"None of [Index(['winning_percentage', 'g', 'w', 'year'], dtype='object')] are in the [columns]\"",
     "output_type": "error",
     "traceback": [
      "\u001B[1;31m---------------------------------------------------------------------------\u001B[0m",
      "\u001B[1;31mKeyError\u001B[0m                                  Traceback (most recent call last)",
      "Cell \u001B[1;32mIn[236], line 7\u001B[0m\n\u001B[0;32m      4\u001B[0m ordered_df \u001B[38;5;241m=\u001B[39m grouped_df\u001B[38;5;241m.\u001B[39msort_values(by\u001B[38;5;241m=\u001B[39m\u001B[38;5;124m'\u001B[39m\u001B[38;5;124mwinning_percentage\u001B[39m\u001B[38;5;124m'\u001B[39m, ascending\u001B[38;5;241m=\u001B[39m\u001B[38;5;28;01mFalse\u001B[39;00m)\u001B[38;5;241m.\u001B[39mhead(\u001B[38;5;241m5\u001B[39m)\n\u001B[0;32m      6\u001B[0m \u001B[38;5;66;03m# Select specific columns from the DataFrame\u001B[39;00m\n\u001B[1;32m----> 7\u001B[0m selected_columns \u001B[38;5;241m=\u001B[39m \u001B[43mordered_df\u001B[49m\u001B[43m[\u001B[49m\u001B[43m[\u001B[49m\u001B[38;5;124;43m'\u001B[39;49m\u001B[38;5;124;43mwinning_percentage\u001B[39;49m\u001B[38;5;124;43m'\u001B[39;49m\u001B[43m,\u001B[49m\u001B[43m \u001B[49m\u001B[38;5;124;43m'\u001B[39;49m\u001B[38;5;124;43mg\u001B[39;49m\u001B[38;5;124;43m'\u001B[39;49m\u001B[43m,\u001B[49m\u001B[43m \u001B[49m\u001B[38;5;124;43m'\u001B[39;49m\u001B[38;5;124;43mw\u001B[39;49m\u001B[38;5;124;43m'\u001B[39;49m\u001B[43m,\u001B[49m\u001B[43m \u001B[49m\u001B[38;5;124;43m'\u001B[39;49m\u001B[38;5;124;43myear\u001B[39;49m\u001B[38;5;124;43m'\u001B[39;49m\u001B[43m]\u001B[49m\u001B[43m]\u001B[49m\n\u001B[0;32m      9\u001B[0m \u001B[38;5;28mprint\u001B[39m(selected_columns)\n",
      "File \u001B[1;32m~\\AppData\\Local\\Programs\\Python\\Python39\\lib\\site-packages\\pandas\\core\\frame.py:3902\u001B[0m, in \u001B[0;36mDataFrame.__getitem__\u001B[1;34m(self, key)\u001B[0m\n\u001B[0;32m   3900\u001B[0m     \u001B[38;5;28;01mif\u001B[39;00m is_iterator(key):\n\u001B[0;32m   3901\u001B[0m         key \u001B[38;5;241m=\u001B[39m \u001B[38;5;28mlist\u001B[39m(key)\n\u001B[1;32m-> 3902\u001B[0m     indexer \u001B[38;5;241m=\u001B[39m \u001B[38;5;28;43mself\u001B[39;49m\u001B[38;5;241;43m.\u001B[39;49m\u001B[43mcolumns\u001B[49m\u001B[38;5;241;43m.\u001B[39;49m\u001B[43m_get_indexer_strict\u001B[49m\u001B[43m(\u001B[49m\u001B[43mkey\u001B[49m\u001B[43m,\u001B[49m\u001B[43m \u001B[49m\u001B[38;5;124;43m\"\u001B[39;49m\u001B[38;5;124;43mcolumns\u001B[39;49m\u001B[38;5;124;43m\"\u001B[39;49m\u001B[43m)\u001B[49m[\u001B[38;5;241m1\u001B[39m]\n\u001B[0;32m   3904\u001B[0m \u001B[38;5;66;03m# take() does not accept boolean indexers\u001B[39;00m\n\u001B[0;32m   3905\u001B[0m \u001B[38;5;28;01mif\u001B[39;00m \u001B[38;5;28mgetattr\u001B[39m(indexer, \u001B[38;5;124m\"\u001B[39m\u001B[38;5;124mdtype\u001B[39m\u001B[38;5;124m\"\u001B[39m, \u001B[38;5;28;01mNone\u001B[39;00m) \u001B[38;5;241m==\u001B[39m \u001B[38;5;28mbool\u001B[39m:\n",
      "File \u001B[1;32m~\\AppData\\Local\\Programs\\Python\\Python39\\lib\\site-packages\\pandas\\core\\indexes\\base.py:6114\u001B[0m, in \u001B[0;36mIndex._get_indexer_strict\u001B[1;34m(self, key, axis_name)\u001B[0m\n\u001B[0;32m   6111\u001B[0m \u001B[38;5;28;01melse\u001B[39;00m:\n\u001B[0;32m   6112\u001B[0m     keyarr, indexer, new_indexer \u001B[38;5;241m=\u001B[39m \u001B[38;5;28mself\u001B[39m\u001B[38;5;241m.\u001B[39m_reindex_non_unique(keyarr)\n\u001B[1;32m-> 6114\u001B[0m \u001B[38;5;28;43mself\u001B[39;49m\u001B[38;5;241;43m.\u001B[39;49m\u001B[43m_raise_if_missing\u001B[49m\u001B[43m(\u001B[49m\u001B[43mkeyarr\u001B[49m\u001B[43m,\u001B[49m\u001B[43m \u001B[49m\u001B[43mindexer\u001B[49m\u001B[43m,\u001B[49m\u001B[43m \u001B[49m\u001B[43maxis_name\u001B[49m\u001B[43m)\u001B[49m\n\u001B[0;32m   6116\u001B[0m keyarr \u001B[38;5;241m=\u001B[39m \u001B[38;5;28mself\u001B[39m\u001B[38;5;241m.\u001B[39mtake(indexer)\n\u001B[0;32m   6117\u001B[0m \u001B[38;5;28;01mif\u001B[39;00m \u001B[38;5;28misinstance\u001B[39m(key, Index):\n\u001B[0;32m   6118\u001B[0m     \u001B[38;5;66;03m# GH 42790 - Preserve name from an Index\u001B[39;00m\n",
      "File \u001B[1;32m~\\AppData\\Local\\Programs\\Python\\Python39\\lib\\site-packages\\pandas\\core\\indexes\\base.py:6175\u001B[0m, in \u001B[0;36mIndex._raise_if_missing\u001B[1;34m(self, key, indexer, axis_name)\u001B[0m\n\u001B[0;32m   6173\u001B[0m     \u001B[38;5;28;01mif\u001B[39;00m use_interval_msg:\n\u001B[0;32m   6174\u001B[0m         key \u001B[38;5;241m=\u001B[39m \u001B[38;5;28mlist\u001B[39m(key)\n\u001B[1;32m-> 6175\u001B[0m     \u001B[38;5;28;01mraise\u001B[39;00m \u001B[38;5;167;01mKeyError\u001B[39;00m(\u001B[38;5;124mf\u001B[39m\u001B[38;5;124m\"\u001B[39m\u001B[38;5;124mNone of [\u001B[39m\u001B[38;5;132;01m{\u001B[39;00mkey\u001B[38;5;132;01m}\u001B[39;00m\u001B[38;5;124m] are in the [\u001B[39m\u001B[38;5;132;01m{\u001B[39;00maxis_name\u001B[38;5;132;01m}\u001B[39;00m\u001B[38;5;124m]\u001B[39m\u001B[38;5;124m\"\u001B[39m)\n\u001B[0;32m   6177\u001B[0m not_found \u001B[38;5;241m=\u001B[39m \u001B[38;5;28mlist\u001B[39m(ensure_index(key)[missing_mask\u001B[38;5;241m.\u001B[39mnonzero()[\u001B[38;5;241m0\u001B[39m]]\u001B[38;5;241m.\u001B[39munique())\n\u001B[0;32m   6178\u001B[0m \u001B[38;5;28;01mraise\u001B[39;00m \u001B[38;5;167;01mKeyError\u001B[39;00m(\u001B[38;5;124mf\u001B[39m\u001B[38;5;124m\"\u001B[39m\u001B[38;5;132;01m{\u001B[39;00mnot_found\u001B[38;5;132;01m}\u001B[39;00m\u001B[38;5;124m not in index\u001B[39m\u001B[38;5;124m\"\u001B[39m)\n",
      "\u001B[1;31mKeyError\u001B[0m: \"None of [Index(['winning_percentage', 'g', 'w', 'year'], dtype='object')] are in the [columns]\""
     ]
    }
   ],
   "source": [
    "#16\n"
   ],
   "metadata": {
    "collapsed": false,
    "ExecuteTime": {
     "end_time": "2023-11-05T13:16:51.425374500Z",
     "start_time": "2023-11-05T13:16:51.360796800Z"
    }
   }
  },
  {
   "cell_type": "code",
   "execution_count": null,
   "outputs": [],
   "source": [],
   "metadata": {
    "collapsed": false
   }
  }
 ],
 "metadata": {
  "kernelspec": {
   "display_name": "Python 3",
   "language": "python",
   "name": "python3"
  },
  "language_info": {
   "codemirror_mode": {
    "name": "ipython",
    "version": 3
   },
   "file_extension": ".py",
   "mimetype": "text/x-python",
   "name": "python",
   "nbconvert_exporter": "python",
   "pygments_lexer": "ipython3",
   "version": "3.11.4"
  }
 },
 "nbformat": 4,
 "nbformat_minor": 2
}
