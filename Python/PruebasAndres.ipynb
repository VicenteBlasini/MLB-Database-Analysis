{
 "cells": [
  {
   "cell_type": "code",
   "execution_count": null,
   "metadata": {},
   "outputs": [],
   "source": [
    "import pandas as pd\n",
    "\n",
    "\n",
    "batting = pd.read_csv(\"../DATA/batting.csv\")\n",
    "fielding = pd.read_csv(\"../DATA/fielding.csv\")\n",
    "hall_of_fame = pd.read_csv(\"../DATA/hall_of_fame.csv\")\n",
    "player_award = pd.read_csv(\"../DATA/player_award.csv\")\n",
    "player = pd.read_csv(\"../DATA/player.csv\")\n",
    "salary = pd.read_csv(\"../DATA/salary.csv\")\n",
    "team = pd.read_csv(\"../DATA/team.csv\")\n",
    "\n",
    "table_files = [batting, fielding, hall_of_fame, player_award, player, salary, team]\n",
    "for file in table_files:\n",
    "    print(file.head(5))\n",
    "    \n",
    "    \n",
    "    \n",
    "    \n",
    "    "
   ]
  },
  {
   "cell_type": "code",
   "execution_count": null,
   "outputs": [],
   "source": [],
   "metadata": {
    "collapsed": false
   }
  },
  {
   "cell_type": "code",
   "execution_count": 79,
   "outputs": [
    {
     "data": {
      "text/plain": "       player_id     hr\n1476   bondsba01  762.0\n1      aaronha01  755.0\n14330   ruthba01  714.0\n14003  rodrial01  687.0\n10464   mayswi01  660.0\n6377   griffke02  630.0\n16396  thomeji01  612.0\n15526   sosasa01  609.0\n13962  robinfr02  586.0\n10745  mcgwima01  583.0\n8673   killeha01  573.0\n12510  palmera01  569.0\n7942   jacksre01  563.0\n13289  pujolal01  560.0\n13434  ramirma02  555.0\n14693  schmimi01  548.0\n10130  mantlmi01  536.0\n5377    foxxji01  534.0\n10590  mccovwi01  521.0\n17709  willite01  521.0\n16373  thomafr04  521.0\n10354  matheed01  512.0\n679    bankser01  512.0\n12419    ottme01  511.0\n15007  sheffga01  509.0",
      "text/html": "<div>\n<style scoped>\n    .dataframe tbody tr th:only-of-type {\n        vertical-align: middle;\n    }\n\n    .dataframe tbody tr th {\n        vertical-align: top;\n    }\n\n    .dataframe thead th {\n        text-align: right;\n    }\n</style>\n<table border=\"1\" class=\"dataframe\">\n  <thead>\n    <tr style=\"text-align: right;\">\n      <th></th>\n      <th>player_id</th>\n      <th>hr</th>\n    </tr>\n  </thead>\n  <tbody>\n    <tr>\n      <th>1476</th>\n      <td>bondsba01</td>\n      <td>762.0</td>\n    </tr>\n    <tr>\n      <th>1</th>\n      <td>aaronha01</td>\n      <td>755.0</td>\n    </tr>\n    <tr>\n      <th>14330</th>\n      <td>ruthba01</td>\n      <td>714.0</td>\n    </tr>\n    <tr>\n      <th>14003</th>\n      <td>rodrial01</td>\n      <td>687.0</td>\n    </tr>\n    <tr>\n      <th>10464</th>\n      <td>mayswi01</td>\n      <td>660.0</td>\n    </tr>\n    <tr>\n      <th>6377</th>\n      <td>griffke02</td>\n      <td>630.0</td>\n    </tr>\n    <tr>\n      <th>16396</th>\n      <td>thomeji01</td>\n      <td>612.0</td>\n    </tr>\n    <tr>\n      <th>15526</th>\n      <td>sosasa01</td>\n      <td>609.0</td>\n    </tr>\n    <tr>\n      <th>13962</th>\n      <td>robinfr02</td>\n      <td>586.0</td>\n    </tr>\n    <tr>\n      <th>10745</th>\n      <td>mcgwima01</td>\n      <td>583.0</td>\n    </tr>\n    <tr>\n      <th>8673</th>\n      <td>killeha01</td>\n      <td>573.0</td>\n    </tr>\n    <tr>\n      <th>12510</th>\n      <td>palmera01</td>\n      <td>569.0</td>\n    </tr>\n    <tr>\n      <th>7942</th>\n      <td>jacksre01</td>\n      <td>563.0</td>\n    </tr>\n    <tr>\n      <th>13289</th>\n      <td>pujolal01</td>\n      <td>560.0</td>\n    </tr>\n    <tr>\n      <th>13434</th>\n      <td>ramirma02</td>\n      <td>555.0</td>\n    </tr>\n    <tr>\n      <th>14693</th>\n      <td>schmimi01</td>\n      <td>548.0</td>\n    </tr>\n    <tr>\n      <th>10130</th>\n      <td>mantlmi01</td>\n      <td>536.0</td>\n    </tr>\n    <tr>\n      <th>5377</th>\n      <td>foxxji01</td>\n      <td>534.0</td>\n    </tr>\n    <tr>\n      <th>10590</th>\n      <td>mccovwi01</td>\n      <td>521.0</td>\n    </tr>\n    <tr>\n      <th>17709</th>\n      <td>willite01</td>\n      <td>521.0</td>\n    </tr>\n    <tr>\n      <th>16373</th>\n      <td>thomafr04</td>\n      <td>521.0</td>\n    </tr>\n    <tr>\n      <th>10354</th>\n      <td>matheed01</td>\n      <td>512.0</td>\n    </tr>\n    <tr>\n      <th>679</th>\n      <td>bankser01</td>\n      <td>512.0</td>\n    </tr>\n    <tr>\n      <th>12419</th>\n      <td>ottme01</td>\n      <td>511.0</td>\n    </tr>\n    <tr>\n      <th>15007</th>\n      <td>sheffga01</td>\n      <td>509.0</td>\n    </tr>\n  </tbody>\n</table>\n</div>"
     },
     "execution_count": 79,
     "metadata": {},
     "output_type": "execute_result"
    }
   ],
   "source": [
    "#1\n",
    "filtered_df = batting[batting['hr'].notnull()]\n",
    "grouped_df = filtered_df.groupby('player_id').hr.sum().reset_index()\n",
    "result = grouped_df.sort_values(by = 'hr', ascending = False).head(25)\n",
    "result"
   ],
   "metadata": {
    "collapsed": false,
    "ExecuteTime": {
     "end_time": "2023-10-31T19:40:20.067975700Z",
     "start_time": "2023-10-31T19:40:19.995661700Z"
    }
   }
  },
  {
   "cell_type": "code",
   "execution_count": null,
   "outputs": [],
   "source": [],
   "metadata": {
    "collapsed": false
   }
  },
  {
   "cell_type": "code",
   "execution_count": 74,
   "outputs": [
    {
     "data": {
      "text/plain": "      player_id         full_name     hr\n1689  willite01      Ted Williams  521.0\n1732  yastrca01  Carl Yastrzemski  452.0\n1152  ortizda01       David Ortiz  445.0\n1292   riceji01          Jim Rice  382.0\n441   evansdw01      Dwight Evans  379.0\n1263  ramirma02     Manny Ramirez  274.0\n1609  vaughmo01         Mo Vaughn  230.0\n394   doerrbo01       Bobby Doerr  223.0\n487    foxxji01       Jimmie Foxx  222.0\n1209  petrori01   Rico Petrocelli  210.0",
      "text/html": "<div>\n<style scoped>\n    .dataframe tbody tr th:only-of-type {\n        vertical-align: middle;\n    }\n\n    .dataframe tbody tr th {\n        vertical-align: top;\n    }\n\n    .dataframe thead th {\n        text-align: right;\n    }\n</style>\n<table border=\"1\" class=\"dataframe\">\n  <thead>\n    <tr style=\"text-align: right;\">\n      <th></th>\n      <th>player_id</th>\n      <th>full_name</th>\n      <th>hr</th>\n    </tr>\n  </thead>\n  <tbody>\n    <tr>\n      <th>1689</th>\n      <td>willite01</td>\n      <td>Ted Williams</td>\n      <td>521.0</td>\n    </tr>\n    <tr>\n      <th>1732</th>\n      <td>yastrca01</td>\n      <td>Carl Yastrzemski</td>\n      <td>452.0</td>\n    </tr>\n    <tr>\n      <th>1152</th>\n      <td>ortizda01</td>\n      <td>David Ortiz</td>\n      <td>445.0</td>\n    </tr>\n    <tr>\n      <th>1292</th>\n      <td>riceji01</td>\n      <td>Jim Rice</td>\n      <td>382.0</td>\n    </tr>\n    <tr>\n      <th>441</th>\n      <td>evansdw01</td>\n      <td>Dwight Evans</td>\n      <td>379.0</td>\n    </tr>\n    <tr>\n      <th>1263</th>\n      <td>ramirma02</td>\n      <td>Manny Ramirez</td>\n      <td>274.0</td>\n    </tr>\n    <tr>\n      <th>1609</th>\n      <td>vaughmo01</td>\n      <td>Mo Vaughn</td>\n      <td>230.0</td>\n    </tr>\n    <tr>\n      <th>394</th>\n      <td>doerrbo01</td>\n      <td>Bobby Doerr</td>\n      <td>223.0</td>\n    </tr>\n    <tr>\n      <th>487</th>\n      <td>foxxji01</td>\n      <td>Jimmie Foxx</td>\n      <td>222.0</td>\n    </tr>\n    <tr>\n      <th>1209</th>\n      <td>petrori01</td>\n      <td>Rico Petrocelli</td>\n      <td>210.0</td>\n    </tr>\n  </tbody>\n</table>\n</div>"
     },
     "execution_count": 74,
     "metadata": {},
     "output_type": "execute_result"
    }
   ],
   "source": [
    "#2.\n",
    "merged_df1 = pd.merge(batting, player, on='player_id')\n",
    "filtered_df1 = merged_df1[merged_df1['team_id']== 'BOS']\n",
    "grouped_df1 = filtered_df1.groupby(['player_id', 'name_first', 'name_last']).hr.sum().reset_index()\n",
    "grouped_df1['full_name'] = grouped_df1['name_first'] + ' ' + grouped_df1['name_last']\n",
    "result_df = grouped_df[['player_id', 'full_name', 'hr']]\n",
    "result_df = result_df.sort_values(by='hr', ascending=False).head(10)\n",
    "result_df\n",
    "\n",
    "\n"
   ],
   "metadata": {
    "collapsed": false,
    "ExecuteTime": {
     "end_time": "2023-10-31T19:37:11.919155100Z",
     "start_time": "2023-10-31T19:37:11.724740100Z"
    }
   }
  },
  {
   "cell_type": "code",
   "execution_count": 78,
   "outputs": [
    {
     "data": {
      "text/plain": "      player_id name_first name_last    hr\n0     aardsda01      David   Aardsma   0.0\n1      aasedo01        Don      Aase   0.0\n2      abadan01       Andy      Abad   0.0\n3     aceveal01    Alfredo    Aceves   0.0\n4     adairje01      Jerry     Adair   5.0\n...         ...        ...       ...   ...\n1741  zauchno01       Norm   Zauchin  32.0\n1742  zeisema01       Matt    Zieser   0.0\n1743   zinkch01    Charlie      Zink   0.0\n1744  zuberbi01       Bill     Zuber   0.0\n1745  zupcibo01        Bob    Zupcic   6.0\n\n[1746 rows x 4 columns]",
      "text/html": "<div>\n<style scoped>\n    .dataframe tbody tr th:only-of-type {\n        vertical-align: middle;\n    }\n\n    .dataframe tbody tr th {\n        vertical-align: top;\n    }\n\n    .dataframe thead th {\n        text-align: right;\n    }\n</style>\n<table border=\"1\" class=\"dataframe\">\n  <thead>\n    <tr style=\"text-align: right;\">\n      <th></th>\n      <th>player_id</th>\n      <th>name_first</th>\n      <th>name_last</th>\n      <th>hr</th>\n    </tr>\n  </thead>\n  <tbody>\n    <tr>\n      <th>0</th>\n      <td>aardsda01</td>\n      <td>David</td>\n      <td>Aardsma</td>\n      <td>0.0</td>\n    </tr>\n    <tr>\n      <th>1</th>\n      <td>aasedo01</td>\n      <td>Don</td>\n      <td>Aase</td>\n      <td>0.0</td>\n    </tr>\n    <tr>\n      <th>2</th>\n      <td>abadan01</td>\n      <td>Andy</td>\n      <td>Abad</td>\n      <td>0.0</td>\n    </tr>\n    <tr>\n      <th>3</th>\n      <td>aceveal01</td>\n      <td>Alfredo</td>\n      <td>Aceves</td>\n      <td>0.0</td>\n    </tr>\n    <tr>\n      <th>4</th>\n      <td>adairje01</td>\n      <td>Jerry</td>\n      <td>Adair</td>\n      <td>5.0</td>\n    </tr>\n    <tr>\n      <th>...</th>\n      <td>...</td>\n      <td>...</td>\n      <td>...</td>\n      <td>...</td>\n    </tr>\n    <tr>\n      <th>1741</th>\n      <td>zauchno01</td>\n      <td>Norm</td>\n      <td>Zauchin</td>\n      <td>32.0</td>\n    </tr>\n    <tr>\n      <th>1742</th>\n      <td>zeisema01</td>\n      <td>Matt</td>\n      <td>Zieser</td>\n      <td>0.0</td>\n    </tr>\n    <tr>\n      <th>1743</th>\n      <td>zinkch01</td>\n      <td>Charlie</td>\n      <td>Zink</td>\n      <td>0.0</td>\n    </tr>\n    <tr>\n      <th>1744</th>\n      <td>zuberbi01</td>\n      <td>Bill</td>\n      <td>Zuber</td>\n      <td>0.0</td>\n    </tr>\n    <tr>\n      <th>1745</th>\n      <td>zupcibo01</td>\n      <td>Bob</td>\n      <td>Zupcic</td>\n      <td>6.0</td>\n    </tr>\n  </tbody>\n</table>\n<p>1746 rows × 4 columns</p>\n</div>"
     },
     "execution_count": 78,
     "metadata": {},
     "output_type": "execute_result"
    }
   ],
   "source": [],
   "metadata": {
    "collapsed": false,
    "ExecuteTime": {
     "end_time": "2023-10-31T19:38:46.321276700Z",
     "start_time": "2023-10-31T19:38:46.172314700Z"
    }
   }
  },
  {
   "cell_type": "code",
   "execution_count": null,
   "outputs": [],
   "source": [],
   "metadata": {
    "collapsed": false
   }
  },
  {
   "cell_type": "code",
   "execution_count": null,
   "outputs": [],
   "source": [],
   "metadata": {
    "collapsed": false
   }
  }
 ],
 "metadata": {
  "kernelspec": {
   "display_name": "Python 3",
   "language": "python",
   "name": "python3"
  },
  "language_info": {
   "codemirror_mode": {
    "name": "ipython",
    "version": 3
   },
   "file_extension": ".py",
   "mimetype": "text/x-python",
   "name": "python",
   "nbconvert_exporter": "python",
   "pygments_lexer": "ipython3",
   "version": "3.11.4"
  }
 },
 "nbformat": 4,
 "nbformat_minor": 2
}
