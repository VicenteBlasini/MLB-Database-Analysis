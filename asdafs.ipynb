{
 "cells": [
  {
   "cell_type": "code",
   "execution_count": 1,
   "outputs": [
    {
     "name": "stdout",
     "output_type": "stream",
     "text": [
      "      px     pz  start_speed  end_speed  spin_rate  spin_dir  break_angle  \\\n",
      "0  0.416  2.963         92.9       84.1   2305.052   159.235        -25.0   \n",
      "1 -0.191  2.347         92.8       84.1   2689.935   151.402        -40.7   \n",
      "2 -0.518  3.284         94.1       85.2   2647.972   145.125        -43.7   \n",
      "3 -0.641  1.221         91.0       84.0   1289.590   169.751         -1.3   \n",
      "4 -1.821  2.083         75.4       69.6   1374.569   280.671         18.4   \n",
      "\n",
      "   break_length  break_y      ax  ...  event_num  b_score         ab_id  \\\n",
      "0           3.2     23.7   7.665  ...          3      0.0  2.015000e+09   \n",
      "1           3.4     23.7  12.043  ...          4      0.0  2.015000e+09   \n",
      "2           3.7     23.7  14.368  ...          5      0.0  2.015000e+09   \n",
      "3           5.0     23.8   2.104  ...          6      0.0  2.015000e+09   \n",
      "4          12.0     23.8 -10.280  ...          7      0.0  2.015000e+09   \n",
      "\n",
      "   b_count  s_count  outs  pitch_num  on_1b  on_2b  on_3b  \n",
      "0      0.0      0.0   0.0        1.0    0.0    0.0    0.0  \n",
      "1      0.0      1.0   0.0        2.0    0.0    0.0    0.0  \n",
      "2      0.0      2.0   0.0        3.0    0.0    0.0    0.0  \n",
      "3      0.0      2.0   0.0        4.0    0.0    0.0    0.0  \n",
      "4      1.0      2.0   0.0        5.0    0.0    0.0    0.0  \n",
      "\n",
      "[5 rows x 40 columns]\n"
     ]
    }
   ],
   "source": [
    "import pandas as pd\n",
    "pitches = pd.read_csv(r\"C:\\Users\\andre\\Downloads\\mlb pitch data\\pitches.csv\")\n",
    "print(pitches.head(5))"
   ],
   "metadata": {
    "collapsed": false,
    "ExecuteTime": {
     "end_time": "2023-09-26T14:03:13.365893600Z",
     "start_time": "2023-09-26T14:02:53.127235300Z"
    }
   }
  },
  {
   "cell_type": "code",
   "execution_count": 3,
   "outputs": [
    {
     "data": {
      "text/plain": "      px     pz  start_speed  end_speed  spin_rate  spin_dir  break_angle  \\\n0  0.416  2.963         92.9       84.1   2305.052   159.235        -25.0   \n1 -0.191  2.347         92.8       84.1   2689.935   151.402        -40.7   \n2 -0.518  3.284         94.1       85.2   2647.972   145.125        -43.7   \n3 -0.641  1.221         91.0       84.0   1289.590   169.751         -1.3   \n4 -1.821  2.083         75.4       69.6   1374.569   280.671         18.4   \n5  0.627  2.397         92.9       84.8   2743.856   148.110        -45.7   \n6 -1.088  1.610         93.3       85.3   2848.535   147.044        -46.3   \n7 -0.257  2.047         89.3       82.4   1433.743   185.948          7.3   \n8  1.470  2.350         92.1       85.0   2666.090   146.146        -45.0   \n9 -1.337  1.898         89.3       82.0   1384.143   174.388          2.0   \n\n   break_length  break_y      ax  ...  event_num  b_score         ab_id  \\\n0           3.2     23.7   7.665  ...          3      0.0  2.015000e+09   \n1           3.4     23.7  12.043  ...          4      0.0  2.015000e+09   \n2           3.7     23.7  14.368  ...          5      0.0  2.015000e+09   \n3           5.0     23.8   2.104  ...          6      0.0  2.015000e+09   \n4          12.0     23.8 -10.280  ...          7      0.0  2.015000e+09   \n5           3.7     23.7  13.590  ...          8      0.0  2.015000e+09   \n6           3.6     23.7  14.549  ...         12      0.0  2.015000e+09   \n7           4.8     23.8  -1.339  ...         13      0.0  2.015000e+09   \n8           4.0     23.8  13.808  ...         17      0.0  2.015000e+09   \n9           4.9     23.8   1.218  ...         18      0.0  2.015000e+09   \n\n   b_count  s_count  outs  pitch_num  on_1b  on_2b  on_3b  \n0      0.0      0.0   0.0        1.0    0.0    0.0    0.0  \n1      0.0      1.0   0.0        2.0    0.0    0.0    0.0  \n2      0.0      2.0   0.0        3.0    0.0    0.0    0.0  \n3      0.0      2.0   0.0        4.0    0.0    0.0    0.0  \n4      1.0      2.0   0.0        5.0    0.0    0.0    0.0  \n5      2.0      2.0   0.0        6.0    0.0    0.0    0.0  \n6      0.0      0.0   1.0        1.0    0.0    0.0    0.0  \n7      1.0      0.0   1.0        2.0    0.0    0.0    0.0  \n8      0.0      0.0   1.0        1.0    0.0    1.0    0.0  \n9      1.0      0.0   1.0        2.0    0.0    1.0    0.0  \n\n[10 rows x 40 columns]",
      "text/html": "<div>\n<style scoped>\n    .dataframe tbody tr th:only-of-type {\n        vertical-align: middle;\n    }\n\n    .dataframe tbody tr th {\n        vertical-align: top;\n    }\n\n    .dataframe thead th {\n        text-align: right;\n    }\n</style>\n<table border=\"1\" class=\"dataframe\">\n  <thead>\n    <tr style=\"text-align: right;\">\n      <th></th>\n      <th>px</th>\n      <th>pz</th>\n      <th>start_speed</th>\n      <th>end_speed</th>\n      <th>spin_rate</th>\n      <th>spin_dir</th>\n      <th>break_angle</th>\n      <th>break_length</th>\n      <th>break_y</th>\n      <th>ax</th>\n      <th>...</th>\n      <th>event_num</th>\n      <th>b_score</th>\n      <th>ab_id</th>\n      <th>b_count</th>\n      <th>s_count</th>\n      <th>outs</th>\n      <th>pitch_num</th>\n      <th>on_1b</th>\n      <th>on_2b</th>\n      <th>on_3b</th>\n    </tr>\n  </thead>\n  <tbody>\n    <tr>\n      <th>0</th>\n      <td>0.416</td>\n      <td>2.963</td>\n      <td>92.9</td>\n      <td>84.1</td>\n      <td>2305.052</td>\n      <td>159.235</td>\n      <td>-25.0</td>\n      <td>3.2</td>\n      <td>23.7</td>\n      <td>7.665</td>\n      <td>...</td>\n      <td>3</td>\n      <td>0.0</td>\n      <td>2.015000e+09</td>\n      <td>0.0</td>\n      <td>0.0</td>\n      <td>0.0</td>\n      <td>1.0</td>\n      <td>0.0</td>\n      <td>0.0</td>\n      <td>0.0</td>\n    </tr>\n    <tr>\n      <th>1</th>\n      <td>-0.191</td>\n      <td>2.347</td>\n      <td>92.8</td>\n      <td>84.1</td>\n      <td>2689.935</td>\n      <td>151.402</td>\n      <td>-40.7</td>\n      <td>3.4</td>\n      <td>23.7</td>\n      <td>12.043</td>\n      <td>...</td>\n      <td>4</td>\n      <td>0.0</td>\n      <td>2.015000e+09</td>\n      <td>0.0</td>\n      <td>1.0</td>\n      <td>0.0</td>\n      <td>2.0</td>\n      <td>0.0</td>\n      <td>0.0</td>\n      <td>0.0</td>\n    </tr>\n    <tr>\n      <th>2</th>\n      <td>-0.518</td>\n      <td>3.284</td>\n      <td>94.1</td>\n      <td>85.2</td>\n      <td>2647.972</td>\n      <td>145.125</td>\n      <td>-43.7</td>\n      <td>3.7</td>\n      <td>23.7</td>\n      <td>14.368</td>\n      <td>...</td>\n      <td>5</td>\n      <td>0.0</td>\n      <td>2.015000e+09</td>\n      <td>0.0</td>\n      <td>2.0</td>\n      <td>0.0</td>\n      <td>3.0</td>\n      <td>0.0</td>\n      <td>0.0</td>\n      <td>0.0</td>\n    </tr>\n    <tr>\n      <th>3</th>\n      <td>-0.641</td>\n      <td>1.221</td>\n      <td>91.0</td>\n      <td>84.0</td>\n      <td>1289.590</td>\n      <td>169.751</td>\n      <td>-1.3</td>\n      <td>5.0</td>\n      <td>23.8</td>\n      <td>2.104</td>\n      <td>...</td>\n      <td>6</td>\n      <td>0.0</td>\n      <td>2.015000e+09</td>\n      <td>0.0</td>\n      <td>2.0</td>\n      <td>0.0</td>\n      <td>4.0</td>\n      <td>0.0</td>\n      <td>0.0</td>\n      <td>0.0</td>\n    </tr>\n    <tr>\n      <th>4</th>\n      <td>-1.821</td>\n      <td>2.083</td>\n      <td>75.4</td>\n      <td>69.6</td>\n      <td>1374.569</td>\n      <td>280.671</td>\n      <td>18.4</td>\n      <td>12.0</td>\n      <td>23.8</td>\n      <td>-10.280</td>\n      <td>...</td>\n      <td>7</td>\n      <td>0.0</td>\n      <td>2.015000e+09</td>\n      <td>1.0</td>\n      <td>2.0</td>\n      <td>0.0</td>\n      <td>5.0</td>\n      <td>0.0</td>\n      <td>0.0</td>\n      <td>0.0</td>\n    </tr>\n    <tr>\n      <th>5</th>\n      <td>0.627</td>\n      <td>2.397</td>\n      <td>92.9</td>\n      <td>84.8</td>\n      <td>2743.856</td>\n      <td>148.110</td>\n      <td>-45.7</td>\n      <td>3.7</td>\n      <td>23.7</td>\n      <td>13.590</td>\n      <td>...</td>\n      <td>8</td>\n      <td>0.0</td>\n      <td>2.015000e+09</td>\n      <td>2.0</td>\n      <td>2.0</td>\n      <td>0.0</td>\n      <td>6.0</td>\n      <td>0.0</td>\n      <td>0.0</td>\n      <td>0.0</td>\n    </tr>\n    <tr>\n      <th>6</th>\n      <td>-1.088</td>\n      <td>1.610</td>\n      <td>93.3</td>\n      <td>85.3</td>\n      <td>2848.535</td>\n      <td>147.044</td>\n      <td>-46.3</td>\n      <td>3.6</td>\n      <td>23.7</td>\n      <td>14.549</td>\n      <td>...</td>\n      <td>12</td>\n      <td>0.0</td>\n      <td>2.015000e+09</td>\n      <td>0.0</td>\n      <td>0.0</td>\n      <td>1.0</td>\n      <td>1.0</td>\n      <td>0.0</td>\n      <td>0.0</td>\n      <td>0.0</td>\n    </tr>\n    <tr>\n      <th>7</th>\n      <td>-0.257</td>\n      <td>2.047</td>\n      <td>89.3</td>\n      <td>82.4</td>\n      <td>1433.743</td>\n      <td>185.948</td>\n      <td>7.3</td>\n      <td>4.8</td>\n      <td>23.8</td>\n      <td>-1.339</td>\n      <td>...</td>\n      <td>13</td>\n      <td>0.0</td>\n      <td>2.015000e+09</td>\n      <td>1.0</td>\n      <td>0.0</td>\n      <td>1.0</td>\n      <td>2.0</td>\n      <td>0.0</td>\n      <td>0.0</td>\n      <td>0.0</td>\n    </tr>\n    <tr>\n      <th>8</th>\n      <td>1.470</td>\n      <td>2.350</td>\n      <td>92.1</td>\n      <td>85.0</td>\n      <td>2666.090</td>\n      <td>146.146</td>\n      <td>-45.0</td>\n      <td>4.0</td>\n      <td>23.8</td>\n      <td>13.808</td>\n      <td>...</td>\n      <td>17</td>\n      <td>0.0</td>\n      <td>2.015000e+09</td>\n      <td>0.0</td>\n      <td>0.0</td>\n      <td>1.0</td>\n      <td>1.0</td>\n      <td>0.0</td>\n      <td>1.0</td>\n      <td>0.0</td>\n    </tr>\n    <tr>\n      <th>9</th>\n      <td>-1.337</td>\n      <td>1.898</td>\n      <td>89.3</td>\n      <td>82.0</td>\n      <td>1384.143</td>\n      <td>174.388</td>\n      <td>2.0</td>\n      <td>4.9</td>\n      <td>23.8</td>\n      <td>1.218</td>\n      <td>...</td>\n      <td>18</td>\n      <td>0.0</td>\n      <td>2.015000e+09</td>\n      <td>1.0</td>\n      <td>0.0</td>\n      <td>1.0</td>\n      <td>2.0</td>\n      <td>0.0</td>\n      <td>1.0</td>\n      <td>0.0</td>\n    </tr>\n  </tbody>\n</table>\n<p>10 rows × 40 columns</p>\n</div>"
     },
     "execution_count": 3,
     "metadata": {},
     "output_type": "execute_result"
    }
   ],
   "source": [
    "pitches.head(10)"
   ],
   "metadata": {
    "collapsed": false,
    "ExecuteTime": {
     "end_time": "2023-09-26T14:04:09.007637300Z",
     "start_time": "2023-09-26T14:04:08.949247100Z"
    }
   }
  },
  {
   "cell_type": "code",
   "execution_count": 10,
   "outputs": [
    {
     "ename": "TypeError",
     "evalue": "'tuple' object is not callable",
     "output_type": "error",
     "traceback": [
      "\u001B[1;31m---------------------------------------------------------------------------\u001B[0m",
      "\u001B[1;31mTypeError\u001B[0m                                 Traceback (most recent call last)",
      "Cell \u001B[1;32mIn[10], line 1\u001B[0m\n\u001B[1;32m----> 1\u001B[0m \u001B[38;5;28mprint\u001B[39m(\u001B[43mpitches\u001B[49m\u001B[38;5;241;43m.\u001B[39;49m\u001B[43mshape\u001B[49m\u001B[43m(\u001B[49m\u001B[43m)\u001B[49m)\n",
      "\u001B[1;31mTypeError\u001B[0m: 'tuple' object is not callable"
     ]
    }
   ],
   "source": [
    "print(pitches.shape())"
   ],
   "metadata": {
    "collapsed": false,
    "ExecuteTime": {
     "end_time": "2023-09-26T14:08:49.442608900Z",
     "start_time": "2023-09-26T14:08:49.386095Z"
    }
   }
  },
  {
   "cell_type": "code",
   "execution_count": null,
   "outputs": [],
   "source": [],
   "metadata": {
    "collapsed": false
   }
  }
 ],
 "metadata": {
  "kernelspec": {
   "display_name": "Python 3",
   "language": "python",
   "name": "python3"
  },
  "language_info": {
   "codemirror_mode": {
    "name": "ipython",
    "version": 2
   },
   "file_extension": ".py",
   "mimetype": "text/x-python",
   "name": "python",
   "nbconvert_exporter": "python",
   "pygments_lexer": "ipython2",
   "version": "2.7.6"
  }
 },
 "nbformat": 4,
 "nbformat_minor": 0
}
